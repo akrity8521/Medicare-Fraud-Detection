{
  "nbformat": 4,
  "nbformat_minor": 0,
  "metadata": {
    "colab": {
      "name": "Code_Thesis_Implementation_catboost_partD(without autoencoders and without SMOTE).ipynb",
      "provenance": [],
      "collapsed_sections": [],
      "machine_shape": "hm",
      "authorship_tag": "ABX9TyOclo3sqreVuRi3kbRaCMtO",
      "include_colab_link": true
    },
    "kernelspec": {
      "name": "python3",
      "display_name": "Python 3"
    },
    "language_info": {
      "name": "python"
    }
  },
  "cells": [
    {
      "cell_type": "markdown",
      "metadata": {
        "id": "view-in-github",
        "colab_type": "text"
      },
      "source": [
        "<a href=\"https://colab.research.google.com/github/akrity8521/Medicare-Fraud-Detection/blob/main/Code_Thesis_Implementation_catboost_partD(without_autoencoders_and_without_SMOTE).ipynb\" target=\"_parent\"><img src=\"https://colab.research.google.com/assets/colab-badge.svg\" alt=\"Open In Colab\"/></a>"
      ]
    },
    {
      "cell_type": "code",
      "source": [
        "!pip install catboost"
      ],
      "metadata": {
        "id": "IidTfSOEz16-"
      },
      "execution_count": null,
      "outputs": []
    },
    {
      "cell_type": "code",
      "source": [
        "#importing libraries \n",
        "import pandas as pd\n",
        "import numpy as np\n",
        "import scipy\n",
        "import os \n",
        "import matplotlib.pyplot as plt\n",
        "import random\n",
        "import seaborn as sns\n",
        "from pandas.api.types import is_numeric_dtype\n",
        "from scipy.stats import ttest_ind\n",
        "\n",
        "from sklearn.metrics import brier_score_loss, precision_score, recall_score,f1_score, roc_auc_score, accuracy_score \n",
        "from sklearn.metrics import confusion_matrix, roc_curve, classification_report\n",
        "from sklearn.preprocessing import StandardScaler \n",
        "from sklearn.feature_extraction import DictVectorizer\n",
        "from sklearn.manifold import TSNE\n",
        "from sklearn import preprocessing \n",
        "from sklearn.model_selection import train_test_split\n",
        "\n",
        "\n",
        "from keras.models import Model, load_model, Sequential\n",
        "from keras.layers import Input, Dense\n",
        "from sklearn.manifold import TSNE\n",
        "from keras import regularizers\n",
        "\n",
        "\n",
        "import catboost as cb\n",
        "import xgboost as xgb\n",
        "from sklearn import ensemble \n",
        "import lightgbm as lgb"
      ],
      "metadata": {
        "id": "9YO3JhglqRWd"
      },
      "execution_count": null,
      "outputs": []
    },
    {
      "cell_type": "code",
      "source": [
        "#connnecting drive with google colab\n",
        "from google.colab import drive\n",
        "drive.mount('/content/drive/')"
      ],
      "metadata": {
        "id": "57_fHlxhqRSk"
      },
      "execution_count": null,
      "outputs": []
    },
    {
      "cell_type": "code",
      "source": [
        "#reading part D dataset\n",
        "dataset = pd.read_csv('/content/drive/My Drive/PartD_Prescriber_PUF_NPI_Drug_18.txt',sep=\"\\t\",nrows=1000000)"
      ],
      "metadata": {
        "id": "ZRT_cuhPqRQa"
      },
      "execution_count": null,
      "outputs": []
    },
    {
      "cell_type": "code",
      "source": [
        "dataset.shape"
      ],
      "metadata": {
        "id": "SBZpG41xqRNc"
      },
      "execution_count": null,
      "outputs": []
    },
    {
      "cell_type": "code",
      "source": [
        "dataset.columns"
      ],
      "metadata": {
        "id": "f_ws9Jm5qRLa"
      },
      "execution_count": null,
      "outputs": []
    },
    {
      "cell_type": "code",
      "source": [
        "dataset= dataset.loc[:,['npi', 'specialty_description', 'nppes_provider_state',\\\n",
        "                        'drug_name','bene_count','total_claim_count','total_30_day_fill_count','total_day_supply','total_drug_cost']]"
      ],
      "metadata": {
        "id": "umSv-HYcqRHr"
      },
      "execution_count": null,
      "outputs": []
    },
    {
      "cell_type": "code",
      "source": [
        "dataset = dataset.drop_duplicates()"
      ],
      "metadata": {
        "id": "p6laZonLqRGA"
      },
      "execution_count": null,
      "outputs": []
    },
    {
      "cell_type": "code",
      "source": [
        "dataset=dataset.dropna()"
      ],
      "metadata": {
        "id": "x_6lstDxqRCf"
      },
      "execution_count": null,
      "outputs": []
    },
    {
      "cell_type": "code",
      "source": [
        "# one-hot encoding\n",
        "rated_dummies1 = pd.get_dummies(dataset.nppes_provider_state)\n",
        "dataset=pd.concat([dataset, rated_dummies1], axis=1)\n",
        "rated_dummies2 = pd.get_dummies(dataset.specialty_description)\n",
        "dataset=pd.concat([dataset, rated_dummies2], axis=1)\n",
        "rated_dummies3 = pd.get_dummies(dataset.drug_name) \n",
        "dataset=pd.concat([dataset, rated_dummies3], axis=1)\n",
        "dataset = dataset.drop(['nppes_provider_state','specialty_description','drug_name'], axis=1)"
      ],
      "metadata": {
        "id": "JqLT3kjhqRBD"
      },
      "execution_count": null,
      "outputs": []
    },
    {
      "cell_type": "code",
      "source": [
        "#reading LEIE dataset\n",
        "IELErawdata = \"/content/drive/My Drive/LEIE.csv\"\n",
        "IELE_pd = pd.read_csv(IELErawdata)"
      ],
      "metadata": {
        "id": "6kwjU6HqqQ-P"
      },
      "execution_count": null,
      "outputs": []
    },
    {
      "cell_type": "code",
      "source": [
        "npifraud_pd0 = IELE_pd.loc[:,['NPI','EXCLTYPE']]\n",
        "npifraud_pd1 = npifraud_pd0.query('NPI !=0')\n",
        "rename_dict = {'NPI':'npi', 'EXCLTYPE':'is_fraud'}\n",
        "npi_fraud_pd = npifraud_pd1.rename(columns=rename_dict)\n",
        "npi_fraud_pd['is_fraud'] = 1"
      ],
      "metadata": {
        "id": "Mo5qiwyAqQ75"
      },
      "execution_count": null,
      "outputs": []
    },
    {
      "cell_type": "code",
      "source": [
        "#merging the two dataset\n",
        "Features_pd1 = pd.merge(dataset,npi_fraud_pd, how ='left',on = 'npi')\n",
        "Features_pd1.fillna(0, inplace=True)\n",
        "Features_pd1['is_fraud'].value_counts()\n",
        "Features_pd1[Features_pd1['is_fraud']==1].count()\n",
        "FeaturesAll_pd=Features_pd1\n",
        "FeaturesAll_pd.nunique()\n",
        "FeaturesAll_pd = FeaturesAll_pd.drop(['npi'], axis=1)\n",
        "FeaturesAll_pd"
      ],
      "metadata": {
        "id": "gmoS9klG269h"
      },
      "execution_count": null,
      "outputs": []
    },
    {
      "cell_type": "code",
      "source": [
        "x = FeaturesAll_pd.drop(columns=['is_fraud'], axis=1)\n",
        "y = FeaturesAll_pd['is_fraud']"
      ],
      "metadata": {
        "id": "4aK8J5y0qQ44"
      },
      "execution_count": null,
      "outputs": []
    },
    {
      "cell_type": "code",
      "source": [
        "#train-test split\n",
        "train_x, val_x, train_y, val_y = train_test_split(x, y, test_size=0.25, random_state=101, stratify=y)"
      ],
      "metadata": {
        "id": "sVcqQ5feqQ2k"
      },
      "execution_count": null,
      "outputs": []
    },
    {
      "cell_type": "code",
      "source": [
        "#training catboost classifier\n",
        "clf = cb.CatBoostClassifier()\n",
        "clf.fit(train_x, train_y)\n",
        "pred_y = clf.predict(val_x)\n",
        "print (\"\")\n",
        "print (\"confusion_matrixt: \")\n",
        "print (confusion_matrix(val_y, pred_y))\n",
        "\n",
        "print (\"\")\n",
        "print (classification_report(val_y, pred_y))\n",
        "print (\"Precision: \", precision_score(val_y, pred_y))\n",
        "print (\"Recall: \", recall_score(val_y, pred_y))\n",
        "print (\"F1 Score: \", f1_score(val_y, pred_y))\n",
        "print (\"Auc Score: \", roc_auc_score(val_y, pred_y))\n",
        "print (\"Accuracy Score: \", accuracy_score(val_y, pred_y))"
      ],
      "metadata": {
        "id": "vtKpC7KjqQzz"
      },
      "execution_count": null,
      "outputs": []
    },
    {
      "cell_type": "code",
      "source": [
        "#training adaboost classifier\n",
        "clf = ensemble.AdaBoostClassifier()\n",
        "clf.fit(train_x, train_y)\n",
        "pred_y = clf.predict(val_x)\n",
        "\n",
        "print (\"\")\n",
        "print (\"confusion_matrixt: \")\n",
        "print (confusion_matrix(val_y, pred_y))\n",
        "\n",
        "print (\"\")\n",
        "print (classification_report(val_y, pred_y))\n",
        "print (\"Precision: \", precision_score(val_y, pred_y))\n",
        "print (\"Recall: \", recall_score(val_y, pred_y))\n",
        "print (\"F1 Score: \", f1_score(val_y, pred_y))\n",
        "print (\"Auc Score: \", roc_auc_score(val_y, pred_y))\n",
        "print (\"Accuracy Score: \", accuracy_score(val_y, pred_y))"
      ],
      "metadata": {
        "id": "dfxZHJQ_qQuw"
      },
      "execution_count": null,
      "outputs": []
    },
    {
      "cell_type": "code",
      "source": [
        "#training xgboost classifier\n",
        "clf =  xgb.XGBClassifier()\n",
        "clf.fit(train_x, train_y)\n",
        "pred_y = clf.predict(val_x)\n",
        "\n",
        "print (\"\")\n",
        "print (\"confusion_matrixt: \")\n",
        "print (confusion_matrix(val_y, pred_y))\n",
        "\n",
        "print (\"\")\n",
        "print (classification_report(val_y, pred_y))\n",
        "print (\"Precision: \", precision_score(val_y, pred_y))\n",
        "print (\"Recall: \", recall_score(val_y, pred_y))\n",
        "print (\"F1 Score: \", f1_score(val_y, pred_y))\n",
        "print (\"Auc Score: \", roc_auc_score(val_y, pred_y))\n",
        "print (\"Accuracy Score: \", accuracy_score(val_y, pred_y))"
      ],
      "metadata": {
        "id": "MRlM395VqQsP"
      },
      "execution_count": null,
      "outputs": []
    },
    {
      "cell_type": "code",
      "source": [
        "#training lightGBM classifier\n",
        "clf =  lgb.LGBMClassifier()\n",
        "clf.fit(train_x, train_y)\n",
        "pred_y = clf.predict(val_x)\n",
        "\n",
        "print (\"\")\n",
        "print (\"confusion_matrixt: \")\n",
        "print (confusion_matrix(val_y, pred_y))\n",
        "\n",
        "print (\"\")\n",
        "print (classification_report(val_y, pred_y))\n",
        "print (\"Precision: \", precision_score(val_y, pred_y))\n",
        "print (\"Recall: \", recall_score(val_y, pred_y))\n",
        "print (\"F1 Score: \", f1_score(val_y, pred_y))\n",
        "print (\"Auc Score: \", roc_auc_score(val_y, pred_y))\n",
        "print (\"Accuracy Score: \", accuracy_score(val_y, pred_y))"
      ],
      "metadata": {
        "id": "Wkf9N579qQpT"
      },
      "execution_count": null,
      "outputs": []
    }
  ]
}