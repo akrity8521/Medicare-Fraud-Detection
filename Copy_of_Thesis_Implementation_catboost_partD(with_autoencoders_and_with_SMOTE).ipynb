{
  "cells": [
    {
      "cell_type": "markdown",
      "metadata": {
        "id": "view-in-github",
        "colab_type": "text"
      },
      "source": [
        "<a href=\"https://colab.research.google.com/github/akrity8521/Medicare-Fraud-Detection/blob/main/Copy_of_Thesis_Implementation_catboost_partD(with_autoencoders_and_with_SMOTE).ipynb\" target=\"_parent\"><img src=\"https://colab.research.google.com/assets/colab-badge.svg\" alt=\"Open In Colab\"/></a>"
      ]
    },
    {
      "cell_type": "markdown",
      "metadata": {
        "id": "Wt8OTSwiitdt"
      },
      "source": [
        "#Installing catboost library"
      ]
    },
    {
      "cell_type": "code",
      "execution_count": null,
      "metadata": {
        "colab": {
          "base_uri": "https://localhost:8080/"
        },
        "id": "9oQXi0bj4qVM",
        "outputId": "03c13adb-c3b7-4c68-ceef-c3ff15267304"
      },
      "outputs": [
        {
          "output_type": "stream",
          "name": "stdout",
          "text": [
            "Looking in indexes: https://pypi.org/simple, https://us-python.pkg.dev/colab-wheels/public/simple/\n",
            "Collecting catboost\n",
            "  Downloading catboost-1.0.6-cp37-none-manylinux1_x86_64.whl (76.6 MB)\n",
            "\u001b[K     |████████████████████████████████| 76.6 MB 154 kB/s \n",
            "\u001b[?25hRequirement already satisfied: numpy>=1.16.0 in /usr/local/lib/python3.7/dist-packages (from catboost) (1.21.6)\n",
            "Requirement already satisfied: six in /usr/local/lib/python3.7/dist-packages (from catboost) (1.15.0)\n",
            "Requirement already satisfied: pandas>=0.24.0 in /usr/local/lib/python3.7/dist-packages (from catboost) (1.3.5)\n",
            "Requirement already satisfied: scipy in /usr/local/lib/python3.7/dist-packages (from catboost) (1.4.1)\n",
            "Requirement already satisfied: matplotlib in /usr/local/lib/python3.7/dist-packages (from catboost) (3.2.2)\n",
            "Requirement already satisfied: graphviz in /usr/local/lib/python3.7/dist-packages (from catboost) (0.10.1)\n",
            "Requirement already satisfied: plotly in /usr/local/lib/python3.7/dist-packages (from catboost) (5.5.0)\n",
            "Requirement already satisfied: python-dateutil>=2.7.3 in /usr/local/lib/python3.7/dist-packages (from pandas>=0.24.0->catboost) (2.8.2)\n",
            "Requirement already satisfied: pytz>=2017.3 in /usr/local/lib/python3.7/dist-packages (from pandas>=0.24.0->catboost) (2022.1)\n",
            "Requirement already satisfied: pyparsing!=2.0.4,!=2.1.2,!=2.1.6,>=2.0.1 in /usr/local/lib/python3.7/dist-packages (from matplotlib->catboost) (3.0.9)\n",
            "Requirement already satisfied: kiwisolver>=1.0.1 in /usr/local/lib/python3.7/dist-packages (from matplotlib->catboost) (1.4.2)\n",
            "Requirement already satisfied: cycler>=0.10 in /usr/local/lib/python3.7/dist-packages (from matplotlib->catboost) (0.11.0)\n",
            "Requirement already satisfied: typing-extensions in /usr/local/lib/python3.7/dist-packages (from kiwisolver>=1.0.1->matplotlib->catboost) (4.2.0)\n",
            "Requirement already satisfied: tenacity>=6.2.0 in /usr/local/lib/python3.7/dist-packages (from plotly->catboost) (8.0.1)\n",
            "Installing collected packages: catboost\n",
            "Successfully installed catboost-1.0.6\n"
          ]
        }
      ],
      "source": [
        "!pip install catboost"
      ]
    },
    {
      "cell_type": "markdown",
      "metadata": {
        "id": "r6hsEVemgVNg"
      },
      "source": [
        "#Importing libraries"
      ]
    },
    {
      "cell_type": "code",
      "execution_count": null,
      "metadata": {
        "id": "sA-d9rrz2YXC"
      },
      "outputs": [],
      "source": [
        "import pandas as pd\n",
        "import numpy as np\n",
        "import scipy\n",
        "import os \n",
        "import matplotlib.pyplot as plt\n",
        "import random\n",
        "import seaborn as sns\n",
        "from pandas.api.types import is_numeric_dtype\n",
        "from scipy.stats import ttest_ind\n",
        "\n",
        "from sklearn import metrics\n",
        "from sklearn.metrics import brier_score_loss, precision_score, recall_score,f1_score, roc_auc_score, accuracy_score \n",
        "from sklearn.metrics import confusion_matrix, roc_curve, classification_report\n",
        "from sklearn.preprocessing import StandardScaler \n",
        "from sklearn.feature_extraction import DictVectorizer\n",
        "from sklearn.manifold import TSNE\n",
        "from sklearn import preprocessing \n",
        "from sklearn.model_selection import train_test_split\n",
        "\n",
        "from keras.models import Model, load_model, Sequential\n",
        "from keras.layers import Input, Dense\n",
        "from sklearn.manifold import TSNE\n",
        "from keras import regularizers\n",
        "\n",
        "import catboost as cb\n",
        "import xgboost as xgb\n",
        "from sklearn import ensemble \n",
        "import lightgbm as lgb"
      ]
    },
    {
      "cell_type": "markdown",
      "metadata": {
        "id": "5dGpwQ3kgaWx"
      },
      "source": [
        "#Read Part D Dataset"
      ]
    },
    {
      "cell_type": "code",
      "execution_count": null,
      "metadata": {
        "id": "up9ZhhQX2oeA",
        "colab": {
          "base_uri": "https://localhost:8080/"
        },
        "outputId": "b7778200-5d21-4f50-cdb5-a3e720b13adf"
      },
      "outputs": [
        {
          "output_type": "stream",
          "name": "stdout",
          "text": [
            "Mounted at /content/drive/\n"
          ]
        }
      ],
      "source": [
        "#connnecting drive with google colab\n",
        "from google.colab import drive\n",
        "drive.mount('/content/drive/')"
      ]
    },
    {
      "cell_type": "code",
      "execution_count": null,
      "metadata": {
        "id": "CW4B2EP22ocP"
      },
      "outputs": [],
      "source": [
        "dataset = pd.read_csv('/content/drive/My Drive/PartD_Prescriber_PUF_NPI_Drug_18.txt',sep=\"\\t\",nrows=1500000)"
      ]
    },
    {
      "cell_type": "code",
      "execution_count": null,
      "metadata": {
        "id": "jp2shWB52oZJ",
        "colab": {
          "base_uri": "https://localhost:8080/"
        },
        "outputId": "6fa4004d-727d-427c-c51c-dd1d34f7d812"
      },
      "outputs": [
        {
          "output_type": "execute_result",
          "data": {
            "text/plain": [
              "(1500000, 21)"
            ]
          },
          "metadata": {},
          "execution_count": 5
        }
      ],
      "source": [
        "dataset.shape  # only 1.5M rows are read due to less RAM "
      ]
    },
    {
      "cell_type": "code",
      "execution_count": null,
      "metadata": {
        "id": "ihDEFa5C2oXe",
        "colab": {
          "base_uri": "https://localhost:8080/"
        },
        "outputId": "44d2ddc1-1e3a-43a6-a412-e792aa5e5908"
      },
      "outputs": [
        {
          "output_type": "execute_result",
          "data": {
            "text/plain": [
              "Index(['npi', 'nppes_provider_last_org_name', 'nppes_provider_first_name',\n",
              "       'nppes_provider_city', 'nppes_provider_state', 'specialty_description',\n",
              "       'description_flag', 'drug_name', 'generic_name', 'bene_count',\n",
              "       'total_claim_count', 'total_30_day_fill_count', 'total_day_supply',\n",
              "       'total_drug_cost', 'bene_count_ge65', 'bene_count_ge65_suppress_flag',\n",
              "       'total_claim_count_ge65', 'ge65_suppress_flag',\n",
              "       'total_30_day_fill_count_ge65', 'total_day_supply_ge65',\n",
              "       'total_drug_cost_ge65'],\n",
              "      dtype='object')"
            ]
          },
          "metadata": {},
          "execution_count": 6
        }
      ],
      "source": [
        "dataset.columns"
      ]
    },
    {
      "cell_type": "markdown",
      "metadata": {
        "id": "QbQkdHKvgkLu"
      },
      "source": [
        "#Feature Selection"
      ]
    },
    {
      "cell_type": "code",
      "execution_count": null,
      "metadata": {
        "id": "RGUAi4Oy2oUZ"
      },
      "outputs": [],
      "source": [
        "dataset= dataset.loc[:,['npi', 'specialty_description','nppes_provider_state', 'description_flag',\\\n",
        "                        'drug_name','bene_count','total_claim_count','total_30_day_fill_count','total_day_supply','total_drug_cost']]"
      ]
    },
    {
      "cell_type": "code",
      "execution_count": null,
      "metadata": {
        "id": "MB7xK3is2oPk"
      },
      "outputs": [],
      "source": [
        "dataset = dataset.drop_duplicates()"
      ]
    },
    {
      "cell_type": "code",
      "execution_count": null,
      "metadata": {
        "id": "84WuvhkoaLop"
      },
      "outputs": [],
      "source": [
        "dataset=dataset.dropna()"
      ]
    },
    {
      "cell_type": "code",
      "execution_count": null,
      "metadata": {
        "id": "iXip1q_kt8p1",
        "colab": {
          "base_uri": "https://localhost:8080/"
        },
        "outputId": "1d0b36c5-b454-40c3-9869-8868332e3717"
      },
      "outputs": [
        {
          "output_type": "execute_result",
          "data": {
            "text/plain": [
              "(614806, 10)"
            ]
          },
          "metadata": {},
          "execution_count": 10
        }
      ],
      "source": [
        "dataset.shape"
      ]
    },
    {
      "cell_type": "code",
      "execution_count": null,
      "metadata": {
        "id": "OWkINH3yt-qj",
        "colab": {
          "base_uri": "https://localhost:8080/"
        },
        "outputId": "35f24d79-2b0c-4fdf-fcce-78e3e9fda317"
      },
      "outputs": [
        {
          "output_type": "execute_result",
          "data": {
            "text/plain": [
              "Index(['npi', 'specialty_description', 'nppes_provider_state',\n",
              "       'description_flag', 'drug_name', 'bene_count', 'total_claim_count',\n",
              "       'total_30_day_fill_count', 'total_day_supply', 'total_drug_cost'],\n",
              "      dtype='object')"
            ]
          },
          "metadata": {},
          "execution_count": 11
        }
      ],
      "source": [
        "dataset.columns"
      ]
    },
    {
      "cell_type": "code",
      "execution_count": null,
      "metadata": {
        "id": "edkQkOR-9U8Z",
        "colab": {
          "base_uri": "https://localhost:8080/",
          "height": 267
        },
        "outputId": "be782e84-6af9-4535-b291-154e5e3d0a55"
      },
      "outputs": [
        {
          "output_type": "execute_result",
          "data": {
            "text/plain": [
              "          npi specialty_description nppes_provider_state description_flag  \\\n",
              "1  1003000126     Internal Medicine                   MD                S   \n",
              "3  1003000126     Internal Medicine                   MD                S   \n",
              "4  1003000126     Internal Medicine                   MD                S   \n",
              "6  1003000126     Internal Medicine                   MD                S   \n",
              "7  1003000126     Internal Medicine                   MD                S   \n",
              "\n",
              "                   drug_name  bene_count  total_claim_count  \\\n",
              "1               AZITHROMYCIN        11.0                 11   \n",
              "3                   CEFDINIR        12.0                 12   \n",
              "4        DOXYCYCLINE HYCLATE        12.0                 13   \n",
              "6                 FUROSEMIDE        19.0                 30   \n",
              "7  ISOSORBIDE MONONITRATE ER        11.0                 14   \n",
              "\n",
              "   total_30_day_fill_count  total_day_supply  total_drug_cost  \n",
              "1                     11.0                64           123.11  \n",
              "3                     12.0                71           178.66  \n",
              "4                     13.0                77           194.56  \n",
              "6                     31.0               830           118.97  \n",
              "7                     14.0               420           167.69  "
            ],
            "text/html": [
              "\n",
              "  <div id=\"df-4f439165-2074-40d0-8403-50b8fa873b9c\">\n",
              "    <div class=\"colab-df-container\">\n",
              "      <div>\n",
              "<style scoped>\n",
              "    .dataframe tbody tr th:only-of-type {\n",
              "        vertical-align: middle;\n",
              "    }\n",
              "\n",
              "    .dataframe tbody tr th {\n",
              "        vertical-align: top;\n",
              "    }\n",
              "\n",
              "    .dataframe thead th {\n",
              "        text-align: right;\n",
              "    }\n",
              "</style>\n",
              "<table border=\"1\" class=\"dataframe\">\n",
              "  <thead>\n",
              "    <tr style=\"text-align: right;\">\n",
              "      <th></th>\n",
              "      <th>npi</th>\n",
              "      <th>specialty_description</th>\n",
              "      <th>nppes_provider_state</th>\n",
              "      <th>description_flag</th>\n",
              "      <th>drug_name</th>\n",
              "      <th>bene_count</th>\n",
              "      <th>total_claim_count</th>\n",
              "      <th>total_30_day_fill_count</th>\n",
              "      <th>total_day_supply</th>\n",
              "      <th>total_drug_cost</th>\n",
              "    </tr>\n",
              "  </thead>\n",
              "  <tbody>\n",
              "    <tr>\n",
              "      <th>1</th>\n",
              "      <td>1003000126</td>\n",
              "      <td>Internal Medicine</td>\n",
              "      <td>MD</td>\n",
              "      <td>S</td>\n",
              "      <td>AZITHROMYCIN</td>\n",
              "      <td>11.0</td>\n",
              "      <td>11</td>\n",
              "      <td>11.0</td>\n",
              "      <td>64</td>\n",
              "      <td>123.11</td>\n",
              "    </tr>\n",
              "    <tr>\n",
              "      <th>3</th>\n",
              "      <td>1003000126</td>\n",
              "      <td>Internal Medicine</td>\n",
              "      <td>MD</td>\n",
              "      <td>S</td>\n",
              "      <td>CEFDINIR</td>\n",
              "      <td>12.0</td>\n",
              "      <td>12</td>\n",
              "      <td>12.0</td>\n",
              "      <td>71</td>\n",
              "      <td>178.66</td>\n",
              "    </tr>\n",
              "    <tr>\n",
              "      <th>4</th>\n",
              "      <td>1003000126</td>\n",
              "      <td>Internal Medicine</td>\n",
              "      <td>MD</td>\n",
              "      <td>S</td>\n",
              "      <td>DOXYCYCLINE HYCLATE</td>\n",
              "      <td>12.0</td>\n",
              "      <td>13</td>\n",
              "      <td>13.0</td>\n",
              "      <td>77</td>\n",
              "      <td>194.56</td>\n",
              "    </tr>\n",
              "    <tr>\n",
              "      <th>6</th>\n",
              "      <td>1003000126</td>\n",
              "      <td>Internal Medicine</td>\n",
              "      <td>MD</td>\n",
              "      <td>S</td>\n",
              "      <td>FUROSEMIDE</td>\n",
              "      <td>19.0</td>\n",
              "      <td>30</td>\n",
              "      <td>31.0</td>\n",
              "      <td>830</td>\n",
              "      <td>118.97</td>\n",
              "    </tr>\n",
              "    <tr>\n",
              "      <th>7</th>\n",
              "      <td>1003000126</td>\n",
              "      <td>Internal Medicine</td>\n",
              "      <td>MD</td>\n",
              "      <td>S</td>\n",
              "      <td>ISOSORBIDE MONONITRATE ER</td>\n",
              "      <td>11.0</td>\n",
              "      <td>14</td>\n",
              "      <td>14.0</td>\n",
              "      <td>420</td>\n",
              "      <td>167.69</td>\n",
              "    </tr>\n",
              "  </tbody>\n",
              "</table>\n",
              "</div>\n",
              "      <button class=\"colab-df-convert\" onclick=\"convertToInteractive('df-4f439165-2074-40d0-8403-50b8fa873b9c')\"\n",
              "              title=\"Convert this dataframe to an interactive table.\"\n",
              "              style=\"display:none;\">\n",
              "        \n",
              "  <svg xmlns=\"http://www.w3.org/2000/svg\" height=\"24px\"viewBox=\"0 0 24 24\"\n",
              "       width=\"24px\">\n",
              "    <path d=\"M0 0h24v24H0V0z\" fill=\"none\"/>\n",
              "    <path d=\"M18.56 5.44l.94 2.06.94-2.06 2.06-.94-2.06-.94-.94-2.06-.94 2.06-2.06.94zm-11 1L8.5 8.5l.94-2.06 2.06-.94-2.06-.94L8.5 2.5l-.94 2.06-2.06.94zm10 10l.94 2.06.94-2.06 2.06-.94-2.06-.94-.94-2.06-.94 2.06-2.06.94z\"/><path d=\"M17.41 7.96l-1.37-1.37c-.4-.4-.92-.59-1.43-.59-.52 0-1.04.2-1.43.59L10.3 9.45l-7.72 7.72c-.78.78-.78 2.05 0 2.83L4 21.41c.39.39.9.59 1.41.59.51 0 1.02-.2 1.41-.59l7.78-7.78 2.81-2.81c.8-.78.8-2.07 0-2.86zM5.41 20L4 18.59l7.72-7.72 1.47 1.35L5.41 20z\"/>\n",
              "  </svg>\n",
              "      </button>\n",
              "      \n",
              "  <style>\n",
              "    .colab-df-container {\n",
              "      display:flex;\n",
              "      flex-wrap:wrap;\n",
              "      gap: 12px;\n",
              "    }\n",
              "\n",
              "    .colab-df-convert {\n",
              "      background-color: #E8F0FE;\n",
              "      border: none;\n",
              "      border-radius: 50%;\n",
              "      cursor: pointer;\n",
              "      display: none;\n",
              "      fill: #1967D2;\n",
              "      height: 32px;\n",
              "      padding: 0 0 0 0;\n",
              "      width: 32px;\n",
              "    }\n",
              "\n",
              "    .colab-df-convert:hover {\n",
              "      background-color: #E2EBFA;\n",
              "      box-shadow: 0px 1px 2px rgba(60, 64, 67, 0.3), 0px 1px 3px 1px rgba(60, 64, 67, 0.15);\n",
              "      fill: #174EA6;\n",
              "    }\n",
              "\n",
              "    [theme=dark] .colab-df-convert {\n",
              "      background-color: #3B4455;\n",
              "      fill: #D2E3FC;\n",
              "    }\n",
              "\n",
              "    [theme=dark] .colab-df-convert:hover {\n",
              "      background-color: #434B5C;\n",
              "      box-shadow: 0px 1px 3px 1px rgba(0, 0, 0, 0.15);\n",
              "      filter: drop-shadow(0px 1px 2px rgba(0, 0, 0, 0.3));\n",
              "      fill: #FFFFFF;\n",
              "    }\n",
              "  </style>\n",
              "\n",
              "      <script>\n",
              "        const buttonEl =\n",
              "          document.querySelector('#df-4f439165-2074-40d0-8403-50b8fa873b9c button.colab-df-convert');\n",
              "        buttonEl.style.display =\n",
              "          google.colab.kernel.accessAllowed ? 'block' : 'none';\n",
              "\n",
              "        async function convertToInteractive(key) {\n",
              "          const element = document.querySelector('#df-4f439165-2074-40d0-8403-50b8fa873b9c');\n",
              "          const dataTable =\n",
              "            await google.colab.kernel.invokeFunction('convertToInteractive',\n",
              "                                                     [key], {});\n",
              "          if (!dataTable) return;\n",
              "\n",
              "          const docLinkHtml = 'Like what you see? Visit the ' +\n",
              "            '<a target=\"_blank\" href=https://colab.research.google.com/notebooks/data_table.ipynb>data table notebook</a>'\n",
              "            + ' to learn more about interactive tables.';\n",
              "          element.innerHTML = '';\n",
              "          dataTable['output_type'] = 'display_data';\n",
              "          await google.colab.output.renderOutput(dataTable, element);\n",
              "          const docLink = document.createElement('div');\n",
              "          docLink.innerHTML = docLinkHtml;\n",
              "          element.appendChild(docLink);\n",
              "        }\n",
              "      </script>\n",
              "    </div>\n",
              "  </div>\n",
              "  "
            ]
          },
          "metadata": {},
          "execution_count": 12
        }
      ],
      "source": [
        "dataset.head()"
      ]
    },
    {
      "cell_type": "code",
      "execution_count": null,
      "metadata": {
        "id": "JmFwdFSIesKe",
        "colab": {
          "base_uri": "https://localhost:8080/"
        },
        "outputId": "1d96edf0-0e45-47a5-92fa-44358e50cc58"
      },
      "outputs": [
        {
          "output_type": "stream",
          "name": "stdout",
          "text": [
            "No.of.unique values : 1193\n",
            "No.of.unique values : 102\n",
            "No.of.unique values : 2\n",
            "No.of.unique values : 59\n"
          ]
        }
      ],
      "source": [
        "n = len(pd.unique(dataset['drug_name']))\n",
        "print(\"No.of.unique values :\", n)\n",
        "\n",
        "n = len(pd.unique(dataset['specialty_description']))\n",
        "print(\"No.of.unique values :\", n)\n",
        "\n",
        "n = len(pd.unique(dataset['description_flag']))\n",
        "print(\"No.of.unique values :\", n)\n",
        "\n",
        "n = len(pd.unique(dataset['nppes_provider_state']))\n",
        "print(\"No.of.unique values :\", n)"
      ]
    },
    {
      "cell_type": "code",
      "execution_count": null,
      "metadata": {
        "id": "c85DkHEUuA6o",
        "colab": {
          "base_uri": "https://localhost:8080/"
        },
        "outputId": "205d04c1-e8c1-4249-a74f-f11ec9542e61"
      },
      "outputs": [
        {
          "output_type": "execute_result",
          "data": {
            "text/plain": [
              "npi                          int64\n",
              "specialty_description       object\n",
              "nppes_provider_state        object\n",
              "description_flag            object\n",
              "drug_name                   object\n",
              "bene_count                 float64\n",
              "total_claim_count            int64\n",
              "total_30_day_fill_count    float64\n",
              "total_day_supply             int64\n",
              "total_drug_cost            float64\n",
              "dtype: object"
            ]
          },
          "metadata": {},
          "execution_count": 14
        }
      ],
      "source": [
        "dataset.dtypes"
      ]
    },
    {
      "cell_type": "markdown",
      "metadata": {
        "id": "M6ZdykBMgpow"
      },
      "source": [
        "#One Hot Encoding the categorical Variables"
      ]
    },
    {
      "cell_type": "code",
      "execution_count": null,
      "metadata": {
        "id": "yfKn_eTJftr6"
      },
      "outputs": [],
      "source": [
        "rated_dummies1 = pd.get_dummies(dataset.nppes_provider_state)\n",
        "dataset=pd.concat([dataset, rated_dummies1], axis=1)\n",
        "rated_dummies2 = pd.get_dummies(dataset.specialty_description)\n",
        "dataset=pd.concat([dataset, rated_dummies2], axis=1)\n",
        "rated_dummies3 = pd.get_dummies(dataset.drug_name)\n",
        "dataset=pd.concat([dataset, rated_dummies3], axis=1)\n",
        "rated_dummies4 = pd.get_dummies(dataset.description_flag)\n",
        "dataset=pd.concat([dataset, rated_dummies4], axis=1)\n",
        "dataset = dataset.drop(['nppes_provider_state','specialty_description','drug_name','description_flag'], axis=1)"
      ]
    },
    {
      "cell_type": "code",
      "execution_count": null,
      "metadata": {
        "id": "kCbGZE4j0Rhe",
        "colab": {
          "base_uri": "https://localhost:8080/"
        },
        "outputId": "3d08015c-a2e5-4862-c611-59d11c7cc534"
      },
      "outputs": [
        {
          "output_type": "execute_result",
          "data": {
            "text/plain": [
              "(614806, 1362)"
            ]
          },
          "metadata": {},
          "execution_count": 16
        }
      ],
      "source": [
        "dataset.shape"
      ]
    },
    {
      "cell_type": "code",
      "execution_count": null,
      "metadata": {
        "id": "jlDD3e4aMIHJ"
      },
      "outputs": [],
      "source": [
        "# label encoding\n",
        "# dataset['nppes_provider_state'] = pd.Categorical(dataset['nppes_provider_state']).codes\n",
        "# dataset['specialty_description'] = pd.Categorical(dataset['specialty_description']).codes\n",
        "# dataset['drug_name'] = pd.Categorical(dataset['drug_name']).codes"
      ]
    },
    {
      "cell_type": "code",
      "execution_count": null,
      "metadata": {
        "id": "5U6K-y68uEgr",
        "colab": {
          "base_uri": "https://localhost:8080/"
        },
        "outputId": "9887c637-b218-4cc7-e331-e05edc81e48c"
      },
      "outputs": [
        {
          "output_type": "execute_result",
          "data": {
            "text/plain": [
              "npi                          int64\n",
              "bene_count                 float64\n",
              "total_claim_count            int64\n",
              "total_30_day_fill_count    float64\n",
              "total_day_supply             int64\n",
              "                            ...   \n",
              "ZYLET                        uint8\n",
              "ZYPREXA RELPREVV             uint8\n",
              "ZYTIGA                       uint8\n",
              "S                            uint8\n",
              "T                            uint8\n",
              "Length: 1362, dtype: object"
            ]
          },
          "metadata": {},
          "execution_count": 18
        }
      ],
      "source": [
        "dataset.dtypes"
      ]
    },
    {
      "cell_type": "markdown",
      "metadata": {
        "id": "wIbdV5I3gxHV"
      },
      "source": [
        "#Read LEIE Dataset"
      ]
    },
    {
      "cell_type": "code",
      "execution_count": null,
      "metadata": {
        "id": "Or-4kZQY23FA",
        "colab": {
          "base_uri": "https://localhost:8080/"
        },
        "outputId": "a58c7ba2-5d40-44d1-9a20-852a63acde6d"
      },
      "outputs": [
        {
          "output_type": "stream",
          "name": "stderr",
          "text": [
            "/usr/local/lib/python3.7/dist-packages/IPython/core/interactiveshell.py:2882: DtypeWarning: Columns (3) have mixed types.Specify dtype option on import or set low_memory=False.\n",
            "  exec(code_obj, self.user_global_ns, self.user_ns)\n"
          ]
        }
      ],
      "source": [
        "IELErawdata = \"/content/drive/My Drive/LEIE.csv\"\n",
        "IELE_pd = pd.read_csv(IELErawdata)"
      ]
    },
    {
      "cell_type": "markdown",
      "metadata": {
        "id": "ekwGj4hUg7Gm"
      },
      "source": [
        "#Feature Selection"
      ]
    },
    {
      "cell_type": "code",
      "execution_count": null,
      "metadata": {
        "id": "-GhVedmY23DH"
      },
      "outputs": [],
      "source": [
        "npifraud_pd0 = IELE_pd.loc[:,['NPI','EXCLTYPE']]"
      ]
    },
    {
      "cell_type": "code",
      "execution_count": null,
      "metadata": {
        "id": "Qw74kev623Ai"
      },
      "outputs": [],
      "source": [
        "npifraud_pd1 = npifraud_pd0.query('NPI !=0')"
      ]
    },
    {
      "cell_type": "code",
      "execution_count": null,
      "metadata": {
        "id": "aZcEfoCw22-e"
      },
      "outputs": [],
      "source": [
        "rename_dict = {'NPI':'npi', 'EXCLTYPE':'is_fraud'}\n",
        "npi_fraud_pd = npifraud_pd1.rename(columns=rename_dict)"
      ]
    },
    {
      "cell_type": "code",
      "execution_count": null,
      "metadata": {
        "id": "Z949CC033FMC"
      },
      "outputs": [],
      "source": [
        "npi_fraud_pd['is_fraud'] = 1"
      ]
    },
    {
      "cell_type": "markdown",
      "metadata": {
        "id": "wPgQA5X7hCay"
      },
      "source": [
        "#Left Joined LEIE and Part D dataset on NPI "
      ]
    },
    {
      "cell_type": "code",
      "execution_count": null,
      "metadata": {
        "id": "qv_4gMWL3GSF"
      },
      "outputs": [],
      "source": [
        "# Features Engineering \n",
        "Features_pd1 = pd.merge(dataset,npi_fraud_pd, how ='left',on = 'npi')"
      ]
    },
    {
      "cell_type": "code",
      "execution_count": null,
      "metadata": {
        "id": "1-srPm9o3GOl"
      },
      "outputs": [],
      "source": [
        "Features_pd1.fillna(0, inplace=True)"
      ]
    },
    {
      "cell_type": "code",
      "execution_count": null,
      "metadata": {
        "id": "MzKgH4of3GMP",
        "colab": {
          "base_uri": "https://localhost:8080/"
        },
        "outputId": "89c8b37b-9ee1-433e-94db-bd97784687d5"
      },
      "outputs": [
        {
          "output_type": "execute_result",
          "data": {
            "text/plain": [
              "0.0    614465\n",
              "1.0       341\n",
              "Name: is_fraud, dtype: int64"
            ]
          },
          "metadata": {},
          "execution_count": 26
        }
      ],
      "source": [
        "Features_pd1['is_fraud'].value_counts()"
      ]
    },
    {
      "cell_type": "code",
      "execution_count": null,
      "metadata": {
        "id": "brDLgSwp9K2C",
        "colab": {
          "base_uri": "https://localhost:8080/"
        },
        "outputId": "f5f4d4a2-6b94-49c1-fea0-0b23985eeb38"
      },
      "outputs": [
        {
          "output_type": "stream",
          "name": "stdout",
          "text": [
            "Fraud Percentage 0.05546465063776215\n",
            "Non_fraud Percentage 99.94453534936224\n"
          ]
        }
      ],
      "source": [
        "Non_fraud, Fraud = Features_pd1['is_fraud'].value_counts()\n",
        "Non_fraud_perc = Non_fraud*100 / (Fraud+Non_fraud)\n",
        "Fraud_perc = Fraud*100 / (Fraud+Non_fraud)\n",
        "print(\"Fraud Percentage\", Fraud_perc)\n",
        "print(\"Non_fraud Percentage\", Non_fraud_perc)"
      ]
    },
    {
      "cell_type": "code",
      "execution_count": null,
      "metadata": {
        "id": "rM6pGDgY3GH8",
        "colab": {
          "base_uri": "https://localhost:8080/"
        },
        "outputId": "7f515a2a-14be-46ff-8e7a-9196f41e3bae"
      },
      "outputs": [
        {
          "output_type": "execute_result",
          "data": {
            "text/plain": [
              "npi                        341\n",
              "bene_count                 341\n",
              "total_claim_count          341\n",
              "total_30_day_fill_count    341\n",
              "total_day_supply           341\n",
              "                          ... \n",
              "ZYPREXA RELPREVV           341\n",
              "ZYTIGA                     341\n",
              "S                          341\n",
              "T                          341\n",
              "is_fraud                   341\n",
              "Length: 1363, dtype: int64"
            ]
          },
          "metadata": {},
          "execution_count": 28
        }
      ],
      "source": [
        "Features_pd1[Features_pd1['is_fraud']==1].count()"
      ]
    },
    {
      "cell_type": "code",
      "execution_count": null,
      "metadata": {
        "id": "iNEpgoEw3GF-"
      },
      "outputs": [],
      "source": [
        "FeaturesAll_pd=Features_pd1"
      ]
    },
    {
      "cell_type": "code",
      "execution_count": null,
      "metadata": {
        "id": "o2JDiHCMWIAt",
        "colab": {
          "base_uri": "https://localhost:8080/"
        },
        "outputId": "8c4d37ff-35bd-48ae-bbea-44c6a9f907ad"
      },
      "outputs": [
        {
          "output_type": "execute_result",
          "data": {
            "text/plain": [
              "npi                        46706\n",
              "bene_count                   570\n",
              "total_claim_count           1709\n",
              "total_30_day_fill_count    13742\n",
              "total_day_supply           31199\n",
              "                           ...  \n",
              "ZYPREXA RELPREVV               2\n",
              "ZYTIGA                         2\n",
              "S                              2\n",
              "T                              2\n",
              "is_fraud                       2\n",
              "Length: 1363, dtype: int64"
            ]
          },
          "metadata": {},
          "execution_count": 30
        }
      ],
      "source": [
        "FeaturesAll_pd.nunique()"
      ]
    },
    {
      "cell_type": "markdown",
      "metadata": {
        "id": "s5nWUfjphMEa"
      },
      "source": [
        "#Dropped the NPI Column as it is used only for table joining"
      ]
    },
    {
      "cell_type": "code",
      "execution_count": null,
      "metadata": {
        "id": "J3JU65sfuYJr"
      },
      "outputs": [],
      "source": [
        "FeaturesAll_pd = FeaturesAll_pd.drop(['npi'], axis=1)\n"
      ]
    },
    {
      "cell_type": "code",
      "execution_count": null,
      "metadata": {
        "id": "WqhLnEVwQWwC",
        "colab": {
          "base_uri": "https://localhost:8080/",
          "height": 505
        },
        "outputId": "55756005-18bd-4221-f932-8a3589fc78dc"
      },
      "outputs": [
        {
          "output_type": "execute_result",
          "data": {
            "text/plain": [
              "        bene_count  total_claim_count  total_30_day_fill_count  \\\n",
              "0             11.0                 11                     11.0   \n",
              "1             12.0                 12                     12.0   \n",
              "2             12.0                 13                     13.0   \n",
              "3             19.0                 30                     31.0   \n",
              "4             11.0                 14                     14.0   \n",
              "...            ...                ...                      ...   \n",
              "614801        11.0                 13                     13.0   \n",
              "614802        20.0                 29                     29.0   \n",
              "614803        48.0                 80                     80.0   \n",
              "614804        19.0                 52                     54.0   \n",
              "614805        46.0                 81                     82.8   \n",
              "\n",
              "        total_day_supply  total_drug_cost  AA  AE  AK  AL  AR  ...  \\\n",
              "0                     64           123.11   0   0   0   0   0  ...   \n",
              "1                     71           178.66   0   0   0   0   0  ...   \n",
              "2                     77           194.56   0   0   0   0   0  ...   \n",
              "3                    830           118.97   0   0   0   0   0  ...   \n",
              "4                    420           167.69   0   0   0   0   0  ...   \n",
              "...                  ...              ...  ..  ..  ..  ..  ..  ...   \n",
              "614801               342           168.69   0   0   0   0   0  ...   \n",
              "614802               795          1983.36   0   0   0   0   0  ...   \n",
              "614803              1668           461.67   0   0   0   0   0  ...   \n",
              "614804              1620           727.96   0   0   0   0   0  ...   \n",
              "614805              1884          2412.19   0   0   0   0   0  ...   \n",
              "\n",
              "        ZONISAMIDE  ZONTIVITY  ZOSTAVAX  ZUBSOLV  ZYLET  ZYPREXA RELPREVV  \\\n",
              "0                0          0         0        0      0                 0   \n",
              "1                0          0         0        0      0                 0   \n",
              "2                0          0         0        0      0                 0   \n",
              "3                0          0         0        0      0                 0   \n",
              "4                0          0         0        0      0                 0   \n",
              "...            ...        ...       ...      ...    ...               ...   \n",
              "614801           0          0         0        0      0                 0   \n",
              "614802           0          0         0        0      0                 0   \n",
              "614803           0          0         0        0      0                 0   \n",
              "614804           0          0         0        0      0                 0   \n",
              "614805           0          0         0        0      0                 0   \n",
              "\n",
              "        ZYTIGA  S  T  is_fraud  \n",
              "0            0  1  0       0.0  \n",
              "1            0  1  0       0.0  \n",
              "2            0  1  0       0.0  \n",
              "3            0  1  0       0.0  \n",
              "4            0  1  0       0.0  \n",
              "...        ... .. ..       ...  \n",
              "614801       0  1  0       0.0  \n",
              "614802       0  1  0       0.0  \n",
              "614803       0  1  0       0.0  \n",
              "614804       0  1  0       0.0  \n",
              "614805       0  1  0       0.0  \n",
              "\n",
              "[614806 rows x 1362 columns]"
            ],
            "text/html": [
              "\n",
              "  <div id=\"df-7a6b7aef-7f4c-41f2-b902-fd5567292ae3\">\n",
              "    <div class=\"colab-df-container\">\n",
              "      <div>\n",
              "<style scoped>\n",
              "    .dataframe tbody tr th:only-of-type {\n",
              "        vertical-align: middle;\n",
              "    }\n",
              "\n",
              "    .dataframe tbody tr th {\n",
              "        vertical-align: top;\n",
              "    }\n",
              "\n",
              "    .dataframe thead th {\n",
              "        text-align: right;\n",
              "    }\n",
              "</style>\n",
              "<table border=\"1\" class=\"dataframe\">\n",
              "  <thead>\n",
              "    <tr style=\"text-align: right;\">\n",
              "      <th></th>\n",
              "      <th>bene_count</th>\n",
              "      <th>total_claim_count</th>\n",
              "      <th>total_30_day_fill_count</th>\n",
              "      <th>total_day_supply</th>\n",
              "      <th>total_drug_cost</th>\n",
              "      <th>AA</th>\n",
              "      <th>AE</th>\n",
              "      <th>AK</th>\n",
              "      <th>AL</th>\n",
              "      <th>AR</th>\n",
              "      <th>...</th>\n",
              "      <th>ZONISAMIDE</th>\n",
              "      <th>ZONTIVITY</th>\n",
              "      <th>ZOSTAVAX</th>\n",
              "      <th>ZUBSOLV</th>\n",
              "      <th>ZYLET</th>\n",
              "      <th>ZYPREXA RELPREVV</th>\n",
              "      <th>ZYTIGA</th>\n",
              "      <th>S</th>\n",
              "      <th>T</th>\n",
              "      <th>is_fraud</th>\n",
              "    </tr>\n",
              "  </thead>\n",
              "  <tbody>\n",
              "    <tr>\n",
              "      <th>0</th>\n",
              "      <td>11.0</td>\n",
              "      <td>11</td>\n",
              "      <td>11.0</td>\n",
              "      <td>64</td>\n",
              "      <td>123.11</td>\n",
              "      <td>0</td>\n",
              "      <td>0</td>\n",
              "      <td>0</td>\n",
              "      <td>0</td>\n",
              "      <td>0</td>\n",
              "      <td>...</td>\n",
              "      <td>0</td>\n",
              "      <td>0</td>\n",
              "      <td>0</td>\n",
              "      <td>0</td>\n",
              "      <td>0</td>\n",
              "      <td>0</td>\n",
              "      <td>0</td>\n",
              "      <td>1</td>\n",
              "      <td>0</td>\n",
              "      <td>0.0</td>\n",
              "    </tr>\n",
              "    <tr>\n",
              "      <th>1</th>\n",
              "      <td>12.0</td>\n",
              "      <td>12</td>\n",
              "      <td>12.0</td>\n",
              "      <td>71</td>\n",
              "      <td>178.66</td>\n",
              "      <td>0</td>\n",
              "      <td>0</td>\n",
              "      <td>0</td>\n",
              "      <td>0</td>\n",
              "      <td>0</td>\n",
              "      <td>...</td>\n",
              "      <td>0</td>\n",
              "      <td>0</td>\n",
              "      <td>0</td>\n",
              "      <td>0</td>\n",
              "      <td>0</td>\n",
              "      <td>0</td>\n",
              "      <td>0</td>\n",
              "      <td>1</td>\n",
              "      <td>0</td>\n",
              "      <td>0.0</td>\n",
              "    </tr>\n",
              "    <tr>\n",
              "      <th>2</th>\n",
              "      <td>12.0</td>\n",
              "      <td>13</td>\n",
              "      <td>13.0</td>\n",
              "      <td>77</td>\n",
              "      <td>194.56</td>\n",
              "      <td>0</td>\n",
              "      <td>0</td>\n",
              "      <td>0</td>\n",
              "      <td>0</td>\n",
              "      <td>0</td>\n",
              "      <td>...</td>\n",
              "      <td>0</td>\n",
              "      <td>0</td>\n",
              "      <td>0</td>\n",
              "      <td>0</td>\n",
              "      <td>0</td>\n",
              "      <td>0</td>\n",
              "      <td>0</td>\n",
              "      <td>1</td>\n",
              "      <td>0</td>\n",
              "      <td>0.0</td>\n",
              "    </tr>\n",
              "    <tr>\n",
              "      <th>3</th>\n",
              "      <td>19.0</td>\n",
              "      <td>30</td>\n",
              "      <td>31.0</td>\n",
              "      <td>830</td>\n",
              "      <td>118.97</td>\n",
              "      <td>0</td>\n",
              "      <td>0</td>\n",
              "      <td>0</td>\n",
              "      <td>0</td>\n",
              "      <td>0</td>\n",
              "      <td>...</td>\n",
              "      <td>0</td>\n",
              "      <td>0</td>\n",
              "      <td>0</td>\n",
              "      <td>0</td>\n",
              "      <td>0</td>\n",
              "      <td>0</td>\n",
              "      <td>0</td>\n",
              "      <td>1</td>\n",
              "      <td>0</td>\n",
              "      <td>0.0</td>\n",
              "    </tr>\n",
              "    <tr>\n",
              "      <th>4</th>\n",
              "      <td>11.0</td>\n",
              "      <td>14</td>\n",
              "      <td>14.0</td>\n",
              "      <td>420</td>\n",
              "      <td>167.69</td>\n",
              "      <td>0</td>\n",
              "      <td>0</td>\n",
              "      <td>0</td>\n",
              "      <td>0</td>\n",
              "      <td>0</td>\n",
              "      <td>...</td>\n",
              "      <td>0</td>\n",
              "      <td>0</td>\n",
              "      <td>0</td>\n",
              "      <td>0</td>\n",
              "      <td>0</td>\n",
              "      <td>0</td>\n",
              "      <td>0</td>\n",
              "      <td>1</td>\n",
              "      <td>0</td>\n",
              "      <td>0.0</td>\n",
              "    </tr>\n",
              "    <tr>\n",
              "      <th>...</th>\n",
              "      <td>...</td>\n",
              "      <td>...</td>\n",
              "      <td>...</td>\n",
              "      <td>...</td>\n",
              "      <td>...</td>\n",
              "      <td>...</td>\n",
              "      <td>...</td>\n",
              "      <td>...</td>\n",
              "      <td>...</td>\n",
              "      <td>...</td>\n",
              "      <td>...</td>\n",
              "      <td>...</td>\n",
              "      <td>...</td>\n",
              "      <td>...</td>\n",
              "      <td>...</td>\n",
              "      <td>...</td>\n",
              "      <td>...</td>\n",
              "      <td>...</td>\n",
              "      <td>...</td>\n",
              "      <td>...</td>\n",
              "      <td>...</td>\n",
              "    </tr>\n",
              "    <tr>\n",
              "      <th>614801</th>\n",
              "      <td>11.0</td>\n",
              "      <td>13</td>\n",
              "      <td>13.0</td>\n",
              "      <td>342</td>\n",
              "      <td>168.69</td>\n",
              "      <td>0</td>\n",
              "      <td>0</td>\n",
              "      <td>0</td>\n",
              "      <td>0</td>\n",
              "      <td>0</td>\n",
              "      <td>...</td>\n",
              "      <td>0</td>\n",
              "      <td>0</td>\n",
              "      <td>0</td>\n",
              "      <td>0</td>\n",
              "      <td>0</td>\n",
              "      <td>0</td>\n",
              "      <td>0</td>\n",
              "      <td>1</td>\n",
              "      <td>0</td>\n",
              "      <td>0.0</td>\n",
              "    </tr>\n",
              "    <tr>\n",
              "      <th>614802</th>\n",
              "      <td>20.0</td>\n",
              "      <td>29</td>\n",
              "      <td>29.0</td>\n",
              "      <td>795</td>\n",
              "      <td>1983.36</td>\n",
              "      <td>0</td>\n",
              "      <td>0</td>\n",
              "      <td>0</td>\n",
              "      <td>0</td>\n",
              "      <td>0</td>\n",
              "      <td>...</td>\n",
              "      <td>0</td>\n",
              "      <td>0</td>\n",
              "      <td>0</td>\n",
              "      <td>0</td>\n",
              "      <td>0</td>\n",
              "      <td>0</td>\n",
              "      <td>0</td>\n",
              "      <td>1</td>\n",
              "      <td>0</td>\n",
              "      <td>0.0</td>\n",
              "    </tr>\n",
              "    <tr>\n",
              "      <th>614803</th>\n",
              "      <td>48.0</td>\n",
              "      <td>80</td>\n",
              "      <td>80.0</td>\n",
              "      <td>1668</td>\n",
              "      <td>461.67</td>\n",
              "      <td>0</td>\n",
              "      <td>0</td>\n",
              "      <td>0</td>\n",
              "      <td>0</td>\n",
              "      <td>0</td>\n",
              "      <td>...</td>\n",
              "      <td>0</td>\n",
              "      <td>0</td>\n",
              "      <td>0</td>\n",
              "      <td>0</td>\n",
              "      <td>0</td>\n",
              "      <td>0</td>\n",
              "      <td>0</td>\n",
              "      <td>1</td>\n",
              "      <td>0</td>\n",
              "      <td>0.0</td>\n",
              "    </tr>\n",
              "    <tr>\n",
              "      <th>614804</th>\n",
              "      <td>19.0</td>\n",
              "      <td>52</td>\n",
              "      <td>54.0</td>\n",
              "      <td>1620</td>\n",
              "      <td>727.96</td>\n",
              "      <td>0</td>\n",
              "      <td>0</td>\n",
              "      <td>0</td>\n",
              "      <td>0</td>\n",
              "      <td>0</td>\n",
              "      <td>...</td>\n",
              "      <td>0</td>\n",
              "      <td>0</td>\n",
              "      <td>0</td>\n",
              "      <td>0</td>\n",
              "      <td>0</td>\n",
              "      <td>0</td>\n",
              "      <td>0</td>\n",
              "      <td>1</td>\n",
              "      <td>0</td>\n",
              "      <td>0.0</td>\n",
              "    </tr>\n",
              "    <tr>\n",
              "      <th>614805</th>\n",
              "      <td>46.0</td>\n",
              "      <td>81</td>\n",
              "      <td>82.8</td>\n",
              "      <td>1884</td>\n",
              "      <td>2412.19</td>\n",
              "      <td>0</td>\n",
              "      <td>0</td>\n",
              "      <td>0</td>\n",
              "      <td>0</td>\n",
              "      <td>0</td>\n",
              "      <td>...</td>\n",
              "      <td>0</td>\n",
              "      <td>0</td>\n",
              "      <td>0</td>\n",
              "      <td>0</td>\n",
              "      <td>0</td>\n",
              "      <td>0</td>\n",
              "      <td>0</td>\n",
              "      <td>1</td>\n",
              "      <td>0</td>\n",
              "      <td>0.0</td>\n",
              "    </tr>\n",
              "  </tbody>\n",
              "</table>\n",
              "<p>614806 rows × 1362 columns</p>\n",
              "</div>\n",
              "      <button class=\"colab-df-convert\" onclick=\"convertToInteractive('df-7a6b7aef-7f4c-41f2-b902-fd5567292ae3')\"\n",
              "              title=\"Convert this dataframe to an interactive table.\"\n",
              "              style=\"display:none;\">\n",
              "        \n",
              "  <svg xmlns=\"http://www.w3.org/2000/svg\" height=\"24px\"viewBox=\"0 0 24 24\"\n",
              "       width=\"24px\">\n",
              "    <path d=\"M0 0h24v24H0V0z\" fill=\"none\"/>\n",
              "    <path d=\"M18.56 5.44l.94 2.06.94-2.06 2.06-.94-2.06-.94-.94-2.06-.94 2.06-2.06.94zm-11 1L8.5 8.5l.94-2.06 2.06-.94-2.06-.94L8.5 2.5l-.94 2.06-2.06.94zm10 10l.94 2.06.94-2.06 2.06-.94-2.06-.94-.94-2.06-.94 2.06-2.06.94z\"/><path d=\"M17.41 7.96l-1.37-1.37c-.4-.4-.92-.59-1.43-.59-.52 0-1.04.2-1.43.59L10.3 9.45l-7.72 7.72c-.78.78-.78 2.05 0 2.83L4 21.41c.39.39.9.59 1.41.59.51 0 1.02-.2 1.41-.59l7.78-7.78 2.81-2.81c.8-.78.8-2.07 0-2.86zM5.41 20L4 18.59l7.72-7.72 1.47 1.35L5.41 20z\"/>\n",
              "  </svg>\n",
              "      </button>\n",
              "      \n",
              "  <style>\n",
              "    .colab-df-container {\n",
              "      display:flex;\n",
              "      flex-wrap:wrap;\n",
              "      gap: 12px;\n",
              "    }\n",
              "\n",
              "    .colab-df-convert {\n",
              "      background-color: #E8F0FE;\n",
              "      border: none;\n",
              "      border-radius: 50%;\n",
              "      cursor: pointer;\n",
              "      display: none;\n",
              "      fill: #1967D2;\n",
              "      height: 32px;\n",
              "      padding: 0 0 0 0;\n",
              "      width: 32px;\n",
              "    }\n",
              "\n",
              "    .colab-df-convert:hover {\n",
              "      background-color: #E2EBFA;\n",
              "      box-shadow: 0px 1px 2px rgba(60, 64, 67, 0.3), 0px 1px 3px 1px rgba(60, 64, 67, 0.15);\n",
              "      fill: #174EA6;\n",
              "    }\n",
              "\n",
              "    [theme=dark] .colab-df-convert {\n",
              "      background-color: #3B4455;\n",
              "      fill: #D2E3FC;\n",
              "    }\n",
              "\n",
              "    [theme=dark] .colab-df-convert:hover {\n",
              "      background-color: #434B5C;\n",
              "      box-shadow: 0px 1px 3px 1px rgba(0, 0, 0, 0.15);\n",
              "      filter: drop-shadow(0px 1px 2px rgba(0, 0, 0, 0.3));\n",
              "      fill: #FFFFFF;\n",
              "    }\n",
              "  </style>\n",
              "\n",
              "      <script>\n",
              "        const buttonEl =\n",
              "          document.querySelector('#df-7a6b7aef-7f4c-41f2-b902-fd5567292ae3 button.colab-df-convert');\n",
              "        buttonEl.style.display =\n",
              "          google.colab.kernel.accessAllowed ? 'block' : 'none';\n",
              "\n",
              "        async function convertToInteractive(key) {\n",
              "          const element = document.querySelector('#df-7a6b7aef-7f4c-41f2-b902-fd5567292ae3');\n",
              "          const dataTable =\n",
              "            await google.colab.kernel.invokeFunction('convertToInteractive',\n",
              "                                                     [key], {});\n",
              "          if (!dataTable) return;\n",
              "\n",
              "          const docLinkHtml = 'Like what you see? Visit the ' +\n",
              "            '<a target=\"_blank\" href=https://colab.research.google.com/notebooks/data_table.ipynb>data table notebook</a>'\n",
              "            + ' to learn more about interactive tables.';\n",
              "          element.innerHTML = '';\n",
              "          dataTable['output_type'] = 'display_data';\n",
              "          await google.colab.output.renderOutput(dataTable, element);\n",
              "          const docLink = document.createElement('div');\n",
              "          docLink.innerHTML = docLinkHtml;\n",
              "          element.appendChild(docLink);\n",
              "        }\n",
              "      </script>\n",
              "    </div>\n",
              "  </div>\n",
              "  "
            ]
          },
          "metadata": {},
          "execution_count": 32
        }
      ],
      "source": [
        "FeaturesAll_pd"
      ]
    },
    {
      "cell_type": "markdown",
      "metadata": {
        "id": "hSSC__tohijC"
      },
      "source": [
        "#Data Preprocessing"
      ]
    },
    {
      "cell_type": "code",
      "execution_count": null,
      "metadata": {
        "id": "r-hChfDd3YSo"
      },
      "outputs": [],
      "source": [
        "x = FeaturesAll_pd.drop(columns=['is_fraud'], axis=1)\n",
        "y = FeaturesAll_pd['is_fraud']\n",
        "\n",
        "x_scale = preprocessing.MinMaxScaler().fit_transform(x.values)\n",
        "x_norm, x_fraud = x_scale[y == 0], x_scale[y == 1]"
      ]
    },
    {
      "cell_type": "code",
      "execution_count": null,
      "metadata": {
        "id": "o_aCV_mHMXjT",
        "colab": {
          "base_uri": "https://localhost:8080/",
          "height": 522
        },
        "outputId": "8bdac4d5-76e9-41cf-81a8-813adefe6dcd"
      },
      "outputs": [
        {
          "output_type": "execute_result",
          "data": {
            "text/plain": [
              "        bene_count  total_claim_count  total_30_day_fill_count  \\\n",
              "0             11.0                 11                     11.0   \n",
              "1             12.0                 12                     12.0   \n",
              "2             12.0                 13                     13.0   \n",
              "3             19.0                 30                     31.0   \n",
              "4             11.0                 14                     14.0   \n",
              "...            ...                ...                      ...   \n",
              "614801        11.0                 13                     13.0   \n",
              "614802        20.0                 29                     29.0   \n",
              "614803        48.0                 80                     80.0   \n",
              "614804        19.0                 52                     54.0   \n",
              "614805        46.0                 81                     82.8   \n",
              "\n",
              "        total_day_supply  total_drug_cost  AA  AE  AK  AL  AR  ...  \\\n",
              "0                     64           123.11   0   0   0   0   0  ...   \n",
              "1                     71           178.66   0   0   0   0   0  ...   \n",
              "2                     77           194.56   0   0   0   0   0  ...   \n",
              "3                    830           118.97   0   0   0   0   0  ...   \n",
              "4                    420           167.69   0   0   0   0   0  ...   \n",
              "...                  ...              ...  ..  ..  ..  ..  ..  ...   \n",
              "614801               342           168.69   0   0   0   0   0  ...   \n",
              "614802               795          1983.36   0   0   0   0   0  ...   \n",
              "614803              1668           461.67   0   0   0   0   0  ...   \n",
              "614804              1620           727.96   0   0   0   0   0  ...   \n",
              "614805              1884          2412.19   0   0   0   0   0  ...   \n",
              "\n",
              "        ZOLPIDEM TARTRATE ER  ZONISAMIDE  ZONTIVITY  ZOSTAVAX  ZUBSOLV  ZYLET  \\\n",
              "0                          0           0          0         0        0      0   \n",
              "1                          0           0          0         0        0      0   \n",
              "2                          0           0          0         0        0      0   \n",
              "3                          0           0          0         0        0      0   \n",
              "4                          0           0          0         0        0      0   \n",
              "...                      ...         ...        ...       ...      ...    ...   \n",
              "614801                     0           0          0         0        0      0   \n",
              "614802                     0           0          0         0        0      0   \n",
              "614803                     0           0          0         0        0      0   \n",
              "614804                     0           0          0         0        0      0   \n",
              "614805                     0           0          0         0        0      0   \n",
              "\n",
              "        ZYPREXA RELPREVV  ZYTIGA  S  T  \n",
              "0                      0       0  1  0  \n",
              "1                      0       0  1  0  \n",
              "2                      0       0  1  0  \n",
              "3                      0       0  1  0  \n",
              "4                      0       0  1  0  \n",
              "...                  ...     ... .. ..  \n",
              "614801                 0       0  1  0  \n",
              "614802                 0       0  1  0  \n",
              "614803                 0       0  1  0  \n",
              "614804                 0       0  1  0  \n",
              "614805                 0       0  1  0  \n",
              "\n",
              "[614806 rows x 1361 columns]"
            ],
            "text/html": [
              "\n",
              "  <div id=\"df-f9c93a45-ac29-48bf-93d0-cd02716ee329\">\n",
              "    <div class=\"colab-df-container\">\n",
              "      <div>\n",
              "<style scoped>\n",
              "    .dataframe tbody tr th:only-of-type {\n",
              "        vertical-align: middle;\n",
              "    }\n",
              "\n",
              "    .dataframe tbody tr th {\n",
              "        vertical-align: top;\n",
              "    }\n",
              "\n",
              "    .dataframe thead th {\n",
              "        text-align: right;\n",
              "    }\n",
              "</style>\n",
              "<table border=\"1\" class=\"dataframe\">\n",
              "  <thead>\n",
              "    <tr style=\"text-align: right;\">\n",
              "      <th></th>\n",
              "      <th>bene_count</th>\n",
              "      <th>total_claim_count</th>\n",
              "      <th>total_30_day_fill_count</th>\n",
              "      <th>total_day_supply</th>\n",
              "      <th>total_drug_cost</th>\n",
              "      <th>AA</th>\n",
              "      <th>AE</th>\n",
              "      <th>AK</th>\n",
              "      <th>AL</th>\n",
              "      <th>AR</th>\n",
              "      <th>...</th>\n",
              "      <th>ZOLPIDEM TARTRATE ER</th>\n",
              "      <th>ZONISAMIDE</th>\n",
              "      <th>ZONTIVITY</th>\n",
              "      <th>ZOSTAVAX</th>\n",
              "      <th>ZUBSOLV</th>\n",
              "      <th>ZYLET</th>\n",
              "      <th>ZYPREXA RELPREVV</th>\n",
              "      <th>ZYTIGA</th>\n",
              "      <th>S</th>\n",
              "      <th>T</th>\n",
              "    </tr>\n",
              "  </thead>\n",
              "  <tbody>\n",
              "    <tr>\n",
              "      <th>0</th>\n",
              "      <td>11.0</td>\n",
              "      <td>11</td>\n",
              "      <td>11.0</td>\n",
              "      <td>64</td>\n",
              "      <td>123.11</td>\n",
              "      <td>0</td>\n",
              "      <td>0</td>\n",
              "      <td>0</td>\n",
              "      <td>0</td>\n",
              "      <td>0</td>\n",
              "      <td>...</td>\n",
              "      <td>0</td>\n",
              "      <td>0</td>\n",
              "      <td>0</td>\n",
              "      <td>0</td>\n",
              "      <td>0</td>\n",
              "      <td>0</td>\n",
              "      <td>0</td>\n",
              "      <td>0</td>\n",
              "      <td>1</td>\n",
              "      <td>0</td>\n",
              "    </tr>\n",
              "    <tr>\n",
              "      <th>1</th>\n",
              "      <td>12.0</td>\n",
              "      <td>12</td>\n",
              "      <td>12.0</td>\n",
              "      <td>71</td>\n",
              "      <td>178.66</td>\n",
              "      <td>0</td>\n",
              "      <td>0</td>\n",
              "      <td>0</td>\n",
              "      <td>0</td>\n",
              "      <td>0</td>\n",
              "      <td>...</td>\n",
              "      <td>0</td>\n",
              "      <td>0</td>\n",
              "      <td>0</td>\n",
              "      <td>0</td>\n",
              "      <td>0</td>\n",
              "      <td>0</td>\n",
              "      <td>0</td>\n",
              "      <td>0</td>\n",
              "      <td>1</td>\n",
              "      <td>0</td>\n",
              "    </tr>\n",
              "    <tr>\n",
              "      <th>2</th>\n",
              "      <td>12.0</td>\n",
              "      <td>13</td>\n",
              "      <td>13.0</td>\n",
              "      <td>77</td>\n",
              "      <td>194.56</td>\n",
              "      <td>0</td>\n",
              "      <td>0</td>\n",
              "      <td>0</td>\n",
              "      <td>0</td>\n",
              "      <td>0</td>\n",
              "      <td>...</td>\n",
              "      <td>0</td>\n",
              "      <td>0</td>\n",
              "      <td>0</td>\n",
              "      <td>0</td>\n",
              "      <td>0</td>\n",
              "      <td>0</td>\n",
              "      <td>0</td>\n",
              "      <td>0</td>\n",
              "      <td>1</td>\n",
              "      <td>0</td>\n",
              "    </tr>\n",
              "    <tr>\n",
              "      <th>3</th>\n",
              "      <td>19.0</td>\n",
              "      <td>30</td>\n",
              "      <td>31.0</td>\n",
              "      <td>830</td>\n",
              "      <td>118.97</td>\n",
              "      <td>0</td>\n",
              "      <td>0</td>\n",
              "      <td>0</td>\n",
              "      <td>0</td>\n",
              "      <td>0</td>\n",
              "      <td>...</td>\n",
              "      <td>0</td>\n",
              "      <td>0</td>\n",
              "      <td>0</td>\n",
              "      <td>0</td>\n",
              "      <td>0</td>\n",
              "      <td>0</td>\n",
              "      <td>0</td>\n",
              "      <td>0</td>\n",
              "      <td>1</td>\n",
              "      <td>0</td>\n",
              "    </tr>\n",
              "    <tr>\n",
              "      <th>4</th>\n",
              "      <td>11.0</td>\n",
              "      <td>14</td>\n",
              "      <td>14.0</td>\n",
              "      <td>420</td>\n",
              "      <td>167.69</td>\n",
              "      <td>0</td>\n",
              "      <td>0</td>\n",
              "      <td>0</td>\n",
              "      <td>0</td>\n",
              "      <td>0</td>\n",
              "      <td>...</td>\n",
              "      <td>0</td>\n",
              "      <td>0</td>\n",
              "      <td>0</td>\n",
              "      <td>0</td>\n",
              "      <td>0</td>\n",
              "      <td>0</td>\n",
              "      <td>0</td>\n",
              "      <td>0</td>\n",
              "      <td>1</td>\n",
              "      <td>0</td>\n",
              "    </tr>\n",
              "    <tr>\n",
              "      <th>...</th>\n",
              "      <td>...</td>\n",
              "      <td>...</td>\n",
              "      <td>...</td>\n",
              "      <td>...</td>\n",
              "      <td>...</td>\n",
              "      <td>...</td>\n",
              "      <td>...</td>\n",
              "      <td>...</td>\n",
              "      <td>...</td>\n",
              "      <td>...</td>\n",
              "      <td>...</td>\n",
              "      <td>...</td>\n",
              "      <td>...</td>\n",
              "      <td>...</td>\n",
              "      <td>...</td>\n",
              "      <td>...</td>\n",
              "      <td>...</td>\n",
              "      <td>...</td>\n",
              "      <td>...</td>\n",
              "      <td>...</td>\n",
              "      <td>...</td>\n",
              "    </tr>\n",
              "    <tr>\n",
              "      <th>614801</th>\n",
              "      <td>11.0</td>\n",
              "      <td>13</td>\n",
              "      <td>13.0</td>\n",
              "      <td>342</td>\n",
              "      <td>168.69</td>\n",
              "      <td>0</td>\n",
              "      <td>0</td>\n",
              "      <td>0</td>\n",
              "      <td>0</td>\n",
              "      <td>0</td>\n",
              "      <td>...</td>\n",
              "      <td>0</td>\n",
              "      <td>0</td>\n",
              "      <td>0</td>\n",
              "      <td>0</td>\n",
              "      <td>0</td>\n",
              "      <td>0</td>\n",
              "      <td>0</td>\n",
              "      <td>0</td>\n",
              "      <td>1</td>\n",
              "      <td>0</td>\n",
              "    </tr>\n",
              "    <tr>\n",
              "      <th>614802</th>\n",
              "      <td>20.0</td>\n",
              "      <td>29</td>\n",
              "      <td>29.0</td>\n",
              "      <td>795</td>\n",
              "      <td>1983.36</td>\n",
              "      <td>0</td>\n",
              "      <td>0</td>\n",
              "      <td>0</td>\n",
              "      <td>0</td>\n",
              "      <td>0</td>\n",
              "      <td>...</td>\n",
              "      <td>0</td>\n",
              "      <td>0</td>\n",
              "      <td>0</td>\n",
              "      <td>0</td>\n",
              "      <td>0</td>\n",
              "      <td>0</td>\n",
              "      <td>0</td>\n",
              "      <td>0</td>\n",
              "      <td>1</td>\n",
              "      <td>0</td>\n",
              "    </tr>\n",
              "    <tr>\n",
              "      <th>614803</th>\n",
              "      <td>48.0</td>\n",
              "      <td>80</td>\n",
              "      <td>80.0</td>\n",
              "      <td>1668</td>\n",
              "      <td>461.67</td>\n",
              "      <td>0</td>\n",
              "      <td>0</td>\n",
              "      <td>0</td>\n",
              "      <td>0</td>\n",
              "      <td>0</td>\n",
              "      <td>...</td>\n",
              "      <td>0</td>\n",
              "      <td>0</td>\n",
              "      <td>0</td>\n",
              "      <td>0</td>\n",
              "      <td>0</td>\n",
              "      <td>0</td>\n",
              "      <td>0</td>\n",
              "      <td>0</td>\n",
              "      <td>1</td>\n",
              "      <td>0</td>\n",
              "    </tr>\n",
              "    <tr>\n",
              "      <th>614804</th>\n",
              "      <td>19.0</td>\n",
              "      <td>52</td>\n",
              "      <td>54.0</td>\n",
              "      <td>1620</td>\n",
              "      <td>727.96</td>\n",
              "      <td>0</td>\n",
              "      <td>0</td>\n",
              "      <td>0</td>\n",
              "      <td>0</td>\n",
              "      <td>0</td>\n",
              "      <td>...</td>\n",
              "      <td>0</td>\n",
              "      <td>0</td>\n",
              "      <td>0</td>\n",
              "      <td>0</td>\n",
              "      <td>0</td>\n",
              "      <td>0</td>\n",
              "      <td>0</td>\n",
              "      <td>0</td>\n",
              "      <td>1</td>\n",
              "      <td>0</td>\n",
              "    </tr>\n",
              "    <tr>\n",
              "      <th>614805</th>\n",
              "      <td>46.0</td>\n",
              "      <td>81</td>\n",
              "      <td>82.8</td>\n",
              "      <td>1884</td>\n",
              "      <td>2412.19</td>\n",
              "      <td>0</td>\n",
              "      <td>0</td>\n",
              "      <td>0</td>\n",
              "      <td>0</td>\n",
              "      <td>0</td>\n",
              "      <td>...</td>\n",
              "      <td>0</td>\n",
              "      <td>0</td>\n",
              "      <td>0</td>\n",
              "      <td>0</td>\n",
              "      <td>0</td>\n",
              "      <td>0</td>\n",
              "      <td>0</td>\n",
              "      <td>0</td>\n",
              "      <td>1</td>\n",
              "      <td>0</td>\n",
              "    </tr>\n",
              "  </tbody>\n",
              "</table>\n",
              "<p>614806 rows × 1361 columns</p>\n",
              "</div>\n",
              "      <button class=\"colab-df-convert\" onclick=\"convertToInteractive('df-f9c93a45-ac29-48bf-93d0-cd02716ee329')\"\n",
              "              title=\"Convert this dataframe to an interactive table.\"\n",
              "              style=\"display:none;\">\n",
              "        \n",
              "  <svg xmlns=\"http://www.w3.org/2000/svg\" height=\"24px\"viewBox=\"0 0 24 24\"\n",
              "       width=\"24px\">\n",
              "    <path d=\"M0 0h24v24H0V0z\" fill=\"none\"/>\n",
              "    <path d=\"M18.56 5.44l.94 2.06.94-2.06 2.06-.94-2.06-.94-.94-2.06-.94 2.06-2.06.94zm-11 1L8.5 8.5l.94-2.06 2.06-.94-2.06-.94L8.5 2.5l-.94 2.06-2.06.94zm10 10l.94 2.06.94-2.06 2.06-.94-2.06-.94-.94-2.06-.94 2.06-2.06.94z\"/><path d=\"M17.41 7.96l-1.37-1.37c-.4-.4-.92-.59-1.43-.59-.52 0-1.04.2-1.43.59L10.3 9.45l-7.72 7.72c-.78.78-.78 2.05 0 2.83L4 21.41c.39.39.9.59 1.41.59.51 0 1.02-.2 1.41-.59l7.78-7.78 2.81-2.81c.8-.78.8-2.07 0-2.86zM5.41 20L4 18.59l7.72-7.72 1.47 1.35L5.41 20z\"/>\n",
              "  </svg>\n",
              "      </button>\n",
              "      \n",
              "  <style>\n",
              "    .colab-df-container {\n",
              "      display:flex;\n",
              "      flex-wrap:wrap;\n",
              "      gap: 12px;\n",
              "    }\n",
              "\n",
              "    .colab-df-convert {\n",
              "      background-color: #E8F0FE;\n",
              "      border: none;\n",
              "      border-radius: 50%;\n",
              "      cursor: pointer;\n",
              "      display: none;\n",
              "      fill: #1967D2;\n",
              "      height: 32px;\n",
              "      padding: 0 0 0 0;\n",
              "      width: 32px;\n",
              "    }\n",
              "\n",
              "    .colab-df-convert:hover {\n",
              "      background-color: #E2EBFA;\n",
              "      box-shadow: 0px 1px 2px rgba(60, 64, 67, 0.3), 0px 1px 3px 1px rgba(60, 64, 67, 0.15);\n",
              "      fill: #174EA6;\n",
              "    }\n",
              "\n",
              "    [theme=dark] .colab-df-convert {\n",
              "      background-color: #3B4455;\n",
              "      fill: #D2E3FC;\n",
              "    }\n",
              "\n",
              "    [theme=dark] .colab-df-convert:hover {\n",
              "      background-color: #434B5C;\n",
              "      box-shadow: 0px 1px 3px 1px rgba(0, 0, 0, 0.15);\n",
              "      filter: drop-shadow(0px 1px 2px rgba(0, 0, 0, 0.3));\n",
              "      fill: #FFFFFF;\n",
              "    }\n",
              "  </style>\n",
              "\n",
              "      <script>\n",
              "        const buttonEl =\n",
              "          document.querySelector('#df-f9c93a45-ac29-48bf-93d0-cd02716ee329 button.colab-df-convert');\n",
              "        buttonEl.style.display =\n",
              "          google.colab.kernel.accessAllowed ? 'block' : 'none';\n",
              "\n",
              "        async function convertToInteractive(key) {\n",
              "          const element = document.querySelector('#df-f9c93a45-ac29-48bf-93d0-cd02716ee329');\n",
              "          const dataTable =\n",
              "            await google.colab.kernel.invokeFunction('convertToInteractive',\n",
              "                                                     [key], {});\n",
              "          if (!dataTable) return;\n",
              "\n",
              "          const docLinkHtml = 'Like what you see? Visit the ' +\n",
              "            '<a target=\"_blank\" href=https://colab.research.google.com/notebooks/data_table.ipynb>data table notebook</a>'\n",
              "            + ' to learn more about interactive tables.';\n",
              "          element.innerHTML = '';\n",
              "          dataTable['output_type'] = 'display_data';\n",
              "          await google.colab.output.renderOutput(dataTable, element);\n",
              "          const docLink = document.createElement('div');\n",
              "          docLink.innerHTML = docLinkHtml;\n",
              "          element.appendChild(docLink);\n",
              "        }\n",
              "      </script>\n",
              "    </div>\n",
              "  </div>\n",
              "  "
            ]
          },
          "metadata": {},
          "execution_count": 34
        }
      ],
      "source": [
        "x"
      ]
    },
    {
      "cell_type": "markdown",
      "metadata": {
        "id": "uXQiL9FJhwRD"
      },
      "source": [
        "# Autoencoder"
      ]
    },
    {
      "cell_type": "code",
      "execution_count": null,
      "metadata": {
        "id": "hMHRXxEUrxUh"
      },
      "outputs": [],
      "source": [
        "## input layer \n",
        "input_layer = Input(shape=(x.shape[1],))\n",
        "\n",
        "## encoding part\n",
        "encoded = Dense(100, activation='relu', activity_regularizer=regularizers.l1(10e-5))(input_layer)\n",
        "encoded = Dense(50, activation='relu')(encoded)\n",
        "\n",
        "## code part\n",
        "##code = Dense(20, activation='relu')(encoded)\n",
        "\n",
        "## decoding part\n",
        "decoded = Dense(50, activation='tanh')(encoded)\n",
        "decoded = Dense(100, activation='tanh')(decoded)\n",
        "\n",
        "## output layer\n",
        "output_layer = Dense(x.shape[1], activation='relu')(decoded)\n"
      ]
    },
    {
      "cell_type": "code",
      "execution_count": null,
      "metadata": {
        "id": "7SmWm_hbrxRk"
      },
      "outputs": [],
      "source": [
        "autoencoder = Model(input_layer, output_layer)\n",
        "autoencoder.compile(optimizer=\"adam\", loss=\"mse\")"
      ]
    },
    {
      "cell_type": "code",
      "execution_count": null,
      "metadata": {
        "id": "AqNK4J6wG5jA",
        "colab": {
          "base_uri": "https://localhost:8080/"
        },
        "outputId": "73ff12e1-fb6e-4384-ab4f-5ed38bd77608"
      },
      "outputs": [
        {
          "output_type": "stream",
          "name": "stdout",
          "text": [
            "614465\n"
          ]
        }
      ],
      "source": [
        "print(x_norm.shape[0])"
      ]
    },
    {
      "cell_type": "code",
      "execution_count": null,
      "metadata": {
        "id": "8p-miBIerxNR",
        "colab": {
          "base_uri": "https://localhost:8080/"
        },
        "outputId": "fbb25812-4a54-4836-96ad-4a3d995b3413"
      },
      "outputs": [
        {
          "output_type": "stream",
          "name": "stdout",
          "text": [
            "Epoch 1/50\n",
            "13/13 [==============================] - 3s 17ms/step - loss: 0.0031 - val_loss: 0.0030\n",
            "Epoch 2/50\n",
            "13/13 [==============================] - 0s 5ms/step - loss: 0.0028 - val_loss: 0.0027\n",
            "Epoch 3/50\n",
            "13/13 [==============================] - 0s 5ms/step - loss: 0.0024 - val_loss: 0.0024\n",
            "Epoch 4/50\n",
            "13/13 [==============================] - 0s 5ms/step - loss: 0.0021 - val_loss: 0.0023\n",
            "Epoch 5/50\n",
            "13/13 [==============================] - 0s 5ms/step - loss: 0.0020 - val_loss: 0.0022\n",
            "Epoch 6/50\n",
            "13/13 [==============================] - 0s 4ms/step - loss: 0.0019 - val_loss: 0.0022\n",
            "Epoch 7/50\n",
            "13/13 [==============================] - 0s 5ms/step - loss: 0.0018 - val_loss: 0.0021\n",
            "Epoch 8/50\n",
            "13/13 [==============================] - 0s 4ms/step - loss: 0.0018 - val_loss: 0.0020\n",
            "Epoch 9/50\n",
            "13/13 [==============================] - 0s 4ms/step - loss: 0.0017 - val_loss: 0.0020\n",
            "Epoch 10/50\n",
            "13/13 [==============================] - 0s 5ms/step - loss: 0.0017 - val_loss: 0.0019\n",
            "Epoch 11/50\n",
            "13/13 [==============================] - 0s 4ms/step - loss: 0.0016 - val_loss: 0.0019\n",
            "Epoch 12/50\n",
            "13/13 [==============================] - 0s 5ms/step - loss: 0.0015 - val_loss: 0.0018\n",
            "Epoch 13/50\n",
            "13/13 [==============================] - 0s 4ms/step - loss: 0.0015 - val_loss: 0.0017\n",
            "Epoch 14/50\n",
            "13/13 [==============================] - 0s 5ms/step - loss: 0.0014 - val_loss: 0.0017\n",
            "Epoch 15/50\n",
            "13/13 [==============================] - 0s 5ms/step - loss: 0.0014 - val_loss: 0.0017\n",
            "Epoch 16/50\n",
            "13/13 [==============================] - 0s 4ms/step - loss: 0.0013 - val_loss: 0.0016\n",
            "Epoch 17/50\n",
            "13/13 [==============================] - 0s 4ms/step - loss: 0.0013 - val_loss: 0.0016\n",
            "Epoch 18/50\n",
            "13/13 [==============================] - 0s 5ms/step - loss: 0.0013 - val_loss: 0.0016\n",
            "Epoch 19/50\n",
            "13/13 [==============================] - 0s 4ms/step - loss: 0.0012 - val_loss: 0.0016\n",
            "Epoch 20/50\n",
            "13/13 [==============================] - 0s 5ms/step - loss: 0.0012 - val_loss: 0.0016\n",
            "Epoch 21/50\n",
            "13/13 [==============================] - 0s 5ms/step - loss: 0.0012 - val_loss: 0.0016\n",
            "Epoch 22/50\n",
            "13/13 [==============================] - 0s 5ms/step - loss: 0.0011 - val_loss: 0.0016\n",
            "Epoch 23/50\n",
            "13/13 [==============================] - 0s 5ms/step - loss: 0.0011 - val_loss: 0.0016\n",
            "Epoch 24/50\n",
            "13/13 [==============================] - 0s 5ms/step - loss: 0.0011 - val_loss: 0.0015\n",
            "Epoch 25/50\n",
            "13/13 [==============================] - 0s 5ms/step - loss: 0.0010 - val_loss: 0.0015\n",
            "Epoch 26/50\n",
            "13/13 [==============================] - 0s 5ms/step - loss: 0.0010 - val_loss: 0.0015\n",
            "Epoch 27/50\n",
            "13/13 [==============================] - 0s 5ms/step - loss: 0.0010 - val_loss: 0.0015\n",
            "Epoch 28/50\n",
            "13/13 [==============================] - 0s 5ms/step - loss: 9.9236e-04 - val_loss: 0.0015\n",
            "Epoch 29/50\n",
            "13/13 [==============================] - 0s 5ms/step - loss: 9.8268e-04 - val_loss: 0.0015\n",
            "Epoch 30/50\n",
            "13/13 [==============================] - 0s 5ms/step - loss: 9.7408e-04 - val_loss: 0.0015\n",
            "Epoch 31/50\n",
            "13/13 [==============================] - 0s 5ms/step - loss: 9.6753e-04 - val_loss: 0.0015\n",
            "Epoch 32/50\n",
            "13/13 [==============================] - 0s 5ms/step - loss: 9.6083e-04 - val_loss: 0.0015\n",
            "Epoch 33/50\n",
            "13/13 [==============================] - 0s 4ms/step - loss: 9.5547e-04 - val_loss: 0.0015\n",
            "Epoch 34/50\n",
            "13/13 [==============================] - 0s 5ms/step - loss: 9.5073e-04 - val_loss: 0.0016\n",
            "Epoch 35/50\n",
            "13/13 [==============================] - 0s 5ms/step - loss: 9.4647e-04 - val_loss: 0.0016\n",
            "Epoch 36/50\n",
            "13/13 [==============================] - 0s 5ms/step - loss: 9.4254e-04 - val_loss: 0.0016\n",
            "Epoch 37/50\n",
            "13/13 [==============================] - 0s 5ms/step - loss: 9.3907e-04 - val_loss: 0.0016\n",
            "Epoch 38/50\n",
            "13/13 [==============================] - 0s 4ms/step - loss: 9.3627e-04 - val_loss: 0.0016\n",
            "Epoch 39/50\n",
            "13/13 [==============================] - 0s 5ms/step - loss: 9.3317e-04 - val_loss: 0.0016\n",
            "Epoch 40/50\n",
            "13/13 [==============================] - 0s 5ms/step - loss: 9.3034e-04 - val_loss: 0.0016\n",
            "Epoch 41/50\n",
            "13/13 [==============================] - 0s 5ms/step - loss: 9.2833e-04 - val_loss: 0.0016\n",
            "Epoch 42/50\n",
            "13/13 [==============================] - 0s 5ms/step - loss: 9.2583e-04 - val_loss: 0.0016\n",
            "Epoch 43/50\n",
            "13/13 [==============================] - 0s 5ms/step - loss: 9.2377e-04 - val_loss: 0.0016\n"
          ]
        }
      ],
      "source": [
        "from keras.callbacks import ModelCheckpoint, EarlyStopping\n",
        "\n",
        "es = EarlyStopping(monitor='val_loss', min_delta=0.0001, patience=20, restore_best_weights=True)\n",
        "history=autoencoder.fit(x_norm[0:2000], x_norm[0:2000], \n",
        "                batch_size = 128, epochs = 50, callbacks=[es],\n",
        "                shuffle = True, validation_split =0.20);"
      ]
    },
    {
      "cell_type": "code",
      "execution_count": null,
      "metadata": {
        "id": "vMgtivFUrxLM",
        "colab": {
          "base_uri": "https://localhost:8080/",
          "height": 295
        },
        "outputId": "278a9dec-2326-4eeb-bb1a-3f17c36b5621"
      },
      "outputs": [
        {
          "output_type": "display_data",
          "data": {
            "text/plain": [
              "<Figure size 432x288 with 1 Axes>"
            ],
            "image/png": "[encoded data removed]"
          },
          "metadata": {
            "needs_background": "light"
          }
        }
      ],
      "source": [
        "plt.plot(history.history['loss'])\n",
        "plt.plot(history.history['val_loss'])\n",
        "plt.title('model loss')\n",
        "plt.ylabel('loss')\n",
        "plt.xlabel('epoch')\n",
        "plt.legend(['train', 'validation'], loc='upper left')\n",
        "plt.show()"
      ]
    },
    {
      "cell_type": "code",
      "execution_count": null,
      "metadata": {
        "id": "0Igq6H8irxHh"
      },
      "outputs": [],
      "source": [
        "hid_rep = Sequential()\n",
        "hid_rep .add(autoencoder.layers[0])\n",
        "hid_rep .add(autoencoder.layers[1])\n",
        "hid_rep .add(autoencoder.layers[2])"
      ]
    },
    {
      "cell_type": "code",
      "execution_count": null,
      "metadata": {
        "id": "51t0eTx95Jjp",
        "colab": {
          "base_uri": "https://localhost:8080/"
        },
        "outputId": "363b3671-6e5a-465f-bb6d-9b18c17f623e"
      },
      "outputs": [
        {
          "output_type": "execute_result",
          "data": {
            "text/plain": [
              "(614465, 1361)"
            ]
          },
          "metadata": {},
          "execution_count": 41
        }
      ],
      "source": [
        "x_norm.shape"
      ]
    },
    {
      "cell_type": "code",
      "execution_count": null,
      "metadata": {
        "id": "bBtHJXR10TkW",
        "colab": {
          "base_uri": "https://localhost:8080/",
          "height": 317
        },
        "outputId": "7b25f671-b34b-489f-ab28-3e0424acffc0"
      },
      "outputs": [
        {
          "output_type": "execute_result",
          "data": {
            "text/plain": [
              "   bene_count  total_claim_count  total_30_day_fill_count  total_day_supply  \\\n",
              "0        52.0                 85                    176.2              5278   \n",
              "1        15.0                 80                     90.0              2674   \n",
              "2        12.0                 45                     77.0              2310   \n",
              "3        19.0                 83                     83.0               755   \n",
              "4        30.0                 30                     30.0               152   \n",
              "\n",
              "   total_drug_cost  AA  AE  AK  AL  AR  ...  ZONISAMIDE  ZONTIVITY  ZOSTAVAX  \\\n",
              "0          1478.47   0   0   0   0   0  ...           0          0         0   \n",
              "1          1014.07   0   0   0   0   0  ...           0          0         0   \n",
              "2         31658.27   0   0   0   0   0  ...           0          0         0   \n",
              "3          1088.19   0   0   0   0   0  ...           0          0         0   \n",
              "4          3310.14   0   0   0   0   1  ...           0          0         0   \n",
              "\n",
              "   ZUBSOLV  ZYLET  ZYPREXA RELPREVV  ZYTIGA  S  T  is_fraud  \n",
              "0        0      0                 0       0  1  0       1.0  \n",
              "1        0      0                 0       0  1  0       0.0  \n",
              "2        0      0                 0       0  1  0       1.0  \n",
              "3        0      0                 0       0  1  0       1.0  \n",
              "4        0      0                 0       0  1  0       0.0  \n",
              "\n",
              "[5 rows x 1362 columns]"
            ],
            "text/html": [
              "\n",
              "  <div id=\"df-75d356b6-3e68-4c39-92d4-b8eb63c56c03\">\n",
              "    <div class=\"colab-df-container\">\n",
              "      <div>\n",
              "<style scoped>\n",
              "    .dataframe tbody tr th:only-of-type {\n",
              "        vertical-align: middle;\n",
              "    }\n",
              "\n",
              "    .dataframe tbody tr th {\n",
              "        vertical-align: top;\n",
              "    }\n",
              "\n",
              "    .dataframe thead th {\n",
              "        text-align: right;\n",
              "    }\n",
              "</style>\n",
              "<table border=\"1\" class=\"dataframe\">\n",
              "  <thead>\n",
              "    <tr style=\"text-align: right;\">\n",
              "      <th></th>\n",
              "      <th>bene_count</th>\n",
              "      <th>total_claim_count</th>\n",
              "      <th>total_30_day_fill_count</th>\n",
              "      <th>total_day_supply</th>\n",
              "      <th>total_drug_cost</th>\n",
              "      <th>AA</th>\n",
              "      <th>AE</th>\n",
              "      <th>AK</th>\n",
              "      <th>AL</th>\n",
              "      <th>AR</th>\n",
              "      <th>...</th>\n",
              "      <th>ZONISAMIDE</th>\n",
              "      <th>ZONTIVITY</th>\n",
              "      <th>ZOSTAVAX</th>\n",
              "      <th>ZUBSOLV</th>\n",
              "      <th>ZYLET</th>\n",
              "      <th>ZYPREXA RELPREVV</th>\n",
              "      <th>ZYTIGA</th>\n",
              "      <th>S</th>\n",
              "      <th>T</th>\n",
              "      <th>is_fraud</th>\n",
              "    </tr>\n",
              "  </thead>\n",
              "  <tbody>\n",
              "    <tr>\n",
              "      <th>0</th>\n",
              "      <td>52.0</td>\n",
              "      <td>85</td>\n",
              "      <td>176.2</td>\n",
              "      <td>5278</td>\n",
              "      <td>1478.47</td>\n",
              "      <td>0</td>\n",
              "      <td>0</td>\n",
              "      <td>0</td>\n",
              "      <td>0</td>\n",
              "      <td>0</td>\n",
              "      <td>...</td>\n",
              "      <td>0</td>\n",
              "      <td>0</td>\n",
              "      <td>0</td>\n",
              "      <td>0</td>\n",
              "      <td>0</td>\n",
              "      <td>0</td>\n",
              "      <td>0</td>\n",
              "      <td>1</td>\n",
              "      <td>0</td>\n",
              "      <td>1.0</td>\n",
              "    </tr>\n",
              "    <tr>\n",
              "      <th>1</th>\n",
              "      <td>15.0</td>\n",
              "      <td>80</td>\n",
              "      <td>90.0</td>\n",
              "      <td>2674</td>\n",
              "      <td>1014.07</td>\n",
              "      <td>0</td>\n",
              "      <td>0</td>\n",
              "      <td>0</td>\n",
              "      <td>0</td>\n",
              "      <td>0</td>\n",
              "      <td>...</td>\n",
              "      <td>0</td>\n",
              "      <td>0</td>\n",
              "      <td>0</td>\n",
              "      <td>0</td>\n",
              "      <td>0</td>\n",
              "      <td>0</td>\n",
              "      <td>0</td>\n",
              "      <td>1</td>\n",
              "      <td>0</td>\n",
              "      <td>0.0</td>\n",
              "    </tr>\n",
              "    <tr>\n",
              "      <th>2</th>\n",
              "      <td>12.0</td>\n",
              "      <td>45</td>\n",
              "      <td>77.0</td>\n",
              "      <td>2310</td>\n",
              "      <td>31658.27</td>\n",
              "      <td>0</td>\n",
              "      <td>0</td>\n",
              "      <td>0</td>\n",
              "      <td>0</td>\n",
              "      <td>0</td>\n",
              "      <td>...</td>\n",
              "      <td>0</td>\n",
              "      <td>0</td>\n",
              "      <td>0</td>\n",
              "      <td>0</td>\n",
              "      <td>0</td>\n",
              "      <td>0</td>\n",
              "      <td>0</td>\n",
              "      <td>1</td>\n",
              "      <td>0</td>\n",
              "      <td>1.0</td>\n",
              "    </tr>\n",
              "    <tr>\n",
              "      <th>3</th>\n",
              "      <td>19.0</td>\n",
              "      <td>83</td>\n",
              "      <td>83.0</td>\n",
              "      <td>755</td>\n",
              "      <td>1088.19</td>\n",
              "      <td>0</td>\n",
              "      <td>0</td>\n",
              "      <td>0</td>\n",
              "      <td>0</td>\n",
              "      <td>0</td>\n",
              "      <td>...</td>\n",
              "      <td>0</td>\n",
              "      <td>0</td>\n",
              "      <td>0</td>\n",
              "      <td>0</td>\n",
              "      <td>0</td>\n",
              "      <td>0</td>\n",
              "      <td>0</td>\n",
              "      <td>1</td>\n",
              "      <td>0</td>\n",
              "      <td>1.0</td>\n",
              "    </tr>\n",
              "    <tr>\n",
              "      <th>4</th>\n",
              "      <td>30.0</td>\n",
              "      <td>30</td>\n",
              "      <td>30.0</td>\n",
              "      <td>152</td>\n",
              "      <td>3310.14</td>\n",
              "      <td>0</td>\n",
              "      <td>0</td>\n",
              "      <td>0</td>\n",
              "      <td>0</td>\n",
              "      <td>1</td>\n",
              "      <td>...</td>\n",
              "      <td>0</td>\n",
              "      <td>0</td>\n",
              "      <td>0</td>\n",
              "      <td>0</td>\n",
              "      <td>0</td>\n",
              "      <td>0</td>\n",
              "      <td>0</td>\n",
              "      <td>1</td>\n",
              "      <td>0</td>\n",
              "      <td>0.0</td>\n",
              "    </tr>\n",
              "  </tbody>\n",
              "</table>\n",
              "<p>5 rows × 1362 columns</p>\n",
              "</div>\n",
              "      <button class=\"colab-df-convert\" onclick=\"convertToInteractive('df-75d356b6-3e68-4c39-92d4-b8eb63c56c03')\"\n",
              "              title=\"Convert this dataframe to an interactive table.\"\n",
              "              style=\"display:none;\">\n",
              "        \n",
              "  <svg xmlns=\"http://www.w3.org/2000/svg\" height=\"24px\"viewBox=\"0 0 24 24\"\n",
              "       width=\"24px\">\n",
              "    <path d=\"M0 0h24v24H0V0z\" fill=\"none\"/>\n",
              "    <path d=\"M18.56 5.44l.94 2.06.94-2.06 2.06-.94-2.06-.94-.94-2.06-.94 2.06-2.06.94zm-11 1L8.5 8.5l.94-2.06 2.06-.94-2.06-.94L8.5 2.5l-.94 2.06-2.06.94zm10 10l.94 2.06.94-2.06 2.06-.94-2.06-.94-.94-2.06-.94 2.06-2.06.94z\"/><path d=\"M17.41 7.96l-1.37-1.37c-.4-.4-.92-.59-1.43-.59-.52 0-1.04.2-1.43.59L10.3 9.45l-7.72 7.72c-.78.78-.78 2.05 0 2.83L4 21.41c.39.39.9.59 1.41.59.51 0 1.02-.2 1.41-.59l7.78-7.78 2.81-2.81c.8-.78.8-2.07 0-2.86zM5.41 20L4 18.59l7.72-7.72 1.47 1.35L5.41 20z\"/>\n",
              "  </svg>\n",
              "      </button>\n",
              "      \n",
              "  <style>\n",
              "    .colab-df-container {\n",
              "      display:flex;\n",
              "      flex-wrap:wrap;\n",
              "      gap: 12px;\n",
              "    }\n",
              "\n",
              "    .colab-df-convert {\n",
              "      background-color: #E8F0FE;\n",
              "      border: none;\n",
              "      border-radius: 50%;\n",
              "      cursor: pointer;\n",
              "      display: none;\n",
              "      fill: #1967D2;\n",
              "      height: 32px;\n",
              "      padding: 0 0 0 0;\n",
              "      width: 32px;\n",
              "    }\n",
              "\n",
              "    .colab-df-convert:hover {\n",
              "      background-color: #E2EBFA;\n",
              "      box-shadow: 0px 1px 2px rgba(60, 64, 67, 0.3), 0px 1px 3px 1px rgba(60, 64, 67, 0.15);\n",
              "      fill: #174EA6;\n",
              "    }\n",
              "\n",
              "    [theme=dark] .colab-df-convert {\n",
              "      background-color: #3B4455;\n",
              "      fill: #D2E3FC;\n",
              "    }\n",
              "\n",
              "    [theme=dark] .colab-df-convert:hover {\n",
              "      background-color: #434B5C;\n",
              "      box-shadow: 0px 1px 3px 1px rgba(0, 0, 0, 0.15);\n",
              "      filter: drop-shadow(0px 1px 2px rgba(0, 0, 0, 0.3));\n",
              "      fill: #FFFFFF;\n",
              "    }\n",
              "  </style>\n",
              "\n",
              "      <script>\n",
              "        const buttonEl =\n",
              "          document.querySelector('#df-75d356b6-3e68-4c39-92d4-b8eb63c56c03 button.colab-df-convert');\n",
              "        buttonEl.style.display =\n",
              "          google.colab.kernel.accessAllowed ? 'block' : 'none';\n",
              "\n",
              "        async function convertToInteractive(key) {\n",
              "          const element = document.querySelector('#df-75d356b6-3e68-4c39-92d4-b8eb63c56c03');\n",
              "          const dataTable =\n",
              "            await google.colab.kernel.invokeFunction('convertToInteractive',\n",
              "                                                     [key], {});\n",
              "          if (!dataTable) return;\n",
              "\n",
              "          const docLinkHtml = 'Like what you see? Visit the ' +\n",
              "            '<a target=\"_blank\" href=https://colab.research.google.com/notebooks/data_table.ipynb>data table notebook</a>'\n",
              "            + ' to learn more about interactive tables.';\n",
              "          element.innerHTML = '';\n",
              "          dataTable['output_type'] = 'display_data';\n",
              "          await google.colab.output.renderOutput(dataTable, element);\n",
              "          const docLink = document.createElement('div');\n",
              "          docLink.innerHTML = docLinkHtml;\n",
              "          element.appendChild(docLink);\n",
              "        }\n",
              "      </script>\n",
              "    </div>\n",
              "  </div>\n",
              "  "
            ]
          },
          "metadata": {},
          "execution_count": 42
        }
      ],
      "source": [
        "non_fraud = FeaturesAll_pd[FeaturesAll_pd['is_fraud'] == 0].sample(1000)\n",
        "fraud = FeaturesAll_pd[FeaturesAll_pd['is_fraud'] == 1]\n",
        "\n",
        "df = non_fraud.append(fraud).sample(frac=1).reset_index(drop=True)\n",
        "df.head()"
      ]
    },
    {
      "cell_type": "code",
      "execution_count": null,
      "metadata": {
        "id": "v2lU8fwU0Til"
      },
      "outputs": [],
      "source": [
        "X = df.drop(['is_fraud'], axis = 1).values\n",
        "Y = df[\"is_fraud\"].values"
      ]
    },
    {
      "cell_type": "markdown",
      "metadata": {
        "id": "Hl7ZLwlij3GX"
      },
      "source": [
        "#TSNE Representation"
      ]
    },
    {
      "cell_type": "code",
      "execution_count": null,
      "metadata": {
        "id": "juycjoah0Tfw"
      },
      "outputs": [],
      "source": [
        "def tsne_plot(x1, y1, name=\"graph.png\"):\n",
        "    tsne = TSNE(n_components=2, random_state=24)\n",
        "    X_t = tsne.fit_transform(x1)\n",
        "\n",
        "    plt.figure(figsize=(12, 8))\n",
        "    plt.scatter(X_t[np.where(y1 == 0), 0], X_t[np.where(y1 == 0), 1], marker='o', color='g', linewidth='1', alpha=0.8, label='Non Fraud')\n",
        "    plt.scatter(X_t[np.where(y1 == 1), 0], X_t[np.where(y1 == 1), 1], marker='o', color='r', linewidth='1', alpha=0.8, label='Fraud')\n",
        "\n",
        "    plt.legend(loc='best');\n",
        "    plt.savefig(name);\n",
        "    plt.show();\n",
        "    \n"
      ]
    },
    {
      "cell_type": "markdown",
      "metadata": {
        "id": "FY1Se0aEj99c"
      },
      "source": [
        "#tsne on original data"
      ]
    },
    {
      "cell_type": "code",
      "execution_count": null,
      "metadata": {
        "id": "dTwAUHe7j10r",
        "colab": {
          "base_uri": "https://localhost:8080/",
          "height": 552
        },
        "outputId": "66a166ef-c132-42c1-eb89-bbb3765f1ee0"
      },
      "outputs": [
        {
          "output_type": "stream",
          "name": "stderr",
          "text": [
            "/usr/local/lib/python3.7/dist-packages/sklearn/manifold/_t_sne.py:783: FutureWarning: The default initialization in TSNE will change from 'random' to 'pca' in 1.2.\n",
            "  FutureWarning,\n",
            "/usr/local/lib/python3.7/dist-packages/sklearn/manifold/_t_sne.py:793: FutureWarning: The default learning rate in TSNE will change from 200.0 to 'auto' in 1.2.\n",
            "  FutureWarning,\n"
          ]
        },
        {
          "output_type": "display_data",
          "data": {
            "text/plain": [
              "<Figure size 864x576 with 1 Axes>"
            ],
            "image/png": "[encoded data removed]"
          },
          "metadata": {
            "needs_background": "light"
          }
        }
      ],
      "source": [
        "tsne_plot(X, Y, \"original.png\")"
      ]
    },
    {
      "cell_type": "markdown",
      "metadata": {
        "id": "BJt0PA7viKra"
      },
      "source": [
        "#Taken the hidden represenation from encoder"
      ]
    },
    {
      "cell_type": "code",
      "execution_count": null,
      "metadata": {
        "id": "grCif3yL0Tdm"
      },
      "outputs": [],
      "source": [
        "norm_hid_rep = hid_rep .predict(x_norm[:2000])\n",
        "fraud_hid_rep = hid_rep .predict(x_fraud)\n",
        "rep_x = np.append(norm_hid_rep, fraud_hid_rep, axis = 0)\n",
        "y_n = np.zeros(norm_hid_rep.shape[0])\n",
        "y_f = np.ones(fraud_hid_rep.shape[0])\n",
        "rep_y = np.append(y_n, y_f)"
      ]
    },
    {
      "cell_type": "markdown",
      "metadata": {
        "id": "vjQAJvfEkDU5"
      },
      "source": [
        "#tsne on encoded data"
      ]
    },
    {
      "cell_type": "code",
      "execution_count": null,
      "metadata": {
        "id": "FqVzyODPkFSk",
        "colab": {
          "base_uri": "https://localhost:8080/",
          "height": 552
        },
        "outputId": "1a464069-b937-4220-93a8-d03e822d5ae6"
      },
      "outputs": [
        {
          "output_type": "stream",
          "name": "stderr",
          "text": [
            "/usr/local/lib/python3.7/dist-packages/sklearn/manifold/_t_sne.py:783: FutureWarning: The default initialization in TSNE will change from 'random' to 'pca' in 1.2.\n",
            "  FutureWarning,\n",
            "/usr/local/lib/python3.7/dist-packages/sklearn/manifold/_t_sne.py:793: FutureWarning: The default learning rate in TSNE will change from 200.0 to 'auto' in 1.2.\n",
            "  FutureWarning,\n"
          ]
        },
        {
          "output_type": "display_data",
          "data": {
            "text/plain": [
              "<Figure size 864x576 with 1 Axes>"
            ],
            "image/png": "[encoded data removed]"
          },
          "metadata": {
            "needs_background": "light"
          }
        }
      ],
      "source": [
        "tsne_plot(rep_x, rep_y, \"latent_representation.png\")"
      ]
    },
    {
      "cell_type": "markdown",
      "metadata": {
        "id": "TGDzdz8jiSve"
      },
      "source": [
        "# Train Test Split"
      ]
    },
    {
      "cell_type": "code",
      "execution_count": null,
      "metadata": {
        "id": "CEvJkc2tZSNq"
      },
      "outputs": [],
      "source": [
        "train_x, val_x, train_y, val_y = train_test_split(rep_x, rep_y, test_size=0.25, random_state=123, stratify=rep_y)"
      ]
    },
    {
      "cell_type": "markdown",
      "metadata": {
        "id": "APMOzX1_iWoI"
      },
      "source": [
        "#SMOTE implementation"
      ]
    },
    {
      "cell_type": "code",
      "execution_count": null,
      "metadata": {
        "id": "67PBh-06iV75"
      },
      "outputs": [],
      "source": [
        "from imblearn.over_sampling import SMOTE\n",
        "sm = SMOTE(random_state=123)\n",
        "train_x, train_y = sm.fit_resample(rep_x, rep_y)"
      ]
    },
    {
      "cell_type": "markdown",
      "metadata": {
        "id": "aisZsPa5icBB"
      },
      "source": [
        "#CatBoost Classifier"
      ]
    },
    {
      "cell_type": "code",
      "execution_count": null,
      "metadata": {
        "id": "u68x9WnQ0TaY",
        "colab": {
          "base_uri": "https://localhost:8080/",
          "height": 1000,
          "referenced_widgets": [
            "9aff6fd80b06484cb3e912fba95005d4"
          ]
        },
        "outputId": "236fc978-c589-4fd6-ff1b-ea7eea39bfe6"
      },
      "outputs": [
        {
          "output_type": "display_data",
          "data": {
            "text/plain": [
              "MetricVisualizer(layout=Layout(align_self='stretch', height='500px'))"
            ],
            "application/vnd.jupyter.widget-view+json": {
              "version_major": 2,
              "version_minor": 0,
              "model_id": "9aff6fd80b06484cb3e912fba95005d4"
            }
          },
          "metadata": {}
        },
        {
          "output_type": "stream",
          "name": "stdout",
          "text": [
            "Learning rate set to 0.018621\n",
            "0:\tlearn: 0.6762476\ttotal: 54.3ms\tremaining: 54.2s\n",
            "1:\tlearn: 0.6584767\ttotal: 60.8ms\tremaining: 30.4s\n",
            "2:\tlearn: 0.6436121\ttotal: 67.1ms\tremaining: 22.3s\n",
            "3:\tlearn: 0.6291986\ttotal: 73.2ms\tremaining: 18.2s\n",
            "4:\tlearn: 0.6146957\ttotal: 79.6ms\tremaining: 15.8s\n",
            "5:\tlearn: 0.6003774\ttotal: 85.9ms\tremaining: 14.2s\n",
            "6:\tlearn: 0.5871027\ttotal: 92ms\tremaining: 13s\n",
            "7:\tlearn: 0.5747724\ttotal: 98.2ms\tremaining: 12.2s\n",
            "8:\tlearn: 0.5631573\ttotal: 105ms\tremaining: 11.5s\n",
            "9:\tlearn: 0.5534844\ttotal: 112ms\tremaining: 11.1s\n",
            "10:\tlearn: 0.5419185\ttotal: 118ms\tremaining: 10.6s\n",
            "11:\tlearn: 0.5323887\ttotal: 125ms\tremaining: 10.3s\n",
            "12:\tlearn: 0.5229694\ttotal: 131ms\tremaining: 9.94s\n",
            "13:\tlearn: 0.5106613\ttotal: 138ms\tremaining: 9.7s\n",
            "14:\tlearn: 0.5010856\ttotal: 144ms\tremaining: 9.47s\n",
            "15:\tlearn: 0.4930289\ttotal: 151ms\tremaining: 9.27s\n",
            "16:\tlearn: 0.4812376\ttotal: 157ms\tremaining: 9.07s\n",
            "17:\tlearn: 0.4736460\ttotal: 163ms\tremaining: 8.91s\n",
            "18:\tlearn: 0.4621499\ttotal: 170ms\tremaining: 8.78s\n",
            "19:\tlearn: 0.4539644\ttotal: 176ms\tremaining: 8.63s\n",
            "20:\tlearn: 0.4460424\ttotal: 183ms\tremaining: 8.53s\n",
            "21:\tlearn: 0.4401255\ttotal: 189ms\tremaining: 8.42s\n",
            "22:\tlearn: 0.4330676\ttotal: 196ms\tremaining: 8.31s\n",
            "23:\tlearn: 0.4260693\ttotal: 205ms\tremaining: 8.32s\n",
            "24:\tlearn: 0.4189197\ttotal: 211ms\tremaining: 8.23s\n",
            "25:\tlearn: 0.4124534\ttotal: 218ms\tremaining: 8.16s\n",
            "26:\tlearn: 0.4055981\ttotal: 224ms\tremaining: 8.07s\n",
            "27:\tlearn: 0.4006027\ttotal: 230ms\tremaining: 8s\n",
            "28:\tlearn: 0.3957629\ttotal: 237ms\tremaining: 7.93s\n",
            "29:\tlearn: 0.3881807\ttotal: 243ms\tremaining: 7.86s\n",
            "30:\tlearn: 0.3826814\ttotal: 250ms\tremaining: 7.81s\n",
            "31:\tlearn: 0.3776918\ttotal: 256ms\tremaining: 7.76s\n",
            "32:\tlearn: 0.3723343\ttotal: 263ms\tremaining: 7.7s\n",
            "33:\tlearn: 0.3668470\ttotal: 270ms\tremaining: 7.66s\n",
            "34:\tlearn: 0.3612515\ttotal: 276ms\tremaining: 7.61s\n",
            "35:\tlearn: 0.3569214\ttotal: 282ms\tremaining: 7.56s\n",
            "36:\tlearn: 0.3516546\ttotal: 289ms\tremaining: 7.51s\n",
            "37:\tlearn: 0.3481907\ttotal: 295ms\tremaining: 7.47s\n",
            "38:\tlearn: 0.3440417\ttotal: 302ms\tremaining: 7.45s\n",
            "39:\tlearn: 0.3396844\ttotal: 308ms\tremaining: 7.4s\n",
            "40:\tlearn: 0.3340646\ttotal: 315ms\tremaining: 7.37s\n",
            "41:\tlearn: 0.3309991\ttotal: 322ms\tremaining: 7.34s\n",
            "42:\tlearn: 0.3270372\ttotal: 328ms\tremaining: 7.3s\n",
            "43:\tlearn: 0.3246090\ttotal: 335ms\tremaining: 7.27s\n",
            "44:\tlearn: 0.3198545\ttotal: 341ms\tremaining: 7.23s\n",
            "45:\tlearn: 0.3165318\ttotal: 347ms\tremaining: 7.2s\n",
            "46:\tlearn: 0.3128533\ttotal: 354ms\tremaining: 7.17s\n",
            "47:\tlearn: 0.3099447\ttotal: 360ms\tremaining: 7.15s\n",
            "48:\tlearn: 0.3072621\ttotal: 367ms\tremaining: 7.12s\n",
            "49:\tlearn: 0.3048767\ttotal: 373ms\tremaining: 7.09s\n",
            "50:\tlearn: 0.3017114\ttotal: 380ms\tremaining: 7.06s\n",
            "51:\tlearn: 0.2982187\ttotal: 386ms\tremaining: 7.04s\n",
            "52:\tlearn: 0.2947971\ttotal: 392ms\tremaining: 7s\n",
            "53:\tlearn: 0.2924808\ttotal: 401ms\tremaining: 7.02s\n",
            "54:\tlearn: 0.2886660\ttotal: 408ms\tremaining: 7.01s\n",
            "55:\tlearn: 0.2861494\ttotal: 415ms\tremaining: 6.99s\n",
            "56:\tlearn: 0.2832170\ttotal: 421ms\tremaining: 6.96s\n",
            "57:\tlearn: 0.2801180\ttotal: 427ms\tremaining: 6.94s\n",
            "58:\tlearn: 0.2785275\ttotal: 434ms\tremaining: 6.92s\n",
            "59:\tlearn: 0.2751007\ttotal: 440ms\tremaining: 6.89s\n",
            "60:\tlearn: 0.2721013\ttotal: 447ms\tremaining: 6.88s\n",
            "61:\tlearn: 0.2705744\ttotal: 453ms\tremaining: 6.85s\n",
            "62:\tlearn: 0.2683984\ttotal: 459ms\tremaining: 6.83s\n",
            "63:\tlearn: 0.2664413\ttotal: 466ms\tremaining: 6.81s\n",
            "64:\tlearn: 0.2642299\ttotal: 472ms\tremaining: 6.79s\n",
            "65:\tlearn: 0.2626374\ttotal: 478ms\tremaining: 6.77s\n",
            "66:\tlearn: 0.2605171\ttotal: 485ms\tremaining: 6.75s\n",
            "67:\tlearn: 0.2580686\ttotal: 491ms\tremaining: 6.73s\n",
            "68:\tlearn: 0.2557939\ttotal: 497ms\tremaining: 6.71s\n",
            "69:\tlearn: 0.2544124\ttotal: 504ms\tremaining: 6.69s\n",
            "70:\tlearn: 0.2523197\ttotal: 510ms\tremaining: 6.67s\n",
            "71:\tlearn: 0.2512633\ttotal: 516ms\tremaining: 6.65s\n",
            "72:\tlearn: 0.2498221\ttotal: 523ms\tremaining: 6.64s\n",
            "73:\tlearn: 0.2478404\ttotal: 529ms\tremaining: 6.62s\n",
            "74:\tlearn: 0.2454244\ttotal: 536ms\tremaining: 6.61s\n",
            "75:\tlearn: 0.2435108\ttotal: 543ms\tremaining: 6.6s\n",
            "76:\tlearn: 0.2422991\ttotal: 549ms\tremaining: 6.58s\n",
            "77:\tlearn: 0.2405780\ttotal: 555ms\tremaining: 6.56s\n",
            "78:\tlearn: 0.2392292\ttotal: 562ms\tremaining: 6.55s\n",
            "79:\tlearn: 0.2373435\ttotal: 569ms\tremaining: 6.54s\n",
            "80:\tlearn: 0.2359955\ttotal: 575ms\tremaining: 6.53s\n",
            "81:\tlearn: 0.2342377\ttotal: 582ms\tremaining: 6.51s\n",
            "82:\tlearn: 0.2329745\ttotal: 588ms\tremaining: 6.5s\n",
            "83:\tlearn: 0.2312322\ttotal: 595ms\tremaining: 6.48s\n",
            "84:\tlearn: 0.2296634\ttotal: 604ms\tremaining: 6.5s\n",
            "85:\tlearn: 0.2281395\ttotal: 611ms\tremaining: 6.5s\n",
            "86:\tlearn: 0.2271509\ttotal: 617ms\tremaining: 6.48s\n",
            "87:\tlearn: 0.2257474\ttotal: 624ms\tremaining: 6.46s\n",
            "88:\tlearn: 0.2242438\ttotal: 630ms\tremaining: 6.45s\n",
            "89:\tlearn: 0.2234438\ttotal: 636ms\tremaining: 6.43s\n",
            "90:\tlearn: 0.2221091\ttotal: 643ms\tremaining: 6.42s\n",
            "91:\tlearn: 0.2210119\ttotal: 649ms\tremaining: 6.41s\n",
            "92:\tlearn: 0.2199233\ttotal: 655ms\tremaining: 6.39s\n",
            "93:\tlearn: 0.2190572\ttotal: 662ms\tremaining: 6.38s\n",
            "94:\tlearn: 0.2177141\ttotal: 668ms\tremaining: 6.36s\n",
            "95:\tlearn: 0.2163768\ttotal: 674ms\tremaining: 6.35s\n",
            "96:\tlearn: 0.2150806\ttotal: 680ms\tremaining: 6.33s\n",
            "97:\tlearn: 0.2142145\ttotal: 686ms\tremaining: 6.32s\n",
            "98:\tlearn: 0.2131472\ttotal: 693ms\tremaining: 6.31s\n",
            "99:\tlearn: 0.2117106\ttotal: 699ms\tremaining: 6.29s\n",
            "100:\tlearn: 0.2105466\ttotal: 705ms\tremaining: 6.28s\n",
            "101:\tlearn: 0.2098673\ttotal: 712ms\tremaining: 6.26s\n",
            "102:\tlearn: 0.2090728\ttotal: 718ms\tremaining: 6.26s\n",
            "103:\tlearn: 0.2075705\ttotal: 725ms\tremaining: 6.24s\n",
            "104:\tlearn: 0.2063717\ttotal: 731ms\tremaining: 6.23s\n",
            "105:\tlearn: 0.2052995\ttotal: 737ms\tremaining: 6.22s\n",
            "106:\tlearn: 0.2044675\ttotal: 743ms\tremaining: 6.2s\n",
            "107:\tlearn: 0.2034135\ttotal: 750ms\tremaining: 6.19s\n",
            "108:\tlearn: 0.2023382\ttotal: 756ms\tremaining: 6.18s\n",
            "109:\tlearn: 0.2014664\ttotal: 763ms\tremaining: 6.17s\n",
            "110:\tlearn: 0.2008832\ttotal: 769ms\tremaining: 6.16s\n",
            "111:\tlearn: 0.2001438\ttotal: 776ms\tremaining: 6.16s\n",
            "112:\tlearn: 0.1994302\ttotal: 782ms\tremaining: 6.14s\n",
            "113:\tlearn: 0.1989821\ttotal: 789ms\tremaining: 6.13s\n",
            "114:\tlearn: 0.1979273\ttotal: 796ms\tremaining: 6.12s\n",
            "115:\tlearn: 0.1972574\ttotal: 803ms\tremaining: 6.12s\n",
            "116:\tlearn: 0.1963189\ttotal: 811ms\tremaining: 6.12s\n",
            "117:\tlearn: 0.1957073\ttotal: 817ms\tremaining: 6.11s\n",
            "118:\tlearn: 0.1947530\ttotal: 823ms\tremaining: 6.09s\n",
            "119:\tlearn: 0.1942910\ttotal: 829ms\tremaining: 6.08s\n",
            "120:\tlearn: 0.1931326\ttotal: 836ms\tremaining: 6.07s\n",
            "121:\tlearn: 0.1922569\ttotal: 842ms\tremaining: 6.06s\n",
            "122:\tlearn: 0.1917833\ttotal: 849ms\tremaining: 6.05s\n",
            "123:\tlearn: 0.1912464\ttotal: 855ms\tremaining: 6.04s\n",
            "124:\tlearn: 0.1906417\ttotal: 861ms\tremaining: 6.03s\n",
            "125:\tlearn: 0.1898900\ttotal: 867ms\tremaining: 6.02s\n",
            "126:\tlearn: 0.1894627\ttotal: 873ms\tremaining: 6s\n",
            "127:\tlearn: 0.1890192\ttotal: 880ms\tremaining: 5.99s\n",
            "128:\tlearn: 0.1882919\ttotal: 886ms\tremaining: 5.98s\n",
            "129:\tlearn: 0.1874376\ttotal: 892ms\tremaining: 5.97s\n",
            "130:\tlearn: 0.1866960\ttotal: 902ms\tremaining: 5.98s\n",
            "131:\tlearn: 0.1861904\ttotal: 911ms\tremaining: 5.99s\n",
            "132:\tlearn: 0.1856781\ttotal: 917ms\tremaining: 5.98s\n",
            "133:\tlearn: 0.1850562\ttotal: 924ms\tremaining: 5.97s\n",
            "134:\tlearn: 0.1843934\ttotal: 930ms\tremaining: 5.96s\n",
            "135:\tlearn: 0.1839049\ttotal: 936ms\tremaining: 5.95s\n",
            "136:\tlearn: 0.1833716\ttotal: 943ms\tremaining: 5.94s\n",
            "137:\tlearn: 0.1828936\ttotal: 950ms\tremaining: 5.93s\n",
            "138:\tlearn: 0.1825372\ttotal: 957ms\tremaining: 5.93s\n",
            "139:\tlearn: 0.1821490\ttotal: 963ms\tremaining: 5.92s\n",
            "140:\tlearn: 0.1813345\ttotal: 974ms\tremaining: 5.94s\n",
            "141:\tlearn: 0.1808493\ttotal: 984ms\tremaining: 5.94s\n",
            "142:\tlearn: 0.1803893\ttotal: 990ms\tremaining: 5.93s\n",
            "143:\tlearn: 0.1798835\ttotal: 997ms\tremaining: 5.93s\n",
            "144:\tlearn: 0.1794486\ttotal: 1s\tremaining: 5.92s\n",
            "145:\tlearn: 0.1788301\ttotal: 1.01s\tremaining: 5.91s\n",
            "146:\tlearn: 0.1780514\ttotal: 1.02s\tremaining: 5.91s\n",
            "147:\tlearn: 0.1776451\ttotal: 1.02s\tremaining: 5.9s\n",
            "148:\tlearn: 0.1769658\ttotal: 1.03s\tremaining: 5.89s\n",
            "149:\tlearn: 0.1765650\ttotal: 1.04s\tremaining: 5.89s\n",
            "150:\tlearn: 0.1761772\ttotal: 1.05s\tremaining: 5.88s\n",
            "151:\tlearn: 0.1755711\ttotal: 1.05s\tremaining: 5.87s\n",
            "152:\tlearn: 0.1751307\ttotal: 1.06s\tremaining: 5.86s\n",
            "153:\tlearn: 0.1745183\ttotal: 1.06s\tremaining: 5.86s\n",
            "154:\tlearn: 0.1740161\ttotal: 1.07s\tremaining: 5.85s\n",
            "155:\tlearn: 0.1733732\ttotal: 1.08s\tremaining: 5.84s\n",
            "156:\tlearn: 0.1728271\ttotal: 1.09s\tremaining: 5.83s\n",
            "157:\tlearn: 0.1724203\ttotal: 1.09s\tremaining: 5.83s\n",
            "158:\tlearn: 0.1717934\ttotal: 1.1s\tremaining: 5.82s\n",
            "159:\tlearn: 0.1714182\ttotal: 1.11s\tremaining: 5.81s\n",
            "160:\tlearn: 0.1709339\ttotal: 1.11s\tremaining: 5.8s\n",
            "161:\tlearn: 0.1705885\ttotal: 1.12s\tremaining: 5.79s\n",
            "162:\tlearn: 0.1699831\ttotal: 1.13s\tremaining: 5.78s\n",
            "163:\tlearn: 0.1694687\ttotal: 1.13s\tremaining: 5.77s\n",
            "164:\tlearn: 0.1689595\ttotal: 1.14s\tremaining: 5.76s\n",
            "165:\tlearn: 0.1685347\ttotal: 1.14s\tremaining: 5.75s\n",
            "166:\tlearn: 0.1682157\ttotal: 1.15s\tremaining: 5.74s\n",
            "167:\tlearn: 0.1678737\ttotal: 1.16s\tremaining: 5.73s\n",
            "168:\tlearn: 0.1674229\ttotal: 1.16s\tremaining: 5.72s\n",
            "169:\tlearn: 0.1671240\ttotal: 1.17s\tremaining: 5.71s\n",
            "170:\tlearn: 0.1667402\ttotal: 1.18s\tremaining: 5.7s\n",
            "171:\tlearn: 0.1665106\ttotal: 1.18s\tremaining: 5.69s\n",
            "172:\tlearn: 0.1662010\ttotal: 1.19s\tremaining: 5.68s\n",
            "173:\tlearn: 0.1658548\ttotal: 1.2s\tremaining: 5.67s\n",
            "174:\tlearn: 0.1650913\ttotal: 1.2s\tremaining: 5.67s\n",
            "175:\tlearn: 0.1646748\ttotal: 1.21s\tremaining: 5.67s\n",
            "176:\tlearn: 0.1644344\ttotal: 1.22s\tremaining: 5.66s\n",
            "177:\tlearn: 0.1639521\ttotal: 1.22s\tremaining: 5.65s\n",
            "178:\tlearn: 0.1633864\ttotal: 1.23s\tremaining: 5.64s\n",
            "179:\tlearn: 0.1630505\ttotal: 1.24s\tremaining: 5.63s\n",
            "180:\tlearn: 0.1626111\ttotal: 1.24s\tremaining: 5.62s\n",
            "181:\tlearn: 0.1622326\ttotal: 1.25s\tremaining: 5.62s\n",
            "182:\tlearn: 0.1617762\ttotal: 1.25s\tremaining: 5.61s\n",
            "183:\tlearn: 0.1614570\ttotal: 1.26s\tremaining: 5.6s\n",
            "184:\tlearn: 0.1611203\ttotal: 1.27s\tremaining: 5.59s\n",
            "185:\tlearn: 0.1608517\ttotal: 1.27s\tremaining: 5.58s\n",
            "186:\tlearn: 0.1606084\ttotal: 1.28s\tremaining: 5.57s\n",
            "187:\tlearn: 0.1602239\ttotal: 1.29s\tremaining: 5.56s\n",
            "188:\tlearn: 0.1599269\ttotal: 1.29s\tremaining: 5.56s\n",
            "189:\tlearn: 0.1596040\ttotal: 1.3s\tremaining: 5.55s\n",
            "190:\tlearn: 0.1593324\ttotal: 1.31s\tremaining: 5.54s\n",
            "191:\tlearn: 0.1589907\ttotal: 1.31s\tremaining: 5.53s\n",
            "192:\tlearn: 0.1587171\ttotal: 1.32s\tremaining: 5.52s\n",
            "193:\tlearn: 0.1583832\ttotal: 1.33s\tremaining: 5.52s\n",
            "194:\tlearn: 0.1580037\ttotal: 1.33s\tremaining: 5.51s\n",
            "195:\tlearn: 0.1576484\ttotal: 1.34s\tremaining: 5.5s\n",
            "196:\tlearn: 0.1571535\ttotal: 1.35s\tremaining: 5.5s\n",
            "197:\tlearn: 0.1567780\ttotal: 1.36s\tremaining: 5.49s\n",
            "198:\tlearn: 0.1561829\ttotal: 1.36s\tremaining: 5.48s\n",
            "199:\tlearn: 0.1557863\ttotal: 1.37s\tremaining: 5.47s\n",
            "200:\tlearn: 0.1554304\ttotal: 1.38s\tremaining: 5.47s\n",
            "201:\tlearn: 0.1551218\ttotal: 1.38s\tremaining: 5.46s\n",
            "202:\tlearn: 0.1549270\ttotal: 1.39s\tremaining: 5.45s\n",
            "203:\tlearn: 0.1545591\ttotal: 1.39s\tremaining: 5.44s\n",
            "204:\tlearn: 0.1543162\ttotal: 1.4s\tremaining: 5.43s\n",
            "205:\tlearn: 0.1539014\ttotal: 1.41s\tremaining: 5.43s\n",
            "206:\tlearn: 0.1535789\ttotal: 1.42s\tremaining: 5.42s\n",
            "207:\tlearn: 0.1533091\ttotal: 1.42s\tremaining: 5.41s\n",
            "208:\tlearn: 0.1531193\ttotal: 1.43s\tremaining: 5.4s\n",
            "209:\tlearn: 0.1528003\ttotal: 1.44s\tremaining: 5.4s\n",
            "210:\tlearn: 0.1525316\ttotal: 1.44s\tremaining: 5.39s\n",
            "211:\tlearn: 0.1520672\ttotal: 1.45s\tremaining: 5.38s\n",
            "212:\tlearn: 0.1518588\ttotal: 1.45s\tremaining: 5.37s\n",
            "213:\tlearn: 0.1515811\ttotal: 1.46s\tremaining: 5.37s\n",
            "214:\tlearn: 0.1513337\ttotal: 1.47s\tremaining: 5.36s\n",
            "215:\tlearn: 0.1508809\ttotal: 1.47s\tremaining: 5.35s\n",
            "216:\tlearn: 0.1505752\ttotal: 1.48s\tremaining: 5.34s\n",
            "217:\tlearn: 0.1502800\ttotal: 1.49s\tremaining: 5.33s\n",
            "218:\tlearn: 0.1499814\ttotal: 1.49s\tremaining: 5.32s\n",
            "219:\tlearn: 0.1496526\ttotal: 1.5s\tremaining: 5.31s\n",
            "220:\tlearn: 0.1492724\ttotal: 1.5s\tremaining: 5.3s\n",
            "221:\tlearn: 0.1489658\ttotal: 1.51s\tremaining: 5.3s\n",
            "222:\tlearn: 0.1486083\ttotal: 1.52s\tremaining: 5.29s\n",
            "223:\tlearn: 0.1483687\ttotal: 1.52s\tremaining: 5.28s\n",
            "224:\tlearn: 0.1480794\ttotal: 1.53s\tremaining: 5.27s\n",
            "225:\tlearn: 0.1477885\ttotal: 1.54s\tremaining: 5.26s\n",
            "226:\tlearn: 0.1474214\ttotal: 1.54s\tremaining: 5.26s\n",
            "227:\tlearn: 0.1471371\ttotal: 1.55s\tremaining: 5.25s\n",
            "228:\tlearn: 0.1467509\ttotal: 1.56s\tremaining: 5.24s\n",
            "229:\tlearn: 0.1464512\ttotal: 1.56s\tremaining: 5.23s\n",
            "230:\tlearn: 0.1461315\ttotal: 1.57s\tremaining: 5.22s\n",
            "231:\tlearn: 0.1459110\ttotal: 1.57s\tremaining: 5.21s\n",
            "232:\tlearn: 0.1455725\ttotal: 1.58s\tremaining: 5.21s\n",
            "233:\tlearn: 0.1453495\ttotal: 1.59s\tremaining: 5.2s\n",
            "234:\tlearn: 0.1450773\ttotal: 1.59s\tremaining: 5.19s\n",
            "235:\tlearn: 0.1448252\ttotal: 1.6s\tremaining: 5.18s\n",
            "236:\tlearn: 0.1444569\ttotal: 1.61s\tremaining: 5.18s\n",
            "237:\tlearn: 0.1442494\ttotal: 1.61s\tremaining: 5.17s\n",
            "238:\tlearn: 0.1440548\ttotal: 1.62s\tremaining: 5.17s\n",
            "239:\tlearn: 0.1437668\ttotal: 1.63s\tremaining: 5.16s\n",
            "240:\tlearn: 0.1434706\ttotal: 1.64s\tremaining: 5.15s\n",
            "241:\tlearn: 0.1432585\ttotal: 1.64s\tremaining: 5.14s\n",
            "242:\tlearn: 0.1430944\ttotal: 1.65s\tremaining: 5.13s\n",
            "243:\tlearn: 0.1426909\ttotal: 1.65s\tremaining: 5.12s\n",
            "244:\tlearn: 0.1424152\ttotal: 1.66s\tremaining: 5.12s\n",
            "245:\tlearn: 0.1421742\ttotal: 1.67s\tremaining: 5.11s\n",
            "246:\tlearn: 0.1417650\ttotal: 1.67s\tremaining: 5.11s\n",
            "247:\tlearn: 0.1415746\ttotal: 1.68s\tremaining: 5.11s\n",
            "248:\tlearn: 0.1413268\ttotal: 1.69s\tremaining: 5.11s\n",
            "249:\tlearn: 0.1410349\ttotal: 1.7s\tremaining: 5.1s\n",
            "250:\tlearn: 0.1407944\ttotal: 1.71s\tremaining: 5.09s\n",
            "251:\tlearn: 0.1405471\ttotal: 1.71s\tremaining: 5.08s\n",
            "252:\tlearn: 0.1403379\ttotal: 1.72s\tremaining: 5.07s\n",
            "253:\tlearn: 0.1401516\ttotal: 1.72s\tremaining: 5.07s\n",
            "254:\tlearn: 0.1399300\ttotal: 1.73s\tremaining: 5.06s\n",
            "255:\tlearn: 0.1396347\ttotal: 1.74s\tremaining: 5.05s\n",
            "256:\tlearn: 0.1394336\ttotal: 1.75s\tremaining: 5.05s\n",
            "257:\tlearn: 0.1390636\ttotal: 1.75s\tremaining: 5.04s\n",
            "258:\tlearn: 0.1389218\ttotal: 1.76s\tremaining: 5.03s\n",
            "259:\tlearn: 0.1387918\ttotal: 1.76s\tremaining: 5.02s\n",
            "260:\tlearn: 0.1385889\ttotal: 1.77s\tremaining: 5.02s\n",
            "261:\tlearn: 0.1384267\ttotal: 1.78s\tremaining: 5.01s\n",
            "262:\tlearn: 0.1382586\ttotal: 1.78s\tremaining: 5s\n",
            "263:\tlearn: 0.1380273\ttotal: 1.79s\tremaining: 4.99s\n",
            "264:\tlearn: 0.1378110\ttotal: 1.8s\tremaining: 4.99s\n",
            "265:\tlearn: 0.1376039\ttotal: 1.8s\tremaining: 4.98s\n",
            "266:\tlearn: 0.1373549\ttotal: 1.81s\tremaining: 4.97s\n",
            "267:\tlearn: 0.1371902\ttotal: 1.82s\tremaining: 4.97s\n",
            "268:\tlearn: 0.1370419\ttotal: 1.82s\tremaining: 4.96s\n",
            "269:\tlearn: 0.1367688\ttotal: 1.83s\tremaining: 4.95s\n",
            "270:\tlearn: 0.1366132\ttotal: 1.84s\tremaining: 4.94s\n",
            "271:\tlearn: 0.1363672\ttotal: 1.84s\tremaining: 4.93s\n",
            "272:\tlearn: 0.1361628\ttotal: 1.85s\tremaining: 4.92s\n",
            "273:\tlearn: 0.1359888\ttotal: 1.85s\tremaining: 4.92s\n",
            "274:\tlearn: 0.1358003\ttotal: 1.86s\tremaining: 4.91s\n",
            "275:\tlearn: 0.1354566\ttotal: 1.87s\tremaining: 4.9s\n",
            "276:\tlearn: 0.1352202\ttotal: 1.88s\tremaining: 4.89s\n",
            "277:\tlearn: 0.1350508\ttotal: 1.88s\tremaining: 4.89s\n",
            "278:\tlearn: 0.1347971\ttotal: 1.89s\tremaining: 4.88s\n",
            "279:\tlearn: 0.1345015\ttotal: 1.9s\tremaining: 4.88s\n",
            "280:\tlearn: 0.1342826\ttotal: 1.91s\tremaining: 4.88s\n",
            "281:\tlearn: 0.1340502\ttotal: 1.92s\tremaining: 4.88s\n",
            "282:\tlearn: 0.1338303\ttotal: 1.92s\tremaining: 4.87s\n",
            "283:\tlearn: 0.1335847\ttotal: 1.93s\tremaining: 4.86s\n",
            "284:\tlearn: 0.1333419\ttotal: 1.94s\tremaining: 4.86s\n",
            "285:\tlearn: 0.1329763\ttotal: 1.94s\tremaining: 4.85s\n",
            "286:\tlearn: 0.1328622\ttotal: 1.95s\tremaining: 4.84s\n",
            "287:\tlearn: 0.1326392\ttotal: 1.96s\tremaining: 4.83s\n",
            "288:\tlearn: 0.1324751\ttotal: 1.97s\tremaining: 4.85s\n",
            "289:\tlearn: 0.1323295\ttotal: 1.98s\tremaining: 4.85s\n",
            "290:\tlearn: 0.1320622\ttotal: 1.99s\tremaining: 4.84s\n",
            "291:\tlearn: 0.1319264\ttotal: 1.99s\tremaining: 4.83s\n",
            "292:\tlearn: 0.1317279\ttotal: 2s\tremaining: 4.82s\n",
            "293:\tlearn: 0.1315283\ttotal: 2.01s\tremaining: 4.82s\n",
            "294:\tlearn: 0.1313577\ttotal: 2.01s\tremaining: 4.81s\n",
            "295:\tlearn: 0.1311457\ttotal: 2.02s\tremaining: 4.8s\n",
            "296:\tlearn: 0.1309554\ttotal: 2.03s\tremaining: 4.8s\n",
            "297:\tlearn: 0.1307217\ttotal: 2.03s\tremaining: 4.79s\n",
            "298:\tlearn: 0.1304984\ttotal: 2.04s\tremaining: 4.78s\n",
            "299:\tlearn: 0.1302362\ttotal: 2.04s\tremaining: 4.77s\n",
            "300:\tlearn: 0.1300391\ttotal: 2.05s\tremaining: 4.76s\n",
            "301:\tlearn: 0.1299502\ttotal: 2.06s\tremaining: 4.76s\n",
            "302:\tlearn: 0.1296535\ttotal: 2.06s\tremaining: 4.75s\n",
            "303:\tlearn: 0.1294185\ttotal: 2.07s\tremaining: 4.74s\n",
            "304:\tlearn: 0.1292944\ttotal: 2.08s\tremaining: 4.74s\n",
            "305:\tlearn: 0.1291381\ttotal: 2.08s\tremaining: 4.73s\n",
            "306:\tlearn: 0.1290035\ttotal: 2.09s\tremaining: 4.72s\n",
            "307:\tlearn: 0.1287769\ttotal: 2.1s\tremaining: 4.71s\n",
            "308:\tlearn: 0.1285146\ttotal: 2.1s\tremaining: 4.71s\n",
            "309:\tlearn: 0.1283048\ttotal: 2.11s\tremaining: 4.7s\n",
            "310:\tlearn: 0.1281769\ttotal: 2.12s\tremaining: 4.69s\n",
            "311:\tlearn: 0.1280393\ttotal: 2.12s\tremaining: 4.68s\n",
            "312:\tlearn: 0.1278897\ttotal: 2.13s\tremaining: 4.67s\n",
            "313:\tlearn: 0.1277364\ttotal: 2.14s\tremaining: 4.67s\n",
            "314:\tlearn: 0.1276066\ttotal: 2.14s\tremaining: 4.66s\n",
            "315:\tlearn: 0.1275051\ttotal: 2.15s\tremaining: 4.65s\n",
            "316:\tlearn: 0.1273971\ttotal: 2.16s\tremaining: 4.65s\n",
            "317:\tlearn: 0.1271063\ttotal: 2.17s\tremaining: 4.64s\n",
            "318:\tlearn: 0.1269761\ttotal: 2.17s\tremaining: 4.64s\n",
            "319:\tlearn: 0.1267592\ttotal: 2.18s\tremaining: 4.63s\n",
            "320:\tlearn: 0.1265995\ttotal: 2.19s\tremaining: 4.62s\n",
            "321:\tlearn: 0.1264522\ttotal: 2.19s\tremaining: 4.62s\n",
            "322:\tlearn: 0.1262847\ttotal: 2.2s\tremaining: 4.61s\n",
            "323:\tlearn: 0.1260770\ttotal: 2.21s\tremaining: 4.6s\n",
            "324:\tlearn: 0.1258803\ttotal: 2.21s\tremaining: 4.6s\n",
            "325:\tlearn: 0.1257332\ttotal: 2.22s\tremaining: 4.59s\n",
            "326:\tlearn: 0.1255310\ttotal: 2.23s\tremaining: 4.58s\n",
            "327:\tlearn: 0.1254109\ttotal: 2.23s\tremaining: 4.58s\n",
            "328:\tlearn: 0.1252291\ttotal: 2.24s\tremaining: 4.57s\n",
            "329:\tlearn: 0.1250512\ttotal: 2.25s\tremaining: 4.56s\n",
            "330:\tlearn: 0.1247906\ttotal: 2.25s\tremaining: 4.55s\n",
            "331:\tlearn: 0.1246271\ttotal: 2.26s\tremaining: 4.55s\n",
            "332:\tlearn: 0.1244556\ttotal: 2.27s\tremaining: 4.54s\n",
            "333:\tlearn: 0.1242810\ttotal: 2.27s\tremaining: 4.54s\n",
            "334:\tlearn: 0.1241041\ttotal: 2.28s\tremaining: 4.53s\n",
            "335:\tlearn: 0.1238322\ttotal: 2.29s\tremaining: 4.52s\n",
            "336:\tlearn: 0.1236817\ttotal: 2.29s\tremaining: 4.51s\n",
            "337:\tlearn: 0.1234607\ttotal: 2.3s\tremaining: 4.51s\n",
            "338:\tlearn: 0.1233565\ttotal: 2.31s\tremaining: 4.5s\n",
            "339:\tlearn: 0.1232324\ttotal: 2.31s\tremaining: 4.49s\n",
            "340:\tlearn: 0.1230666\ttotal: 2.32s\tremaining: 4.49s\n",
            "341:\tlearn: 0.1228490\ttotal: 2.33s\tremaining: 4.48s\n",
            "342:\tlearn: 0.1226807\ttotal: 2.33s\tremaining: 4.47s\n",
            "343:\tlearn: 0.1224819\ttotal: 2.34s\tremaining: 4.46s\n",
            "344:\tlearn: 0.1223043\ttotal: 2.35s\tremaining: 4.46s\n",
            "345:\tlearn: 0.1221419\ttotal: 2.35s\tremaining: 4.45s\n",
            "346:\tlearn: 0.1220017\ttotal: 2.36s\tremaining: 4.44s\n",
            "347:\tlearn: 0.1217523\ttotal: 2.37s\tremaining: 4.43s\n",
            "348:\tlearn: 0.1215074\ttotal: 2.37s\tremaining: 4.43s\n",
            "349:\tlearn: 0.1213691\ttotal: 2.38s\tremaining: 4.42s\n",
            "350:\tlearn: 0.1212115\ttotal: 2.38s\tremaining: 4.41s\n",
            "351:\tlearn: 0.1211526\ttotal: 2.39s\tremaining: 4.4s\n",
            "352:\tlearn: 0.1209568\ttotal: 2.4s\tremaining: 4.4s\n",
            "353:\tlearn: 0.1207851\ttotal: 2.41s\tremaining: 4.39s\n",
            "354:\tlearn: 0.1205365\ttotal: 2.41s\tremaining: 4.38s\n",
            "355:\tlearn: 0.1203391\ttotal: 2.42s\tremaining: 4.38s\n",
            "356:\tlearn: 0.1200959\ttotal: 2.43s\tremaining: 4.37s\n",
            "357:\tlearn: 0.1198807\ttotal: 2.43s\tremaining: 4.36s\n",
            "358:\tlearn: 0.1197326\ttotal: 2.44s\tremaining: 4.36s\n",
            "359:\tlearn: 0.1195957\ttotal: 2.45s\tremaining: 4.35s\n",
            "360:\tlearn: 0.1194450\ttotal: 2.45s\tremaining: 4.34s\n",
            "361:\tlearn: 0.1192685\ttotal: 2.46s\tremaining: 4.33s\n",
            "362:\tlearn: 0.1190943\ttotal: 2.46s\tremaining: 4.33s\n",
            "363:\tlearn: 0.1189138\ttotal: 2.47s\tremaining: 4.32s\n",
            "364:\tlearn: 0.1187062\ttotal: 2.48s\tremaining: 4.31s\n",
            "365:\tlearn: 0.1185420\ttotal: 2.48s\tremaining: 4.3s\n",
            "366:\tlearn: 0.1183216\ttotal: 2.49s\tremaining: 4.3s\n",
            "367:\tlearn: 0.1181198\ttotal: 2.5s\tremaining: 4.29s\n",
            "368:\tlearn: 0.1178906\ttotal: 2.5s\tremaining: 4.28s\n",
            "369:\tlearn: 0.1176880\ttotal: 2.51s\tremaining: 4.27s\n",
            "370:\tlearn: 0.1174579\ttotal: 2.52s\tremaining: 4.27s\n",
            "371:\tlearn: 0.1173194\ttotal: 2.52s\tremaining: 4.26s\n",
            "372:\tlearn: 0.1171682\ttotal: 2.53s\tremaining: 4.25s\n",
            "373:\tlearn: 0.1169447\ttotal: 2.54s\tremaining: 4.25s\n",
            "374:\tlearn: 0.1167414\ttotal: 2.54s\tremaining: 4.24s\n",
            "375:\tlearn: 0.1165462\ttotal: 2.55s\tremaining: 4.23s\n",
            "376:\tlearn: 0.1163794\ttotal: 2.56s\tremaining: 4.22s\n",
            "377:\tlearn: 0.1162012\ttotal: 2.56s\tremaining: 4.21s\n",
            "378:\tlearn: 0.1160757\ttotal: 2.57s\tremaining: 4.21s\n",
            "379:\tlearn: 0.1158604\ttotal: 2.58s\tremaining: 4.2s\n",
            "380:\tlearn: 0.1157135\ttotal: 2.58s\tremaining: 4.19s\n",
            "381:\tlearn: 0.1154547\ttotal: 2.59s\tremaining: 4.19s\n",
            "382:\tlearn: 0.1153312\ttotal: 2.59s\tremaining: 4.18s\n",
            "383:\tlearn: 0.1151716\ttotal: 2.6s\tremaining: 4.17s\n",
            "384:\tlearn: 0.1150746\ttotal: 2.61s\tremaining: 4.17s\n",
            "385:\tlearn: 0.1149136\ttotal: 2.62s\tremaining: 4.16s\n",
            "386:\tlearn: 0.1147575\ttotal: 2.62s\tremaining: 4.15s\n",
            "387:\tlearn: 0.1145892\ttotal: 2.63s\tremaining: 4.15s\n",
            "388:\tlearn: 0.1144988\ttotal: 2.63s\tremaining: 4.14s\n",
            "389:\tlearn: 0.1143816\ttotal: 2.64s\tremaining: 4.13s\n",
            "390:\tlearn: 0.1141618\ttotal: 2.65s\tremaining: 4.12s\n",
            "391:\tlearn: 0.1139925\ttotal: 2.65s\tremaining: 4.12s\n",
            "392:\tlearn: 0.1138613\ttotal: 2.66s\tremaining: 4.11s\n",
            "393:\tlearn: 0.1136952\ttotal: 2.67s\tremaining: 4.1s\n",
            "394:\tlearn: 0.1135771\ttotal: 2.67s\tremaining: 4.09s\n",
            "395:\tlearn: 0.1134841\ttotal: 2.68s\tremaining: 4.09s\n",
            "396:\tlearn: 0.1132578\ttotal: 2.69s\tremaining: 4.08s\n",
            "397:\tlearn: 0.1131635\ttotal: 2.69s\tremaining: 4.07s\n",
            "398:\tlearn: 0.1130432\ttotal: 2.7s\tremaining: 4.06s\n",
            "399:\tlearn: 0.1129259\ttotal: 2.71s\tremaining: 4.06s\n",
            "400:\tlearn: 0.1127621\ttotal: 2.71s\tremaining: 4.05s\n",
            "401:\tlearn: 0.1126575\ttotal: 2.72s\tremaining: 4.04s\n",
            "402:\tlearn: 0.1124227\ttotal: 2.73s\tremaining: 4.04s\n",
            "403:\tlearn: 0.1123377\ttotal: 2.73s\tremaining: 4.03s\n",
            "404:\tlearn: 0.1122604\ttotal: 2.74s\tremaining: 4.02s\n",
            "405:\tlearn: 0.1121134\ttotal: 2.75s\tremaining: 4.02s\n",
            "406:\tlearn: 0.1119590\ttotal: 2.75s\tremaining: 4.01s\n",
            "407:\tlearn: 0.1118367\ttotal: 2.76s\tremaining: 4s\n",
            "408:\tlearn: 0.1116154\ttotal: 2.76s\tremaining: 3.99s\n",
            "409:\tlearn: 0.1114934\ttotal: 2.77s\tremaining: 3.99s\n",
            "410:\tlearn: 0.1114112\ttotal: 2.78s\tremaining: 3.98s\n",
            "411:\tlearn: 0.1112650\ttotal: 2.78s\tremaining: 3.97s\n",
            "412:\tlearn: 0.1111580\ttotal: 2.79s\tremaining: 3.96s\n",
            "413:\tlearn: 0.1109552\ttotal: 2.8s\tremaining: 3.96s\n",
            "414:\tlearn: 0.1108020\ttotal: 2.8s\tremaining: 3.95s\n",
            "415:\tlearn: 0.1106079\ttotal: 2.81s\tremaining: 3.95s\n",
            "416:\tlearn: 0.1104444\ttotal: 2.82s\tremaining: 3.94s\n",
            "417:\tlearn: 0.1102422\ttotal: 2.82s\tremaining: 3.93s\n",
            "418:\tlearn: 0.1100313\ttotal: 2.83s\tremaining: 3.93s\n",
            "419:\tlearn: 0.1098353\ttotal: 2.84s\tremaining: 3.92s\n",
            "420:\tlearn: 0.1097530\ttotal: 2.85s\tremaining: 3.91s\n",
            "421:\tlearn: 0.1096443\ttotal: 2.85s\tremaining: 3.91s\n",
            "422:\tlearn: 0.1096183\ttotal: 2.86s\tremaining: 3.9s\n",
            "423:\tlearn: 0.1095092\ttotal: 2.87s\tremaining: 3.89s\n",
            "424:\tlearn: 0.1093608\ttotal: 2.87s\tremaining: 3.88s\n",
            "425:\tlearn: 0.1092175\ttotal: 2.88s\tremaining: 3.88s\n",
            "426:\tlearn: 0.1091292\ttotal: 2.88s\tremaining: 3.87s\n",
            "427:\tlearn: 0.1088828\ttotal: 2.89s\tremaining: 3.86s\n",
            "428:\tlearn: 0.1087655\ttotal: 2.9s\tremaining: 3.86s\n",
            "429:\tlearn: 0.1086558\ttotal: 2.91s\tremaining: 3.85s\n",
            "430:\tlearn: 0.1084979\ttotal: 2.92s\tremaining: 3.85s\n",
            "431:\tlearn: 0.1083392\ttotal: 2.92s\tremaining: 3.84s\n",
            "432:\tlearn: 0.1082314\ttotal: 2.93s\tremaining: 3.84s\n",
            "433:\tlearn: 0.1080742\ttotal: 2.94s\tremaining: 3.83s\n",
            "434:\tlearn: 0.1078587\ttotal: 2.94s\tremaining: 3.83s\n",
            "435:\tlearn: 0.1076347\ttotal: 2.97s\tremaining: 3.84s\n",
            "436:\tlearn: 0.1075030\ttotal: 2.98s\tremaining: 3.84s\n",
            "437:\tlearn: 0.1073635\ttotal: 2.99s\tremaining: 3.83s\n",
            "438:\tlearn: 0.1072975\ttotal: 2.99s\tremaining: 3.83s\n",
            "439:\tlearn: 0.1071583\ttotal: 3s\tremaining: 3.82s\n",
            "440:\tlearn: 0.1070703\ttotal: 3.01s\tremaining: 3.81s\n",
            "441:\tlearn: 0.1068852\ttotal: 3.02s\tremaining: 3.81s\n",
            "442:\tlearn: 0.1067016\ttotal: 3.02s\tremaining: 3.8s\n",
            "443:\tlearn: 0.1065225\ttotal: 3.03s\tremaining: 3.79s\n",
            "444:\tlearn: 0.1063800\ttotal: 3.04s\tremaining: 3.79s\n",
            "445:\tlearn: 0.1063113\ttotal: 3.04s\tremaining: 3.78s\n",
            "446:\tlearn: 0.1061441\ttotal: 3.05s\tremaining: 3.77s\n",
            "447:\tlearn: 0.1060283\ttotal: 3.06s\tremaining: 3.77s\n",
            "448:\tlearn: 0.1059361\ttotal: 3.06s\tremaining: 3.76s\n",
            "449:\tlearn: 0.1058063\ttotal: 3.07s\tremaining: 3.75s\n",
            "450:\tlearn: 0.1056330\ttotal: 3.08s\tremaining: 3.75s\n",
            "451:\tlearn: 0.1054754\ttotal: 3.08s\tremaining: 3.74s\n",
            "452:\tlearn: 0.1053267\ttotal: 3.09s\tremaining: 3.73s\n",
            "453:\tlearn: 0.1052384\ttotal: 3.1s\tremaining: 3.72s\n",
            "454:\tlearn: 0.1051178\ttotal: 3.1s\tremaining: 3.72s\n",
            "455:\tlearn: 0.1050217\ttotal: 3.11s\tremaining: 3.71s\n",
            "456:\tlearn: 0.1048720\ttotal: 3.12s\tremaining: 3.7s\n",
            "457:\tlearn: 0.1047495\ttotal: 3.12s\tremaining: 3.69s\n",
            "458:\tlearn: 0.1046270\ttotal: 3.13s\tremaining: 3.69s\n",
            "459:\tlearn: 0.1044380\ttotal: 3.13s\tremaining: 3.68s\n",
            "460:\tlearn: 0.1043068\ttotal: 3.14s\tremaining: 3.67s\n",
            "461:\tlearn: 0.1041817\ttotal: 3.15s\tremaining: 3.66s\n",
            "462:\tlearn: 0.1040676\ttotal: 3.15s\tremaining: 3.66s\n",
            "463:\tlearn: 0.1038790\ttotal: 3.16s\tremaining: 3.65s\n",
            "464:\tlearn: 0.1037578\ttotal: 3.17s\tremaining: 3.64s\n",
            "465:\tlearn: 0.1036444\ttotal: 3.17s\tremaining: 3.64s\n",
            "466:\tlearn: 0.1035695\ttotal: 3.18s\tremaining: 3.63s\n",
            "467:\tlearn: 0.1034414\ttotal: 3.19s\tremaining: 3.62s\n",
            "468:\tlearn: 0.1031695\ttotal: 3.19s\tremaining: 3.62s\n",
            "469:\tlearn: 0.1030417\ttotal: 3.2s\tremaining: 3.61s\n",
            "470:\tlearn: 0.1028219\ttotal: 3.21s\tremaining: 3.6s\n",
            "471:\tlearn: 0.1027027\ttotal: 3.22s\tremaining: 3.6s\n",
            "472:\tlearn: 0.1025645\ttotal: 3.22s\tremaining: 3.59s\n",
            "473:\tlearn: 0.1023747\ttotal: 3.23s\tremaining: 3.58s\n",
            "474:\tlearn: 0.1022185\ttotal: 3.24s\tremaining: 3.58s\n",
            "475:\tlearn: 0.1021097\ttotal: 3.24s\tremaining: 3.57s\n",
            "476:\tlearn: 0.1019396\ttotal: 3.25s\tremaining: 3.56s\n",
            "477:\tlearn: 0.1018324\ttotal: 3.26s\tremaining: 3.56s\n",
            "478:\tlearn: 0.1017257\ttotal: 3.26s\tremaining: 3.55s\n",
            "479:\tlearn: 0.1016765\ttotal: 3.27s\tremaining: 3.54s\n",
            "480:\tlearn: 0.1015625\ttotal: 3.28s\tremaining: 3.53s\n",
            "481:\tlearn: 0.1014317\ttotal: 3.28s\tremaining: 3.53s\n",
            "482:\tlearn: 0.1013283\ttotal: 3.29s\tremaining: 3.52s\n",
            "483:\tlearn: 0.1011980\ttotal: 3.29s\tremaining: 3.51s\n",
            "484:\tlearn: 0.1010495\ttotal: 3.3s\tremaining: 3.51s\n",
            "485:\tlearn: 0.1009215\ttotal: 3.31s\tremaining: 3.5s\n",
            "486:\tlearn: 0.1007877\ttotal: 3.31s\tremaining: 3.49s\n",
            "487:\tlearn: 0.1005932\ttotal: 3.32s\tremaining: 3.48s\n",
            "488:\tlearn: 0.1003946\ttotal: 3.33s\tremaining: 3.48s\n",
            "489:\tlearn: 0.1001669\ttotal: 3.33s\tremaining: 3.47s\n",
            "490:\tlearn: 0.1000597\ttotal: 3.34s\tremaining: 3.46s\n",
            "491:\tlearn: 0.0999285\ttotal: 3.35s\tremaining: 3.46s\n",
            "492:\tlearn: 0.0996885\ttotal: 3.35s\tremaining: 3.45s\n",
            "493:\tlearn: 0.0995921\ttotal: 3.36s\tremaining: 3.44s\n",
            "494:\tlearn: 0.0995304\ttotal: 3.37s\tremaining: 3.43s\n",
            "495:\tlearn: 0.0993977\ttotal: 3.37s\tremaining: 3.43s\n",
            "496:\tlearn: 0.0992555\ttotal: 3.38s\tremaining: 3.42s\n",
            "497:\tlearn: 0.0991005\ttotal: 3.38s\tremaining: 3.41s\n",
            "498:\tlearn: 0.0990079\ttotal: 3.39s\tremaining: 3.4s\n",
            "499:\tlearn: 0.0989254\ttotal: 3.4s\tremaining: 3.4s\n",
            "500:\tlearn: 0.0987666\ttotal: 3.4s\tremaining: 3.39s\n",
            "501:\tlearn: 0.0986320\ttotal: 3.41s\tremaining: 3.38s\n",
            "502:\tlearn: 0.0984698\ttotal: 3.42s\tremaining: 3.38s\n",
            "503:\tlearn: 0.0983439\ttotal: 3.42s\tremaining: 3.37s\n",
            "504:\tlearn: 0.0982155\ttotal: 3.43s\tremaining: 3.36s\n",
            "505:\tlearn: 0.0980397\ttotal: 3.44s\tremaining: 3.36s\n",
            "506:\tlearn: 0.0978993\ttotal: 3.44s\tremaining: 3.35s\n",
            "507:\tlearn: 0.0977965\ttotal: 3.45s\tremaining: 3.34s\n",
            "508:\tlearn: 0.0976576\ttotal: 3.46s\tremaining: 3.33s\n",
            "509:\tlearn: 0.0974979\ttotal: 3.46s\tremaining: 3.33s\n",
            "510:\tlearn: 0.0974099\ttotal: 3.47s\tremaining: 3.32s\n",
            "511:\tlearn: 0.0972673\ttotal: 3.48s\tremaining: 3.31s\n",
            "512:\tlearn: 0.0971370\ttotal: 3.48s\tremaining: 3.31s\n",
            "513:\tlearn: 0.0970254\ttotal: 3.49s\tremaining: 3.3s\n",
            "514:\tlearn: 0.0969362\ttotal: 3.5s\tremaining: 3.29s\n",
            "515:\tlearn: 0.0968113\ttotal: 3.5s\tremaining: 3.29s\n",
            "516:\tlearn: 0.0966965\ttotal: 3.51s\tremaining: 3.28s\n",
            "517:\tlearn: 0.0966100\ttotal: 3.52s\tremaining: 3.27s\n",
            "518:\tlearn: 0.0965256\ttotal: 3.52s\tremaining: 3.27s\n",
            "519:\tlearn: 0.0964504\ttotal: 3.53s\tremaining: 3.26s\n",
            "520:\tlearn: 0.0963367\ttotal: 3.54s\tremaining: 3.25s\n",
            "521:\tlearn: 0.0961831\ttotal: 3.54s\tremaining: 3.24s\n",
            "522:\tlearn: 0.0959375\ttotal: 3.55s\tremaining: 3.24s\n",
            "523:\tlearn: 0.0957857\ttotal: 3.56s\tremaining: 3.23s\n",
            "524:\tlearn: 0.0956417\ttotal: 3.56s\tremaining: 3.22s\n",
            "525:\tlearn: 0.0954926\ttotal: 3.57s\tremaining: 3.22s\n",
            "526:\tlearn: 0.0954187\ttotal: 3.58s\tremaining: 3.21s\n",
            "527:\tlearn: 0.0952809\ttotal: 3.58s\tremaining: 3.2s\n",
            "528:\tlearn: 0.0951895\ttotal: 3.59s\tremaining: 3.19s\n",
            "529:\tlearn: 0.0950299\ttotal: 3.59s\tremaining: 3.19s\n",
            "530:\tlearn: 0.0949521\ttotal: 3.6s\tremaining: 3.18s\n",
            "531:\tlearn: 0.0948539\ttotal: 3.61s\tremaining: 3.17s\n",
            "532:\tlearn: 0.0947626\ttotal: 3.61s\tremaining: 3.17s\n",
            "533:\tlearn: 0.0946676\ttotal: 3.62s\tremaining: 3.16s\n",
            "534:\tlearn: 0.0945633\ttotal: 3.63s\tremaining: 3.15s\n",
            "535:\tlearn: 0.0944540\ttotal: 3.63s\tremaining: 3.15s\n",
            "536:\tlearn: 0.0943095\ttotal: 3.64s\tremaining: 3.14s\n",
            "537:\tlearn: 0.0942223\ttotal: 3.65s\tremaining: 3.13s\n",
            "538:\tlearn: 0.0941057\ttotal: 3.65s\tremaining: 3.13s\n",
            "539:\tlearn: 0.0939753\ttotal: 3.66s\tremaining: 3.12s\n",
            "540:\tlearn: 0.0938857\ttotal: 3.67s\tremaining: 3.11s\n",
            "541:\tlearn: 0.0937896\ttotal: 3.67s\tremaining: 3.1s\n",
            "542:\tlearn: 0.0935503\ttotal: 3.68s\tremaining: 3.1s\n",
            "543:\tlearn: 0.0934454\ttotal: 3.69s\tremaining: 3.09s\n",
            "544:\tlearn: 0.0933169\ttotal: 3.69s\tremaining: 3.08s\n",
            "545:\tlearn: 0.0931575\ttotal: 3.7s\tremaining: 3.08s\n",
            "546:\tlearn: 0.0930558\ttotal: 3.71s\tremaining: 3.07s\n",
            "547:\tlearn: 0.0929103\ttotal: 3.71s\tremaining: 3.06s\n",
            "548:\tlearn: 0.0928038\ttotal: 3.72s\tremaining: 3.06s\n",
            "549:\tlearn: 0.0925961\ttotal: 3.73s\tremaining: 3.05s\n",
            "550:\tlearn: 0.0925377\ttotal: 3.73s\tremaining: 3.04s\n",
            "551:\tlearn: 0.0923645\ttotal: 3.74s\tremaining: 3.03s\n",
            "552:\tlearn: 0.0922162\ttotal: 3.75s\tremaining: 3.03s\n",
            "553:\tlearn: 0.0921416\ttotal: 3.75s\tremaining: 3.02s\n",
            "554:\tlearn: 0.0920642\ttotal: 3.76s\tremaining: 3.01s\n",
            "555:\tlearn: 0.0919417\ttotal: 3.77s\tremaining: 3.01s\n",
            "556:\tlearn: 0.0917580\ttotal: 3.77s\tremaining: 3s\n",
            "557:\tlearn: 0.0916596\ttotal: 3.78s\tremaining: 2.99s\n",
            "558:\tlearn: 0.0915181\ttotal: 3.79s\tremaining: 2.99s\n",
            "559:\tlearn: 0.0913980\ttotal: 3.79s\tremaining: 2.98s\n",
            "560:\tlearn: 0.0913066\ttotal: 3.8s\tremaining: 2.97s\n",
            "561:\tlearn: 0.0911718\ttotal: 3.81s\tremaining: 2.97s\n",
            "562:\tlearn: 0.0910709\ttotal: 3.81s\tremaining: 2.96s\n",
            "563:\tlearn: 0.0909506\ttotal: 3.82s\tremaining: 2.95s\n",
            "564:\tlearn: 0.0908634\ttotal: 3.83s\tremaining: 2.95s\n",
            "565:\tlearn: 0.0907648\ttotal: 3.83s\tremaining: 2.94s\n",
            "566:\tlearn: 0.0907045\ttotal: 3.84s\tremaining: 2.93s\n",
            "567:\tlearn: 0.0905841\ttotal: 3.85s\tremaining: 2.92s\n",
            "568:\tlearn: 0.0904967\ttotal: 3.85s\tremaining: 2.92s\n",
            "569:\tlearn: 0.0904182\ttotal: 3.86s\tremaining: 2.91s\n",
            "570:\tlearn: 0.0902814\ttotal: 3.87s\tremaining: 2.9s\n",
            "571:\tlearn: 0.0901615\ttotal: 3.87s\tremaining: 2.9s\n",
            "572:\tlearn: 0.0901071\ttotal: 3.88s\tremaining: 2.89s\n",
            "573:\tlearn: 0.0899150\ttotal: 3.88s\tremaining: 2.88s\n",
            "574:\tlearn: 0.0898314\ttotal: 3.89s\tremaining: 2.88s\n",
            "575:\tlearn: 0.0897425\ttotal: 3.9s\tremaining: 2.87s\n",
            "576:\tlearn: 0.0896599\ttotal: 3.91s\tremaining: 2.86s\n",
            "577:\tlearn: 0.0896051\ttotal: 3.91s\tremaining: 2.86s\n",
            "578:\tlearn: 0.0895227\ttotal: 3.92s\tremaining: 2.85s\n",
            "579:\tlearn: 0.0894391\ttotal: 3.93s\tremaining: 2.84s\n",
            "580:\tlearn: 0.0893163\ttotal: 3.93s\tremaining: 2.84s\n",
            "581:\tlearn: 0.0892668\ttotal: 3.94s\tremaining: 2.83s\n",
            "582:\tlearn: 0.0891535\ttotal: 3.95s\tremaining: 2.82s\n",
            "583:\tlearn: 0.0890505\ttotal: 4.12s\tremaining: 2.93s\n",
            "584:\tlearn: 0.0889217\ttotal: 4.13s\tremaining: 2.93s\n",
            "585:\tlearn: 0.0887662\ttotal: 4.14s\tremaining: 2.93s\n",
            "586:\tlearn: 0.0886410\ttotal: 4.15s\tremaining: 2.92s\n",
            "587:\tlearn: 0.0885660\ttotal: 4.16s\tremaining: 2.91s\n",
            "588:\tlearn: 0.0884194\ttotal: 4.16s\tremaining: 2.9s\n",
            "589:\tlearn: 0.0882962\ttotal: 4.17s\tremaining: 2.9s\n",
            "590:\tlearn: 0.0881980\ttotal: 4.17s\tremaining: 2.89s\n",
            "591:\tlearn: 0.0880548\ttotal: 4.18s\tremaining: 2.88s\n",
            "592:\tlearn: 0.0879925\ttotal: 4.19s\tremaining: 2.87s\n",
            "593:\tlearn: 0.0878615\ttotal: 4.19s\tremaining: 2.87s\n",
            "594:\tlearn: 0.0877354\ttotal: 4.2s\tremaining: 2.86s\n",
            "595:\tlearn: 0.0876290\ttotal: 4.21s\tremaining: 2.85s\n",
            "596:\tlearn: 0.0875360\ttotal: 4.21s\tremaining: 2.84s\n",
            "597:\tlearn: 0.0874416\ttotal: 4.22s\tremaining: 2.84s\n",
            "598:\tlearn: 0.0873296\ttotal: 4.23s\tremaining: 2.83s\n",
            "599:\tlearn: 0.0872088\ttotal: 4.24s\tremaining: 2.82s\n",
            "600:\tlearn: 0.0870936\ttotal: 4.24s\tremaining: 2.82s\n",
            "601:\tlearn: 0.0869731\ttotal: 4.25s\tremaining: 2.81s\n",
            "602:\tlearn: 0.0868985\ttotal: 4.25s\tremaining: 2.8s\n",
            "603:\tlearn: 0.0868205\ttotal: 4.26s\tremaining: 2.79s\n",
            "604:\tlearn: 0.0867631\ttotal: 4.27s\tremaining: 2.79s\n",
            "605:\tlearn: 0.0866146\ttotal: 4.28s\tremaining: 2.78s\n",
            "606:\tlearn: 0.0865349\ttotal: 4.28s\tremaining: 2.77s\n",
            "607:\tlearn: 0.0864461\ttotal: 4.29s\tremaining: 2.77s\n",
            "608:\tlearn: 0.0863820\ttotal: 4.29s\tremaining: 2.76s\n",
            "609:\tlearn: 0.0862715\ttotal: 4.3s\tremaining: 2.75s\n",
            "610:\tlearn: 0.0862168\ttotal: 4.31s\tremaining: 2.74s\n",
            "611:\tlearn: 0.0860300\ttotal: 4.32s\tremaining: 2.74s\n",
            "612:\tlearn: 0.0859410\ttotal: 4.33s\tremaining: 2.73s\n",
            "613:\tlearn: 0.0858558\ttotal: 4.33s\tremaining: 2.73s\n",
            "614:\tlearn: 0.0857811\ttotal: 4.34s\tremaining: 2.72s\n",
            "615:\tlearn: 0.0857147\ttotal: 4.35s\tremaining: 2.71s\n",
            "616:\tlearn: 0.0856527\ttotal: 4.35s\tremaining: 2.7s\n",
            "617:\tlearn: 0.0855322\ttotal: 4.36s\tremaining: 2.69s\n",
            "618:\tlearn: 0.0854583\ttotal: 4.37s\tremaining: 2.69s\n",
            "619:\tlearn: 0.0853785\ttotal: 4.37s\tremaining: 2.68s\n",
            "620:\tlearn: 0.0852312\ttotal: 4.38s\tremaining: 2.67s\n",
            "621:\tlearn: 0.0851436\ttotal: 4.39s\tremaining: 2.67s\n",
            "622:\tlearn: 0.0849970\ttotal: 4.39s\tremaining: 2.66s\n",
            "623:\tlearn: 0.0848926\ttotal: 4.4s\tremaining: 2.65s\n",
            "624:\tlearn: 0.0847773\ttotal: 4.41s\tremaining: 2.64s\n",
            "625:\tlearn: 0.0846735\ttotal: 4.41s\tremaining: 2.64s\n",
            "626:\tlearn: 0.0845624\ttotal: 4.42s\tremaining: 2.63s\n",
            "627:\tlearn: 0.0844501\ttotal: 4.43s\tremaining: 2.62s\n",
            "628:\tlearn: 0.0843274\ttotal: 4.43s\tremaining: 2.62s\n",
            "629:\tlearn: 0.0842129\ttotal: 4.44s\tremaining: 2.61s\n",
            "630:\tlearn: 0.0841077\ttotal: 4.45s\tremaining: 2.6s\n",
            "631:\tlearn: 0.0839742\ttotal: 4.45s\tremaining: 2.59s\n",
            "632:\tlearn: 0.0838776\ttotal: 4.46s\tremaining: 2.59s\n",
            "633:\tlearn: 0.0837957\ttotal: 4.47s\tremaining: 2.58s\n",
            "634:\tlearn: 0.0837128\ttotal: 4.47s\tremaining: 2.57s\n",
            "635:\tlearn: 0.0835909\ttotal: 4.48s\tremaining: 2.56s\n",
            "636:\tlearn: 0.0835158\ttotal: 4.49s\tremaining: 2.56s\n",
            "637:\tlearn: 0.0834173\ttotal: 4.49s\tremaining: 2.55s\n",
            "638:\tlearn: 0.0832559\ttotal: 4.5s\tremaining: 2.54s\n",
            "639:\tlearn: 0.0831545\ttotal: 4.51s\tremaining: 2.53s\n",
            "640:\tlearn: 0.0830468\ttotal: 4.51s\tremaining: 2.53s\n",
            "641:\tlearn: 0.0830067\ttotal: 4.52s\tremaining: 2.52s\n",
            "642:\tlearn: 0.0829379\ttotal: 4.53s\tremaining: 2.51s\n",
            "643:\tlearn: 0.0828591\ttotal: 4.53s\tremaining: 2.51s\n",
            "644:\tlearn: 0.0827762\ttotal: 4.54s\tremaining: 2.5s\n",
            "645:\tlearn: 0.0827286\ttotal: 4.55s\tremaining: 2.49s\n",
            "646:\tlearn: 0.0826822\ttotal: 4.55s\tremaining: 2.48s\n",
            "647:\tlearn: 0.0825865\ttotal: 4.56s\tremaining: 2.48s\n",
            "648:\tlearn: 0.0824637\ttotal: 4.57s\tremaining: 2.47s\n",
            "649:\tlearn: 0.0823835\ttotal: 4.57s\tremaining: 2.46s\n",
            "650:\tlearn: 0.0822790\ttotal: 4.58s\tremaining: 2.45s\n",
            "651:\tlearn: 0.0822220\ttotal: 4.58s\tremaining: 2.45s\n",
            "652:\tlearn: 0.0821108\ttotal: 4.59s\tremaining: 2.44s\n",
            "653:\tlearn: 0.0819778\ttotal: 4.6s\tremaining: 2.43s\n",
            "654:\tlearn: 0.0818658\ttotal: 4.6s\tremaining: 2.42s\n",
            "655:\tlearn: 0.0817543\ttotal: 4.61s\tremaining: 2.42s\n",
            "656:\tlearn: 0.0816774\ttotal: 4.62s\tremaining: 2.41s\n",
            "657:\tlearn: 0.0815256\ttotal: 4.62s\tremaining: 2.4s\n",
            "658:\tlearn: 0.0813887\ttotal: 4.63s\tremaining: 2.4s\n",
            "659:\tlearn: 0.0812984\ttotal: 4.64s\tremaining: 2.39s\n",
            "660:\tlearn: 0.0812106\ttotal: 4.64s\tremaining: 2.38s\n",
            "661:\tlearn: 0.0810933\ttotal: 4.65s\tremaining: 2.38s\n",
            "662:\tlearn: 0.0809876\ttotal: 4.66s\tremaining: 2.37s\n",
            "663:\tlearn: 0.0809005\ttotal: 4.67s\tremaining: 2.36s\n",
            "664:\tlearn: 0.0807714\ttotal: 4.67s\tremaining: 2.35s\n",
            "665:\tlearn: 0.0806920\ttotal: 4.68s\tremaining: 2.35s\n",
            "666:\tlearn: 0.0806474\ttotal: 4.68s\tremaining: 2.34s\n",
            "667:\tlearn: 0.0805715\ttotal: 4.69s\tremaining: 2.33s\n",
            "668:\tlearn: 0.0804980\ttotal: 4.7s\tremaining: 2.32s\n",
            "669:\tlearn: 0.0803730\ttotal: 4.71s\tremaining: 2.32s\n",
            "670:\tlearn: 0.0802962\ttotal: 4.71s\tremaining: 2.31s\n",
            "671:\tlearn: 0.0802673\ttotal: 4.72s\tremaining: 2.3s\n",
            "672:\tlearn: 0.0802030\ttotal: 4.72s\tremaining: 2.3s\n",
            "673:\tlearn: 0.0801597\ttotal: 4.73s\tremaining: 2.29s\n",
            "674:\tlearn: 0.0801423\ttotal: 4.74s\tremaining: 2.28s\n",
            "675:\tlearn: 0.0799989\ttotal: 4.75s\tremaining: 2.27s\n",
            "676:\tlearn: 0.0799390\ttotal: 4.75s\tremaining: 2.27s\n",
            "677:\tlearn: 0.0798969\ttotal: 4.76s\tremaining: 2.26s\n",
            "678:\tlearn: 0.0798256\ttotal: 4.76s\tremaining: 2.25s\n",
            "679:\tlearn: 0.0796991\ttotal: 4.77s\tremaining: 2.25s\n",
            "680:\tlearn: 0.0796275\ttotal: 4.78s\tremaining: 2.24s\n",
            "681:\tlearn: 0.0795268\ttotal: 4.79s\tremaining: 2.23s\n",
            "682:\tlearn: 0.0794197\ttotal: 4.79s\tremaining: 2.22s\n",
            "683:\tlearn: 0.0792966\ttotal: 4.8s\tremaining: 2.22s\n",
            "684:\tlearn: 0.0791819\ttotal: 4.81s\tremaining: 2.21s\n",
            "685:\tlearn: 0.0790925\ttotal: 4.81s\tremaining: 2.2s\n",
            "686:\tlearn: 0.0789681\ttotal: 4.82s\tremaining: 2.19s\n",
            "687:\tlearn: 0.0788988\ttotal: 4.83s\tremaining: 2.19s\n",
            "688:\tlearn: 0.0788360\ttotal: 4.83s\tremaining: 2.18s\n",
            "689:\tlearn: 0.0787459\ttotal: 4.84s\tremaining: 2.17s\n",
            "690:\tlearn: 0.0786267\ttotal: 4.84s\tremaining: 2.17s\n",
            "691:\tlearn: 0.0786078\ttotal: 4.85s\tremaining: 2.16s\n",
            "692:\tlearn: 0.0784902\ttotal: 4.86s\tremaining: 2.15s\n",
            "693:\tlearn: 0.0783204\ttotal: 4.87s\tremaining: 2.15s\n",
            "694:\tlearn: 0.0782797\ttotal: 4.87s\tremaining: 2.14s\n",
            "695:\tlearn: 0.0782058\ttotal: 4.88s\tremaining: 2.13s\n",
            "696:\tlearn: 0.0781665\ttotal: 4.88s\tremaining: 2.12s\n",
            "697:\tlearn: 0.0780505\ttotal: 4.89s\tremaining: 2.12s\n",
            "698:\tlearn: 0.0779230\ttotal: 4.9s\tremaining: 2.11s\n",
            "699:\tlearn: 0.0778832\ttotal: 4.91s\tremaining: 2.1s\n",
            "700:\tlearn: 0.0777785\ttotal: 4.91s\tremaining: 2.1s\n",
            "701:\tlearn: 0.0776865\ttotal: 4.92s\tremaining: 2.09s\n",
            "702:\tlearn: 0.0776194\ttotal: 4.93s\tremaining: 2.08s\n",
            "703:\tlearn: 0.0775681\ttotal: 4.94s\tremaining: 2.08s\n",
            "704:\tlearn: 0.0774580\ttotal: 4.94s\tremaining: 2.07s\n",
            "705:\tlearn: 0.0773689\ttotal: 4.95s\tremaining: 2.06s\n",
            "706:\tlearn: 0.0773013\ttotal: 4.96s\tremaining: 2.05s\n",
            "707:\tlearn: 0.0772259\ttotal: 4.96s\tremaining: 2.05s\n",
            "708:\tlearn: 0.0771621\ttotal: 4.97s\tremaining: 2.04s\n",
            "709:\tlearn: 0.0771238\ttotal: 4.97s\tremaining: 2.03s\n",
            "710:\tlearn: 0.0770036\ttotal: 4.98s\tremaining: 2.02s\n",
            "711:\tlearn: 0.0769663\ttotal: 4.99s\tremaining: 2.02s\n",
            "712:\tlearn: 0.0769157\ttotal: 5s\tremaining: 2.01s\n",
            "713:\tlearn: 0.0768167\ttotal: 5s\tremaining: 2s\n",
            "714:\tlearn: 0.0767680\ttotal: 5.01s\tremaining: 2s\n",
            "715:\tlearn: 0.0767199\ttotal: 5.01s\tremaining: 1.99s\n",
            "716:\tlearn: 0.0766556\ttotal: 5.02s\tremaining: 1.98s\n",
            "717:\tlearn: 0.0765610\ttotal: 5.03s\tremaining: 1.97s\n",
            "718:\tlearn: 0.0764957\ttotal: 5.03s\tremaining: 1.97s\n",
            "719:\tlearn: 0.0764195\ttotal: 5.04s\tremaining: 1.96s\n",
            "720:\tlearn: 0.0763100\ttotal: 5.05s\tremaining: 1.95s\n",
            "721:\tlearn: 0.0762126\ttotal: 5.05s\tremaining: 1.95s\n",
            "722:\tlearn: 0.0760380\ttotal: 5.06s\tremaining: 1.94s\n",
            "723:\tlearn: 0.0760017\ttotal: 5.07s\tremaining: 1.93s\n",
            "724:\tlearn: 0.0759368\ttotal: 5.07s\tremaining: 1.92s\n",
            "725:\tlearn: 0.0759015\ttotal: 5.08s\tremaining: 1.92s\n",
            "726:\tlearn: 0.0758668\ttotal: 5.08s\tremaining: 1.91s\n",
            "727:\tlearn: 0.0757872\ttotal: 5.09s\tremaining: 1.9s\n",
            "728:\tlearn: 0.0757161\ttotal: 5.1s\tremaining: 1.9s\n",
            "729:\tlearn: 0.0756251\ttotal: 5.13s\tremaining: 1.9s\n",
            "730:\tlearn: 0.0755792\ttotal: 5.14s\tremaining: 1.89s\n",
            "731:\tlearn: 0.0755114\ttotal: 5.14s\tremaining: 1.88s\n",
            "732:\tlearn: 0.0754459\ttotal: 5.15s\tremaining: 1.88s\n",
            "733:\tlearn: 0.0753611\ttotal: 5.16s\tremaining: 1.87s\n",
            "734:\tlearn: 0.0752979\ttotal: 5.16s\tremaining: 1.86s\n",
            "735:\tlearn: 0.0751864\ttotal: 5.17s\tremaining: 1.85s\n",
            "736:\tlearn: 0.0751162\ttotal: 5.18s\tremaining: 1.85s\n",
            "737:\tlearn: 0.0750289\ttotal: 5.18s\tremaining: 1.84s\n",
            "738:\tlearn: 0.0749508\ttotal: 5.19s\tremaining: 1.83s\n",
            "739:\tlearn: 0.0748608\ttotal: 5.2s\tremaining: 1.83s\n",
            "740:\tlearn: 0.0747692\ttotal: 5.2s\tremaining: 1.82s\n",
            "741:\tlearn: 0.0747181\ttotal: 5.21s\tremaining: 1.81s\n",
            "742:\tlearn: 0.0746210\ttotal: 5.22s\tremaining: 1.8s\n",
            "743:\tlearn: 0.0744967\ttotal: 5.22s\tremaining: 1.8s\n",
            "744:\tlearn: 0.0744417\ttotal: 5.23s\tremaining: 1.79s\n",
            "745:\tlearn: 0.0743049\ttotal: 5.24s\tremaining: 1.78s\n",
            "746:\tlearn: 0.0741863\ttotal: 5.25s\tremaining: 1.78s\n",
            "747:\tlearn: 0.0740667\ttotal: 5.25s\tremaining: 1.77s\n",
            "748:\tlearn: 0.0739517\ttotal: 5.26s\tremaining: 1.76s\n",
            "749:\tlearn: 0.0738480\ttotal: 5.26s\tremaining: 1.75s\n",
            "750:\tlearn: 0.0737309\ttotal: 5.27s\tremaining: 1.75s\n",
            "751:\tlearn: 0.0736984\ttotal: 5.28s\tremaining: 1.74s\n",
            "752:\tlearn: 0.0736547\ttotal: 5.28s\tremaining: 1.73s\n",
            "753:\tlearn: 0.0735895\ttotal: 5.29s\tremaining: 1.73s\n",
            "754:\tlearn: 0.0734556\ttotal: 5.3s\tremaining: 1.72s\n",
            "755:\tlearn: 0.0733588\ttotal: 5.3s\tremaining: 1.71s\n",
            "756:\tlearn: 0.0733161\ttotal: 5.31s\tremaining: 1.7s\n",
            "757:\tlearn: 0.0732331\ttotal: 5.32s\tremaining: 1.7s\n",
            "758:\tlearn: 0.0731346\ttotal: 5.32s\tremaining: 1.69s\n",
            "759:\tlearn: 0.0730212\ttotal: 5.33s\tremaining: 1.68s\n",
            "760:\tlearn: 0.0729474\ttotal: 5.34s\tremaining: 1.68s\n",
            "761:\tlearn: 0.0728812\ttotal: 5.34s\tremaining: 1.67s\n",
            "762:\tlearn: 0.0728385\ttotal: 5.35s\tremaining: 1.66s\n",
            "763:\tlearn: 0.0727744\ttotal: 5.36s\tremaining: 1.65s\n",
            "764:\tlearn: 0.0726788\ttotal: 5.36s\tremaining: 1.65s\n",
            "765:\tlearn: 0.0725686\ttotal: 5.37s\tremaining: 1.64s\n",
            "766:\tlearn: 0.0725023\ttotal: 5.38s\tremaining: 1.63s\n",
            "767:\tlearn: 0.0724551\ttotal: 5.38s\tremaining: 1.63s\n",
            "768:\tlearn: 0.0723901\ttotal: 5.39s\tremaining: 1.62s\n",
            "769:\tlearn: 0.0722988\ttotal: 5.39s\tremaining: 1.61s\n",
            "770:\tlearn: 0.0721823\ttotal: 5.4s\tremaining: 1.6s\n",
            "771:\tlearn: 0.0720792\ttotal: 5.41s\tremaining: 1.6s\n",
            "772:\tlearn: 0.0719680\ttotal: 5.41s\tremaining: 1.59s\n",
            "773:\tlearn: 0.0718769\ttotal: 5.42s\tremaining: 1.58s\n",
            "774:\tlearn: 0.0718345\ttotal: 5.43s\tremaining: 1.57s\n",
            "775:\tlearn: 0.0717415\ttotal: 5.43s\tremaining: 1.57s\n",
            "776:\tlearn: 0.0717014\ttotal: 5.44s\tremaining: 1.56s\n",
            "777:\tlearn: 0.0715807\ttotal: 5.45s\tremaining: 1.55s\n",
            "778:\tlearn: 0.0715255\ttotal: 5.45s\tremaining: 1.55s\n",
            "779:\tlearn: 0.0714550\ttotal: 5.46s\tremaining: 1.54s\n",
            "780:\tlearn: 0.0713763\ttotal: 5.46s\tremaining: 1.53s\n",
            "781:\tlearn: 0.0713357\ttotal: 5.47s\tremaining: 1.52s\n",
            "782:\tlearn: 0.0713055\ttotal: 5.48s\tremaining: 1.52s\n",
            "783:\tlearn: 0.0712296\ttotal: 5.48s\tremaining: 1.51s\n",
            "784:\tlearn: 0.0711375\ttotal: 5.49s\tremaining: 1.5s\n",
            "785:\tlearn: 0.0710579\ttotal: 5.5s\tremaining: 1.5s\n",
            "786:\tlearn: 0.0709694\ttotal: 5.5s\tremaining: 1.49s\n",
            "787:\tlearn: 0.0708374\ttotal: 5.51s\tremaining: 1.48s\n",
            "788:\tlearn: 0.0707654\ttotal: 5.51s\tremaining: 1.48s\n",
            "789:\tlearn: 0.0706784\ttotal: 5.52s\tremaining: 1.47s\n",
            "790:\tlearn: 0.0706101\ttotal: 5.53s\tremaining: 1.46s\n",
            "791:\tlearn: 0.0705333\ttotal: 5.54s\tremaining: 1.45s\n",
            "792:\tlearn: 0.0704465\ttotal: 5.54s\tremaining: 1.45s\n",
            "793:\tlearn: 0.0703439\ttotal: 5.55s\tremaining: 1.44s\n",
            "794:\tlearn: 0.0702896\ttotal: 5.56s\tremaining: 1.43s\n",
            "795:\tlearn: 0.0702277\ttotal: 5.56s\tremaining: 1.43s\n",
            "796:\tlearn: 0.0701137\ttotal: 5.57s\tremaining: 1.42s\n",
            "797:\tlearn: 0.0700772\ttotal: 5.58s\tremaining: 1.41s\n",
            "798:\tlearn: 0.0699929\ttotal: 5.58s\tremaining: 1.4s\n",
            "799:\tlearn: 0.0699368\ttotal: 5.59s\tremaining: 1.4s\n",
            "800:\tlearn: 0.0698377\ttotal: 5.59s\tremaining: 1.39s\n",
            "801:\tlearn: 0.0697990\ttotal: 5.6s\tremaining: 1.38s\n",
            "802:\tlearn: 0.0697494\ttotal: 5.61s\tremaining: 1.38s\n",
            "803:\tlearn: 0.0696839\ttotal: 5.62s\tremaining: 1.37s\n",
            "804:\tlearn: 0.0696306\ttotal: 5.62s\tremaining: 1.36s\n",
            "805:\tlearn: 0.0695675\ttotal: 5.63s\tremaining: 1.35s\n",
            "806:\tlearn: 0.0694925\ttotal: 5.63s\tremaining: 1.35s\n",
            "807:\tlearn: 0.0694274\ttotal: 5.64s\tremaining: 1.34s\n",
            "808:\tlearn: 0.0693334\ttotal: 5.65s\tremaining: 1.33s\n",
            "809:\tlearn: 0.0692852\ttotal: 5.65s\tremaining: 1.33s\n",
            "810:\tlearn: 0.0691837\ttotal: 5.66s\tremaining: 1.32s\n",
            "811:\tlearn: 0.0691166\ttotal: 5.67s\tremaining: 1.31s\n",
            "812:\tlearn: 0.0690545\ttotal: 5.67s\tremaining: 1.3s\n",
            "813:\tlearn: 0.0689956\ttotal: 5.68s\tremaining: 1.3s\n",
            "814:\tlearn: 0.0689240\ttotal: 5.69s\tremaining: 1.29s\n",
            "815:\tlearn: 0.0688780\ttotal: 5.69s\tremaining: 1.28s\n",
            "816:\tlearn: 0.0687193\ttotal: 5.7s\tremaining: 1.28s\n",
            "817:\tlearn: 0.0686418\ttotal: 5.71s\tremaining: 1.27s\n",
            "818:\tlearn: 0.0685523\ttotal: 5.71s\tremaining: 1.26s\n",
            "819:\tlearn: 0.0684668\ttotal: 5.72s\tremaining: 1.25s\n",
            "820:\tlearn: 0.0684118\ttotal: 5.72s\tremaining: 1.25s\n",
            "821:\tlearn: 0.0683581\ttotal: 5.73s\tremaining: 1.24s\n",
            "822:\tlearn: 0.0682891\ttotal: 5.74s\tremaining: 1.23s\n",
            "823:\tlearn: 0.0682092\ttotal: 5.75s\tremaining: 1.23s\n",
            "824:\tlearn: 0.0681467\ttotal: 5.75s\tremaining: 1.22s\n",
            "825:\tlearn: 0.0680896\ttotal: 5.76s\tremaining: 1.21s\n",
            "826:\tlearn: 0.0680432\ttotal: 5.77s\tremaining: 1.21s\n",
            "827:\tlearn: 0.0679724\ttotal: 5.77s\tremaining: 1.2s\n",
            "828:\tlearn: 0.0678907\ttotal: 5.78s\tremaining: 1.19s\n",
            "829:\tlearn: 0.0678338\ttotal: 5.79s\tremaining: 1.19s\n",
            "830:\tlearn: 0.0677725\ttotal: 5.79s\tremaining: 1.18s\n",
            "831:\tlearn: 0.0676881\ttotal: 5.8s\tremaining: 1.17s\n",
            "832:\tlearn: 0.0676383\ttotal: 5.8s\tremaining: 1.16s\n",
            "833:\tlearn: 0.0675475\ttotal: 5.81s\tremaining: 1.16s\n",
            "834:\tlearn: 0.0674662\ttotal: 5.82s\tremaining: 1.15s\n",
            "835:\tlearn: 0.0674050\ttotal: 5.82s\tremaining: 1.14s\n",
            "836:\tlearn: 0.0673291\ttotal: 5.83s\tremaining: 1.14s\n",
            "837:\tlearn: 0.0672314\ttotal: 5.84s\tremaining: 1.13s\n",
            "838:\tlearn: 0.0671843\ttotal: 5.84s\tremaining: 1.12s\n",
            "839:\tlearn: 0.0671004\ttotal: 5.85s\tremaining: 1.11s\n",
            "840:\tlearn: 0.0670562\ttotal: 5.86s\tremaining: 1.11s\n",
            "841:\tlearn: 0.0670089\ttotal: 5.87s\tremaining: 1.1s\n",
            "842:\tlearn: 0.0669544\ttotal: 5.87s\tremaining: 1.09s\n",
            "843:\tlearn: 0.0668815\ttotal: 5.88s\tremaining: 1.09s\n",
            "844:\tlearn: 0.0668248\ttotal: 5.88s\tremaining: 1.08s\n",
            "845:\tlearn: 0.0667710\ttotal: 5.89s\tremaining: 1.07s\n",
            "846:\tlearn: 0.0667417\ttotal: 5.9s\tremaining: 1.06s\n",
            "847:\tlearn: 0.0666815\ttotal: 5.9s\tremaining: 1.06s\n",
            "848:\tlearn: 0.0666241\ttotal: 5.91s\tremaining: 1.05s\n",
            "849:\tlearn: 0.0665379\ttotal: 5.92s\tremaining: 1.04s\n",
            "850:\tlearn: 0.0664706\ttotal: 5.93s\tremaining: 1.04s\n",
            "851:\tlearn: 0.0664115\ttotal: 5.93s\tremaining: 1.03s\n",
            "852:\tlearn: 0.0663559\ttotal: 5.94s\tremaining: 1.02s\n",
            "853:\tlearn: 0.0662981\ttotal: 5.95s\tremaining: 1.02s\n",
            "854:\tlearn: 0.0662665\ttotal: 5.96s\tremaining: 1.01s\n",
            "855:\tlearn: 0.0661991\ttotal: 5.96s\tremaining: 1s\n",
            "856:\tlearn: 0.0660543\ttotal: 5.97s\tremaining: 996ms\n",
            "857:\tlearn: 0.0659921\ttotal: 5.97s\tremaining: 989ms\n",
            "858:\tlearn: 0.0659173\ttotal: 5.98s\tremaining: 982ms\n",
            "859:\tlearn: 0.0658137\ttotal: 5.99s\tremaining: 975ms\n",
            "860:\tlearn: 0.0657619\ttotal: 5.99s\tremaining: 968ms\n",
            "861:\tlearn: 0.0656987\ttotal: 6s\tremaining: 961ms\n",
            "862:\tlearn: 0.0656074\ttotal: 6.01s\tremaining: 954ms\n",
            "863:\tlearn: 0.0655544\ttotal: 6.01s\tremaining: 947ms\n",
            "864:\tlearn: 0.0654818\ttotal: 6.02s\tremaining: 939ms\n",
            "865:\tlearn: 0.0654248\ttotal: 6.03s\tremaining: 932ms\n",
            "866:\tlearn: 0.0653856\ttotal: 6.03s\tremaining: 925ms\n",
            "867:\tlearn: 0.0652949\ttotal: 6.04s\tremaining: 918ms\n",
            "868:\tlearn: 0.0652425\ttotal: 6.04s\tremaining: 911ms\n",
            "869:\tlearn: 0.0651500\ttotal: 6.05s\tremaining: 904ms\n",
            "870:\tlearn: 0.0650930\ttotal: 6.06s\tremaining: 897ms\n",
            "871:\tlearn: 0.0650591\ttotal: 6.06s\tremaining: 890ms\n",
            "872:\tlearn: 0.0649897\ttotal: 6.07s\tremaining: 883ms\n",
            "873:\tlearn: 0.0649392\ttotal: 6.08s\tremaining: 876ms\n",
            "874:\tlearn: 0.0648700\ttotal: 6.08s\tremaining: 869ms\n",
            "875:\tlearn: 0.0648146\ttotal: 6.09s\tremaining: 862ms\n",
            "876:\tlearn: 0.0647256\ttotal: 6.1s\tremaining: 855ms\n",
            "877:\tlearn: 0.0646882\ttotal: 6.13s\tremaining: 851ms\n",
            "878:\tlearn: 0.0646563\ttotal: 6.13s\tremaining: 845ms\n",
            "879:\tlearn: 0.0645525\ttotal: 6.14s\tremaining: 838ms\n",
            "880:\tlearn: 0.0644984\ttotal: 6.15s\tremaining: 831ms\n",
            "881:\tlearn: 0.0644486\ttotal: 6.16s\tremaining: 824ms\n",
            "882:\tlearn: 0.0644001\ttotal: 6.17s\tremaining: 818ms\n",
            "883:\tlearn: 0.0643229\ttotal: 6.18s\tremaining: 811ms\n",
            "884:\tlearn: 0.0642684\ttotal: 6.18s\tremaining: 804ms\n",
            "885:\tlearn: 0.0642180\ttotal: 6.19s\tremaining: 796ms\n",
            "886:\tlearn: 0.0641247\ttotal: 6.2s\tremaining: 789ms\n",
            "887:\tlearn: 0.0640541\ttotal: 6.2s\tremaining: 782ms\n",
            "888:\tlearn: 0.0640035\ttotal: 6.21s\tremaining: 775ms\n",
            "889:\tlearn: 0.0639280\ttotal: 6.22s\tremaining: 768ms\n",
            "890:\tlearn: 0.0638418\ttotal: 6.22s\tremaining: 761ms\n",
            "891:\tlearn: 0.0637846\ttotal: 6.23s\tremaining: 754ms\n",
            "892:\tlearn: 0.0637521\ttotal: 6.24s\tremaining: 747ms\n",
            "893:\tlearn: 0.0637002\ttotal: 6.24s\tremaining: 740ms\n",
            "894:\tlearn: 0.0636413\ttotal: 6.25s\tremaining: 733ms\n",
            "895:\tlearn: 0.0636023\ttotal: 6.25s\tremaining: 726ms\n",
            "896:\tlearn: 0.0635182\ttotal: 6.26s\tremaining: 719ms\n",
            "897:\tlearn: 0.0634660\ttotal: 6.27s\tremaining: 712ms\n",
            "898:\tlearn: 0.0634182\ttotal: 6.28s\tremaining: 705ms\n",
            "899:\tlearn: 0.0633505\ttotal: 6.28s\tremaining: 698ms\n",
            "900:\tlearn: 0.0632190\ttotal: 6.29s\tremaining: 691ms\n",
            "901:\tlearn: 0.0631534\ttotal: 6.29s\tremaining: 684ms\n",
            "902:\tlearn: 0.0631078\ttotal: 6.3s\tremaining: 677ms\n",
            "903:\tlearn: 0.0630634\ttotal: 6.31s\tremaining: 670ms\n",
            "904:\tlearn: 0.0630379\ttotal: 6.31s\tremaining: 663ms\n",
            "905:\tlearn: 0.0629583\ttotal: 6.32s\tremaining: 656ms\n",
            "906:\tlearn: 0.0628845\ttotal: 6.33s\tremaining: 649ms\n",
            "907:\tlearn: 0.0628366\ttotal: 6.33s\tremaining: 642ms\n",
            "908:\tlearn: 0.0627473\ttotal: 6.34s\tremaining: 635ms\n",
            "909:\tlearn: 0.0626841\ttotal: 6.35s\tremaining: 628ms\n",
            "910:\tlearn: 0.0626146\ttotal: 6.36s\tremaining: 621ms\n",
            "911:\tlearn: 0.0625790\ttotal: 6.37s\tremaining: 614ms\n",
            "912:\tlearn: 0.0625477\ttotal: 6.37s\tremaining: 607ms\n",
            "913:\tlearn: 0.0624979\ttotal: 6.38s\tremaining: 600ms\n",
            "914:\tlearn: 0.0624463\ttotal: 6.38s\tremaining: 593ms\n",
            "915:\tlearn: 0.0623972\ttotal: 6.39s\tremaining: 586ms\n",
            "916:\tlearn: 0.0623549\ttotal: 6.4s\tremaining: 579ms\n",
            "917:\tlearn: 0.0623090\ttotal: 6.4s\tremaining: 572ms\n",
            "918:\tlearn: 0.0622628\ttotal: 6.41s\tremaining: 565ms\n",
            "919:\tlearn: 0.0622218\ttotal: 6.42s\tremaining: 558ms\n",
            "920:\tlearn: 0.0621596\ttotal: 6.42s\tremaining: 551ms\n",
            "921:\tlearn: 0.0621198\ttotal: 6.43s\tremaining: 544ms\n",
            "922:\tlearn: 0.0620667\ttotal: 6.44s\tremaining: 537ms\n",
            "923:\tlearn: 0.0620056\ttotal: 6.44s\tremaining: 530ms\n",
            "924:\tlearn: 0.0619242\ttotal: 6.45s\tremaining: 523ms\n",
            "925:\tlearn: 0.0618755\ttotal: 6.46s\tremaining: 516ms\n",
            "926:\tlearn: 0.0617824\ttotal: 6.46s\tremaining: 509ms\n",
            "927:\tlearn: 0.0617156\ttotal: 6.47s\tremaining: 502ms\n",
            "928:\tlearn: 0.0616347\ttotal: 6.47s\tremaining: 495ms\n",
            "929:\tlearn: 0.0615602\ttotal: 6.48s\tremaining: 488ms\n",
            "930:\tlearn: 0.0615309\ttotal: 6.49s\tremaining: 481ms\n",
            "931:\tlearn: 0.0614653\ttotal: 6.49s\tremaining: 474ms\n",
            "932:\tlearn: 0.0614055\ttotal: 6.5s\tremaining: 467ms\n",
            "933:\tlearn: 0.0613335\ttotal: 6.51s\tremaining: 460ms\n",
            "934:\tlearn: 0.0612901\ttotal: 6.51s\tremaining: 453ms\n",
            "935:\tlearn: 0.0612138\ttotal: 6.52s\tremaining: 446ms\n",
            "936:\tlearn: 0.0611511\ttotal: 6.53s\tremaining: 439ms\n",
            "937:\tlearn: 0.0611023\ttotal: 6.53s\tremaining: 432ms\n",
            "938:\tlearn: 0.0610557\ttotal: 6.54s\tremaining: 425ms\n",
            "939:\tlearn: 0.0610124\ttotal: 6.55s\tremaining: 418ms\n",
            "940:\tlearn: 0.0609031\ttotal: 6.55s\tremaining: 411ms\n",
            "941:\tlearn: 0.0608265\ttotal: 6.56s\tremaining: 404ms\n",
            "942:\tlearn: 0.0607163\ttotal: 6.57s\tremaining: 397ms\n",
            "943:\tlearn: 0.0606437\ttotal: 6.57s\tremaining: 390ms\n",
            "944:\tlearn: 0.0605848\ttotal: 6.58s\tremaining: 383ms\n",
            "945:\tlearn: 0.0605248\ttotal: 6.59s\tremaining: 376ms\n",
            "946:\tlearn: 0.0604807\ttotal: 6.59s\tremaining: 369ms\n",
            "947:\tlearn: 0.0604111\ttotal: 6.6s\tremaining: 362ms\n",
            "948:\tlearn: 0.0603648\ttotal: 6.61s\tremaining: 355ms\n",
            "949:\tlearn: 0.0602921\ttotal: 6.61s\tremaining: 348ms\n",
            "950:\tlearn: 0.0602354\ttotal: 6.62s\tremaining: 341ms\n",
            "951:\tlearn: 0.0601903\ttotal: 6.63s\tremaining: 334ms\n",
            "952:\tlearn: 0.0601708\ttotal: 6.63s\tremaining: 327ms\n",
            "953:\tlearn: 0.0601034\ttotal: 6.64s\tremaining: 320ms\n",
            "954:\tlearn: 0.0600324\ttotal: 6.64s\tremaining: 313ms\n",
            "955:\tlearn: 0.0599309\ttotal: 6.65s\tremaining: 306ms\n",
            "956:\tlearn: 0.0598627\ttotal: 6.66s\tremaining: 299ms\n",
            "957:\tlearn: 0.0598193\ttotal: 6.66s\tremaining: 292ms\n",
            "958:\tlearn: 0.0597937\ttotal: 6.67s\tremaining: 285ms\n",
            "959:\tlearn: 0.0597668\ttotal: 6.68s\tremaining: 278ms\n",
            "960:\tlearn: 0.0597401\ttotal: 6.68s\tremaining: 271ms\n",
            "961:\tlearn: 0.0597142\ttotal: 6.69s\tremaining: 264ms\n",
            "962:\tlearn: 0.0596879\ttotal: 6.7s\tremaining: 257ms\n",
            "963:\tlearn: 0.0596233\ttotal: 6.7s\tremaining: 250ms\n",
            "964:\tlearn: 0.0595777\ttotal: 6.71s\tremaining: 243ms\n",
            "965:\tlearn: 0.0594711\ttotal: 6.71s\tremaining: 236ms\n",
            "966:\tlearn: 0.0593858\ttotal: 6.72s\tremaining: 229ms\n",
            "967:\tlearn: 0.0593323\ttotal: 6.73s\tremaining: 222ms\n",
            "968:\tlearn: 0.0592839\ttotal: 6.73s\tremaining: 215ms\n",
            "969:\tlearn: 0.0592393\ttotal: 6.74s\tremaining: 208ms\n",
            "970:\tlearn: 0.0591745\ttotal: 6.75s\tremaining: 202ms\n",
            "971:\tlearn: 0.0590944\ttotal: 6.75s\tremaining: 195ms\n",
            "972:\tlearn: 0.0590435\ttotal: 6.76s\tremaining: 188ms\n",
            "973:\tlearn: 0.0590020\ttotal: 6.77s\tremaining: 181ms\n",
            "974:\tlearn: 0.0589368\ttotal: 6.78s\tremaining: 174ms\n",
            "975:\tlearn: 0.0588965\ttotal: 6.78s\tremaining: 167ms\n",
            "976:\tlearn: 0.0588263\ttotal: 6.79s\tremaining: 160ms\n",
            "977:\tlearn: 0.0587595\ttotal: 6.79s\tremaining: 153ms\n",
            "978:\tlearn: 0.0587023\ttotal: 6.8s\tremaining: 146ms\n",
            "979:\tlearn: 0.0586775\ttotal: 6.81s\tremaining: 139ms\n",
            "980:\tlearn: 0.0586220\ttotal: 6.82s\tremaining: 132ms\n",
            "981:\tlearn: 0.0585632\ttotal: 6.82s\tremaining: 125ms\n",
            "982:\tlearn: 0.0584812\ttotal: 6.83s\tremaining: 118ms\n",
            "983:\tlearn: 0.0584100\ttotal: 6.83s\tremaining: 111ms\n",
            "984:\tlearn: 0.0583180\ttotal: 6.84s\tremaining: 104ms\n",
            "985:\tlearn: 0.0582762\ttotal: 6.85s\tremaining: 97.2ms\n",
            "986:\tlearn: 0.0582488\ttotal: 6.85s\tremaining: 90.3ms\n",
            "987:\tlearn: 0.0581924\ttotal: 6.86s\tremaining: 83.3ms\n",
            "988:\tlearn: 0.0581298\ttotal: 6.87s\tremaining: 76.4ms\n",
            "989:\tlearn: 0.0581003\ttotal: 6.87s\tremaining: 69.4ms\n",
            "990:\tlearn: 0.0580041\ttotal: 6.88s\tremaining: 62.5ms\n",
            "991:\tlearn: 0.0579016\ttotal: 6.89s\tremaining: 55.5ms\n",
            "992:\tlearn: 0.0578824\ttotal: 6.89s\tremaining: 48.6ms\n",
            "993:\tlearn: 0.0578378\ttotal: 6.9s\tremaining: 41.6ms\n",
            "994:\tlearn: 0.0577994\ttotal: 6.91s\tremaining: 34.7ms\n",
            "995:\tlearn: 0.0577397\ttotal: 6.92s\tremaining: 27.8ms\n",
            "996:\tlearn: 0.0576650\ttotal: 6.92s\tremaining: 20.8ms\n",
            "997:\tlearn: 0.0576465\ttotal: 6.93s\tremaining: 13.9ms\n",
            "998:\tlearn: 0.0576331\ttotal: 6.94s\tremaining: 6.94ms\n",
            "999:\tlearn: 0.0576127\ttotal: 6.94s\tremaining: 0us\n",
            "\n",
            "confusion_matrixt: \n",
            "[[487  14]\n",
            " [  0  85]]\n",
            "\n",
            "              precision    recall  f1-score   support\n",
            "\n",
            "         0.0       1.00      0.97      0.99       501\n",
            "         1.0       0.86      1.00      0.92        85\n",
            "\n",
            "    accuracy                           0.98       586\n",
            "   macro avg       0.93      0.99      0.95       586\n",
            "weighted avg       0.98      0.98      0.98       586\n",
            "\n",
            "Precision:  0.8585858585858586\n",
            "Recall:  1.0\n",
            "F1 Score:  0.9239130434782609\n",
            "Auc Score:  0.9860279441117765\n",
            "Accuracy Score:  0.9761092150170648\n"
          ]
        },
        {
          "output_type": "display_data",
          "data": {
            "text/plain": [
              "<Figure size 432x288 with 1 Axes>"
            ],
            "image/png": "[encoded data removed]"
          },
          "metadata": {
            "needs_background": "light"
          }
        }
      ],
      "source": [
        "clf = cb.CatBoostClassifier()\n",
        "clf.fit(train_x, train_y,plot=True)\n",
        "pred_y = clf.predict(val_x)\n",
        "\n",
        "print (\"\")\n",
        "print (\"confusion_matrixt: \")\n",
        "print (confusion_matrix(val_y, pred_y))\n",
        "\n",
        "print (\"\")\n",
        "print (classification_report(val_y, pred_y))\n",
        "print (\"Precision: \", precision_score(val_y, pred_y))\n",
        "print (\"Recall: \", recall_score(val_y, pred_y))\n",
        "print (\"F1 Score: \", f1_score(val_y, pred_y))\n",
        "print (\"Auc Score: \", roc_auc_score(val_y, pred_y))\n",
        "print (\"Accuracy Score: \", accuracy_score(val_y, pred_y))\n",
        "\n",
        "fpr, tpr, _ = metrics.roc_curve(val_y,  pred_y)\n",
        "#create ROC curve\n",
        "plt.plot(fpr,tpr)\n",
        "plt.ylabel('True Positive Rate')\n",
        "plt.xlabel('False Positive Rate')\n",
        "plt.show()"
      ]
    },
    {
      "cell_type": "markdown",
      "metadata": {
        "id": "kv4OX9l4ifjU"
      },
      "source": [
        "#AdaBoost Classifier"
      ]
    },
    {
      "cell_type": "code",
      "execution_count": null,
      "metadata": {
        "id": "D3xTdUtb0TYJ",
        "colab": {
          "base_uri": "https://localhost:8080/",
          "height": 384
        },
        "outputId": "946442ae-19ad-496d-9754-cc7459ba4f44"
      },
      "outputs": [
        {
          "output_type": "stream",
          "name": "stdout",
          "text": [
            "\n",
            "confusion_matrixt: \n",
            "[[446  55]\n",
            " [  1  84]]\n",
            "\n",
            "              precision    recall  f1-score   support\n",
            "\n",
            "         0.0       1.00      0.89      0.94       501\n",
            "         1.0       0.60      0.99      0.75        85\n",
            "\n",
            "    accuracy                           0.90       586\n",
            "   macro avg       0.80      0.94      0.85       586\n",
            "weighted avg       0.94      0.90      0.91       586\n",
            "\n",
            "Precision:  0.60431654676259\n",
            "Recall:  0.9882352941176471\n",
            "F1 Score:  0.75\n",
            "Auc Score:  0.9392274274979453\n",
            "Accuracy Score:  0.9044368600682594\n"
          ]
        },
        {
          "output_type": "display_data",
          "data": {
            "text/plain": [
              "<Figure size 432x288 with 1 Axes>"
            ],
            "image/png": "[encoded data removed]"
          },
          "metadata": {
            "needs_background": "light"
          }
        }
      ],
      "source": [
        "clf = ensemble.AdaBoostClassifier()\n",
        "clf.fit(train_x, train_y)\n",
        "pred_y = clf.predict(val_x)\n",
        "\n",
        "print (\"\")\n",
        "print (\"confusion_matrixt: \")\n",
        "print (confusion_matrix(val_y, pred_y))\n",
        "\n",
        "print (\"\")\n",
        "print (classification_report(val_y, pred_y))\n",
        "print (\"Precision: \", precision_score(val_y, pred_y))\n",
        "print (\"Recall: \", recall_score(val_y, pred_y))\n",
        "print (\"F1 Score: \", f1_score(val_y, pred_y))\n",
        "print (\"Auc Score: \", roc_auc_score(val_y, pred_y))\n",
        "print (\"Accuracy Score: \", accuracy_score(val_y, pred_y))\n",
        "\n",
        "fpr, tpr, _ = metrics.roc_curve(val_y,  pred_y)\n",
        "#create ROC curve\n",
        "plt.plot(fpr,tpr)\n",
        "plt.ylabel('True Positive Rate')\n",
        "plt.xlabel('False Positive Rate')\n",
        "plt.show()"
      ]
    },
    {
      "cell_type": "markdown",
      "metadata": {
        "id": "7Y0rQ1gzih3X"
      },
      "source": [
        "#XGBoost Classifier"
      ]
    },
    {
      "cell_type": "code",
      "execution_count": null,
      "metadata": {
        "id": "2GN8Fgt0ajuG",
        "colab": {
          "base_uri": "https://localhost:8080/",
          "height": 609
        },
        "outputId": "0e67ebf5-ccae-4e73-b678-aca3a1932839"
      },
      "outputs": [
        {
          "output_type": "stream",
          "name": "stdout",
          "text": [
            "\n",
            "confusion_matrixt: \n",
            "[[454  47]\n",
            " [  0  85]]\n",
            "\n",
            "              precision    recall  f1-score   support\n",
            "\n",
            "         0.0       1.00      0.91      0.95       501\n",
            "         1.0       0.64      1.00      0.78        85\n",
            "\n",
            "    accuracy                           0.92       586\n",
            "   macro avg       0.82      0.95      0.87       586\n",
            "weighted avg       0.95      0.92      0.93       586\n",
            "\n",
            "Precision:  0.6439393939393939\n",
            "Recall:  1.0\n",
            "F1 Score:  0.7834101382488479\n",
            "Auc Score:  0.9530938123752495\n",
            "Accuracy Score:  0.9197952218430034\n"
          ]
        },
        {
          "output_type": "display_data",
          "data": {
            "text/plain": [
              "<Figure size 432x288 with 1 Axes>"
            ],
            "image/png": "[encoded data removed]"
          },
          "metadata": {
            "needs_background": "light"
          }
        }
      ],
      "source": [
        "clf =  xgb.XGBClassifier()\n",
        "clf.fit(train_x, train_y)\n",
        "pred_y = clf.predict(val_x)\n",
        "\n",
        "print (\"\")\n",
        "print (\"confusion_matrixt: \")\n",
        "print (confusion_matrix(val_y, pred_y))\n",
        "\n",
        "print (\"\")\n",
        "print (classification_report(val_y, pred_y))\n",
        "print (\"Precision: \", precision_score(val_y, pred_y))\n",
        "print (\"Recall: \", recall_score(val_y, pred_y))\n",
        "print (\"F1 Score: \", f1_score(val_y, pred_y))\n",
        "print (\"Auc Score: \", roc_auc_score(val_y, pred_y))\n",
        "print (\"Accuracy Score: \", accuracy_score(val_y, pred_y))\n",
        "\n",
        "fpr, tpr, _ = metrics.roc_curve(val_y,  pred_y)\n",
        "#create ROC curve\n",
        "plt.plot(fpr,tpr)\n",
        "plt.ylabel('True Positive Rate')\n",
        "plt.xlabel('False Positive Rate')\n",
        "plt.show()"
      ]
    },
    {
      "cell_type": "markdown",
      "metadata": {
        "id": "H3XK1p0XilJO"
      },
      "source": [
        "#LightGBM Classifier"
      ]
    },
    {
      "cell_type": "code",
      "execution_count": null,
      "metadata": {
        "id": "Bl0VtzBfakkl",
        "colab": {
          "base_uri": "https://localhost:8080/",
          "height": 609
        },
        "outputId": "e4cf38ea-389a-4d2b-d001-4d632295876a"
      },
      "outputs": [
        {
          "output_type": "stream",
          "name": "stdout",
          "text": [
            "\n",
            "confusion_matrixt: \n",
            "[[496   5]\n",
            " [  0  85]]\n",
            "\n",
            "              precision    recall  f1-score   support\n",
            "\n",
            "         0.0       1.00      0.99      0.99       501\n",
            "         1.0       0.94      1.00      0.97        85\n",
            "\n",
            "    accuracy                           0.99       586\n",
            "   macro avg       0.97      1.00      0.98       586\n",
            "weighted avg       0.99      0.99      0.99       586\n",
            "\n",
            "Precision:  0.9444444444444444\n",
            "Recall:  1.0\n",
            "F1 Score:  0.9714285714285714\n",
            "Auc Score:  0.9950099800399201\n",
            "Accuracy Score:  0.9914675767918089\n"
          ]
        },
        {
          "output_type": "display_data",
          "data": {
            "text/plain": [
              "<Figure size 432x288 with 1 Axes>"
            ],
            "image/png": "[encoded data removed]"
          },
          "metadata": {
            "needs_background": "light"
          }
        }
      ],
      "source": [
        "clf =  lgb.LGBMClassifier()\n",
        "clf.fit(train_x, train_y)\n",
        "pred_y = clf.predict(val_x)\n",
        "\n",
        "print (\"\")\n",
        "print (\"confusion_matrixt: \")\n",
        "print (confusion_matrix(val_y, pred_y))\n",
        "\n",
        "print (\"\")\n",
        "print (classification_report(val_y, pred_y))\n",
        "print (\"Precision: \", precision_score(val_y, pred_y))\n",
        "print (\"Recall: \", recall_score(val_y, pred_y))\n",
        "print (\"F1 Score: \", f1_score(val_y, pred_y))\n",
        "print (\"Auc Score: \", roc_auc_score(val_y, pred_y))\n",
        "print (\"Accuracy Score: \", accuracy_score(val_y, pred_y))\n",
        "\n",
        "fpr, tpr, _ = metrics.roc_curve(val_y, pred_y)\n",
        "#create ROC curve\n",
        "plt.plot(fpr,tpr)\n",
        "plt.ylabel('True Positive Rate')\n",
        "plt.xlabel('False Positive Rate')\n",
        "plt.show()"
      ]
    },
    {
      "cell_type": "code",
      "execution_count": null,
      "metadata": {
        "id": "r431ENWpJ6Cw"
      },
      "outputs": [],
      "source": [
        ""
      ]
    }
  ],
  "metadata": {
    "accelerator": "GPU",
    "colab": {
      "collapsed_sections": [],
      "machine_shape": "hm",
      "name": "Copy of Thesis_Implementation_catboost_partD(with autoencoders and with SMOTE).ipynb",
      "provenance": [],
      "authorship_tag": "ABX9TyNw0p3GxVlLzGRE01YiXyd8",
      "include_colab_link": true
    },
    "kernelspec": {
      "display_name": "Python 3",
      "name": "python3"
    },
    "language_info": {
      "name": "python"
    },
    "widgets": {
      "application/vnd.jupyter.widget-state+json": {
        "9aff6fd80b06484cb3e912fba95005d4": {
          "model_module": "catboost-widget",
          "model_name": "CatboostWidgetModel",
          "model_module_version": "^1.0.0",
          "state": {
            "_dom_classes": [],
            "_model_module": "catboost-widget",
            "_model_module_version": "^1.0.0",
            "_model_name": "CatboostWidgetModel",
            "_view_count": null,
            "_view_module": "catboost-widget",
            "_view_module_version": "^1.0.0",
            "_view_name": "CatboostWidgetView",
            "data": {
              "catboost_info": {
                "path": "catboost_info",
                "name": "catboost_info",
                "content": {
                  "passed_iterations": 999,
                  "total_iterations": 1000,
                  "data": {
                    "iterations": [
                      {
                        "learn": [
                          0.6762475586
                        ],
                        "iteration": 0,
                        "passed_time": 0.05427935441,
                        "remaining_time": 54.22507505
                      },
                      {
                        "learn": [
                          0.6584766846
                        ],
                        "iteration": 1,
                        "passed_time": 0.06083327309,
                        "remaining_time": 30.35580327
                      },
                      {
                        "learn": [
                          0.6436120605
                        ],
                        "iteration": 2,
                        "passed_time": 0.06709558263,
                        "remaining_time": 22.29809863
                      },
                      {
                        "learn": [
                          0.6291986084
                        ],
                        "iteration": 3,
                        "passed_time": 0.07319267021,
                        "remaining_time": 18.22497488
                      },
                      {
                        "learn": [
                          0.6146957397
                        ],
                        "iteration": 4,
                        "passed_time": 0.07960097217,
                        "remaining_time": 15.84059346
                      },
                      {
                        "learn": [
                          0.6003773804
                        ],
                        "iteration": 5,
                        "passed_time": 0.08587035653,
                        "remaining_time": 14.22585573
                      },
                      {
                        "learn": [
                          0.5871027222
                        ],
                        "iteration": 6,
                        "passed_time": 0.09197152873,
                        "remaining_time": 13.04681829
                      },
                      {
                        "learn": [
                          0.5747723999
                        ],
                        "iteration": 7,
                        "passed_time": 0.09824321151,
                        "remaining_time": 12.18215823
                      },
                      {
                        "learn": [
                          0.5631573486
                        ],
                        "iteration": 8,
                        "passed_time": 0.1047618,
                        "remaining_time": 11.5354382
                      },
                      {
                        "learn": [
                          0.553484436
                        ],
                        "iteration": 9,
                        "passed_time": 0.1121668993,
                        "remaining_time": 11.10452303
                      },
                      {
                        "learn": [
                          0.541918457
                        ],
                        "iteration": 10,
                        "passed_time": 0.1181621592,
                        "remaining_time": 10.62385231
                      },
                      {
                        "learn": [
                          0.5323886719
                        ],
                        "iteration": 11,
                        "passed_time": 0.1245708251,
                        "remaining_time": 10.25633126
                      },
                      {
                        "learn": [
                          0.5229694214
                        ],
                        "iteration": 12,
                        "passed_time": 0.1309466483,
                        "remaining_time": 9.941872453
                      },
                      {
                        "learn": [
                          0.5106612549
                        ],
                        "iteration": 13,
                        "passed_time": 0.1377724805,
                        "remaining_time": 9.703118982
                      },
                      {
                        "learn": [
                          0.5010856018
                        ],
                        "iteration": 14,
                        "passed_time": 0.1441855345,
                        "remaining_time": 9.468183431
                      },
                      {
                        "learn": [
                          0.4930289307
                        ],
                        "iteration": 15,
                        "passed_time": 0.1507115422,
                        "remaining_time": 9.268759843
                      },
                      {
                        "learn": [
                          0.4812376099
                        ],
                        "iteration": 16,
                        "passed_time": 0.1568082454,
                        "remaining_time": 9.067206188
                      },
                      {
                        "learn": [
                          0.4736459961
                        ],
                        "iteration": 17,
                        "passed_time": 0.1633151687,
                        "remaining_time": 8.909749761
                      },
                      {
                        "learn": [
                          0.4621499023
                        ],
                        "iteration": 18,
                        "passed_time": 0.1701205769,
                        "remaining_time": 8.783593997
                      },
                      {
                        "learn": [
                          0.453964386
                        ],
                        "iteration": 19,
                        "passed_time": 0.1761784088,
                        "remaining_time": 8.632742031
                      },
                      {
                        "learn": [
                          0.4460424194
                        ],
                        "iteration": 20,
                        "passed_time": 0.1830199329,
                        "remaining_time": 8.532214966
                      },
                      {
                        "learn": [
                          0.4401254883
                        ],
                        "iteration": 21,
                        "passed_time": 0.1893577753,
                        "remaining_time": 8.41781383
                      },
                      {
                        "learn": [
                          0.433067627
                        ],
                        "iteration": 22,
                        "passed_time": 0.1955733109,
                        "remaining_time": 8.307614118
                      },
                      {
                        "learn": [
                          0.4260693359
                        ],
                        "iteration": 23,
                        "passed_time": 0.204507145,
                        "remaining_time": 8.316623895
                      },
                      {
                        "learn": [
                          0.4189196777
                        ],
                        "iteration": 24,
                        "passed_time": 0.2111249819,
                        "remaining_time": 8.233874292
                      },
                      {
                        "learn": [
                          0.4124534302
                        ],
                        "iteration": 25,
                        "passed_time": 0.2177219543,
                        "remaining_time": 8.156199365
                      },
                      {
                        "learn": [
                          0.4055981445
                        ],
                        "iteration": 26,
                        "passed_time": 0.2240716554,
                        "remaining_time": 8.074878543
                      },
                      {
                        "learn": [
                          0.4006026611
                        ],
                        "iteration": 27,
                        "passed_time": 0.2304625066,
                        "remaining_time": 8.0003413
                      },
                      {
                        "learn": [
                          0.3957629089
                        ],
                        "iteration": 28,
                        "passed_time": 0.2367862602,
                        "remaining_time": 7.928257196
                      },
                      {
                        "learn": [
                          0.3881806641
                        ],
                        "iteration": 29,
                        "passed_time": 0.2431555883,
                        "remaining_time": 7.862030687
                      },
                      {
                        "learn": [
                          0.3826813965
                        ],
                        "iteration": 30,
                        "passed_time": 0.2499709228,
                        "remaining_time": 7.813607231
                      },
                      {
                        "learn": [
                          0.3776917725
                        ],
                        "iteration": 31,
                        "passed_time": 0.2564279854,
                        "remaining_time": 7.756946558
                      },
                      {
                        "learn": [
                          0.372334259
                        ],
                        "iteration": 32,
                        "passed_time": 0.2626529211,
                        "remaining_time": 7.696526507
                      },
                      {
                        "learn": [
                          0.3668470459
                        ],
                        "iteration": 33,
                        "passed_time": 0.2695573442,
                        "remaining_time": 7.658599838
                      },
                      {
                        "learn": [
                          0.3612515259
                        ],
                        "iteration": 34,
                        "passed_time": 0.2759756686,
                        "remaining_time": 7.609043433
                      },
                      {
                        "learn": [
                          0.3569214478
                        ],
                        "iteration": 35,
                        "passed_time": 0.2822923891,
                        "remaining_time": 7.559162865
                      },
                      {
                        "learn": [
                          0.3516546326
                        ],
                        "iteration": 36,
                        "passed_time": 0.2886346675,
                        "remaining_time": 7.512302293
                      },
                      {
                        "learn": [
                          0.3481907349
                        ],
                        "iteration": 37,
                        "passed_time": 0.2952576104,
                        "remaining_time": 7.474679506
                      },
                      {
                        "learn": [
                          0.3440417175
                        ],
                        "iteration": 38,
                        "passed_time": 0.3022282462,
                        "remaining_time": 7.447213964
                      },
                      {
                        "learn": [
                          0.3396843872
                        ],
                        "iteration": 39,
                        "passed_time": 0.3084050144,
                        "remaining_time": 7.401720345
                      },
                      {
                        "learn": [
                          0.3340645752
                        ],
                        "iteration": 40,
                        "passed_time": 0.3152037008,
                        "remaining_time": 7.37269144
                      },
                      {
                        "learn": [
                          0.3309991455
                        ],
                        "iteration": 41,
                        "passed_time": 0.321715057,
                        "remaining_time": 7.338167253
                      },
                      {
                        "learn": [
                          0.3270371704
                        ],
                        "iteration": 42,
                        "passed_time": 0.3280823423,
                        "remaining_time": 7.301739572
                      },
                      {
                        "learn": [
                          0.3246090393
                        ],
                        "iteration": 43,
                        "passed_time": 0.3345846471,
                        "remaining_time": 7.269611878
                      },
                      {
                        "learn": [
                          0.3198545227
                        ],
                        "iteration": 44,
                        "passed_time": 0.340853224,
                        "remaining_time": 7.233662865
                      },
                      {
                        "learn": [
                          0.3165317688
                        ],
                        "iteration": 45,
                        "passed_time": 0.347332482,
                        "remaining_time": 7.203373649
                      },
                      {
                        "learn": [
                          0.312853302
                        ],
                        "iteration": 46,
                        "passed_time": 0.353783553,
                        "remaining_time": 7.173526084
                      },
                      {
                        "learn": [
                          0.3099447327
                        ],
                        "iteration": 47,
                        "passed_time": 0.3603502495,
                        "remaining_time": 7.146946614
                      },
                      {
                        "learn": [
                          0.307262085
                        ],
                        "iteration": 48,
                        "passed_time": 0.3669743385,
                        "remaining_time": 7.122297876
                      },
                      {
                        "learn": [
                          0.3048766785
                        ],
                        "iteration": 49,
                        "passed_time": 0.3733874917,
                        "remaining_time": 7.094362341
                      },
                      {
                        "learn": [
                          0.3017113647
                        ],
                        "iteration": 50,
                        "passed_time": 0.3795781725,
                        "remaining_time": 7.063131092
                      },
                      {
                        "learn": [
                          0.29821875
                        ],
                        "iteration": 51,
                        "passed_time": 0.3859424936,
                        "remaining_time": 7.036028538
                      },
                      {
                        "learn": [
                          0.2947971497
                        ],
                        "iteration": 52,
                        "passed_time": 0.3920022822,
                        "remaining_time": 7.004267193
                      },
                      {
                        "learn": [
                          0.292480835
                        ],
                        "iteration": 53,
                        "passed_time": 0.4007912631,
                        "remaining_time": 7.021269165
                      },
                      {
                        "learn": [
                          0.2886659546
                        ],
                        "iteration": 54,
                        "passed_time": 0.4080110878,
                        "remaining_time": 7.010372327
                      },
                      {
                        "learn": [
                          0.286149353
                        ],
                        "iteration": 55,
                        "passed_time": 0.4146552795,
                        "remaining_time": 6.989903283
                      },
                      {
                        "learn": [
                          0.28321698
                        ],
                        "iteration": 56,
                        "passed_time": 0.4209439073,
                        "remaining_time": 6.964036923
                      },
                      {
                        "learn": [
                          0.280117981
                        ],
                        "iteration": 57,
                        "passed_time": 0.4274347648,
                        "remaining_time": 6.942130146
                      },
                      {
                        "learn": [
                          0.2785274963
                        ],
                        "iteration": 58,
                        "passed_time": 0.4337677513,
                        "remaining_time": 6.918228033
                      },
                      {
                        "learn": [
                          0.2751006775
                        ],
                        "iteration": 59,
                        "passed_time": 0.4401365636,
                        "remaining_time": 6.89547283
                      },
                      {
                        "learn": [
                          0.2721013489
                        ],
                        "iteration": 60,
                        "passed_time": 0.4466821844,
                        "remaining_time": 6.875976576
                      },
                      {
                        "learn": [
                          0.2705744324
                        ],
                        "iteration": 61,
                        "passed_time": 0.4530578954,
                        "remaining_time": 6.854327515
                      },
                      {
                        "learn": [
                          0.2683983765
                        ],
                        "iteration": 62,
                        "passed_time": 0.4592474353,
                        "remaining_time": 6.830394395
                      },
                      {
                        "learn": [
                          0.2664413147
                        ],
                        "iteration": 63,
                        "passed_time": 0.4657594912,
                        "remaining_time": 6.811732559
                      },
                      {
                        "learn": [
                          0.2642299194
                        ],
                        "iteration": 64,
                        "passed_time": 0.4720930316,
                        "remaining_time": 6.790876685
                      },
                      {
                        "learn": [
                          0.2626373596
                        ],
                        "iteration": 65,
                        "passed_time": 0.4783856962,
                        "remaining_time": 6.769882428
                      },
                      {
                        "learn": [
                          0.2605170898
                        ],
                        "iteration": 66,
                        "passed_time": 0.4846268587,
                        "remaining_time": 6.748609838
                      },
                      {
                        "learn": [
                          0.2580686035
                        ],
                        "iteration": 67,
                        "passed_time": 0.491123807,
                        "remaining_time": 6.73128512
                      },
                      {
                        "learn": [
                          0.2557939301
                        ],
                        "iteration": 68,
                        "passed_time": 0.497321787,
                        "remaining_time": 6.710240344
                      },
                      {
                        "learn": [
                          0.2544123993
                        ],
                        "iteration": 69,
                        "passed_time": 0.503599852,
                        "remaining_time": 6.690683748
                      },
                      {
                        "learn": [
                          0.2523196564
                        ],
                        "iteration": 70,
                        "passed_time": 0.509745188,
                        "remaining_time": 6.669764502
                      },
                      {
                        "learn": [
                          0.2512632751
                        ],
                        "iteration": 71,
                        "passed_time": 0.5162290276,
                        "remaining_time": 6.653618579
                      },
                      {
                        "learn": [
                          0.249822113
                        ],
                        "iteration": 72,
                        "passed_time": 0.5227303276,
                        "remaining_time": 6.637959091
                      },
                      {
                        "learn": [
                          0.2478403625
                        ],
                        "iteration": 73,
                        "passed_time": 0.529325239,
                        "remaining_time": 6.623718531
                      },
                      {
                        "learn": [
                          0.2454243774
                        ],
                        "iteration": 74,
                        "passed_time": 0.5359636399,
                        "remaining_time": 6.610218225
                      },
                      {
                        "learn": [
                          0.2435108032
                        ],
                        "iteration": 75,
                        "passed_time": 0.5425519652,
                        "remaining_time": 6.596289683
                      },
                      {
                        "learn": [
                          0.242299057
                        ],
                        "iteration": 76,
                        "passed_time": 0.5485503162,
                        "remaining_time": 6.575479764
                      },
                      {
                        "learn": [
                          0.2405780182
                        ],
                        "iteration": 77,
                        "passed_time": 0.5549906712,
                        "remaining_time": 6.560274344
                      },
                      {
                        "learn": [
                          0.2392291718
                        ],
                        "iteration": 78,
                        "passed_time": 0.5616482112,
                        "remaining_time": 6.547822816
                      },
                      {
                        "learn": [
                          0.2373434906
                        ],
                        "iteration": 79,
                        "passed_time": 0.5687835141,
                        "remaining_time": 6.541010412
                      },
                      {
                        "learn": [
                          0.2359954834
                        ],
                        "iteration": 80,
                        "passed_time": 0.5753754031,
                        "remaining_time": 6.528024636
                      },
                      {
                        "learn": [
                          0.2342377319
                        ],
                        "iteration": 81,
                        "passed_time": 0.58161725,
                        "remaining_time": 6.511276043
                      },
                      {
                        "learn": [
                          0.2329744568
                        ],
                        "iteration": 82,
                        "passed_time": 0.5880119802,
                        "remaining_time": 6.496469709
                      },
                      {
                        "learn": [
                          0.2312321777
                        ],
                        "iteration": 83,
                        "passed_time": 0.5945536206,
                        "remaining_time": 6.483465673
                      },
                      {
                        "learn": [
                          0.2296633759
                        ],
                        "iteration": 84,
                        "passed_time": 0.6036275555,
                        "remaining_time": 6.497873097
                      },
                      {
                        "learn": [
                          0.2281395416
                        ],
                        "iteration": 85,
                        "passed_time": 0.6112074922,
                        "remaining_time": 6.49585637
                      },
                      {
                        "learn": [
                          0.2271508942
                        ],
                        "iteration": 86,
                        "passed_time": 0.6172410468,
                        "remaining_time": 6.477483629
                      },
                      {
                        "learn": [
                          0.2257473602
                        ],
                        "iteration": 87,
                        "passed_time": 0.6236307023,
                        "remaining_time": 6.463081823
                      },
                      {
                        "learn": [
                          0.2242437897
                        ],
                        "iteration": 88,
                        "passed_time": 0.6298577881,
                        "remaining_time": 6.447196011
                      },
                      {
                        "learn": [
                          0.2234438324
                        ],
                        "iteration": 89,
                        "passed_time": 0.6361094961,
                        "remaining_time": 6.431773794
                      },
                      {
                        "learn": [
                          0.2221090698
                        ],
                        "iteration": 90,
                        "passed_time": 0.6426139897,
                        "remaining_time": 6.419078205
                      },
                      {
                        "learn": [
                          0.2210119019
                        ],
                        "iteration": 91,
                        "passed_time": 0.6490229739,
                        "remaining_time": 6.405574568
                      },
                      {
                        "learn": [
                          0.2199232788
                        ],
                        "iteration": 92,
                        "passed_time": 0.6551450684,
                        "remaining_time": 6.389425559
                      },
                      {
                        "learn": [
                          0.2190571594
                        ],
                        "iteration": 93,
                        "passed_time": 0.6615611461,
                        "remaining_time": 6.376323387
                      },
                      {
                        "learn": [
                          0.2177141113
                        ],
                        "iteration": 94,
                        "passed_time": 0.6676713715,
                        "remaining_time": 6.360448328
                      },
                      {
                        "learn": [
                          0.2163768005
                        ],
                        "iteration": 95,
                        "passed_time": 0.6740300201,
                        "remaining_time": 6.347116023
                      },
                      {
                        "learn": [
                          0.2150805664
                        ],
                        "iteration": 96,
                        "passed_time": 0.680470119,
                        "remaining_time": 6.334685747
                      },
                      {
                        "learn": [
                          0.2142145386
                        ],
                        "iteration": 97,
                        "passed_time": 0.6864564469,
                        "remaining_time": 6.318201175
                      },
                      {
                        "learn": [
                          0.2131472473
                        ],
                        "iteration": 98,
                        "passed_time": 0.6930264115,
                        "remaining_time": 6.307240371
                      },
                      {
                        "learn": [
                          0.2117105865
                        ],
                        "iteration": 99,
                        "passed_time": 0.6994411995,
                        "remaining_time": 6.294970796
                      },
                      {
                        "learn": [
                          0.2105466003
                        ],
                        "iteration": 100,
                        "passed_time": 0.7054188234,
                        "remaining_time": 6.278925963
                      },
                      {
                        "learn": [
                          0.2098673401
                        ],
                        "iteration": 101,
                        "passed_time": 0.7116987442,
                        "remaining_time": 6.265739924
                      },
                      {
                        "learn": [
                          0.2090728149
                        ],
                        "iteration": 102,
                        "passed_time": 0.7183812937,
                        "remaining_time": 6.256194373
                      },
                      {
                        "learn": [
                          0.2075704803
                        ],
                        "iteration": 103,
                        "passed_time": 0.7245909675,
                        "remaining_time": 6.242629874
                      },
                      {
                        "learn": [
                          0.2063716736
                        ],
                        "iteration": 104,
                        "passed_time": 0.7309703558,
                        "remaining_time": 6.23065208
                      },
                      {
                        "learn": [
                          0.2052994995
                        ],
                        "iteration": 105,
                        "passed_time": 0.737285831,
                        "remaining_time": 6.218240877
                      },
                      {
                        "learn": [
                          0.2044674683
                        ],
                        "iteration": 106,
                        "passed_time": 0.7434676378,
                        "remaining_time": 6.204828042
                      },
                      {
                        "learn": [
                          0.2034134827
                        ],
                        "iteration": 107,
                        "passed_time": 0.749853863,
                        "remaining_time": 6.193237461
                      },
                      {
                        "learn": [
                          0.2023381653
                        ],
                        "iteration": 108,
                        "passed_time": 0.7560919801,
                        "remaining_time": 6.18053169
                      },
                      {
                        "learn": [
                          0.2014663544
                        ],
                        "iteration": 109,
                        "passed_time": 0.7625023178,
                        "remaining_time": 6.169336935
                      },
                      {
                        "learn": [
                          0.2008832092
                        ],
                        "iteration": 110,
                        "passed_time": 0.7687084306,
                        "remaining_time": 6.156592746
                      },
                      {
                        "learn": [
                          0.2001437531
                        ],
                        "iteration": 111,
                        "passed_time": 0.7763885831,
                        "remaining_time": 6.155652338
                      },
                      {
                        "learn": [
                          0.1994302063
                        ],
                        "iteration": 112,
                        "passed_time": 0.7824802573,
                        "remaining_time": 6.142123789
                      },
                      {
                        "learn": [
                          0.1989820862
                        ],
                        "iteration": 113,
                        "passed_time": 0.7889640604,
                        "remaining_time": 6.131773311
                      },
                      {
                        "learn": [
                          0.1979272919
                        ],
                        "iteration": 114,
                        "passed_time": 0.7957791697,
                        "remaining_time": 6.124039697
                      },
                      {
                        "learn": [
                          0.1972573853
                        ],
                        "iteration": 115,
                        "passed_time": 0.8027780791,
                        "remaining_time": 6.117722603
                      },
                      {
                        "learn": [
                          0.1963188934
                        ],
                        "iteration": 116,
                        "passed_time": 0.8105906901,
                        "remaining_time": 6.117534866
                      },
                      {
                        "learn": [
                          0.1957073364
                        ],
                        "iteration": 117,
                        "passed_time": 0.8169167857,
                        "remaining_time": 6.106106822
                      },
                      {
                        "learn": [
                          0.1947529907
                        ],
                        "iteration": 118,
                        "passed_time": 0.8229722065,
                        "remaining_time": 6.092760621
                      },
                      {
                        "learn": [
                          0.1942909851
                        ],
                        "iteration": 119,
                        "passed_time": 0.8292123163,
                        "remaining_time": 6.08089032
                      },
                      {
                        "learn": [
                          0.1931325989
                        ],
                        "iteration": 120,
                        "passed_time": 0.8355835467,
                        "remaining_time": 6.070065599
                      },
                      {
                        "learn": [
                          0.1922568665
                        ],
                        "iteration": 121,
                        "passed_time": 0.841731792,
                        "remaining_time": 6.057709126
                      },
                      {
                        "learn": [
                          0.1917833405
                        ],
                        "iteration": 122,
                        "passed_time": 0.8485228784,
                        "remaining_time": 6.050037108
                      },
                      {
                        "learn": [
                          0.1912463837
                        ],
                        "iteration": 123,
                        "passed_time": 0.8548134968,
                        "remaining_time": 6.038843735
                      },
                      {
                        "learn": [
                          0.1906417236
                        ],
                        "iteration": 124,
                        "passed_time": 0.8609326302,
                        "remaining_time": 6.026528411
                      },
                      {
                        "learn": [
                          0.1898899841
                        ],
                        "iteration": 125,
                        "passed_time": 0.8673391824,
                        "remaining_time": 6.016305123
                      },
                      {
                        "learn": [
                          0.1894626923
                        ],
                        "iteration": 126,
                        "passed_time": 0.8734903267,
                        "remaining_time": 6.004386261
                      },
                      {
                        "learn": [
                          0.1890192261
                        ],
                        "iteration": 127,
                        "passed_time": 0.879838532,
                        "remaining_time": 5.993899999
                      },
                      {
                        "learn": [
                          0.1882919312
                        ],
                        "iteration": 128,
                        "passed_time": 0.8863282768,
                        "remaining_time": 5.984433559
                      },
                      {
                        "learn": [
                          0.1874376373
                        ],
                        "iteration": 129,
                        "passed_time": 0.8922580958,
                        "remaining_time": 5.971265718
                      },
                      {
                        "learn": [
                          0.1866960144
                        ],
                        "iteration": 130,
                        "passed_time": 0.9021229428,
                        "remaining_time": 5.984311735
                      },
                      {
                        "learn": [
                          0.1861903992
                        ],
                        "iteration": 131,
                        "passed_time": 0.9105272779,
                        "remaining_time": 5.987406646
                      },
                      {
                        "learn": [
                          0.1856781158
                        ],
                        "iteration": 132,
                        "passed_time": 0.917089975,
                        "remaining_time": 5.978323371
                      },
                      {
                        "learn": [
                          0.1850561829
                        ],
                        "iteration": 133,
                        "passed_time": 0.9235334758,
                        "remaining_time": 5.968507389
                      },
                      {
                        "learn": [
                          0.1843934326
                        ],
                        "iteration": 134,
                        "passed_time": 0.9300345636,
                        "remaining_time": 5.959110352
                      },
                      {
                        "learn": [
                          0.1839049377
                        ],
                        "iteration": 135,
                        "passed_time": 0.9364593375,
                        "remaining_time": 5.949271085
                      },
                      {
                        "learn": [
                          0.1833715515
                        ],
                        "iteration": 136,
                        "passed_time": 0.9430741377,
                        "remaining_time": 5.940678692
                      },
                      {
                        "learn": [
                          0.1828936462
                        ],
                        "iteration": 137,
                        "passed_time": 0.9500630403,
                        "remaining_time": 5.934451745
                      },
                      {
                        "learn": [
                          0.1825372009
                        ],
                        "iteration": 138,
                        "passed_time": 0.9570729779,
                        "remaining_time": 5.928344129
                      },
                      {
                        "learn": [
                          0.1821490173
                        ],
                        "iteration": 139,
                        "passed_time": 0.9634322492,
                        "remaining_time": 5.918226673
                      },
                      {
                        "learn": [
                          0.1813344879
                        ],
                        "iteration": 140,
                        "passed_time": 0.9743882486,
                        "remaining_time": 5.936166706
                      },
                      {
                        "learn": [
                          0.1808493347
                        ],
                        "iteration": 141,
                        "passed_time": 0.9837550005,
                        "remaining_time": 5.944097115
                      },
                      {
                        "learn": [
                          0.1803892822
                        ],
                        "iteration": 142,
                        "passed_time": 0.990257007,
                        "remaining_time": 5.934617168
                      },
                      {
                        "learn": [
                          0.1798835144
                        ],
                        "iteration": 143,
                        "passed_time": 0.9969050559,
                        "remaining_time": 5.926046721
                      },
                      {
                        "learn": [
                          0.1794486084
                        ],
                        "iteration": 144,
                        "passed_time": 1.004930343,
                        "remaining_time": 5.925623746
                      },
                      {
                        "learn": [
                          0.1788301392
                        ],
                        "iteration": 145,
                        "passed_time": 1.011106623,
                        "remaining_time": 5.914281204
                      },
                      {
                        "learn": [
                          0.1780513916
                        ],
                        "iteration": 146,
                        "passed_time": 1.017796619,
                        "remaining_time": 5.905989904
                      },
                      {
                        "learn": [
                          0.1776451263
                        ],
                        "iteration": 147,
                        "passed_time": 1.024419845,
                        "remaining_time": 5.897335863
                      },
                      {
                        "learn": [
                          0.1769658203
                        ],
                        "iteration": 148,
                        "passed_time": 1.031958837,
                        "remaining_time": 5.893939395
                      },
                      {
                        "learn": [
                          0.1765650482
                        ],
                        "iteration": 149,
                        "passed_time": 1.039728338,
                        "remaining_time": 5.891793914
                      },
                      {
                        "learn": [
                          0.1761772003
                        ],
                        "iteration": 150,
                        "passed_time": 1.046276166,
                        "remaining_time": 5.882705066
                      },
                      {
                        "learn": [
                          0.1755711365
                        ],
                        "iteration": 151,
                        "passed_time": 1.052952873,
                        "remaining_time": 5.874368659
                      },
                      {
                        "learn": [
                          0.1751307373
                        ],
                        "iteration": 152,
                        "passed_time": 1.05914359,
                        "remaining_time": 5.863363533
                      },
                      {
                        "learn": [
                          0.1745183105
                        ],
                        "iteration": 153,
                        "passed_time": 1.065888057,
                        "remaining_time": 5.85546296
                      },
                      {
                        "learn": [
                          0.1740160828
                        ],
                        "iteration": 154,
                        "passed_time": 1.072463138,
                        "remaining_time": 5.846653881
                      },
                      {
                        "learn": [
                          0.1733731537
                        ],
                        "iteration": 155,
                        "passed_time": 1.079592815,
                        "remaining_time": 5.840873947
                      },
                      {
                        "learn": [
                          0.1728271332
                        ],
                        "iteration": 156,
                        "passed_time": 1.086044688,
                        "remaining_time": 5.831437401
                      },
                      {
                        "learn": [
                          0.1724203491
                        ],
                        "iteration": 157,
                        "passed_time": 1.093336625,
                        "remaining_time": 5.826515434
                      },
                      {
                        "learn": [
                          0.171793396
                        ],
                        "iteration": 158,
                        "passed_time": 1.099769914,
                        "remaining_time": 5.817021999
                      },
                      {
                        "learn": [
                          0.1714181519
                        ],
                        "iteration": 159,
                        "passed_time": 1.106037665,
                        "remaining_time": 5.806697741
                      },
                      {
                        "learn": [
                          0.1709338684
                        ],
                        "iteration": 160,
                        "passed_time": 1.112359554,
                        "remaining_time": 5.796706
                      },
                      {
                        "learn": [
                          0.1705884857
                        ],
                        "iteration": 161,
                        "passed_time": 1.118627839,
                        "remaining_time": 5.786482278
                      },
                      {
                        "learn": [
                          0.169983078
                        ],
                        "iteration": 162,
                        "passed_time": 1.125187875,
                        "remaining_time": 5.777805225
                      },
                      {
                        "learn": [
                          0.1694686737
                        ],
                        "iteration": 163,
                        "passed_time": 1.131546575,
                        "remaining_time": 5.768127664
                      },
                      {
                        "learn": [
                          0.1689594879
                        ],
                        "iteration": 164,
                        "passed_time": 1.137901635,
                        "remaining_time": 5.758471908
                      },
                      {
                        "learn": [
                          0.1685347137
                        ],
                        "iteration": 165,
                        "passed_time": 1.144565797,
                        "remaining_time": 5.750408884
                      },
                      {
                        "learn": [
                          0.1682156982
                        ],
                        "iteration": 166,
                        "passed_time": 1.151248405,
                        "remaining_time": 5.742454618
                      },
                      {
                        "learn": [
                          0.1678737183
                        ],
                        "iteration": 167,
                        "passed_time": 1.15738328,
                        "remaining_time": 5.731802912
                      },
                      {
                        "learn": [
                          0.1674228668
                        ],
                        "iteration": 168,
                        "passed_time": 1.163872625,
                        "remaining_time": 5.722947641
                      },
                      {
                        "learn": [
                          0.1671239929
                        ],
                        "iteration": 169,
                        "passed_time": 1.170260359,
                        "remaining_time": 5.713624106
                      },
                      {
                        "learn": [
                          0.1667401733
                        ],
                        "iteration": 170,
                        "passed_time": 1.17647337,
                        "remaining_time": 5.703487859
                      },
                      {
                        "learn": [
                          0.1665106201
                        ],
                        "iteration": 171,
                        "passed_time": 1.182851731,
                        "remaining_time": 5.694193218
                      },
                      {
                        "learn": [
                          0.1662010498
                        ],
                        "iteration": 172,
                        "passed_time": 1.189291498,
                        "remaining_time": 5.685225829
                      },
                      {
                        "learn": [
                          0.1658547974
                        ],
                        "iteration": 173,
                        "passed_time": 1.195394871,
                        "remaining_time": 5.674690596
                      },
                      {
                        "learn": [
                          0.1650912933
                        ],
                        "iteration": 174,
                        "passed_time": 1.202531995,
                        "remaining_time": 5.669079406
                      },
                      {
                        "learn": [
                          0.1646748047
                        ],
                        "iteration": 175,
                        "passed_time": 1.210401456,
                        "remaining_time": 5.666879544
                      },
                      {
                        "learn": [
                          0.164434433
                        ],
                        "iteration": 176,
                        "passed_time": 1.216619458,
                        "remaining_time": 5.656936801
                      },
                      {
                        "learn": [
                          0.1639521332
                        ],
                        "iteration": 177,
                        "passed_time": 1.223195695,
                        "remaining_time": 5.648690232
                      },
                      {
                        "learn": [
                          0.1633864136
                        ],
                        "iteration": 178,
                        "passed_time": 1.229539535,
                        "remaining_time": 5.639396416
                      },
                      {
                        "learn": [
                          0.1630505371
                        ],
                        "iteration": 179,
                        "passed_time": 1.235765762,
                        "remaining_time": 5.629599582
                      },
                      {
                        "learn": [
                          0.1626110535
                        ],
                        "iteration": 180,
                        "passed_time": 1.242250818,
                        "remaining_time": 5.621013369
                      },
                      {
                        "learn": [
                          0.162232605
                        ],
                        "iteration": 181,
                        "passed_time": 1.249492982,
                        "remaining_time": 5.615853074
                      },
                      {
                        "learn": [
                          0.1617761688
                        ],
                        "iteration": 182,
                        "passed_time": 1.255616588,
                        "remaining_time": 5.605676245
                      },
                      {
                        "learn": [
                          0.1614569702
                        ],
                        "iteration": 183,
                        "passed_time": 1.262199715,
                        "remaining_time": 5.597581344
                      },
                      {
                        "learn": [
                          0.161120285
                        ],
                        "iteration": 184,
                        "passed_time": 1.268653466,
                        "remaining_time": 5.588932836
                      },
                      {
                        "learn": [
                          0.1608516693
                        ],
                        "iteration": 185,
                        "passed_time": 1.274934978,
                        "remaining_time": 5.579554153
                      },
                      {
                        "learn": [
                          0.1606083984
                        ],
                        "iteration": 186,
                        "passed_time": 1.28141946,
                        "remaining_time": 5.571091023
                      },
                      {
                        "learn": [
                          0.160223938
                        ],
                        "iteration": 187,
                        "passed_time": 1.288198764,
                        "remaining_time": 5.56392232
                      },
                      {
                        "learn": [
                          0.1599268799
                        ],
                        "iteration": 188,
                        "passed_time": 1.294870766,
                        "remaining_time": 5.55629731
                      },
                      {
                        "learn": [
                          0.1596039886
                        ],
                        "iteration": 189,
                        "passed_time": 1.301576068,
                        "remaining_time": 5.548824291
                      },
                      {
                        "learn": [
                          0.159332428
                        ],
                        "iteration": 190,
                        "passed_time": 1.308179782,
                        "remaining_time": 5.540929023
                      },
                      {
                        "learn": [
                          0.1589907227
                        ],
                        "iteration": 191,
                        "passed_time": 1.314374295,
                        "remaining_time": 5.531325159
                      },
                      {
                        "learn": [
                          0.1587171326
                        ],
                        "iteration": 192,
                        "passed_time": 1.320750662,
                        "remaining_time": 5.522517019
                      },
                      {
                        "learn": [
                          0.1583832397
                        ],
                        "iteration": 193,
                        "passed_time": 1.329285039,
                        "remaining_time": 5.522699698
                      },
                      {
                        "learn": [
                          0.1580036621
                        ],
                        "iteration": 194,
                        "passed_time": 1.33558308,
                        "remaining_time": 5.513560918
                      },
                      {
                        "learn": [
                          0.1576484222
                        ],
                        "iteration": 195,
                        "passed_time": 1.342057236,
                        "remaining_time": 5.505173561
                      },
                      {
                        "learn": [
                          0.1571535034
                        ],
                        "iteration": 196,
                        "passed_time": 1.348719086,
                        "remaining_time": 5.497570691
                      },
                      {
                        "learn": [
                          0.1567779541
                        ],
                        "iteration": 197,
                        "passed_time": 1.356019117,
                        "remaining_time": 5.492562283
                      },
                      {
                        "learn": [
                          0.1561828613
                        ],
                        "iteration": 198,
                        "passed_time": 1.36240269,
                        "remaining_time": 5.483841984
                      },
                      {
                        "learn": [
                          0.1557862854
                        ],
                        "iteration": 199,
                        "passed_time": 1.368889215,
                        "remaining_time": 5.475556859
                      },
                      {
                        "learn": [
                          0.1554304047
                        ],
                        "iteration": 200,
                        "passed_time": 1.375318975,
                        "remaining_time": 5.467063983
                      },
                      {
                        "learn": [
                          0.1551218109
                        ],
                        "iteration": 201,
                        "passed_time": 1.381797199,
                        "remaining_time": 5.458782992
                      },
                      {
                        "learn": [
                          0.1549270325
                        ],
                        "iteration": 202,
                        "passed_time": 1.388178126,
                        "remaining_time": 5.450137764
                      },
                      {
                        "learn": [
                          0.1545591431
                        ],
                        "iteration": 203,
                        "passed_time": 1.394254273,
                        "remaining_time": 5.440325497
                      },
                      {
                        "learn": [
                          0.1543162231
                        ],
                        "iteration": 204,
                        "passed_time": 1.401649334,
                        "remaining_time": 5.43566449
                      },
                      {
                        "learn": [
                          0.1539013672
                        ],
                        "iteration": 205,
                        "passed_time": 1.408943432,
                        "remaining_time": 5.430587791
                      },
                      {
                        "learn": [
                          0.1535789032
                        ],
                        "iteration": 206,
                        "passed_time": 1.415276691,
                        "remaining_time": 5.421808771
                      },
                      {
                        "learn": [
                          0.153309082
                        ],
                        "iteration": 207,
                        "passed_time": 1.421325228,
                        "remaining_time": 5.411969137
                      },
                      {
                        "learn": [
                          0.1531193237
                        ],
                        "iteration": 208,
                        "passed_time": 1.427894475,
                        "remaining_time": 5.404136506
                      },
                      {
                        "learn": [
                          0.1528003235
                        ],
                        "iteration": 209,
                        "passed_time": 1.435370083,
                        "remaining_time": 5.399725549
                      },
                      {
                        "learn": [
                          0.1525315857
                        ],
                        "iteration": 210,
                        "passed_time": 1.441606222,
                        "remaining_time": 5.390650756
                      },
                      {
                        "learn": [
                          0.152067215
                        ],
                        "iteration": 211,
                        "passed_time": 1.447960921,
                        "remaining_time": 5.382043423
                      },
                      {
                        "learn": [
                          0.1518587646
                        ],
                        "iteration": 212,
                        "passed_time": 1.454358974,
                        "remaining_time": 5.373617429
                      },
                      {
                        "learn": [
                          0.1515810547
                        ],
                        "iteration": 213,
                        "passed_time": 1.460923577,
                        "remaining_time": 5.36582211
                      },
                      {
                        "learn": [
                          0.1513337097
                        ],
                        "iteration": 214,
                        "passed_time": 1.467395872,
                        "remaining_time": 5.357701207
                      },
                      {
                        "learn": [
                          0.1508808594
                        ],
                        "iteration": 215,
                        "passed_time": 1.473782647,
                        "remaining_time": 5.349285165
                      },
                      {
                        "learn": [
                          0.1505751648
                        ],
                        "iteration": 216,
                        "passed_time": 1.479929163,
                        "remaining_time": 5.340020899
                      },
                      {
                        "learn": [
                          0.1502799988
                        ],
                        "iteration": 217,
                        "passed_time": 1.486410313,
                        "remaining_time": 5.331985616
                      },
                      {
                        "learn": [
                          0.1499814148
                        ],
                        "iteration": 218,
                        "passed_time": 1.492614009,
                        "remaining_time": 5.322975072
                      },
                      {
                        "learn": [
                          0.1496526489
                        ],
                        "iteration": 219,
                        "passed_time": 1.498845966,
                        "remaining_time": 5.314090245
                      },
                      {
                        "learn": [
                          0.1492724304
                        ],
                        "iteration": 220,
                        "passed_time": 1.505210924,
                        "remaining_time": 5.305698234
                      },
                      {
                        "learn": [
                          0.1489658203
                        ],
                        "iteration": 221,
                        "passed_time": 1.511403438,
                        "remaining_time": 5.296720156
                      },
                      {
                        "learn": [
                          0.1486083374
                        ],
                        "iteration": 222,
                        "passed_time": 1.517735058,
                        "remaining_time": 5.288251749
                      },
                      {
                        "learn": [
                          0.1483686523
                        ],
                        "iteration": 223,
                        "passed_time": 1.524255351,
                        "remaining_time": 5.280456039
                      },
                      {
                        "learn": [
                          0.148079422
                        ],
                        "iteration": 224,
                        "passed_time": 1.531023458,
                        "remaining_time": 5.273525244
                      },
                      {
                        "learn": [
                          0.1477884674
                        ],
                        "iteration": 225,
                        "passed_time": 1.537301447,
                        "remaining_time": 5.264917345
                      },
                      {
                        "learn": [
                          0.1474213715
                        ],
                        "iteration": 226,
                        "passed_time": 1.543576861,
                        "remaining_time": 5.256321206
                      },
                      {
                        "learn": [
                          0.147137146
                        ],
                        "iteration": 227,
                        "passed_time": 1.549694068,
                        "remaining_time": 5.24720974
                      },
                      {
                        "learn": [
                          0.146750946
                        ],
                        "iteration": 228,
                        "passed_time": 1.556100482,
                        "remaining_time": 5.239098131
                      },
                      {
                        "learn": [
                          0.1464512329
                        ],
                        "iteration": 229,
                        "passed_time": 1.562502717,
                        "remaining_time": 5.230987355
                      },
                      {
                        "learn": [
                          0.1461315155
                        ],
                        "iteration": 230,
                        "passed_time": 1.568689854,
                        "remaining_time": 5.222175316
                      },
                      {
                        "learn": [
                          0.1459110107
                        ],
                        "iteration": 231,
                        "passed_time": 1.574952928,
                        "remaining_time": 5.213637279
                      },
                      {
                        "learn": [
                          0.1455724792
                        ],
                        "iteration": 232,
                        "passed_time": 1.581200172,
                        "remaining_time": 5.20506666
                      },
                      {
                        "learn": [
                          0.1453494568
                        ],
                        "iteration": 233,
                        "passed_time": 1.587581436,
                        "remaining_time": 5.196954616
                      },
                      {
                        "learn": [
                          0.1450773163
                        ],
                        "iteration": 234,
                        "passed_time": 1.594078642,
                        "remaining_time": 5.189234728
                      },
                      {
                        "learn": [
                          0.1448252411
                        ],
                        "iteration": 235,
                        "passed_time": 1.601274556,
                        "remaining_time": 5.183787123
                      },
                      {
                        "learn": [
                          0.1444568787
                        ],
                        "iteration": 236,
                        "passed_time": 1.608970001,
                        "remaining_time": 5.179932956
                      },
                      {
                        "learn": [
                          0.1442493896
                        ],
                        "iteration": 237,
                        "passed_time": 1.615885561,
                        "remaining_time": 5.173549568
                      },
                      {
                        "learn": [
                          0.1440547791
                        ],
                        "iteration": 238,
                        "passed_time": 1.622433556,
                        "remaining_time": 5.165991366
                      },
                      {
                        "learn": [
                          0.1437667542
                        ],
                        "iteration": 239,
                        "passed_time": 1.628638826,
                        "remaining_time": 5.157356282
                      },
                      {
                        "learn": [
                          0.1434705505
                        ],
                        "iteration": 240,
                        "passed_time": 1.635134143,
                        "remaining_time": 5.149654831
                      },
                      {
                        "learn": [
                          0.1432585449
                        ],
                        "iteration": 241,
                        "passed_time": 1.641561244,
                        "remaining_time": 5.14174968
                      },
                      {
                        "learn": [
                          0.1430943756
                        ],
                        "iteration": 242,
                        "passed_time": 1.647657868,
                        "remaining_time": 5.132827184
                      },
                      {
                        "learn": [
                          0.1426908569
                        ],
                        "iteration": 243,
                        "passed_time": 1.654071369,
                        "remaining_time": 5.12490965
                      },
                      {
                        "learn": [
                          0.1424151611
                        ],
                        "iteration": 244,
                        "passed_time": 1.662084097,
                        "remaining_time": 5.121932624
                      },
                      {
                        "learn": [
                          0.1421741638
                        ],
                        "iteration": 245,
                        "passed_time": 1.668205265,
                        "remaining_time": 5.11311695
                      },
                      {
                        "learn": [
                          0.1417650299
                        ],
                        "iteration": 246,
                        "passed_time": 1.674876508,
                        "remaining_time": 5.106000043
                      },
                      {
                        "learn": [
                          0.1415745697
                        ],
                        "iteration": 247,
                        "passed_time": 1.684180195,
                        "remaining_time": 5.106868978
                      },
                      {
                        "learn": [
                          0.1413267517
                        ],
                        "iteration": 248,
                        "passed_time": 1.693217335,
                        "remaining_time": 5.106852285
                      },
                      {
                        "learn": [
                          0.1410349121
                        ],
                        "iteration": 249,
                        "passed_time": 1.699535604,
                        "remaining_time": 5.098606812
                      },
                      {
                        "learn": [
                          0.1407943726
                        ],
                        "iteration": 250,
                        "passed_time": 1.705682816,
                        "remaining_time": 5.089866252
                      },
                      {
                        "learn": [
                          0.1405470581
                        ],
                        "iteration": 251,
                        "passed_time": 1.712244271,
                        "remaining_time": 5.082375851
                      },
                      {
                        "learn": [
                          0.1403378754
                        ],
                        "iteration": 252,
                        "passed_time": 1.718459191,
                        "remaining_time": 5.073869628
                      },
                      {
                        "learn": [
                          0.1401516113
                        ],
                        "iteration": 253,
                        "passed_time": 1.724977519,
                        "remaining_time": 5.066272555
                      },
                      {
                        "learn": [
                          0.1399299927
                        ],
                        "iteration": 254,
                        "passed_time": 1.732657802,
                        "remaining_time": 5.062078677
                      },
                      {
                        "learn": [
                          0.1396346741
                        ],
                        "iteration": 255,
                        "passed_time": 1.739458319,
                        "remaining_time": 5.05530074
                      },
                      {
                        "learn": [
                          0.1394335785
                        ],
                        "iteration": 256,
                        "passed_time": 1.745547829,
                        "remaining_time": 5.046467071
                      },
                      {
                        "learn": [
                          0.1390635681
                        ],
                        "iteration": 257,
                        "passed_time": 1.752189432,
                        "remaining_time": 5.039242476
                      },
                      {
                        "learn": [
                          0.1389217529
                        ],
                        "iteration": 258,
                        "passed_time": 1.758428353,
                        "remaining_time": 5.030870307
                      },
                      {
                        "learn": [
                          0.1387917633
                        ],
                        "iteration": 259,
                        "passed_time": 1.765170253,
                        "remaining_time": 5.023946105
                      },
                      {
                        "learn": [
                          0.138588913
                        ],
                        "iteration": 260,
                        "passed_time": 1.771657042,
                        "remaining_time": 5.016300974
                      },
                      {
                        "learn": [
                          0.1384267426
                        ],
                        "iteration": 261,
                        "passed_time": 1.778311693,
                        "remaining_time": 5.009137516
                      },
                      {
                        "learn": [
                          0.1382585754
                        ],
                        "iteration": 262,
                        "passed_time": 1.78452022,
                        "remaining_time": 5.000727764
                      },
                      {
                        "learn": [
                          0.1380273438
                        ],
                        "iteration": 263,
                        "passed_time": 1.791070613,
                        "remaining_time": 4.99328777
                      },
                      {
                        "learn": [
                          0.1378109741
                        ],
                        "iteration": 264,
                        "passed_time": 1.797324848,
                        "remaining_time": 4.985033069
                      },
                      {
                        "learn": [
                          0.1376038513
                        ],
                        "iteration": 265,
                        "passed_time": 1.805398906,
                        "remaining_time": 4.981815025
                      },
                      {
                        "learn": [
                          0.1373549194
                        ],
                        "iteration": 266,
                        "passed_time": 1.811783269,
                        "remaining_time": 4.97392186
                      },
                      {
                        "learn": [
                          0.1371902161
                        ],
                        "iteration": 267,
                        "passed_time": 1.818234955,
                        "remaining_time": 4.966223833
                      },
                      {
                        "learn": [
                          0.1370419312
                        ],
                        "iteration": 268,
                        "passed_time": 1.824314118,
                        "remaining_time": 4.957522751
                      },
                      {
                        "learn": [
                          0.1367687531
                        ],
                        "iteration": 269,
                        "passed_time": 1.830478781,
                        "remaining_time": 4.94907226
                      },
                      {
                        "learn": [
                          0.1366132202
                        ],
                        "iteration": 270,
                        "passed_time": 1.837015048,
                        "remaining_time": 4.941638265
                      },
                      {
                        "learn": [
                          0.1363671722
                        ],
                        "iteration": 271,
                        "passed_time": 1.84305776,
                        "remaining_time": 4.932889888
                      },
                      {
                        "learn": [
                          0.1361627655
                        ],
                        "iteration": 272,
                        "passed_time": 1.849297056,
                        "remaining_time": 4.924684835
                      },
                      {
                        "learn": [
                          0.1359888
                        ],
                        "iteration": 273,
                        "passed_time": 1.855620432,
                        "remaining_time": 4.91671691
                      },
                      {
                        "learn": [
                          0.1358002625
                        ],
                        "iteration": 274,
                        "passed_time": 1.862138532,
                        "remaining_time": 4.909274312
                      },
                      {
                        "learn": [
                          0.1354565887
                        ],
                        "iteration": 275,
                        "passed_time": 1.869085216,
                        "remaining_time": 4.902962668
                      },
                      {
                        "learn": [
                          0.1352202454
                        ],
                        "iteration": 276,
                        "passed_time": 1.875683381,
                        "remaining_time": 4.895736767
                      },
                      {
                        "learn": [
                          0.135050766
                        ],
                        "iteration": 277,
                        "passed_time": 1.88191018,
                        "remaining_time": 4.887550899
                      },
                      {
                        "learn": [
                          0.1347971191
                        ],
                        "iteration": 278,
                        "passed_time": 1.888485057,
                        "remaining_time": 4.880278588
                      },
                      {
                        "learn": [
                          0.1345015259
                        ],
                        "iteration": 279,
                        "passed_time": 1.897013738,
                        "remaining_time": 4.878035326
                      },
                      {
                        "learn": [
                          0.134282608
                        ],
                        "iteration": 280,
                        "passed_time": 1.905355612,
                        "remaining_time": 4.875269342
                      },
                      {
                        "learn": [
                          0.1340502014
                        ],
                        "iteration": 281,
                        "passed_time": 1.91614869,
                        "remaining_time": 4.878704821
                      },
                      {
                        "learn": [
                          0.1338303223
                        ],
                        "iteration": 282,
                        "passed_time": 1.922726267,
                        "remaining_time": 4.871359483
                      },
                      {
                        "learn": [
                          0.1335846558
                        ],
                        "iteration": 283,
                        "passed_time": 1.929233117,
                        "remaining_time": 4.863841238
                      },
                      {
                        "learn": [
                          0.1333418579
                        ],
                        "iteration": 284,
                        "passed_time": 1.9357546,
                        "remaining_time": 4.856366804
                      },
                      {
                        "learn": [
                          0.1329762573
                        ],
                        "iteration": 285,
                        "passed_time": 1.942025955,
                        "remaining_time": 4.848274588
                      },
                      {
                        "learn": [
                          0.1328621674
                        ],
                        "iteration": 286,
                        "passed_time": 1.948639295,
                        "remaining_time": 4.841044658
                      },
                      {
                        "learn": [
                          0.1326391907
                        ],
                        "iteration": 287,
                        "passed_time": 1.955153398,
                        "remaining_time": 4.833573678
                      },
                      {
                        "learn": [
                          0.1324750671
                        ],
                        "iteration": 288,
                        "passed_time": 1.971575817,
                        "remaining_time": 4.850485834
                      },
                      {
                        "learn": [
                          0.1323294525
                        ],
                        "iteration": 289,
                        "passed_time": 1.979519568,
                        "remaining_time": 4.846409977
                      },
                      {
                        "learn": [
                          0.1320622253
                        ],
                        "iteration": 290,
                        "passed_time": 1.985968175,
                        "remaining_time": 4.838664728
                      },
                      {
                        "learn": [
                          0.1319263763
                        ],
                        "iteration": 291,
                        "passed_time": 1.992382899,
                        "remaining_time": 4.830846207
                      },
                      {
                        "learn": [
                          0.1317278748
                        ],
                        "iteration": 292,
                        "passed_time": 1.998624044,
                        "remaining_time": 4.822618426
                      },
                      {
                        "learn": [
                          0.1315283203
                        ],
                        "iteration": 293,
                        "passed_time": 2.007022986,
                        "remaining_time": 4.819585809
                      },
                      {
                        "learn": [
                          0.1313577271
                        ],
                        "iteration": 294,
                        "passed_time": 2.014053044,
                        "remaining_time": 4.813245411
                      },
                      {
                        "learn": [
                          0.1311456909
                        ],
                        "iteration": 295,
                        "passed_time": 2.020407833,
                        "remaining_time": 4.805294307
                      },
                      {
                        "learn": [
                          0.1309554138
                        ],
                        "iteration": 296,
                        "passed_time": 2.026925663,
                        "remaining_time": 4.797739869
                      },
                      {
                        "learn": [
                          0.1307217102
                        ],
                        "iteration": 297,
                        "passed_time": 2.033241145,
                        "remaining_time": 4.789715718
                      },
                      {
                        "learn": [
                          0.1304984436
                        ],
                        "iteration": 298,
                        "passed_time": 2.03935713,
                        "remaining_time": 4.781235277
                      },
                      {
                        "learn": [
                          0.1302362213
                        ],
                        "iteration": 299,
                        "passed_time": 2.045680459,
                        "remaining_time": 4.773254405
                      },
                      {
                        "learn": [
                          0.1300391083
                        ],
                        "iteration": 300,
                        "passed_time": 2.051976203,
                        "remaining_time": 4.765220484
                      },
                      {
                        "learn": [
                          0.1299502411
                        ],
                        "iteration": 301,
                        "passed_time": 2.058372473,
                        "remaining_time": 4.757430418
                      },
                      {
                        "learn": [
                          0.1296535339
                        ],
                        "iteration": 302,
                        "passed_time": 2.064820876,
                        "remaining_time": 4.749769474
                      },
                      {
                        "learn": [
                          0.129418457
                        ],
                        "iteration": 303,
                        "passed_time": 2.071131047,
                        "remaining_time": 4.74180003
                      },
                      {
                        "learn": [
                          0.1292944489
                        ],
                        "iteration": 304,
                        "passed_time": 2.078740219,
                        "remaining_time": 4.736801483
                      },
                      {
                        "learn": [
                          0.1291380768
                        ],
                        "iteration": 305,
                        "passed_time": 2.085258805,
                        "remaining_time": 4.729312452
                      },
                      {
                        "learn": [
                          0.1290035248
                        ],
                        "iteration": 306,
                        "passed_time": 2.091593294,
                        "remaining_time": 4.721414178
                      },
                      {
                        "learn": [
                          0.1287768555
                        ],
                        "iteration": 307,
                        "passed_time": 2.0980464,
                        "remaining_time": 4.71379256
                      },
                      {
                        "learn": [
                          0.1285146179
                        ],
                        "iteration": 308,
                        "passed_time": 2.104488546,
                        "remaining_time": 4.706153999
                      },
                      {
                        "learn": [
                          0.1283048248
                        ],
                        "iteration": 309,
                        "passed_time": 2.110870514,
                        "remaining_time": 4.698389207
                      },
                      {
                        "learn": [
                          0.1281768799
                        ],
                        "iteration": 310,
                        "passed_time": 2.117211662,
                        "remaining_time": 4.690542878
                      },
                      {
                        "learn": [
                          0.1280393372
                        ],
                        "iteration": 311,
                        "passed_time": 2.123533131,
                        "remaining_time": 4.682662803
                      },
                      {
                        "learn": [
                          0.1278897095
                        ],
                        "iteration": 312,
                        "passed_time": 2.130268041,
                        "remaining_time": 4.675700141
                      },
                      {
                        "learn": [
                          0.1277364044
                        ],
                        "iteration": 313,
                        "passed_time": 2.136943524,
                        "remaining_time": 4.6686091
                      },
                      {
                        "learn": [
                          0.1276066055
                        ],
                        "iteration": 314,
                        "passed_time": 2.144176541,
                        "remaining_time": 4.662733113
                      },
                      {
                        "learn": [
                          0.1275050964
                        ],
                        "iteration": 315,
                        "passed_time": 2.150378516,
                        "remaining_time": 4.654616787
                      },
                      {
                        "learn": [
                          0.1273971405
                        ],
                        "iteration": 316,
                        "passed_time": 2.156785757,
                        "remaining_time": 4.646954801
                      },
                      {
                        "learn": [
                          0.1271062775
                        ],
                        "iteration": 317,
                        "passed_time": 2.16601294,
                        "remaining_time": 4.645348506
                      },
                      {
                        "learn": [
                          0.1269760971
                        ],
                        "iteration": 318,
                        "passed_time": 2.172630752,
                        "remaining_time": 4.638123956
                      },
                      {
                        "learn": [
                          0.1267592468
                        ],
                        "iteration": 319,
                        "passed_time": 2.178861485,
                        "remaining_time": 4.630080655
                      },
                      {
                        "learn": [
                          0.1265995483
                        ],
                        "iteration": 320,
                        "passed_time": 2.185395294,
                        "remaining_time": 4.622689734
                      },
                      {
                        "learn": [
                          0.1264522247
                        ],
                        "iteration": 321,
                        "passed_time": 2.191885705,
                        "remaining_time": 4.615212759
                      },
                      {
                        "learn": [
                          0.1262846985
                        ],
                        "iteration": 322,
                        "passed_time": 2.198196679,
                        "remaining_time": 4.607365795
                      },
                      {
                        "learn": [
                          0.1260770416
                        ],
                        "iteration": 323,
                        "passed_time": 2.205458661,
                        "remaining_time": 4.601512516
                      },
                      {
                        "learn": [
                          0.1258802948
                        ],
                        "iteration": 324,
                        "passed_time": 2.213144512,
                        "remaining_time": 4.59653091
                      },
                      {
                        "learn": [
                          0.125733223
                        ],
                        "iteration": 325,
                        "passed_time": 2.219513148,
                        "remaining_time": 4.588809393
                      },
                      {
                        "learn": [
                          0.1255309525
                        ],
                        "iteration": 326,
                        "passed_time": 2.225971604,
                        "remaining_time": 4.581281008
                      },
                      {
                        "learn": [
                          0.1254109116
                        ],
                        "iteration": 327,
                        "passed_time": 2.23308494,
                        "remaining_time": 4.575100853
                      },
                      {
                        "learn": [
                          0.1252291107
                        ],
                        "iteration": 328,
                        "passed_time": 2.23991786,
                        "remaining_time": 4.568343112
                      },
                      {
                        "learn": [
                          0.125051239
                        ],
                        "iteration": 329,
                        "passed_time": 2.246179657,
                        "remaining_time": 4.560425365
                      },
                      {
                        "learn": [
                          0.1247906342
                        ],
                        "iteration": 330,
                        "passed_time": 2.253306106,
                        "remaining_time": 4.554265212
                      },
                      {
                        "learn": [
                          0.1246270599
                        ],
                        "iteration": 331,
                        "passed_time": 2.260495483,
                        "remaining_time": 4.548225851
                      },
                      {
                        "learn": [
                          0.1244556427
                        ],
                        "iteration": 332,
                        "passed_time": 2.267942818,
                        "remaining_time": 4.542696276
                      },
                      {
                        "learn": [
                          0.1242810287
                        ],
                        "iteration": 333,
                        "passed_time": 2.275384245,
                        "remaining_time": 4.537143434
                      },
                      {
                        "learn": [
                          0.1241041412
                        ],
                        "iteration": 334,
                        "passed_time": 2.282068831,
                        "remaining_time": 4.530076932
                      },
                      {
                        "learn": [
                          0.1238321838
                        ],
                        "iteration": 335,
                        "passed_time": 2.288740596,
                        "remaining_time": 4.522987369
                      },
                      {
                        "learn": [
                          0.1236817169
                        ],
                        "iteration": 336,
                        "passed_time": 2.295205074,
                        "remaining_time": 4.515492475
                      },
                      {
                        "learn": [
                          0.1234607391
                        ],
                        "iteration": 337,
                        "passed_time": 2.30157819,
                        "remaining_time": 4.50782474
                      },
                      {
                        "learn": [
                          0.1233565216
                        ],
                        "iteration": 338,
                        "passed_time": 2.308540944,
                        "remaining_time": 4.501314348
                      },
                      {
                        "learn": [
                          0.1232323761
                        ],
                        "iteration": 339,
                        "passed_time": 2.315074549,
                        "remaining_time": 4.493968241
                      },
                      {
                        "learn": [
                          0.1230665741
                        ],
                        "iteration": 340,
                        "passed_time": 2.321551074,
                        "remaining_time": 4.486516592
                      },
                      {
                        "learn": [
                          0.122848999
                        ],
                        "iteration": 341,
                        "passed_time": 2.328414728,
                        "remaining_time": 4.479815472
                      },
                      {
                        "learn": [
                          0.1226806946
                        ],
                        "iteration": 342,
                        "passed_time": 2.334557319,
                        "remaining_time": 4.47173224
                      },
                      {
                        "learn": [
                          0.1224818573
                        ],
                        "iteration": 343,
                        "passed_time": 2.340997424,
                        "remaining_time": 4.464227645
                      },
                      {
                        "learn": [
                          0.1223042908
                        ],
                        "iteration": 344,
                        "passed_time": 2.34725707,
                        "remaining_time": 4.45638661
                      },
                      {
                        "learn": [
                          0.1221418686
                        ],
                        "iteration": 345,
                        "passed_time": 2.353645984,
                        "remaining_time": 4.448799056
                      },
                      {
                        "learn": [
                          0.1220017166
                        ],
                        "iteration": 346,
                        "passed_time": 2.360322142,
                        "remaining_time": 4.441758959
                      },
                      {
                        "learn": [
                          0.1217523499
                        ],
                        "iteration": 347,
                        "passed_time": 2.366468452,
                        "remaining_time": 4.43372825
                      },
                      {
                        "learn": [
                          0.12150737
                        ],
                        "iteration": 348,
                        "passed_time": 2.372994684,
                        "remaining_time": 4.426417018
                      },
                      {
                        "learn": [
                          0.1213691406
                        ],
                        "iteration": 349,
                        "passed_time": 2.379306732,
                        "remaining_time": 4.418712503
                      },
                      {
                        "learn": [
                          0.1212114944
                        ],
                        "iteration": 350,
                        "passed_time": 2.385656762,
                        "remaining_time": 4.411086149
                      },
                      {
                        "learn": [
                          0.1211525574
                        ],
                        "iteration": 351,
                        "passed_time": 2.392065404,
                        "remaining_time": 4.403574948
                      },
                      {
                        "learn": [
                          0.1209568024
                        ],
                        "iteration": 352,
                        "passed_time": 2.398645526,
                        "remaining_time": 4.396384293
                      },
                      {
                        "learn": [
                          0.1207850647
                        ],
                        "iteration": 353,
                        "passed_time": 2.407040192,
                        "remaining_time": 4.392508373
                      },
                      {
                        "learn": [
                          0.120536499
                        ],
                        "iteration": 354,
                        "passed_time": 2.413627099,
                        "remaining_time": 4.385322476
                      },
                      {
                        "learn": [
                          0.1203390884
                        ],
                        "iteration": 355,
                        "passed_time": 2.420554291,
                        "remaining_time": 4.378755515
                      },
                      {
                        "learn": [
                          0.1200959091
                        ],
                        "iteration": 356,
                        "passed_time": 2.427178001,
                        "remaining_time": 4.37163993
                      },
                      {
                        "learn": [
                          0.1198806915
                        ],
                        "iteration": 357,
                        "passed_time": 2.433599459,
                        "remaining_time": 4.364164392
                      },
                      {
                        "learn": [
                          0.1197325821
                        ],
                        "iteration": 358,
                        "passed_time": 2.440342981,
                        "remaining_time": 4.35726978
                      },
                      {
                        "learn": [
                          0.119595726
                        ],
                        "iteration": 359,
                        "passed_time": 2.446638947,
                        "remaining_time": 4.34958035
                      },
                      {
                        "learn": [
                          0.1194449921
                        ],
                        "iteration": 360,
                        "passed_time": 2.452983022,
                        "remaining_time": 4.341983798
                      },
                      {
                        "learn": [
                          0.1192685394
                        ],
                        "iteration": 361,
                        "passed_time": 2.459359497,
                        "remaining_time": 4.334451268
                      },
                      {
                        "learn": [
                          0.1190943451
                        ],
                        "iteration": 362,
                        "passed_time": 2.46592695,
                        "remaining_time": 4.32726024
                      },
                      {
                        "learn": [
                          0.1189137802
                        ],
                        "iteration": 363,
                        "passed_time": 2.471963045,
                        "remaining_time": 4.319144221
                      },
                      {
                        "learn": [
                          0.1187062378
                        ],
                        "iteration": 364,
                        "passed_time": 2.478607832,
                        "remaining_time": 4.312098558
                      },
                      {
                        "learn": [
                          0.1185419693
                        ],
                        "iteration": 365,
                        "passed_time": 2.484893691,
                        "remaining_time": 4.304433333
                      },
                      {
                        "learn": [
                          0.11832164
                        ],
                        "iteration": 366,
                        "passed_time": 2.49121475,
                        "remaining_time": 4.296836341
                      },
                      {
                        "learn": [
                          0.1181198273
                        ],
                        "iteration": 367,
                        "passed_time": 2.497871769,
                        "remaining_time": 4.289823255
                      },
                      {
                        "learn": [
                          0.1178906097
                        ],
                        "iteration": 368,
                        "passed_time": 2.50397766,
                        "remaining_time": 4.281869658
                      },
                      {
                        "learn": [
                          0.1176880493
                        ],
                        "iteration": 369,
                        "passed_time": 2.510481286,
                        "remaining_time": 4.27460327
                      },
                      {
                        "learn": [
                          0.1174578934
                        ],
                        "iteration": 370,
                        "passed_time": 2.517181128,
                        "remaining_time": 4.267673664
                      },
                      {
                        "learn": [
                          0.1173194122
                        ],
                        "iteration": 371,
                        "passed_time": 2.523629687,
                        "remaining_time": 4.260321084
                      },
                      {
                        "learn": [
                          0.1171682205
                        ],
                        "iteration": 372,
                        "passed_time": 2.530062905,
                        "remaining_time": 4.252947565
                      },
                      {
                        "learn": [
                          0.1169446793
                        ],
                        "iteration": 373,
                        "passed_time": 2.53648775,
                        "remaining_time": 4.245565058
                      },
                      {
                        "learn": [
                          0.1167414246
                        ],
                        "iteration": 374,
                        "passed_time": 2.542990686,
                        "remaining_time": 4.23831781
                      },
                      {
                        "learn": [
                          0.1165461731
                        ],
                        "iteration": 375,
                        "passed_time": 2.549401502,
                        "remaining_time": 4.230921642
                      },
                      {
                        "learn": [
                          0.1163794479
                        ],
                        "iteration": 376,
                        "passed_time": 2.55577769,
                        "remaining_time": 4.223473477
                      },
                      {
                        "learn": [
                          0.1162012329
                        ],
                        "iteration": 377,
                        "passed_time": 2.561928635,
                        "remaining_time": 4.215660347
                      },
                      {
                        "learn": [
                          0.1160756531
                        ],
                        "iteration": 378,
                        "passed_time": 2.568519938,
                        "remaining_time": 4.208577525
                      },
                      {
                        "learn": [
                          0.1158604202
                        ],
                        "iteration": 379,
                        "passed_time": 2.575049915,
                        "remaining_time": 4.20139723
                      },
                      {
                        "learn": [
                          0.1157135468
                        ],
                        "iteration": 380,
                        "passed_time": 2.58133914,
                        "remaining_time": 4.193829206
                      },
                      {
                        "learn": [
                          0.1154547272
                        ],
                        "iteration": 381,
                        "passed_time": 2.587894525,
                        "remaining_time": 4.186698472
                      },
                      {
                        "learn": [
                          0.1153312225
                        ],
                        "iteration": 382,
                        "passed_time": 2.594278298,
                        "remaining_time": 4.179294281
                      },
                      {
                        "learn": [
                          0.1151715851
                        ],
                        "iteration": 383,
                        "passed_time": 2.600488843,
                        "remaining_time": 4.171617518
                      },
                      {
                        "learn": [
                          0.1150746078
                        ],
                        "iteration": 384,
                        "passed_time": 2.607972049,
                        "remaining_time": 4.165981325
                      },
                      {
                        "learn": [
                          0.1149135818
                        ],
                        "iteration": 385,
                        "passed_time": 2.615387648,
                        "remaining_time": 4.160228021
                      },
                      {
                        "learn": [
                          0.1147574768
                        ],
                        "iteration": 386,
                        "passed_time": 2.622351989,
                        "remaining_time": 4.153751342
                      },
                      {
                        "learn": [
                          0.1145892181
                        ],
                        "iteration": 387,
                        "passed_time": 2.629036119,
                        "remaining_time": 4.146830167
                      },
                      {
                        "learn": [
                          0.1144987946
                        ],
                        "iteration": 388,
                        "passed_time": 2.635417107,
                        "remaining_time": 4.139434068
                      },
                      {
                        "learn": [
                          0.1143816071
                        ],
                        "iteration": 389,
                        "passed_time": 2.641623563,
                        "remaining_time": 4.131770188
                      },
                      {
                        "learn": [
                          0.1141617889
                        ],
                        "iteration": 390,
                        "passed_time": 2.647927479,
                        "remaining_time": 4.124265562
                      },
                      {
                        "learn": [
                          0.1139925232
                        ],
                        "iteration": 391,
                        "passed_time": 2.654377332,
                        "remaining_time": 4.116993413
                      },
                      {
                        "learn": [
                          0.1138612976
                        ],
                        "iteration": 392,
                        "passed_time": 2.660517082,
                        "remaining_time": 4.109246486
                      },
                      {
                        "learn": [
                          0.1136952057
                        ],
                        "iteration": 393,
                        "passed_time": 2.666854977,
                        "remaining_time": 4.101812477
                      },
                      {
                        "learn": [
                          0.1135770569
                        ],
                        "iteration": 394,
                        "passed_time": 2.673285912,
                        "remaining_time": 4.094526524
                      },
                      {
                        "learn": [
                          0.1134840546
                        ],
                        "iteration": 395,
                        "passed_time": 2.679430062,
                        "remaining_time": 4.086807468
                      },
                      {
                        "learn": [
                          0.1132578049
                        ],
                        "iteration": 396,
                        "passed_time": 2.685680855,
                        "remaining_time": 4.079258327
                      },
                      {
                        "learn": [
                          0.113163475
                        ],
                        "iteration": 397,
                        "passed_time": 2.692064536,
                        "remaining_time": 4.071916711
                      },
                      {
                        "learn": [
                          0.1130432434
                        ],
                        "iteration": 398,
                        "passed_time": 2.698361119,
                        "remaining_time": 4.064448703
                      },
                      {
                        "learn": [
                          0.1129258881
                        ],
                        "iteration": 399,
                        "passed_time": 2.705248752,
                        "remaining_time": 4.057873128
                      },
                      {
                        "learn": [
                          0.1127621002
                        ],
                        "iteration": 400,
                        "passed_time": 2.711647069,
                        "remaining_time": 4.050565073
                      },
                      {
                        "learn": [
                          0.1126574631
                        ],
                        "iteration": 401,
                        "passed_time": 2.717714378,
                        "remaining_time": 4.04276915
                      },
                      {
                        "learn": [
                          0.1124226913
                        ],
                        "iteration": 402,
                        "passed_time": 2.725831584,
                        "remaining_time": 4.0380185
                      },
                      {
                        "learn": [
                          0.112337677
                        ],
                        "iteration": 403,
                        "passed_time": 2.732910755,
                        "remaining_time": 4.031719827
                      },
                      {
                        "learn": [
                          0.1122603836
                        ],
                        "iteration": 404,
                        "passed_time": 2.739060201,
                        "remaining_time": 4.024051406
                      },
                      {
                        "learn": [
                          0.1121134186
                        ],
                        "iteration": 405,
                        "passed_time": 2.74541912,
                        "remaining_time": 4.016696939
                      },
                      {
                        "learn": [
                          0.1119589615
                        ],
                        "iteration": 406,
                        "passed_time": 2.751719626,
                        "remaining_time": 4.009262256
                      },
                      {
                        "learn": [
                          0.1118367462
                        ],
                        "iteration": 407,
                        "passed_time": 2.757932064,
                        "remaining_time": 4.001705347
                      },
                      {
                        "learn": [
                          0.1116153564
                        ],
                        "iteration": 408,
                        "passed_time": 2.764438254,
                        "remaining_time": 3.994579482
                      },
                      {
                        "learn": [
                          0.1114933777
                        ],
                        "iteration": 409,
                        "passed_time": 2.770846021,
                        "remaining_time": 3.987315006
                      },
                      {
                        "learn": [
                          0.111411232
                        ],
                        "iteration": 410,
                        "passed_time": 2.777157999,
                        "remaining_time": 3.979917424
                      },
                      {
                        "learn": [
                          0.1112650299
                        ],
                        "iteration": 411,
                        "passed_time": 2.783547258,
                        "remaining_time": 3.972635406
                      },
                      {
                        "learn": [
                          0.1111579514
                        ],
                        "iteration": 412,
                        "passed_time": 2.790137367,
                        "remaining_time": 3.965643183
                      },
                      {
                        "learn": [
                          0.1109551773
                        ],
                        "iteration": 413,
                        "passed_time": 2.79653853,
                        "remaining_time": 3.958385456
                      },
                      {
                        "learn": [
                          0.1108020248
                        ],
                        "iteration": 414,
                        "passed_time": 2.803060734,
                        "remaining_time": 3.95130248
                      },
                      {
                        "learn": [
                          0.1106078644
                        ],
                        "iteration": 415,
                        "passed_time": 2.81132162,
                        "remaining_time": 3.946663043
                      },
                      {
                        "learn": [
                          0.110444397
                        ],
                        "iteration": 416,
                        "passed_time": 2.817849328,
                        "remaining_time": 3.939583113
                      },
                      {
                        "learn": [
                          0.110242157
                        ],
                        "iteration": 417,
                        "passed_time": 2.824878046,
                        "remaining_time": 3.933203404
                      },
                      {
                        "learn": [
                          0.1100312805
                        ],
                        "iteration": 418,
                        "passed_time": 2.831475185,
                        "remaining_time": 3.926222153
                      },
                      {
                        "learn": [
                          0.1098353271
                        ],
                        "iteration": 419,
                        "passed_time": 2.839007411,
                        "remaining_time": 3.920534043
                      },
                      {
                        "learn": [
                          0.1097530212
                        ],
                        "iteration": 420,
                        "passed_time": 2.845466035,
                        "remaining_time": 3.913360651
                      },
                      {
                        "learn": [
                          0.1096442719
                        ],
                        "iteration": 421,
                        "passed_time": 2.851998202,
                        "remaining_time": 3.906291377
                      },
                      {
                        "learn": [
                          0.1096183472
                        ],
                        "iteration": 422,
                        "passed_time": 2.85840597,
                        "remaining_time": 3.899054953
                      },
                      {
                        "learn": [
                          0.1095092163
                        ],
                        "iteration": 423,
                        "passed_time": 2.865332405,
                        "remaining_time": 3.892527041
                      },
                      {
                        "learn": [
                          0.1093607712
                        ],
                        "iteration": 424,
                        "passed_time": 2.872022033,
                        "remaining_time": 3.885676869
                      },
                      {
                        "learn": [
                          0.1092174911
                        ],
                        "iteration": 425,
                        "passed_time": 2.878995254,
                        "remaining_time": 3.879209567
                      },
                      {
                        "learn": [
                          0.1091292419
                        ],
                        "iteration": 426,
                        "passed_time": 2.88528374,
                        "remaining_time": 3.871821038
                      },
                      {
                        "learn": [
                          0.1088827591
                        ],
                        "iteration": 427,
                        "passed_time": 2.89181409,
                        "remaining_time": 3.864760886
                      },
                      {
                        "learn": [
                          0.1087654724
                        ],
                        "iteration": 428,
                        "passed_time": 2.899267329,
                        "remaining_time": 3.858931573
                      },
                      {
                        "learn": [
                          0.1086558228
                        ],
                        "iteration": 429,
                        "passed_time": 2.907652285,
                        "remaining_time": 3.854329773
                      },
                      {
                        "learn": [
                          0.1084979019
                        ],
                        "iteration": 430,
                        "passed_time": 2.916562366,
                        "remaining_time": 3.85040368
                      },
                      {
                        "learn": [
                          0.10833918
                        ],
                        "iteration": 431,
                        "passed_time": 2.923658406,
                        "remaining_time": 3.844069386
                      },
                      {
                        "learn": [
                          0.1082313995
                        ],
                        "iteration": 432,
                        "passed_time": 2.930751414,
                        "remaining_time": 3.837727602
                      },
                      {
                        "learn": [
                          0.1080741882
                        ],
                        "iteration": 433,
                        "passed_time": 2.9380598,
                        "remaining_time": 3.831663241
                      },
                      {
                        "learn": [
                          0.1078587341
                        ],
                        "iteration": 434,
                        "passed_time": 2.945405518,
                        "remaining_time": 3.825641649
                      },
                      {
                        "learn": [
                          0.1076346741
                        ],
                        "iteration": 435,
                        "passed_time": 2.968077304,
                        "remaining_time": 3.839439448
                      },
                      {
                        "learn": [
                          0.107503006
                        ],
                        "iteration": 436,
                        "passed_time": 2.977575352,
                        "remaining_time": 3.836098222
                      },
                      {
                        "learn": [
                          0.1073634949
                        ],
                        "iteration": 437,
                        "passed_time": 2.987455088,
                        "remaining_time": 3.833218629
                      },
                      {
                        "learn": [
                          0.1072975464
                        ],
                        "iteration": 438,
                        "passed_time": 2.99424665,
                        "remaining_time": 3.826360753
                      },
                      {
                        "learn": [
                          0.1071583405
                        ],
                        "iteration": 439,
                        "passed_time": 3.001413859,
                        "remaining_time": 3.819981274
                      },
                      {
                        "learn": [
                          0.1070703354
                        ],
                        "iteration": 440,
                        "passed_time": 3.00806777,
                        "remaining_time": 3.812947582
                      },
                      {
                        "learn": [
                          0.1068852081
                        ],
                        "iteration": 441,
                        "passed_time": 3.016858597,
                        "remaining_time": 3.808613342
                      },
                      {
                        "learn": [
                          0.1067016449
                        ],
                        "iteration": 442,
                        "passed_time": 3.023746641,
                        "remaining_time": 3.801866544
                      },
                      {
                        "learn": [
                          0.1065224991
                        ],
                        "iteration": 443,
                        "passed_time": 3.030742094,
                        "remaining_time": 3.795253613
                      },
                      {
                        "learn": [
                          0.1063799973
                        ],
                        "iteration": 444,
                        "passed_time": 3.037276809,
                        "remaining_time": 3.788064334
                      },
                      {
                        "learn": [
                          0.1063113403
                        ],
                        "iteration": 445,
                        "passed_time": 3.043424277,
                        "remaining_time": 3.780396971
                      },
                      {
                        "learn": [
                          0.1061440887
                        ],
                        "iteration": 446,
                        "passed_time": 3.049860816,
                        "remaining_time": 3.773094029
                      },
                      {
                        "learn": [
                          0.1060283356
                        ],
                        "iteration": 447,
                        "passed_time": 3.057365017,
                        "remaining_time": 3.767110467
                      },
                      {
                        "learn": [
                          0.1059361115
                        ],
                        "iteration": 448,
                        "passed_time": 3.063654971,
                        "remaining_time": 3.759630043
                      },
                      {
                        "learn": [
                          0.1058063202
                        ],
                        "iteration": 449,
                        "passed_time": 3.070211135,
                        "remaining_time": 3.752480276
                      },
                      {
                        "learn": [
                          0.1056330261
                        ],
                        "iteration": 450,
                        "passed_time": 3.077220363,
                        "remaining_time": 3.745884655
                      },
                      {
                        "learn": [
                          0.1054754257
                        ],
                        "iteration": 451,
                        "passed_time": 3.083425119,
                        "remaining_time": 3.73831187
                      },
                      {
                        "learn": [
                          0.1053266754
                        ],
                        "iteration": 452,
                        "passed_time": 3.089910857,
                        "remaining_time": 3.731084412
                      },
                      {
                        "learn": [
                          0.1052384186
                        ],
                        "iteration": 453,
                        "passed_time": 3.096229677,
                        "remaining_time": 3.72365948
                      },
                      {
                        "learn": [
                          0.1051178436
                        ],
                        "iteration": 454,
                        "passed_time": 3.102583123,
                        "remaining_time": 3.716280883
                      },
                      {
                        "learn": [
                          0.1050217209
                        ],
                        "iteration": 455,
                        "passed_time": 3.109077112,
                        "remaining_time": 3.709074449
                      },
                      {
                        "learn": [
                          0.1048719788
                        ],
                        "iteration": 456,
                        "passed_time": 3.115384755,
                        "remaining_time": 3.70164972
                      },
                      {
                        "learn": [
                          0.1047494812
                        ],
                        "iteration": 457,
                        "passed_time": 3.121532452,
                        "remaining_time": 3.694040587
                      },
                      {
                        "learn": [
                          0.1046269531
                        ],
                        "iteration": 458,
                        "passed_time": 3.127988676,
                        "remaining_time": 3.686801468
                      },
                      {
                        "learn": [
                          0.1044380341
                        ],
                        "iteration": 459,
                        "passed_time": 3.134815756,
                        "remaining_time": 3.680001105
                      },
                      {
                        "learn": [
                          0.1043067551
                        ],
                        "iteration": 460,
                        "passed_time": 3.140940101,
                        "remaining_time": 3.672378991
                      },
                      {
                        "learn": [
                          0.1041816864
                        ],
                        "iteration": 461,
                        "passed_time": 3.14726321,
                        "remaining_time": 3.664994821
                      },
                      {
                        "learn": [
                          0.1040676422
                        ],
                        "iteration": 462,
                        "passed_time": 3.154265752,
                        "remaining_time": 3.658403259
                      },
                      {
                        "learn": [
                          0.1038789673
                        ],
                        "iteration": 463,
                        "passed_time": 3.160677772,
                        "remaining_time": 3.651127771
                      },
                      {
                        "learn": [
                          0.1037577515
                        ],
                        "iteration": 464,
                        "passed_time": 3.167140276,
                        "remaining_time": 3.643914082
                      },
                      {
                        "learn": [
                          0.1036443863
                        ],
                        "iteration": 465,
                        "passed_time": 3.173772853,
                        "remaining_time": 3.636898505
                      },
                      {
                        "learn": [
                          0.1035695496
                        ],
                        "iteration": 466,
                        "passed_time": 3.179973789,
                        "remaining_time": 3.629391927
                      },
                      {
                        "learn": [
                          0.1034414368
                        ],
                        "iteration": 467,
                        "passed_time": 3.186985859,
                        "remaining_time": 3.622812985
                      },
                      {
                        "learn": [
                          0.1031694946
                        ],
                        "iteration": 468,
                        "passed_time": 3.193533136,
                        "remaining_time": 3.61570596
                      },
                      {
                        "learn": [
                          0.1030417023
                        ],
                        "iteration": 469,
                        "passed_time": 3.199912369,
                        "remaining_time": 3.608411821
                      },
                      {
                        "learn": [
                          0.1028218994
                        ],
                        "iteration": 470,
                        "passed_time": 3.208216669,
                        "remaining_time": 3.60328369
                      },
                      {
                        "learn": [
                          0.1027026978
                        ],
                        "iteration": 471,
                        "passed_time": 3.216104233,
                        "remaining_time": 3.597675922
                      },
                      {
                        "learn": [
                          0.1025645447
                        ],
                        "iteration": 472,
                        "passed_time": 3.224235953,
                        "remaining_time": 3.592330543
                      },
                      {
                        "learn": [
                          0.1023747101
                        ],
                        "iteration": 473,
                        "passed_time": 3.230909808,
                        "remaining_time": 3.585355609
                      },
                      {
                        "learn": [
                          0.1022185364
                        ],
                        "iteration": 474,
                        "passed_time": 3.237502478,
                        "remaining_time": 3.578292213
                      },
                      {
                        "learn": [
                          0.1021096878
                        ],
                        "iteration": 475,
                        "passed_time": 3.243807672,
                        "remaining_time": 3.570914328
                      },
                      {
                        "learn": [
                          0.1019396057
                        ],
                        "iteration": 476,
                        "passed_time": 3.250151872,
                        "remaining_time": 3.563583708
                      },
                      {
                        "learn": [
                          0.101832428
                        ],
                        "iteration": 477,
                        "passed_time": 3.256587248,
                        "remaining_time": 3.556356786
                      },
                      {
                        "learn": [
                          0.1017257385
                        ],
                        "iteration": 478,
                        "passed_time": 3.263505062,
                        "remaining_time": 3.549657907
                      },
                      {
                        "learn": [
                          0.1016765213
                        ],
                        "iteration": 479,
                        "passed_time": 3.269503022,
                        "remaining_time": 3.541961607
                      },
                      {
                        "learn": [
                          0.1015624542
                        ],
                        "iteration": 480,
                        "passed_time": 3.276168459,
                        "remaining_time": 3.534992579
                      },
                      {
                        "learn": [
                          0.1014316559
                        ],
                        "iteration": 481,
                        "passed_time": 3.282626983,
                        "remaining_time": 3.527802443
                      },
                      {
                        "learn": [
                          0.101328331
                        ],
                        "iteration": 482,
                        "passed_time": 3.289460404,
                        "remaining_time": 3.521016623
                      },
                      {
                        "learn": [
                          0.1011980057
                        ],
                        "iteration": 483,
                        "passed_time": 3.295684888,
                        "remaining_time": 3.513581409
                      },
                      {
                        "learn": [
                          0.1010494995
                        ],
                        "iteration": 484,
                        "passed_time": 3.302163632,
                        "remaining_time": 3.506421176
                      },
                      {
                        "learn": [
                          0.1009214554
                        ],
                        "iteration": 485,
                        "passed_time": 3.308493257,
                        "remaining_time": 3.499106037
                      },
                      {
                        "learn": [
                          0.1007877121
                        ],
                        "iteration": 486,
                        "passed_time": 3.315210141,
                        "remaining_time": 3.492202879
                      },
                      {
                        "learn": [
                          0.1005932159
                        ],
                        "iteration": 487,
                        "passed_time": 3.321654036,
                        "remaining_time": 3.48501407
                      },
                      {
                        "learn": [
                          0.1003946381
                        ],
                        "iteration": 488,
                        "passed_time": 3.327969207,
                        "remaining_time": 3.477693793
                      },
                      {
                        "learn": [
                          0.1001669235
                        ],
                        "iteration": 489,
                        "passed_time": 3.334563092,
                        "remaining_time": 3.470667708
                      },
                      {
                        "learn": [
                          0.1000597229
                        ],
                        "iteration": 490,
                        "passed_time": 3.341028339,
                        "remaining_time": 3.46351003
                      },
                      {
                        "learn": [
                          0.0999284668
                        ],
                        "iteration": 491,
                        "passed_time": 3.346970278,
                        "remaining_time": 3.45581484
                      },
                      {
                        "learn": [
                          0.0996884613
                        ],
                        "iteration": 492,
                        "passed_time": 3.353557562,
                        "remaining_time": 3.448790434
                      },
                      {
                        "learn": [
                          0.09959208679
                        ],
                        "iteration": 493,
                        "passed_time": 3.359999932,
                        "remaining_time": 3.441619364
                      },
                      {
                        "learn": [
                          0.09953035736
                        ],
                        "iteration": 494,
                        "passed_time": 3.366076933,
                        "remaining_time": 3.434078487
                      },
                      {
                        "learn": [
                          0.09939770508
                        ],
                        "iteration": 495,
                        "passed_time": 3.372565087,
                        "remaining_time": 3.426961299
                      },
                      {
                        "learn": [
                          0.09925554657
                        ],
                        "iteration": 496,
                        "passed_time": 3.378644606,
                        "remaining_time": 3.419433072
                      },
                      {
                        "learn": [
                          0.09910046387
                        ],
                        "iteration": 497,
                        "passed_time": 3.385103087,
                        "remaining_time": 3.41229267
                      },
                      {
                        "learn": [
                          0.09900791168
                        ],
                        "iteration": 498,
                        "passed_time": 3.39127661,
                        "remaining_time": 3.404868901
                      },
                      {
                        "learn": [
                          0.09892536926
                        ],
                        "iteration": 499,
                        "passed_time": 3.397350957,
                        "remaining_time": 3.397350957
                      },
                      {
                        "learn": [
                          0.09876663208
                        ],
                        "iteration": 500,
                        "passed_time": 3.403727893,
                        "remaining_time": 3.390140156
                      },
                      {
                        "learn": [
                          0.09863197327
                        ],
                        "iteration": 501,
                        "passed_time": 3.410127223,
                        "remaining_time": 3.382954894
                      },
                      {
                        "learn": [
                          0.09846980286
                        ],
                        "iteration": 502,
                        "passed_time": 3.41903312,
                        "remaining_time": 3.378249425
                      },
                      {
                        "learn": [
                          0.09834391785
                        ],
                        "iteration": 503,
                        "passed_time": 3.425511488,
                        "remaining_time": 3.371138289
                      },
                      {
                        "learn": [
                          0.09821551514
                        ],
                        "iteration": 504,
                        "passed_time": 3.432022935,
                        "remaining_time": 3.364062085
                      },
                      {
                        "learn": [
                          0.09803972626
                        ],
                        "iteration": 505,
                        "passed_time": 3.438279294,
                        "remaining_time": 3.356739073
                      },
                      {
                        "learn": [
                          0.09789928436
                        ],
                        "iteration": 506,
                        "passed_time": 3.444612892,
                        "remaining_time": 3.349495376
                      },
                      {
                        "learn": [
                          0.0977964859
                        ],
                        "iteration": 507,
                        "passed_time": 3.451058278,
                        "remaining_time": 3.342363529
                      },
                      {
                        "learn": [
                          0.09765759277
                        ],
                        "iteration": 508,
                        "passed_time": 3.457221921,
                        "remaining_time": 3.3349626
                      },
                      {
                        "learn": [
                          0.09749789429
                        ],
                        "iteration": 509,
                        "passed_time": 3.463972177,
                        "remaining_time": 3.32813013
                      },
                      {
                        "learn": [
                          0.097409935
                        ],
                        "iteration": 510,
                        "passed_time": 3.47036763,
                        "remaining_time": 3.320958456
                      },
                      {
                        "learn": [
                          0.09726725769
                        ],
                        "iteration": 511,
                        "passed_time": 3.476630912,
                        "remaining_time": 3.313663838
                      },
                      {
                        "learn": [
                          0.09713697815
                        ],
                        "iteration": 512,
                        "passed_time": 3.48348541,
                        "remaining_time": 3.306934493
                      },
                      {
                        "learn": [
                          0.09702542877
                        ],
                        "iteration": 513,
                        "passed_time": 3.492382863,
                        "remaining_time": 3.302136326
                      },
                      {
                        "learn": [
                          0.09693623352
                        ],
                        "iteration": 514,
                        "passed_time": 3.498710767,
                        "remaining_time": 3.294902373
                      },
                      {
                        "learn": [
                          0.09681127167
                        ],
                        "iteration": 515,
                        "passed_time": 3.504885008,
                        "remaining_time": 3.287527798
                      },
                      {
                        "learn": [
                          0.09669648743
                        ],
                        "iteration": 516,
                        "passed_time": 3.511722893,
                        "remaining_time": 3.280777867
                      },
                      {
                        "learn": [
                          0.09660995483
                        ],
                        "iteration": 517,
                        "passed_time": 3.518530427,
                        "remaining_time": 3.273999355
                      },
                      {
                        "learn": [
                          0.09652562714
                        ],
                        "iteration": 518,
                        "passed_time": 3.524629249,
                        "remaining_time": 3.266563909
                      },
                      {
                        "learn": [
                          0.09645040894
                        ],
                        "iteration": 519,
                        "passed_time": 3.530858216,
                        "remaining_time": 3.259253737
                      },
                      {
                        "learn": [
                          0.09633670807
                        ],
                        "iteration": 520,
                        "passed_time": 3.537355315,
                        "remaining_time": 3.252194234
                      },
                      {
                        "learn": [
                          0.09618314362
                        ],
                        "iteration": 521,
                        "passed_time": 3.543641743,
                        "remaining_time": 3.244943971
                      },
                      {
                        "learn": [
                          0.09593753052
                        ],
                        "iteration": 522,
                        "passed_time": 3.550289867,
                        "remaining_time": 3.238027278
                      },
                      {
                        "learn": [
                          0.09578573608
                        ],
                        "iteration": 523,
                        "passed_time": 3.556751638,
                        "remaining_time": 3.230942327
                      },
                      {
                        "learn": [
                          0.0956416626
                        ],
                        "iteration": 524,
                        "passed_time": 3.562995698,
                        "remaining_time": 3.223662775
                      },
                      {
                        "learn": [
                          0.09549256897
                        ],
                        "iteration": 525,
                        "passed_time": 3.569655619,
                        "remaining_time": 3.216761908
                      },
                      {
                        "learn": [
                          0.09541867828
                        ],
                        "iteration": 526,
                        "passed_time": 3.576486303,
                        "remaining_time": 3.210015221
                      },
                      {
                        "learn": [
                          0.09528094482
                        ],
                        "iteration": 527,
                        "passed_time": 3.582479561,
                        "remaining_time": 3.202519607
                      },
                      {
                        "learn": [
                          0.09518951416
                        ],
                        "iteration": 528,
                        "passed_time": 3.588737099,
                        "remaining_time": 3.195264979
                      },
                      {
                        "learn": [
                          0.09502985382
                        ],
                        "iteration": 529,
                        "passed_time": 3.594925906,
                        "remaining_time": 3.187953162
                      },
                      {
                        "learn": [
                          0.09495207214
                        ],
                        "iteration": 530,
                        "passed_time": 3.601114069,
                        "remaining_time": 3.180645006
                      },
                      {
                        "learn": [
                          0.09485389709
                        ],
                        "iteration": 531,
                        "passed_time": 3.607300202,
                        "remaining_time": 3.173339276
                      },
                      {
                        "learn": [
                          0.09476257324
                        ],
                        "iteration": 532,
                        "passed_time": 3.613420825,
                        "remaining_time": 3.165980347
                      },
                      {
                        "learn": [
                          0.09466755676
                        ],
                        "iteration": 533,
                        "passed_time": 3.621037907,
                        "remaining_time": 3.159931957
                      },
                      {
                        "learn": [
                          0.09456332397
                        ],
                        "iteration": 534,
                        "passed_time": 3.628676706,
                        "remaining_time": 3.153896577
                      },
                      {
                        "learn": [
                          0.09445398712
                        ],
                        "iteration": 535,
                        "passed_time": 3.634869477,
                        "remaining_time": 3.146603428
                      },
                      {
                        "learn": [
                          0.09430950928
                        ],
                        "iteration": 536,
                        "passed_time": 3.641433251,
                        "remaining_time": 3.139634256
                      },
                      {
                        "learn": [
                          0.09422227478
                        ],
                        "iteration": 537,
                        "passed_time": 3.648064063,
                        "remaining_time": 3.132724158
                      },
                      {
                        "learn": [
                          0.09410565186
                        ],
                        "iteration": 538,
                        "passed_time": 3.654339197,
                        "remaining_time": 3.125510891
                      },
                      {
                        "learn": [
                          0.09397531128
                        ],
                        "iteration": 539,
                        "passed_time": 3.661501549,
                        "remaining_time": 3.119056875
                      },
                      {
                        "learn": [
                          0.09388571167
                        ],
                        "iteration": 540,
                        "passed_time": 3.668651829,
                        "remaining_time": 3.112589999
                      },
                      {
                        "learn": [
                          0.09378961945
                        ],
                        "iteration": 541,
                        "passed_time": 3.67515484,
                        "remaining_time": 3.105573647
                      },
                      {
                        "learn": [
                          0.09355032349
                        ],
                        "iteration": 542,
                        "passed_time": 3.681478636,
                        "remaining_time": 3.098408355
                      },
                      {
                        "learn": [
                          0.09344544983
                        ],
                        "iteration": 543,
                        "passed_time": 3.687820612,
                        "remaining_time": 3.091261395
                      },
                      {
                        "learn": [
                          0.09331694031
                        ],
                        "iteration": 544,
                        "passed_time": 3.694283937,
                        "remaining_time": 3.0842187
                      },
                      {
                        "learn": [
                          0.09315752411
                        ],
                        "iteration": 545,
                        "passed_time": 3.700528964,
                        "remaining_time": 3.076996611
                      },
                      {
                        "learn": [
                          0.09305581665
                        ],
                        "iteration": 546,
                        "passed_time": 3.706742781,
                        "remaining_time": 3.069752248
                      },
                      {
                        "learn": [
                          0.09291025543
                        ],
                        "iteration": 547,
                        "passed_time": 3.71304386,
                        "remaining_time": 3.062583622
                      },
                      {
                        "learn": [
                          0.09280383301
                        ],
                        "iteration": 548,
                        "passed_time": 3.719363448,
                        "remaining_time": 3.055433361
                      },
                      {
                        "learn": [
                          0.09259613037
                        ],
                        "iteration": 549,
                        "passed_time": 3.726862539,
                        "remaining_time": 3.049251168
                      },
                      {
                        "learn": [
                          0.09253768158
                        ],
                        "iteration": 550,
                        "passed_time": 3.733030755,
                        "remaining_time": 3.04197969
                      },
                      {
                        "learn": [
                          0.09236445618
                        ],
                        "iteration": 551,
                        "passed_time": 3.739486941,
                        "remaining_time": 3.034945923
                      },
                      {
                        "learn": [
                          0.0922162323
                        ],
                        "iteration": 552,
                        "passed_time": 3.746364525,
                        "remaining_time": 3.028254869
                      },
                      {
                        "learn": [
                          0.09214160156
                        ],
                        "iteration": 553,
                        "passed_time": 3.752782239,
                        "remaining_time": 3.021192922
                      },
                      {
                        "learn": [
                          0.09206423187
                        ],
                        "iteration": 554,
                        "passed_time": 3.759039515,
                        "remaining_time": 3.014004657
                      },
                      {
                        "learn": [
                          0.09194165039
                        ],
                        "iteration": 555,
                        "passed_time": 3.766330825,
                        "remaining_time": 3.007645479
                      },
                      {
                        "learn": [
                          0.09175802612
                        ],
                        "iteration": 556,
                        "passed_time": 3.774278205,
                        "remaining_time": 3.001804749
                      },
                      {
                        "learn": [
                          0.09165963745
                        ],
                        "iteration": 557,
                        "passed_time": 3.78068961,
                        "remaining_time": 2.994739798
                      },
                      {
                        "learn": [
                          0.09151813507
                        ],
                        "iteration": 558,
                        "passed_time": 3.787142003,
                        "remaining_time": 2.987709523
                      },
                      {
                        "learn": [
                          0.09139796448
                        ],
                        "iteration": 559,
                        "passed_time": 3.793615339,
                        "remaining_time": 2.980697767
                      },
                      {
                        "learn": [
                          0.09130657959
                        ],
                        "iteration": 560,
                        "passed_time": 3.799644991,
                        "remaining_time": 2.973340733
                      },
                      {
                        "learn": [
                          0.09117176819
                        ],
                        "iteration": 561,
                        "passed_time": 3.806075824,
                        "remaining_time": 2.966301087
                      },
                      {
                        "learn": [
                          0.09107092285
                        ],
                        "iteration": 562,
                        "passed_time": 3.812525076,
                        "remaining_time": 2.959277901
                      },
                      {
                        "learn": [
                          0.09095056915
                        ],
                        "iteration": 563,
                        "passed_time": 3.819413289,
                        "remaining_time": 2.952596089
                      },
                      {
                        "learn": [
                          0.0908633728
                        ],
                        "iteration": 564,
                        "passed_time": 3.826988625,
                        "remaining_time": 2.94644257
                      },
                      {
                        "learn": [
                          0.09076482391
                        ],
                        "iteration": 565,
                        "passed_time": 3.833711615,
                        "remaining_time": 2.939630461
                      },
                      {
                        "learn": [
                          0.09070449829
                        ],
                        "iteration": 566,
                        "passed_time": 3.839833021,
                        "remaining_time": 2.932359256
                      },
                      {
                        "learn": [
                          0.09058406067
                        ],
                        "iteration": 567,
                        "passed_time": 3.846335526,
                        "remaining_time": 2.925381949
                      },
                      {
                        "learn": [
                          0.09049673462
                        ],
                        "iteration": 568,
                        "passed_time": 3.852844102,
                        "remaining_time": 2.918410911
                      },
                      {
                        "learn": [
                          0.09041822815
                        ],
                        "iteration": 569,
                        "passed_time": 3.858988878,
                        "remaining_time": 2.911167048
                      },
                      {
                        "learn": [
                          0.09028140259
                        ],
                        "iteration": 570,
                        "passed_time": 3.865690188,
                        "remaining_time": 2.904345168
                      },
                      {
                        "learn": [
                          0.09016146088
                        ],
                        "iteration": 571,
                        "passed_time": 3.872188611,
                        "remaining_time": 2.897371898
                      },
                      {
                        "learn": [
                          0.09010714722
                        ],
                        "iteration": 572,
                        "passed_time": 3.878220982,
                        "remaining_time": 2.890052983
                      },
                      {
                        "learn": [
                          0.08991504669
                        ],
                        "iteration": 573,
                        "passed_time": 3.884758251,
                        "remaining_time": 2.883113266
                      },
                      {
                        "learn": [
                          0.08983140564
                        ],
                        "iteration": 574,
                        "passed_time": 3.89137368,
                        "remaining_time": 2.87623272
                      },
                      {
                        "learn": [
                          0.08974248505
                        ],
                        "iteration": 575,
                        "passed_time": 3.897503933,
                        "remaining_time": 2.868995951
                      },
                      {
                        "learn": [
                          0.08965988159
                        ],
                        "iteration": 576,
                        "passed_time": 3.906197803,
                        "remaining_time": 2.86364241
                      },
                      {
                        "learn": [
                          0.08960505676
                        ],
                        "iteration": 577,
                        "passed_time": 3.914570088,
                        "remaining_time": 2.858042521
                      },
                      {
                        "learn": [
                          0.0895227356
                        ],
                        "iteration": 578,
                        "passed_time": 3.921930565,
                        "remaining_time": 2.851697354
                      },
                      {
                        "learn": [
                          0.08943907166
                        ],
                        "iteration": 579,
                        "passed_time": 3.928020413,
                        "remaining_time": 2.844428575
                      },
                      {
                        "learn": [
                          0.08931632996
                        ],
                        "iteration": 580,
                        "passed_time": 3.934689679,
                        "remaining_time": 2.837581713
                      },
                      {
                        "learn": [
                          0.08926676178
                        ],
                        "iteration": 581,
                        "passed_time": 3.941268248,
                        "remaining_time": 2.830670323
                      },
                      {
                        "learn": [
                          0.08915348816
                        ],
                        "iteration": 582,
                        "passed_time": 3.947514703,
                        "remaining_time": 2.823522523
                      },
                      {
                        "learn": [
                          0.08905052185
                        ],
                        "iteration": 583,
                        "passed_time": 4.119814583,
                        "remaining_time": 2.934662443
                      },
                      {
                        "learn": [
                          0.08892172241
                        ],
                        "iteration": 584,
                        "passed_time": 4.129435882,
                        "remaining_time": 2.929428873
                      },
                      {
                        "learn": [
                          0.08876615906
                        ],
                        "iteration": 585,
                        "passed_time": 4.142639158,
                        "remaining_time": 2.926710941
                      },
                      {
                        "learn": [
                          0.08864099121
                        ],
                        "iteration": 586,
                        "passed_time": 4.149297909,
                        "remaining_time": 2.919352702
                      },
                      {
                        "learn": [
                          0.08856595612
                        ],
                        "iteration": 587,
                        "passed_time": 4.155454805,
                        "remaining_time": 2.911645204
                      },
                      {
                        "learn": [
                          0.0884193573
                        ],
                        "iteration": 588,
                        "passed_time": 4.161930185,
                        "remaining_time": 2.904165206
                      },
                      {
                        "learn": [
                          0.08829621887
                        ],
                        "iteration": 589,
                        "passed_time": 4.16835106,
                        "remaining_time": 2.896650737
                      },
                      {
                        "learn": [
                          0.08819798279
                        ],
                        "iteration": 590,
                        "passed_time": 4.174642053,
                        "remaining_time": 2.889050084
                      },
                      {
                        "learn": [
                          0.08805476379
                        ],
                        "iteration": 591,
                        "passed_time": 4.18121481,
                        "remaining_time": 2.881648045
                      },
                      {
                        "learn": [
                          0.08799250793
                        ],
                        "iteration": 592,
                        "passed_time": 4.187445664,
                        "remaining_time": 2.874014141
                      },
                      {
                        "learn": [
                          0.08786151123
                        ],
                        "iteration": 593,
                        "passed_time": 4.193856217,
                        "remaining_time": 2.866507785
                      },
                      {
                        "learn": [
                          0.08773543549
                        ],
                        "iteration": 594,
                        "passed_time": 4.200321839,
                        "remaining_time": 2.859042596
                      },
                      {
                        "learn": [
                          0.08762902832
                        ],
                        "iteration": 595,
                        "passed_time": 4.207681608,
                        "remaining_time": 2.852186862
                      },
                      {
                        "learn": [
                          0.08753599548
                        ],
                        "iteration": 596,
                        "passed_time": 4.214456447,
                        "remaining_time": 2.844934587
                      },
                      {
                        "learn": [
                          0.08744158936
                        ],
                        "iteration": 597,
                        "passed_time": 4.22200126,
                        "remaining_time": 2.838201516
                      },
                      {
                        "learn": [
                          0.0873296051
                        ],
                        "iteration": 598,
                        "passed_time": 4.229120896,
                        "remaining_time": 2.831181101
                      },
                      {
                        "learn": [
                          0.08720884705
                        ],
                        "iteration": 599,
                        "passed_time": 4.235882193,
                        "remaining_time": 2.823921462
                      },
                      {
                        "learn": [
                          0.08709361267
                        ],
                        "iteration": 600,
                        "passed_time": 4.242722359,
                        "remaining_time": 2.816715843
                      },
                      {
                        "learn": [
                          0.08697314453
                        ],
                        "iteration": 601,
                        "passed_time": 4.249603338,
                        "remaining_time": 2.809538419
                      },
                      {
                        "learn": [
                          0.08689854431
                        ],
                        "iteration": 602,
                        "passed_time": 4.255930986,
                        "remaining_time": 2.801997681
                      },
                      {
                        "learn": [
                          0.08682048035
                        ],
                        "iteration": 603,
                        "passed_time": 4.262472821,
                        "remaining_time": 2.794601386
                      },
                      {
                        "learn": [
                          0.08676314545
                        ],
                        "iteration": 604,
                        "passed_time": 4.26912072,
                        "remaining_time": 2.787277164
                      },
                      {
                        "learn": [
                          0.08661462402
                        ],
                        "iteration": 605,
                        "passed_time": 4.275751862,
                        "remaining_time": 2.77994428
                      },
                      {
                        "learn": [
                          0.08653485107
                        ],
                        "iteration": 606,
                        "passed_time": 4.282244761,
                        "remaining_time": 2.772524203
                      },
                      {
                        "learn": [
                          0.08644606781
                        ],
                        "iteration": 607,
                        "passed_time": 4.288840684,
                        "remaining_time": 2.765173599
                      },
                      {
                        "learn": [
                          0.08638200378
                        ],
                        "iteration": 608,
                        "passed_time": 4.295422746,
                        "remaining_time": 2.757816574
                      },
                      {
                        "learn": [
                          0.08627152252
                        ],
                        "iteration": 609,
                        "passed_time": 4.301999796,
                        "remaining_time": 2.750458886
                      },
                      {
                        "learn": [
                          0.08621684265
                        ],
                        "iteration": 610,
                        "passed_time": 4.309035502,
                        "remaining_time": 2.743395761
                      },
                      {
                        "learn": [
                          0.08602998352
                        ],
                        "iteration": 611,
                        "passed_time": 4.316011202,
                        "remaining_time": 2.736294684
                      },
                      {
                        "learn": [
                          0.08594098663
                        ],
                        "iteration": 612,
                        "passed_time": 4.32721456,
                        "remaining_time": 2.731863025
                      },
                      {
                        "learn": [
                          0.08585577393
                        ],
                        "iteration": 613,
                        "passed_time": 4.335653373,
                        "remaining_time": 2.725671338
                      },
                      {
                        "learn": [
                          0.08578105164
                        ],
                        "iteration": 614,
                        "passed_time": 4.341850835,
                        "remaining_time": 2.718069222
                      },
                      {
                        "learn": [
                          0.08571466064
                        ],
                        "iteration": 615,
                        "passed_time": 4.348168832,
                        "remaining_time": 2.710546804
                      },
                      {
                        "learn": [
                          0.08565266418
                        ],
                        "iteration": 616,
                        "passed_time": 4.354235643,
                        "remaining_time": 2.702872368
                      },
                      {
                        "learn": [
                          0.08553215027
                        ],
                        "iteration": 617,
                        "passed_time": 4.360713168,
                        "remaining_time": 2.695457007
                      },
                      {
                        "learn": [
                          0.08545829773
                        ],
                        "iteration": 618,
                        "passed_time": 4.36686126,
                        "remaining_time": 2.687841906
                      },
                      {
                        "learn": [
                          0.08537845612
                        ],
                        "iteration": 619,
                        "passed_time": 4.373072219,
                        "remaining_time": 2.680270069
                      },
                      {
                        "learn": [
                          0.08523122406
                        ],
                        "iteration": 620,
                        "passed_time": 4.379442091,
                        "remaining_time": 2.672799602
                      },
                      {
                        "learn": [
                          0.08514355469
                        ],
                        "iteration": 621,
                        "passed_time": 4.386048895,
                        "remaining_time": 2.665476659
                      },
                      {
                        "learn": [
                          0.08499700165
                        ],
                        "iteration": 622,
                        "passed_time": 4.393261529,
                        "remaining_time": 2.658522627
                      },
                      {
                        "learn": [
                          0.08489261627
                        ],
                        "iteration": 623,
                        "passed_time": 4.401050844,
                        "remaining_time": 2.651915252
                      },
                      {
                        "learn": [
                          0.08477734375
                        ],
                        "iteration": 624,
                        "passed_time": 4.407366149,
                        "remaining_time": 2.644419689
                      },
                      {
                        "learn": [
                          0.08467345428
                        ],
                        "iteration": 625,
                        "passed_time": 4.41431422,
                        "remaining_time": 2.63730594
                      },
                      {
                        "learn": [
                          0.08456243896
                        ],
                        "iteration": 626,
                        "passed_time": 4.420550403,
                        "remaining_time": 2.629769219
                      },
                      {
                        "learn": [
                          0.08445014954
                        ],
                        "iteration": 627,
                        "passed_time": 4.427335308,
                        "remaining_time": 2.62256168
                      },
                      {
                        "learn": [
                          0.08432736206
                        ],
                        "iteration": 628,
                        "passed_time": 4.43429607,
                        "remaining_time": 2.615459208
                      },
                      {
                        "learn": [
                          0.084212883
                        ],
                        "iteration": 629,
                        "passed_time": 4.44075175,
                        "remaining_time": 2.608060552
                      },
                      {
                        "learn": [
                          0.08410771179
                        ],
                        "iteration": 630,
                        "passed_time": 4.447357735,
                        "remaining_time": 2.60075278
                      },
                      {
                        "learn": [
                          0.08397418213
                        ],
                        "iteration": 631,
                        "passed_time": 4.454625982,
                        "remaining_time": 2.59383285
                      },
                      {
                        "learn": [
                          0.08387760925
                        ],
                        "iteration": 632,
                        "passed_time": 4.461257123,
                        "remaining_time": 2.586542439
                      },
                      {
                        "learn": [
                          0.08379566956
                        ],
                        "iteration": 633,
                        "passed_time": 4.467556981,
                        "remaining_time": 2.579062863
                      },
                      {
                        "learn": [
                          0.08371278381
                        ],
                        "iteration": 634,
                        "passed_time": 4.474124528,
                        "remaining_time": 2.571740871
                      },
                      {
                        "learn": [
                          0.08359086609
                        ],
                        "iteration": 635,
                        "passed_time": 4.480403051,
                        "remaining_time": 2.564255834
                      },
                      {
                        "learn": [
                          0.08351577759
                        ],
                        "iteration": 636,
                        "passed_time": 4.486940312,
                        "remaining_time": 2.55692203
                      },
                      {
                        "learn": [
                          0.08341732788
                        ],
                        "iteration": 637,
                        "passed_time": 4.493398925,
                        "remaining_time": 2.549546098
                      },
                      {
                        "learn": [
                          0.08325585175
                        ],
                        "iteration": 638,
                        "passed_time": 4.49975392,
                        "remaining_time": 2.542114499
                      },
                      {
                        "learn": [
                          0.0831545105
                        ],
                        "iteration": 639,
                        "passed_time": 4.506055917,
                        "remaining_time": 2.534656453
                      },
                      {
                        "learn": [
                          0.08304676819
                        ],
                        "iteration": 640,
                        "passed_time": 4.512703134,
                        "remaining_time": 2.527395359
                      },
                      {
                        "learn": [
                          0.08300669861
                        ],
                        "iteration": 641,
                        "passed_time": 4.518930827,
                        "remaining_time": 2.519902237
                      },
                      {
                        "learn": [
                          0.08293787384
                        ],
                        "iteration": 642,
                        "passed_time": 4.526001319,
                        "remaining_time": 2.512880981
                      },
                      {
                        "learn": [
                          0.08285908508
                        ],
                        "iteration": 643,
                        "passed_time": 4.533665241,
                        "remaining_time": 2.506187618
                      },
                      {
                        "learn": [
                          0.08277616882
                        ],
                        "iteration": 644,
                        "passed_time": 4.540480463,
                        "remaining_time": 2.499024131
                      },
                      {
                        "learn": [
                          0.08272864532
                        ],
                        "iteration": 645,
                        "passed_time": 4.547195407,
                        "remaining_time": 2.491806771
                      },
                      {
                        "learn": [
                          0.08268218994
                        ],
                        "iteration": 646,
                        "passed_time": 4.553737748,
                        "remaining_time": 2.484496793
                      },
                      {
                        "learn": [
                          0.08258654022
                        ],
                        "iteration": 647,
                        "passed_time": 4.559938228,
                        "remaining_time": 2.477003482
                      },
                      {
                        "learn": [
                          0.08246369934
                        ],
                        "iteration": 648,
                        "passed_time": 4.566490492,
                        "remaining_time": 2.469704411
                      },
                      {
                        "learn": [
                          0.08238352203
                        ],
                        "iteration": 649,
                        "passed_time": 4.572785608,
                        "remaining_time": 2.462269173
                      },
                      {
                        "learn": [
                          0.08227900696
                        ],
                        "iteration": 650,
                        "passed_time": 4.578908211,
                        "remaining_time": 2.454744955
                      },
                      {
                        "learn": [
                          0.0822220459
                        ],
                        "iteration": 651,
                        "passed_time": 4.58516729,
                        "remaining_time": 2.447297879
                      },
                      {
                        "learn": [
                          0.08211078644
                        ],
                        "iteration": 652,
                        "passed_time": 4.591773536,
                        "remaining_time": 2.440038923
                      },
                      {
                        "learn": [
                          0.08197781372
                        ],
                        "iteration": 653,
                        "passed_time": 4.598461407,
                        "remaining_time": 2.432825148
                      },
                      {
                        "learn": [
                          0.08186580658
                        ],
                        "iteration": 654,
                        "passed_time": 4.604714709,
                        "remaining_time": 2.425384083
                      },
                      {
                        "learn": [
                          0.08175434113
                        ],
                        "iteration": 655,
                        "passed_time": 4.611353882,
                        "remaining_time": 2.418148987
                      },
                      {
                        "learn": [
                          0.08167744446
                        ],
                        "iteration": 656,
                        "passed_time": 4.617677177,
                        "remaining_time": 2.410750794
                      },
                      {
                        "learn": [
                          0.08152558899
                        ],
                        "iteration": 657,
                        "passed_time": 4.624049346,
                        "remaining_time": 2.403381271
                      },
                      {
                        "learn": [
                          0.08138873291
                        ],
                        "iteration": 658,
                        "passed_time": 4.630669518,
                        "remaining_time": 2.396143104
                      },
                      {
                        "learn": [
                          0.08129841614
                        ],
                        "iteration": 659,
                        "passed_time": 4.636774701,
                        "remaining_time": 2.388641512
                      },
                      {
                        "learn": [
                          0.08121057129
                        ],
                        "iteration": 660,
                        "passed_time": 4.645241547,
                        "remaining_time": 2.382355347
                      },
                      {
                        "learn": [
                          0.08109325409
                        ],
                        "iteration": 661,
                        "passed_time": 4.653406342,
                        "remaining_time": 2.375908374
                      },
                      {
                        "learn": [
                          0.0809875946
                        ],
                        "iteration": 662,
                        "passed_time": 4.659984114,
                        "remaining_time": 2.368649542
                      },
                      {
                        "learn": [
                          0.08090054321
                        ],
                        "iteration": 663,
                        "passed_time": 4.666366611,
                        "remaining_time": 2.361293948
                      },
                      {
                        "learn": [
                          0.08077139282
                        ],
                        "iteration": 664,
                        "passed_time": 4.672820619,
                        "remaining_time": 2.353977304
                      },
                      {
                        "learn": [
                          0.08069204712
                        ],
                        "iteration": 665,
                        "passed_time": 4.679153556,
                        "remaining_time": 2.346602534
                      },
                      {
                        "learn": [
                          0.08064741516
                        ],
                        "iteration": 666,
                        "passed_time": 4.685466018,
                        "remaining_time": 2.339220666
                      },
                      {
                        "learn": [
                          0.08057145691
                        ],
                        "iteration": 667,
                        "passed_time": 4.692212986,
                        "remaining_time": 2.332057951
                      },
                      {
                        "learn": [
                          0.08049800873
                        ],
                        "iteration": 668,
                        "passed_time": 4.69904322,
                        "remaining_time": 2.324937677
                      },
                      {
                        "learn": [
                          0.08037297058
                        ],
                        "iteration": 669,
                        "passed_time": 4.705619416,
                        "remaining_time": 2.317693145
                      },
                      {
                        "learn": [
                          0.08029623413
                        ],
                        "iteration": 670,
                        "passed_time": 4.712198199,
                        "remaining_time": 2.310451874
                      },
                      {
                        "learn": [
                          0.08026732635
                        ],
                        "iteration": 671,
                        "passed_time": 4.718507858,
                        "remaining_time": 2.303081216
                      },
                      {
                        "learn": [
                          0.08020304871
                        ],
                        "iteration": 672,
                        "passed_time": 4.725726938,
                        "remaining_time": 2.296155585
                      },
                      {
                        "learn": [
                          0.08015974426
                        ],
                        "iteration": 673,
                        "passed_time": 4.733787976,
                        "remaining_time": 2.289636321
                      },
                      {
                        "learn": [
                          0.08014228821
                        ],
                        "iteration": 674,
                        "passed_time": 4.740424762,
                        "remaining_time": 2.282426737
                      },
                      {
                        "learn": [
                          0.07999894714
                        ],
                        "iteration": 675,
                        "passed_time": 4.747286502,
                        "remaining_time": 2.275326667
                      },
                      {
                        "learn": [
                          0.07993904114
                        ],
                        "iteration": 676,
                        "passed_time": 4.753354366,
                        "remaining_time": 2.267848538
                      },
                      {
                        "learn": [
                          0.0798968811
                        ],
                        "iteration": 677,
                        "passed_time": 4.759879529,
                        "remaining_time": 2.260591753
                      },
                      {
                        "learn": [
                          0.07982557678
                        ],
                        "iteration": 678,
                        "passed_time": 4.765920393,
                        "remaining_time": 2.253108168
                      },
                      {
                        "learn": [
                          0.07969910431
                        ],
                        "iteration": 679,
                        "passed_time": 4.772412734,
                        "remaining_time": 2.245841287
                      },
                      {
                        "learn": [
                          0.07962745667
                        ],
                        "iteration": 680,
                        "passed_time": 4.780614495,
                        "remaining_time": 2.239377421
                      },
                      {
                        "learn": [
                          0.07952682495
                        ],
                        "iteration": 681,
                        "passed_time": 4.787157257,
                        "remaining_time": 2.232134909
                      },
                      {
                        "learn": [
                          0.07941966248
                        ],
                        "iteration": 682,
                        "passed_time": 4.793468757,
                        "remaining_time": 2.22478711
                      },
                      {
                        "learn": [
                          0.0792966156
                        ],
                        "iteration": 683,
                        "passed_time": 4.800004562,
                        "remaining_time": 2.217545967
                      },
                      {
                        "learn": [
                          0.07918187714
                        ],
                        "iteration": 684,
                        "passed_time": 4.806357128,
                        "remaining_time": 2.210222621
                      },
                      {
                        "learn": [
                          0.07909246826
                        ],
                        "iteration": 685,
                        "passed_time": 4.812904331,
                        "remaining_time": 2.202991195
                      },
                      {
                        "learn": [
                          0.07896807861
                        ],
                        "iteration": 686,
                        "passed_time": 4.819434642,
                        "remaining_time": 2.195754066
                      },
                      {
                        "learn": [
                          0.07889875793
                        ],
                        "iteration": 687,
                        "passed_time": 4.825975299,
                        "remaining_time": 2.188523682
                      },
                      {
                        "learn": [
                          0.07883599854
                        ],
                        "iteration": 688,
                        "passed_time": 4.832502491,
                        "remaining_time": 2.181289223
                      },
                      {
                        "learn": [
                          0.07874586487
                        ],
                        "iteration": 689,
                        "passed_time": 4.838829402,
                        "remaining_time": 2.173966833
                      },
                      {
                        "learn": [
                          0.07862670898
                        ],
                        "iteration": 690,
                        "passed_time": 4.845141183,
                        "remaining_time": 2.166640558
                      },
                      {
                        "learn": [
                          0.07860782623
                        ],
                        "iteration": 691,
                        "passed_time": 4.851524068,
                        "remaining_time": 2.159348862
                      },
                      {
                        "learn": [
                          0.07849017334
                        ],
                        "iteration": 692,
                        "passed_time": 4.858029347,
                        "remaining_time": 2.152114011
                      },
                      {
                        "learn": [
                          0.07832035065
                        ],
                        "iteration": 693,
                        "passed_time": 4.865285307,
                        "remaining_time": 2.145212253
                      },
                      {
                        "learn": [
                          0.07827967834
                        ],
                        "iteration": 694,
                        "passed_time": 4.871897754,
                        "remaining_time": 2.138027072
                      },
                      {
                        "learn": [
                          0.07820579529
                        ],
                        "iteration": 695,
                        "passed_time": 4.878547057,
                        "remaining_time": 2.130859634
                      },
                      {
                        "learn": [
                          0.07816647339
                        ],
                        "iteration": 696,
                        "passed_time": 4.884937842,
                        "remaining_time": 2.1235813
                      },
                      {
                        "learn": [
                          0.07805047607
                        ],
                        "iteration": 697,
                        "passed_time": 4.891648543,
                        "remaining_time": 2.116443925
                      },
                      {
                        "learn": [
                          0.07792304993
                        ],
                        "iteration": 698,
                        "passed_time": 4.89808704,
                        "remaining_time": 2.109190557
                      },
                      {
                        "learn": [
                          0.07788322449
                        ],
                        "iteration": 699,
                        "passed_time": 4.906022082,
                        "remaining_time": 2.102580892
                      },
                      {
                        "learn": [
                          0.07777848816
                        ],
                        "iteration": 700,
                        "passed_time": 4.914610909,
                        "remaining_time": 2.096246308
                      },
                      {
                        "learn": [
                          0.07768651581
                        ],
                        "iteration": 701,
                        "passed_time": 4.922099981,
                        "remaining_time": 2.089438454
                      },
                      {
                        "learn": [
                          0.0776194458
                        ],
                        "iteration": 702,
                        "passed_time": 4.930689233,
                        "remaining_time": 2.08309346
                      },
                      {
                        "learn": [
                          0.0775680542
                        ],
                        "iteration": 703,
                        "passed_time": 4.937616315,
                        "remaining_time": 2.076043223
                      },
                      {
                        "learn": [
                          0.07745800781
                        ],
                        "iteration": 704,
                        "passed_time": 4.944199307,
                        "remaining_time": 2.068849355
                      },
                      {
                        "learn": [
                          0.07736893463
                        ],
                        "iteration": 705,
                        "passed_time": 4.950393419,
                        "remaining_time": 2.061495276
                      },
                      {
                        "learn": [
                          0.07730130768
                        ],
                        "iteration": 706,
                        "passed_time": 4.956930909,
                        "remaining_time": 2.054286784
                      },
                      {
                        "learn": [
                          0.07722588348
                        ],
                        "iteration": 707,
                        "passed_time": 4.963435276,
                        "remaining_time": 2.047066526
                      },
                      {
                        "learn": [
                          0.077162117
                        ],
                        "iteration": 708,
                        "passed_time": 4.969456426,
                        "remaining_time": 2.039649958
                      },
                      {
                        "learn": [
                          0.07712376404
                        ],
                        "iteration": 709,
                        "passed_time": 4.975920185,
                        "remaining_time": 2.032418104
                      },
                      {
                        "learn": [
                          0.0770036087
                        ],
                        "iteration": 710,
                        "passed_time": 4.982916084,
                        "remaining_time": 2.025404709
                      },
                      {
                        "learn": [
                          0.07696625519
                        ],
                        "iteration": 711,
                        "passed_time": 4.989853226,
                        "remaining_time": 2.018367597
                      },
                      {
                        "learn": [
                          0.07691566467
                        ],
                        "iteration": 712,
                        "passed_time": 4.996239454,
                        "remaining_time": 2.011109009
                      },
                      {
                        "learn": [
                          0.07681668091
                        ],
                        "iteration": 713,
                        "passed_time": 5.002513223,
                        "remaining_time": 2.003807818
                      },
                      {
                        "learn": [
                          0.07676796722
                        ],
                        "iteration": 714,
                        "passed_time": 5.008689497,
                        "remaining_time": 1.996470639
                      },
                      {
                        "learn": [
                          0.07671994019
                        ],
                        "iteration": 715,
                        "passed_time": 5.015092986,
                        "remaining_time": 1.989226827
                      },
                      {
                        "learn": [
                          0.07665559387
                        ],
                        "iteration": 716,
                        "passed_time": 5.021533511,
                        "remaining_time": 1.981999977
                      },
                      {
                        "learn": [
                          0.07656102753
                        ],
                        "iteration": 717,
                        "passed_time": 5.027764781,
                        "remaining_time": 1.974693131
                      },
                      {
                        "learn": [
                          0.07649569702
                        ],
                        "iteration": 718,
                        "passed_time": 5.034329731,
                        "remaining_time": 1.967519686
                      },
                      {
                        "learn": [
                          0.07641954041
                        ],
                        "iteration": 719,
                        "passed_time": 5.040498467,
                        "remaining_time": 1.960193848
                      },
                      {
                        "learn": [
                          0.07630999756
                        ],
                        "iteration": 720,
                        "passed_time": 5.046979836,
                        "remaining_time": 1.952992197
                      },
                      {
                        "learn": [
                          0.07621260071
                        ],
                        "iteration": 721,
                        "passed_time": 5.053039202,
                        "remaining_time": 1.945630053
                      },
                      {
                        "learn": [
                          0.07603800964
                        ],
                        "iteration": 722,
                        "passed_time": 5.059605749,
                        "remaining_time": 1.938465826
                      },
                      {
                        "learn": [
                          0.07600170898
                        ],
                        "iteration": 723,
                        "passed_time": 5.066133708,
                        "remaining_time": 1.93128854
                      },
                      {
                        "learn": [
                          0.07593680573
                        ],
                        "iteration": 724,
                        "passed_time": 5.072722632,
                        "remaining_time": 1.924136171
                      },
                      {
                        "learn": [
                          0.07590145874
                        ],
                        "iteration": 725,
                        "passed_time": 5.079195712,
                        "remaining_time": 1.916941632
                      },
                      {
                        "learn": [
                          0.07586682129
                        ],
                        "iteration": 726,
                        "passed_time": 5.085780173,
                        "remaining_time": 1.909790904
                      },
                      {
                        "learn": [
                          0.07578715515
                        ],
                        "iteration": 727,
                        "passed_time": 5.092122078,
                        "remaining_time": 1.902551106
                      },
                      {
                        "learn": [
                          0.07571614838
                        ],
                        "iteration": 728,
                        "passed_time": 5.098248878,
                        "remaining_time": 1.895233808
                      },
                      {
                        "learn": [
                          0.07562509155
                        ],
                        "iteration": 729,
                        "passed_time": 5.125932634,
                        "remaining_time": 1.895892892
                      },
                      {
                        "learn": [
                          0.07557917786
                        ],
                        "iteration": 730,
                        "passed_time": 5.136041424,
                        "remaining_time": 1.890007036
                      },
                      {
                        "learn": [
                          0.07551139832
                        ],
                        "iteration": 731,
                        "passed_time": 5.144437759,
                        "remaining_time": 1.883482677
                      },
                      {
                        "learn": [
                          0.07544592285
                        ],
                        "iteration": 732,
                        "passed_time": 5.151015567,
                        "remaining_time": 1.8762908
                      },
                      {
                        "learn": [
                          0.07536113739
                        ],
                        "iteration": 733,
                        "passed_time": 5.157357324,
                        "remaining_time": 1.869015052
                      },
                      {
                        "learn": [
                          0.07529787445
                        ],
                        "iteration": 734,
                        "passed_time": 5.164039283,
                        "remaining_time": 1.861864503
                      },
                      {
                        "learn": [
                          0.07518635559
                        ],
                        "iteration": 735,
                        "passed_time": 5.1707541,
                        "remaining_time": 1.854727014
                      },
                      {
                        "learn": [
                          0.0751162262
                        ],
                        "iteration": 736,
                        "passed_time": 5.177518646,
                        "remaining_time": 1.847608418
                      },
                      {
                        "learn": [
                          0.07502893066
                        ],
                        "iteration": 737,
                        "passed_time": 5.183848256,
                        "remaining_time": 1.840336373
                      },
                      {
                        "learn": [
                          0.07495083618
                        ],
                        "iteration": 738,
                        "passed_time": 5.191233595,
                        "remaining_time": 1.833439741
                      },
                      {
                        "learn": [
                          0.07486075592
                        ],
                        "iteration": 739,
                        "passed_time": 5.197466538,
                        "remaining_time": 1.826136892
                      },
                      {
                        "learn": [
                          0.07476924133
                        ],
                        "iteration": 740,
                        "passed_time": 5.204010785,
                        "remaining_time": 1.81894574
                      },
                      {
                        "learn": [
                          0.07471809387
                        ],
                        "iteration": 741,
                        "passed_time": 5.210455597,
                        "remaining_time": 1.811721757
                      },
                      {
                        "learn": [
                          0.07462098694
                        ],
                        "iteration": 742,
                        "passed_time": 5.216589474,
                        "remaining_time": 1.804392321
                      },
                      {
                        "learn": [
                          0.07449673462
                        ],
                        "iteration": 743,
                        "passed_time": 5.223011103,
                        "remaining_time": 1.797165111
                      },
                      {
                        "learn": [
                          0.07444171906
                        ],
                        "iteration": 744,
                        "passed_time": 5.229548613,
                        "remaining_time": 1.789979727
                      },
                      {
                        "learn": [
                          0.07430493927
                        ],
                        "iteration": 745,
                        "passed_time": 5.237643677,
                        "remaining_time": 1.783326399
                      },
                      {
                        "learn": [
                          0.07418629456
                        ],
                        "iteration": 746,
                        "passed_time": 5.245316793,
                        "remaining_time": 1.776526303
                      },
                      {
                        "learn": [
                          0.07406669617
                        ],
                        "iteration": 747,
                        "passed_time": 5.251593246,
                        "remaining_time": 1.76925334
                      },
                      {
                        "learn": [
                          0.07395167542
                        ],
                        "iteration": 748,
                        "passed_time": 5.258477904,
                        "remaining_time": 1.762186854
                      },
                      {
                        "learn": [
                          0.0738480072
                        ],
                        "iteration": 749,
                        "passed_time": 5.265319103,
                        "remaining_time": 1.755106368
                      },
                      {
                        "learn": [
                          0.07373094177
                        ],
                        "iteration": 750,
                        "passed_time": 5.271711243,
                        "remaining_time": 1.747877629
                      },
                      {
                        "learn": [
                          0.07369842529
                        ],
                        "iteration": 751,
                        "passed_time": 5.278225665,
                        "remaining_time": 1.740691443
                      },
                      {
                        "learn": [
                          0.07365468597
                        ],
                        "iteration": 752,
                        "passed_time": 5.284290804,
                        "remaining_time": 1.733359666
                      },
                      {
                        "learn": [
                          0.07358946991
                        ],
                        "iteration": 753,
                        "passed_time": 5.291067587,
                        "remaining_time": 1.72626343
                      },
                      {
                        "learn": [
                          0.0734556427
                        ],
                        "iteration": 754,
                        "passed_time": 5.29755586,
                        "remaining_time": 1.719074418
                      },
                      {
                        "learn": [
                          0.07335877991
                        ],
                        "iteration": 755,
                        "passed_time": 5.303871047,
                        "remaining_time": 1.711831396
                      },
                      {
                        "learn": [
                          0.0733160553
                        ],
                        "iteration": 756,
                        "passed_time": 5.310393623,
                        "remaining_time": 1.704657398
                      },
                      {
                        "learn": [
                          0.07323306274
                        ],
                        "iteration": 757,
                        "passed_time": 5.316608773,
                        "remaining_time": 1.69738697
                      },
                      {
                        "learn": [
                          0.07313456726
                        ],
                        "iteration": 758,
                        "passed_time": 5.322891257,
                        "remaining_time": 1.690140702
                      },
                      {
                        "learn": [
                          0.07302121735
                        ],
                        "iteration": 759,
                        "passed_time": 5.329093224,
                        "remaining_time": 1.682871544
                      },
                      {
                        "learn": [
                          0.07294744873
                        ],
                        "iteration": 760,
                        "passed_time": 5.336324975,
                        "remaining_time": 1.675928606
                      },
                      {
                        "learn": [
                          0.07288122559
                        ],
                        "iteration": 761,
                        "passed_time": 5.343750743,
                        "remaining_time": 1.669045508
                      },
                      {
                        "learn": [
                          0.07283852386
                        ],
                        "iteration": 762,
                        "passed_time": 5.350181741,
                        "remaining_time": 1.661851996
                      },
                      {
                        "learn": [
                          0.07277440643
                        ],
                        "iteration": 763,
                        "passed_time": 5.356661965,
                        "remaining_time": 1.654675686
                      },
                      {
                        "learn": [
                          0.07267875671
                        ],
                        "iteration": 764,
                        "passed_time": 5.362993473,
                        "remaining_time": 1.647455511
                      },
                      {
                        "learn": [
                          0.07256860352
                        ],
                        "iteration": 765,
                        "passed_time": 5.369345824,
                        "remaining_time": 1.640244025
                      },
                      {
                        "learn": [
                          0.07250234985
                        ],
                        "iteration": 766,
                        "passed_time": 5.375682634,
                        "remaining_time": 1.633030057
                      },
                      {
                        "learn": [
                          0.07245507813
                        ],
                        "iteration": 767,
                        "passed_time": 5.381908471,
                        "remaining_time": 1.625784851
                      },
                      {
                        "learn": [
                          0.07239009857
                        ],
                        "iteration": 768,
                        "passed_time": 5.388253486,
                        "remaining_time": 1.618578095
                      },
                      {
                        "learn": [
                          0.07229884338
                        ],
                        "iteration": 769,
                        "passed_time": 5.39453091,
                        "remaining_time": 1.611353389
                      },
                      {
                        "learn": [
                          0.07218225098
                        ],
                        "iteration": 770,
                        "passed_time": 5.400990777,
                        "remaining_time": 1.604185328
                      },
                      {
                        "learn": [
                          0.07207917786
                        ],
                        "iteration": 771,
                        "passed_time": 5.407415063,
                        "remaining_time": 1.597008594
                      },
                      {
                        "learn": [
                          0.07196804047
                        ],
                        "iteration": 772,
                        "passed_time": 5.413731947,
                        "remaining_time": 1.589802266
                      },
                      {
                        "learn": [
                          0.07187692261
                        ],
                        "iteration": 773,
                        "passed_time": 5.420015086,
                        "remaining_time": 1.582588384
                      },
                      {
                        "learn": [
                          0.07183447266
                        ],
                        "iteration": 774,
                        "passed_time": 5.42634745,
                        "remaining_time": 1.575391195
                      },
                      {
                        "learn": [
                          0.07174145508
                        ],
                        "iteration": 775,
                        "passed_time": 5.432607888,
                        "remaining_time": 1.568175473
                      },
                      {
                        "learn": [
                          0.07170140076
                        ],
                        "iteration": 776,
                        "passed_time": 5.439503679,
                        "remaining_time": 1.561144557
                      },
                      {
                        "learn": [
                          0.07158073425
                        ],
                        "iteration": 777,
                        "passed_time": 5.445911319,
                        "remaining_time": 1.553974695
                      },
                      {
                        "learn": [
                          0.07152545166
                        ],
                        "iteration": 778,
                        "passed_time": 5.452090318,
                        "remaining_time": 1.546741926
                      },
                      {
                        "learn": [
                          0.0714549942
                        ],
                        "iteration": 779,
                        "passed_time": 5.458802922,
                        "remaining_time": 1.539662362
                      },
                      {
                        "learn": [
                          0.07137632751
                        ],
                        "iteration": 780,
                        "passed_time": 5.465225346,
                        "remaining_time": 1.53250237
                      },
                      {
                        "learn": [
                          0.07133566284
                        ],
                        "iteration": 781,
                        "passed_time": 5.471273093,
                        "remaining_time": 1.525239814
                      },
                      {
                        "learn": [
                          0.07130545044
                        ],
                        "iteration": 782,
                        "passed_time": 5.477766563,
                        "remaining_time": 1.518103888
                      },
                      {
                        "learn": [
                          0.07122958374
                        ],
                        "iteration": 783,
                        "passed_time": 5.48417671,
                        "remaining_time": 1.510946645
                      },
                      {
                        "learn": [
                          0.07113752747
                        ],
                        "iteration": 784,
                        "passed_time": 5.490459906,
                        "remaining_time": 1.503756535
                      },
                      {
                        "learn": [
                          0.07105793762
                        ],
                        "iteration": 785,
                        "passed_time": 5.496797082,
                        "remaining_time": 1.496583429
                      },
                      {
                        "learn": [
                          0.07096939087
                        ],
                        "iteration": 786,
                        "passed_time": 5.503289907,
                        "remaining_time": 1.489454575
                      },
                      {
                        "learn": [
                          0.0708374176
                        ],
                        "iteration": 787,
                        "passed_time": 5.509407686,
                        "remaining_time": 1.482226433
                      },
                      {
                        "learn": [
                          0.07076544189
                        ],
                        "iteration": 788,
                        "passed_time": 5.515961128,
                        "remaining_time": 1.475117615
                      },
                      {
                        "learn": [
                          0.0706783905
                        ],
                        "iteration": 789,
                        "passed_time": 5.522105771,
                        "remaining_time": 1.467901534
                      },
                      {
                        "learn": [
                          0.0706100769
                        ],
                        "iteration": 790,
                        "passed_time": 5.528444499,
                        "remaining_time": 1.460739444
                      },
                      {
                        "learn": [
                          0.07053329468
                        ],
                        "iteration": 791,
                        "passed_time": 5.535668979,
                        "remaining_time": 1.453812055
                      },
                      {
                        "learn": [
                          0.07044650269
                        ],
                        "iteration": 792,
                        "passed_time": 5.544343109,
                        "remaining_time": 1.447262325
                      },
                      {
                        "learn": [
                          0.07034393311
                        ],
                        "iteration": 793,
                        "passed_time": 5.550587989,
                        "remaining_time": 1.440076985
                      },
                      {
                        "learn": [
                          0.0702896347
                        ],
                        "iteration": 794,
                        "passed_time": 5.556925812,
                        "remaining_time": 1.432917977
                      },
                      {
                        "learn": [
                          0.07022774506
                        ],
                        "iteration": 795,
                        "passed_time": 5.563483232,
                        "remaining_time": 1.425817311
                      },
                      {
                        "learn": [
                          0.07011374664
                        ],
                        "iteration": 796,
                        "passed_time": 5.569832368,
                        "remaining_time": 1.418664957
                      },
                      {
                        "learn": [
                          0.07007720184
                        ],
                        "iteration": 797,
                        "passed_time": 5.576898767,
                        "remaining_time": 1.411696179
                      },
                      {
                        "learn": [
                          0.06999293518
                        ],
                        "iteration": 798,
                        "passed_time": 5.58322248,
                        "remaining_time": 1.404540323
                      },
                      {
                        "learn": [
                          0.0699367981
                        ],
                        "iteration": 799,
                        "passed_time": 5.5893354,
                        "remaining_time": 1.39733385
                      },
                      {
                        "learn": [
                          0.06983766174
                        ],
                        "iteration": 800,
                        "passed_time": 5.59583389,
                        "remaining_time": 1.390225898
                      },
                      {
                        "learn": [
                          0.06979898071
                        ],
                        "iteration": 801,
                        "passed_time": 5.602153319,
                        "remaining_time": 1.383075258
                      },
                      {
                        "learn": [
                          0.06974940491
                        ],
                        "iteration": 802,
                        "passed_time": 5.608964038,
                        "remaining_time": 1.376047217
                      },
                      {
                        "learn": [
                          0.06968392944
                        ],
                        "iteration": 803,
                        "passed_time": 5.616207655,
                        "remaining_time": 1.369125249
                      },
                      {
                        "learn": [
                          0.06963059235
                        ],
                        "iteration": 804,
                        "passed_time": 5.622750457,
                        "remaining_time": 1.362032719
                      },
                      {
                        "learn": [
                          0.06956745148
                        ],
                        "iteration": 805,
                        "passed_time": 5.629047953,
                        "remaining_time": 1.35488251
                      },
                      {
                        "learn": [
                          0.06949248505
                        ],
                        "iteration": 806,
                        "passed_time": 5.635414915,
                        "remaining_time": 1.347751027
                      },
                      {
                        "learn": [
                          0.06942739868
                        ],
                        "iteration": 807,
                        "passed_time": 5.642036833,
                        "remaining_time": 1.34068202
                      },
                      {
                        "learn": [
                          0.06933335876
                        ],
                        "iteration": 808,
                        "passed_time": 5.648246258,
                        "remaining_time": 1.333516731
                      },
                      {
                        "learn": [
                          0.0692852478
                        ],
                        "iteration": 809,
                        "passed_time": 5.654847488,
                        "remaining_time": 1.326445707
                      },
                      {
                        "learn": [
                          0.06918371582
                        ],
                        "iteration": 810,
                        "passed_time": 5.661196874,
                        "remaining_time": 1.319317151
                      },
                      {
                        "learn": [
                          0.06911663818
                        ],
                        "iteration": 811,
                        "passed_time": 5.667461718,
                        "remaining_time": 1.31217094
                      },
                      {
                        "learn": [
                          0.06905445862
                        ],
                        "iteration": 812,
                        "passed_time": 5.673669724,
                        "remaining_time": 1.305013823
                      },
                      {
                        "learn": [
                          0.06899559021
                        ],
                        "iteration": 813,
                        "passed_time": 5.679901563,
                        "remaining_time": 1.297864485
                      },
                      {
                        "learn": [
                          0.06892401886
                        ],
                        "iteration": 814,
                        "passed_time": 5.686855615,
                        "remaining_time": 1.290881336
                      },
                      {
                        "learn": [
                          0.06887797546
                        ],
                        "iteration": 815,
                        "passed_time": 5.693471688,
                        "remaining_time": 1.283822047
                      },
                      {
                        "learn": [
                          0.06871932983
                        ],
                        "iteration": 816,
                        "passed_time": 5.700059264,
                        "remaining_time": 1.276757461
                      },
                      {
                        "learn": [
                          0.06864175415
                        ],
                        "iteration": 817,
                        "passed_time": 5.706340658,
                        "remaining_time": 1.269625917
                      },
                      {
                        "learn": [
                          0.06855226135
                        ],
                        "iteration": 818,
                        "passed_time": 5.712862052,
                        "remaining_time": 1.262549489
                      },
                      {
                        "learn": [
                          0.06846684265
                        ],
                        "iteration": 819,
                        "passed_time": 5.719125881,
                        "remaining_time": 1.255417876
                      },
                      {
                        "learn": [
                          0.06841178894
                        ],
                        "iteration": 820,
                        "passed_time": 5.725667934,
                        "remaining_time": 1.248349038
                      },
                      {
                        "learn": [
                          0.06835809326
                        ],
                        "iteration": 821,
                        "passed_time": 5.732152128,
                        "remaining_time": 1.241268952
                      },
                      {
                        "learn": [
                          0.06828913879
                        ],
                        "iteration": 822,
                        "passed_time": 5.740663799,
                        "remaining_time": 1.234626358
                      },
                      {
                        "learn": [
                          0.06820916748
                        ],
                        "iteration": 823,
                        "passed_time": 5.747113643,
                        "remaining_time": 1.227538836
                      },
                      {
                        "learn": [
                          0.06814671326
                        ],
                        "iteration": 824,
                        "passed_time": 5.753482087,
                        "remaining_time": 1.220435594
                      },
                      {
                        "learn": [
                          0.06808961487
                        ],
                        "iteration": 825,
                        "passed_time": 5.760114063,
                        "remaining_time": 1.213389645
                      },
                      {
                        "learn": [
                          0.06804319
                        ],
                        "iteration": 826,
                        "passed_time": 5.766160717,
                        "remaining_time": 1.206222254
                      },
                      {
                        "learn": [
                          0.06797244263
                        ],
                        "iteration": 827,
                        "passed_time": 5.772607272,
                        "remaining_time": 1.199140641
                      },
                      {
                        "learn": [
                          0.06789070129
                        ],
                        "iteration": 828,
                        "passed_time": 5.779097716,
                        "remaining_time": 1.192069613
                      },
                      {
                        "learn": [
                          0.06783377838
                        ],
                        "iteration": 829,
                        "passed_time": 5.78562327,
                        "remaining_time": 1.185007176
                      },
                      {
                        "learn": [
                          0.06777250671
                        ],
                        "iteration": 830,
                        "passed_time": 5.791890366,
                        "remaining_time": 1.177893468
                      },
                      {
                        "learn": [
                          0.06768811035
                        ],
                        "iteration": 831,
                        "passed_time": 5.798810026,
                        "remaining_time": 1.170913563
                      },
                      {
                        "learn": [
                          0.06763826752
                        ],
                        "iteration": 832,
                        "passed_time": 5.805050944,
                        "remaining_time": 1.163797728
                      },
                      {
                        "learn": [
                          0.06754753113
                        ],
                        "iteration": 833,
                        "passed_time": 5.81138887,
                        "remaining_time": 1.1567033
                      },
                      {
                        "learn": [
                          0.06746620178
                        ],
                        "iteration": 834,
                        "passed_time": 5.817985764,
                        "remaining_time": 1.149661858
                      },
                      {
                        "learn": [
                          0.06740504456
                        ],
                        "iteration": 835,
                        "passed_time": 5.824597043,
                        "remaining_time": 1.1426243
                      },
                      {
                        "learn": [
                          0.06732905579
                        ],
                        "iteration": 836,
                        "passed_time": 5.830951471,
                        "remaining_time": 1.135537742
                      },
                      {
                        "learn": [
                          0.06723139954
                        ],
                        "iteration": 837,
                        "passed_time": 5.837581558,
                        "remaining_time": 1.12850622
                      },
                      {
                        "learn": [
                          0.0671842804
                        ],
                        "iteration": 838,
                        "passed_time": 5.843859782,
                        "remaining_time": 1.121408135
                      },
                      {
                        "learn": [
                          0.06710040283
                        ],
                        "iteration": 839,
                        "passed_time": 5.850445104,
                        "remaining_time": 1.114370496
                      },
                      {
                        "learn": [
                          0.06705618286
                        ],
                        "iteration": 840,
                        "passed_time": 5.856706944,
                        "remaining_time": 1.107272775
                      },
                      {
                        "learn": [
                          0.06700894165
                        ],
                        "iteration": 841,
                        "passed_time": 5.865150027,
                        "remaining_time": 1.100586347
                      },
                      {
                        "learn": [
                          0.06695439148
                        ],
                        "iteration": 842,
                        "passed_time": 5.871694233,
                        "remaining_time": 1.093542105
                      },
                      {
                        "learn": [
                          0.06688148499
                        ],
                        "iteration": 843,
                        "passed_time": 5.878390454,
                        "remaining_time": 1.086527146
                      },
                      {
                        "learn": [
                          0.06682480621
                        ],
                        "iteration": 844,
                        "passed_time": 5.884454044,
                        "remaining_time": 1.079396896
                      },
                      {
                        "learn": [
                          0.06677104187
                        ],
                        "iteration": 845,
                        "passed_time": 5.890893601,
                        "remaining_time": 1.072337606
                      },
                      {
                        "learn": [
                          0.06674168396
                        ],
                        "iteration": 846,
                        "passed_time": 5.897302559,
                        "remaining_time": 1.065274252
                      },
                      {
                        "learn": [
                          0.0666815033
                        ],
                        "iteration": 847,
                        "passed_time": 5.903978994,
                        "remaining_time": 1.058260386
                      },
                      {
                        "learn": [
                          0.06662405396
                        ],
                        "iteration": 848,
                        "passed_time": 5.912676801,
                        "remaining_time": 1.051606828
                      },
                      {
                        "learn": [
                          0.06653785706
                        ],
                        "iteration": 849,
                        "passed_time": 5.920870035,
                        "remaining_time": 1.044859418
                      },
                      {
                        "learn": [
                          0.06647062683
                        ],
                        "iteration": 850,
                        "passed_time": 5.927304613,
                        "remaining_time": 1.03780069
                      },
                      {
                        "learn": [
                          0.06641151428
                        ],
                        "iteration": 851,
                        "passed_time": 5.933779004,
                        "remaining_time": 1.030750343
                      },
                      {
                        "learn": [
                          0.066355896
                        ],
                        "iteration": 852,
                        "passed_time": 5.942242814,
                        "remaining_time": 1.024044189
                      },
                      {
                        "learn": [
                          0.06629814148
                        ],
                        "iteration": 853,
                        "passed_time": 5.94912833,
                        "remaining_time": 1.017064094
                      },
                      {
                        "learn": [
                          0.06626654053
                        ],
                        "iteration": 854,
                        "passed_time": 5.955404214,
                        "remaining_time": 1.009980832
                      },
                      {
                        "learn": [
                          0.06619909668
                        ],
                        "iteration": 855,
                        "passed_time": 5.961554528,
                        "remaining_time": 1.002878332
                      },
                      {
                        "learn": [
                          0.06605434418
                        ],
                        "iteration": 856,
                        "passed_time": 5.968061224,
                        "remaining_time": 0.9958375204
                      },
                      {
                        "learn": [
                          0.06599214172
                        ],
                        "iteration": 857,
                        "passed_time": 5.974538423,
                        "remaining_time": 0.9887930724
                      },
                      {
                        "learn": [
                          0.06591729736
                        ],
                        "iteration": 858,
                        "passed_time": 5.980969282,
                        "remaining_time": 0.9817423385
                      },
                      {
                        "learn": [
                          0.06581365967
                        ],
                        "iteration": 859,
                        "passed_time": 5.987530944,
                        "remaining_time": 0.9747143398
                      },
                      {
                        "learn": [
                          0.06576187134
                        ],
                        "iteration": 860,
                        "passed_time": 5.993707783,
                        "remaining_time": 0.9676252984
                      },
                      {
                        "learn": [
                          0.06569874573
                        ],
                        "iteration": 861,
                        "passed_time": 6.000285758,
                        "remaining_time": 0.9606025923
                      },
                      {
                        "learn": [
                          0.06560744476
                        ],
                        "iteration": 862,
                        "passed_time": 6.006886938,
                        "remaining_time": 0.9535846008
                      },
                      {
                        "learn": [
                          0.06555442047
                        ],
                        "iteration": 863,
                        "passed_time": 6.013135081,
                        "remaining_time": 0.9465120034
                      },
                      {
                        "learn": [
                          0.06548183441
                        ],
                        "iteration": 864,
                        "passed_time": 6.019447627,
                        "remaining_time": 0.9394513638
                      },
                      {
                        "learn": [
                          0.06542483521
                        ],
                        "iteration": 865,
                        "passed_time": 6.026176673,
                        "remaining_time": 0.9324568986
                      },
                      {
                        "learn": [
                          0.06538564301
                        ],
                        "iteration": 866,
                        "passed_time": 6.032121827,
                        "remaining_time": 0.9253427947
                      },
                      {
                        "learn": [
                          0.06529488373
                        ],
                        "iteration": 867,
                        "passed_time": 6.038710042,
                        "remaining_time": 0.918329177
                      },
                      {
                        "learn": [
                          0.06524253845
                        ],
                        "iteration": 868,
                        "passed_time": 6.045096881,
                        "remaining_time": 0.9112861811
                      },
                      {
                        "learn": [
                          0.06515003967
                        ],
                        "iteration": 869,
                        "passed_time": 6.051504657,
                        "remaining_time": 0.9042478223
                      },
                      {
                        "learn": [
                          0.06509300995
                        ],
                        "iteration": 870,
                        "passed_time": 6.058069044,
                        "remaining_time": 0.8972341064
                      },
                      {
                        "learn": [
                          0.06505911255
                        ],
                        "iteration": 871,
                        "passed_time": 6.064457202,
                        "remaining_time": 0.8901955526
                      },
                      {
                        "learn": [
                          0.06498970032
                        ],
                        "iteration": 872,
                        "passed_time": 6.070944622,
                        "remaining_time": 0.8831729289
                      },
                      {
                        "learn": [
                          0.06493920898
                        ],
                        "iteration": 873,
                        "passed_time": 6.077805718,
                        "remaining_time": 0.8762054009
                      },
                      {
                        "learn": [
                          0.0648699646
                        ],
                        "iteration": 874,
                        "passed_time": 6.084197301,
                        "remaining_time": 0.8691710429
                      },
                      {
                        "learn": [
                          0.06481464386
                        ],
                        "iteration": 875,
                        "passed_time": 6.090464937,
                        "remaining_time": 0.8621206076
                      },
                      {
                        "learn": [
                          0.06472555542
                        ],
                        "iteration": 876,
                        "passed_time": 6.097019427,
                        "remaining_time": 0.8551121887
                      },
                      {
                        "learn": [
                          0.06468822479
                        ],
                        "iteration": 877,
                        "passed_time": 6.126651155,
                        "remaining_time": 0.8513114362
                      },
                      {
                        "learn": [
                          0.06465626526
                        ],
                        "iteration": 878,
                        "passed_time": 6.135786991,
                        "remaining_time": 0.8446305187
                      },
                      {
                        "learn": [
                          0.06455250549
                        ],
                        "iteration": 879,
                        "passed_time": 6.145144235,
                        "remaining_time": 0.8379742138
                      },
                      {
                        "learn": [
                          0.06449842834
                        ],
                        "iteration": 880,
                        "passed_time": 6.153834654,
                        "remaining_time": 0.8312217069
                      },
                      {
                        "learn": [
                          0.06444857788
                        ],
                        "iteration": 881,
                        "passed_time": 6.162779236,
                        "remaining_time": 0.8244988093
                      },
                      {
                        "learn": [
                          0.06440014648
                        ],
                        "iteration": 882,
                        "passed_time": 6.170647441,
                        "remaining_time": 0.8176282566
                      },
                      {
                        "learn": [
                          0.06432287598
                        ],
                        "iteration": 883,
                        "passed_time": 6.177305828,
                        "remaining_time": 0.8105966924
                      },
                      {
                        "learn": [
                          0.06426838684
                        ],
                        "iteration": 884,
                        "passed_time": 6.183805546,
                        "remaining_time": 0.8035453534
                      },
                      {
                        "learn": [
                          0.06421797943
                        ],
                        "iteration": 885,
                        "passed_time": 6.190104313,
                        "remaining_time": 0.7964694038
                      },
                      {
                        "learn": [
                          0.06412473297
                        ],
                        "iteration": 886,
                        "passed_time": 6.196643748,
                        "remaining_time": 0.7894258664
                      },
                      {
                        "learn": [
                          0.06405410767
                        ],
                        "iteration": 887,
                        "passed_time": 6.203152496,
                        "remaining_time": 0.7823795941
                      },
                      {
                        "learn": [
                          0.06400350952
                        ],
                        "iteration": 888,
                        "passed_time": 6.209655465,
                        "remaining_time": 0.7753338095
                      },
                      {
                        "learn": [
                          0.0639280014
                        ],
                        "iteration": 889,
                        "passed_time": 6.21659459,
                        "remaining_time": 0.7683431515
                      },
                      {
                        "learn": [
                          0.06384177017
                        ],
                        "iteration": 890,
                        "passed_time": 6.223278551,
                        "remaining_time": 0.7613213941
                      },
                      {
                        "learn": [
                          0.0637846489
                        ],
                        "iteration": 891,
                        "passed_time": 6.229589278,
                        "remaining_time": 0.754255204
                      },
                      {
                        "learn": [
                          0.06375214386
                        ],
                        "iteration": 892,
                        "passed_time": 6.236357153,
                        "remaining_time": 0.7472454819
                      },
                      {
                        "learn": [
                          0.06370022964
                        ],
                        "iteration": 893,
                        "passed_time": 6.24294573,
                        "remaining_time": 0.7402150418
                      },
                      {
                        "learn": [
                          0.0636413269
                        ],
                        "iteration": 894,
                        "passed_time": 6.249122818,
                        "remaining_time": 0.7331373138
                      },
                      {
                        "learn": [
                          0.063602314
                        ],
                        "iteration": 895,
                        "passed_time": 6.255577538,
                        "remaining_time": 0.7260938213
                      },
                      {
                        "learn": [
                          0.06351822281
                        ],
                        "iteration": 896,
                        "passed_time": 6.262055674,
                        "remaining_time": 0.7190543305
                      },
                      {
                        "learn": [
                          0.06346603394
                        ],
                        "iteration": 897,
                        "passed_time": 6.268450053,
                        "remaining_time": 0.7120065762
                      },
                      {
                        "learn": [
                          0.06341821671
                        ],
                        "iteration": 898,
                        "passed_time": 6.275528579,
                        "remaining_time": 0.7050371374
                      },
                      {
                        "learn": [
                          0.06335052109
                        ],
                        "iteration": 899,
                        "passed_time": 6.2820504,
                        "remaining_time": 0.6980056
                      },
                      {
                        "learn": [
                          0.06321901703
                        ],
                        "iteration": 900,
                        "passed_time": 6.288425871,
                        "remaining_time": 0.6909591134
                      },
                      {
                        "learn": [
                          0.06315339661
                        ],
                        "iteration": 901,
                        "passed_time": 6.29509841,
                        "remaining_time": 0.6839463904
                      },
                      {
                        "learn": [
                          0.06310780716
                        ],
                        "iteration": 902,
                        "passed_time": 6.301364937,
                        "remaining_time": 0.6768908072
                      },
                      {
                        "learn": [
                          0.06306340027
                        ],
                        "iteration": 903,
                        "passed_time": 6.307359056,
                        "remaining_time": 0.6698080414
                      },
                      {
                        "learn": [
                          0.0630378952
                        ],
                        "iteration": 904,
                        "passed_time": 6.313855227,
                        "remaining_time": 0.662780383
                      },
                      {
                        "learn": [
                          0.06295825577
                        ],
                        "iteration": 905,
                        "passed_time": 6.320518394,
                        "remaining_time": 0.6557712241
                      },
                      {
                        "learn": [
                          0.06288453293
                        ],
                        "iteration": 906,
                        "passed_time": 6.326839123,
                        "remaining_time": 0.648727716
                      },
                      {
                        "learn": [
                          0.06283664703
                        ],
                        "iteration": 907,
                        "passed_time": 6.333443019,
                        "remaining_time": 0.6417144909
                      },
                      {
                        "learn": [
                          0.06274728775
                        ],
                        "iteration": 908,
                        "passed_time": 6.339891017,
                        "remaining_time": 0.6346865595
                      },
                      {
                        "learn": [
                          0.06268414688
                        ],
                        "iteration": 909,
                        "passed_time": 6.34928257,
                        "remaining_time": 0.6279510234
                      },
                      {
                        "learn": [
                          0.06261456299
                        ],
                        "iteration": 910,
                        "passed_time": 6.359144417,
                        "remaining_time": 0.6212556017
                      },
                      {
                        "learn": [
                          0.0625789566
                        ],
                        "iteration": 911,
                        "passed_time": 6.365345998,
                        "remaining_time": 0.6142000524
                      },
                      {
                        "learn": [
                          0.06254767609
                        ],
                        "iteration": 912,
                        "passed_time": 6.371718366,
                        "remaining_time": 0.6071626483
                      },
                      {
                        "learn": [
                          0.06249790192
                        ],
                        "iteration": 913,
                        "passed_time": 6.377863992,
                        "remaining_time": 0.6001053646
                      },
                      {
                        "learn": [
                          0.06244625473
                        ],
                        "iteration": 914,
                        "passed_time": 6.384248217,
                        "remaining_time": 0.5930722387
                      },
                      {
                        "learn": [
                          0.06239716339
                        ],
                        "iteration": 915,
                        "passed_time": 6.390468545,
                        "remaining_time": 0.5860254997
                      },
                      {
                        "learn": [
                          0.06235490417
                        ],
                        "iteration": 916,
                        "passed_time": 6.396450065,
                        "remaining_time": 0.5789589481
                      },
                      {
                        "learn": [
                          0.06230895996
                        ],
                        "iteration": 917,
                        "passed_time": 6.402750241,
                        "remaining_time": 0.5719232241
                      },
                      {
                        "learn": [
                          0.0622628212
                        ],
                        "iteration": 918,
                        "passed_time": 6.410674941,
                        "remaining_time": 0.5650322853
                      },
                      {
                        "learn": [
                          0.06222179031
                        ],
                        "iteration": 919,
                        "passed_time": 6.417910083,
                        "remaining_time": 0.5580791377
                      },
                      {
                        "learn": [
                          0.06215958405
                        ],
                        "iteration": 920,
                        "passed_time": 6.424243133,
                        "remaining_time": 0.5510479995
                      },
                      {
                        "learn": [
                          0.06211977005
                        ],
                        "iteration": 921,
                        "passed_time": 6.430456229,
                        "remaining_time": 0.5440082276
                      },
                      {
                        "learn": [
                          0.06206666946
                        ],
                        "iteration": 922,
                        "passed_time": 6.436837824,
                        "remaining_time": 0.5369843039
                      },
                      {
                        "learn": [
                          0.0620055542
                        ],
                        "iteration": 923,
                        "passed_time": 6.443608425,
                        "remaining_time": 0.5299937666
                      },
                      {
                        "learn": [
                          0.06192418671
                        ],
                        "iteration": 924,
                        "passed_time": 6.450072681,
                        "remaining_time": 0.522978866
                      },
                      {
                        "learn": [
                          0.06187545013
                        ],
                        "iteration": 925,
                        "passed_time": 6.456435787,
                        "remaining_time": 0.5159570715
                      },
                      {
                        "learn": [
                          0.06178237915
                        ],
                        "iteration": 926,
                        "passed_time": 6.462917877,
                        "remaining_time": 0.508946068
                      },
                      {
                        "learn": [
                          0.06171557617
                        ],
                        "iteration": 927,
                        "passed_time": 6.469264477,
                        "remaining_time": 0.5019256922
                      },
                      {
                        "learn": [
                          0.06163472748
                        ],
                        "iteration": 928,
                        "passed_time": 6.475576252,
                        "remaining_time": 0.4949041054
                      },
                      {
                        "learn": [
                          0.0615602417
                        ],
                        "iteration": 929,
                        "passed_time": 6.4817694,
                        "remaining_time": 0.4878751161
                      },
                      {
                        "learn": [
                          0.06153094482
                        ],
                        "iteration": 930,
                        "passed_time": 6.488247671,
                        "remaining_time": 0.480869054
                      },
                      {
                        "learn": [
                          0.061465271
                        ],
                        "iteration": 931,
                        "passed_time": 6.494504575,
                        "remaining_time": 0.4738479733
                      },
                      {
                        "learn": [
                          0.0614054985
                        ],
                        "iteration": 932,
                        "passed_time": 6.500897142,
                        "remaining_time": 0.4668382728
                      },
                      {
                        "learn": [
                          0.06133348846
                        ],
                        "iteration": 933,
                        "passed_time": 6.507424539,
                        "remaining_time": 0.4598394214
                      },
                      {
                        "learn": [
                          0.06129005432
                        ],
                        "iteration": 934,
                        "passed_time": 6.513529641,
                        "remaining_time": 0.4528122211
                      },
                      {
                        "learn": [
                          0.06121382904
                        ],
                        "iteration": 935,
                        "passed_time": 6.520041179,
                        "remaining_time": 0.4458147815
                      },
                      {
                        "learn": [
                          0.06115106964
                        ],
                        "iteration": 936,
                        "passed_time": 6.526424538,
                        "remaining_time": 0.4388097609
                      },
                      {
                        "learn": [
                          0.06110232544
                        ],
                        "iteration": 937,
                        "passed_time": 6.532855995,
                        "remaining_time": 0.4318092449
                      },
                      {
                        "learn": [
                          0.06105570221
                        ],
                        "iteration": 938,
                        "passed_time": 6.539472785,
                        "remaining_time": 0.4248219807
                      },
                      {
                        "learn": [
                          0.06101235962
                        ],
                        "iteration": 939,
                        "passed_time": 6.546012853,
                        "remaining_time": 0.4178306077
                      },
                      {
                        "learn": [
                          0.06090312576
                        ],
                        "iteration": 940,
                        "passed_time": 6.555473262,
                        "remaining_time": 0.411023297
                      },
                      {
                        "learn": [
                          0.06082646942
                        ],
                        "iteration": 941,
                        "passed_time": 6.561931801,
                        "remaining_time": 0.4040255249
                      },
                      {
                        "learn": [
                          0.06071626282
                        ],
                        "iteration": 942,
                        "passed_time": 6.568353774,
                        "remaining_time": 0.3970266862
                      },
                      {
                        "learn": [
                          0.06064372253
                        ],
                        "iteration": 943,
                        "passed_time": 6.574820182,
                        "remaining_time": 0.3900317057
                      },
                      {
                        "learn": [
                          0.06058481598
                        ],
                        "iteration": 944,
                        "passed_time": 6.581073784,
                        "remaining_time": 0.3830254583
                      },
                      {
                        "learn": [
                          0.06052475739
                        ],
                        "iteration": 945,
                        "passed_time": 6.587407415,
                        "remaining_time": 0.3760253704
                      },
                      {
                        "learn": [
                          0.06048066711
                        ],
                        "iteration": 946,
                        "passed_time": 6.593736882,
                        "remaining_time": 0.3690264569
                      },
                      {
                        "learn": [
                          0.06041108704
                        ],
                        "iteration": 947,
                        "passed_time": 6.600159988,
                        "remaining_time": 0.3620340922
                      },
                      {
                        "learn": [
                          0.06036483002
                        ],
                        "iteration": 948,
                        "passed_time": 6.606478582,
                        "remaining_time": 0.3550373105
                      },
                      {
                        "learn": [
                          0.06029211807
                        ],
                        "iteration": 949,
                        "passed_time": 6.612700205,
                        "remaining_time": 0.3480368529
                      },
                      {
                        "learn": [
                          0.06023539352
                        ],
                        "iteration": 950,
                        "passed_time": 6.619174395,
                        "remaining_time": 0.3410510466
                      },
                      {
                        "learn": [
                          0.06019025421
                        ],
                        "iteration": 951,
                        "passed_time": 6.625427147,
                        "remaining_time": 0.3340551502
                      },
                      {
                        "learn": [
                          0.060170784
                        ],
                        "iteration": 952,
                        "passed_time": 6.631583631,
                        "remaining_time": 0.3270560657
                      },
                      {
                        "learn": [
                          0.06010343933
                        ],
                        "iteration": 953,
                        "passed_time": 6.638164288,
                        "remaining_time": 0.3200792005
                      },
                      {
                        "learn": [
                          0.06003238678
                        ],
                        "iteration": 954,
                        "passed_time": 6.644414203,
                        "remaining_time": 0.3130875802
                      },
                      {
                        "learn": [
                          0.05993090057
                        ],
                        "iteration": 955,
                        "passed_time": 6.650487738,
                        "remaining_time": 0.3060893938
                      },
                      {
                        "learn": [
                          0.05986268234
                        ],
                        "iteration": 956,
                        "passed_time": 6.65704005,
                        "remaining_time": 0.2991146522
                      },
                      {
                        "learn": [
                          0.05981930542
                        ],
                        "iteration": 957,
                        "passed_time": 6.663814908,
                        "remaining_time": 0.2921505492
                      },
                      {
                        "learn": [
                          0.05979365921
                        ],
                        "iteration": 958,
                        "passed_time": 6.669996809,
                        "remaining_time": 0.2851614903
                      },
                      {
                        "learn": [
                          0.05976675797
                        ],
                        "iteration": 959,
                        "passed_time": 6.676399953,
                        "remaining_time": 0.2781833314
                      },
                      {
                        "learn": [
                          0.05974012375
                        ],
                        "iteration": 960,
                        "passed_time": 6.682980167,
                        "remaining_time": 0.2712135552
                      },
                      {
                        "learn": [
                          0.05971416092
                        ],
                        "iteration": 961,
                        "passed_time": 6.689375796,
                        "remaining_time": 0.2642372976
                      },
                      {
                        "learn": [
                          0.05968791962
                        ],
                        "iteration": 962,
                        "passed_time": 6.695719461,
                        "remaining_time": 0.2572602493
                      },
                      {
                        "learn": [
                          0.05962326431
                        ],
                        "iteration": 963,
                        "passed_time": 6.702278389,
                        "remaining_time": 0.250292554
                      },
                      {
                        "learn": [
                          0.05957765961
                        ],
                        "iteration": 964,
                        "passed_time": 6.708799065,
                        "remaining_time": 0.2433243184
                      },
                      {
                        "learn": [
                          0.05947106171
                        ],
                        "iteration": 965,
                        "passed_time": 6.715307514,
                        "remaining_time": 0.2363565792
                      },
                      {
                        "learn": [
                          0.05938577271
                        ],
                        "iteration": 966,
                        "passed_time": 6.721830748,
                        "remaining_time": 0.2293902944
                      },
                      {
                        "learn": [
                          0.05933232117
                        ],
                        "iteration": 967,
                        "passed_time": 6.728315949,
                        "remaining_time": 0.2224236677
                      },
                      {
                        "learn": [
                          0.05928388977
                        ],
                        "iteration": 968,
                        "passed_time": 6.73488225,
                        "remaining_time": 0.2154606293
                      },
                      {
                        "learn": [
                          0.059239254
                        ],
                        "iteration": 969,
                        "passed_time": 6.741400349,
                        "remaining_time": 0.208496918
                      },
                      {
                        "learn": [
                          0.05917452621
                        ],
                        "iteration": 970,
                        "passed_time": 6.7478924,
                        "remaining_time": 0.2015333466
                      },
                      {
                        "learn": [
                          0.05909441757
                        ],
                        "iteration": 971,
                        "passed_time": 6.755237457,
                        "remaining_time": 0.1945953177
                      },
                      {
                        "learn": [
                          0.05904353333
                        ],
                        "iteration": 972,
                        "passed_time": 6.76390868,
                        "remaining_time": 0.1876932522
                      },
                      {
                        "learn": [
                          0.05900202179
                        ],
                        "iteration": 973,
                        "passed_time": 6.770472574,
                        "remaining_time": 0.1807313008
                      },
                      {
                        "learn": [
                          0.05893681335
                        ],
                        "iteration": 974,
                        "passed_time": 6.776701254,
                        "remaining_time": 0.1737615706
                      },
                      {
                        "learn": [
                          0.05889647675
                        ],
                        "iteration": 975,
                        "passed_time": 6.783083057,
                        "remaining_time": 0.1667971243
                      },
                      {
                        "learn": [
                          0.05882628632
                        ],
                        "iteration": 976,
                        "passed_time": 6.789441369,
                        "remaining_time": 0.1598333178
                      },
                      {
                        "learn": [
                          0.05875953674
                        ],
                        "iteration": 977,
                        "passed_time": 6.795933732,
                        "remaining_time": 0.1528737649
                      },
                      {
                        "learn": [
                          0.05870225906
                        ],
                        "iteration": 978,
                        "passed_time": 6.803553855,
                        "remaining_time": 0.1459393575
                      },
                      {
                        "learn": [
                          0.05867749023
                        ],
                        "iteration": 979,
                        "passed_time": 6.810089867,
                        "remaining_time": 0.1389814259
                      },
                      {
                        "learn": [
                          0.05862203217
                        ],
                        "iteration": 980,
                        "passed_time": 6.81629289,
                        "remaining_time": 0.1320179051
                      },
                      {
                        "learn": [
                          0.05856320953
                        ],
                        "iteration": 981,
                        "passed_time": 6.822609188,
                        "remaining_time": 0.1250580096
                      },
                      {
                        "learn": [
                          0.05848117065
                        ],
                        "iteration": 982,
                        "passed_time": 6.828737776,
                        "remaining_time": 0.1180961772
                      },
                      {
                        "learn": [
                          0.05840995026
                        ],
                        "iteration": 983,
                        "passed_time": 6.835049123,
                        "remaining_time": 0.1111390101
                      },
                      {
                        "learn": [
                          0.05831801224
                        ],
                        "iteration": 984,
                        "passed_time": 6.841455381,
                        "remaining_time": 0.1041845997
                      },
                      {
                        "learn": [
                          0.0582762146
                        ],
                        "iteration": 985,
                        "passed_time": 6.847615364,
                        "remaining_time": 0.09722780436
                      },
                      {
                        "learn": [
                          0.05824884796
                        ],
                        "iteration": 986,
                        "passed_time": 6.854293269,
                        "remaining_time": 0.09027944529
                      },
                      {
                        "learn": [
                          0.05819238281
                        ],
                        "iteration": 987,
                        "passed_time": 6.860760761,
                        "remaining_time": 0.08332907806
                      },
                      {
                        "learn": [
                          0.05812979889
                        ],
                        "iteration": 988,
                        "passed_time": 6.866842569,
                        "remaining_time": 0.07637539763
                      },
                      {
                        "learn": [
                          0.05810032654
                        ],
                        "iteration": 989,
                        "passed_time": 6.87369696,
                        "remaining_time": 0.06943128243
                      },
                      {
                        "learn": [
                          0.05800407791
                        ],
                        "iteration": 990,
                        "passed_time": 6.880747308,
                        "remaining_time": 0.06248912792
                      },
                      {
                        "learn": [
                          0.05790162277
                        ],
                        "iteration": 991,
                        "passed_time": 6.887030195,
                        "remaining_time": 0.05554056609
                      },
                      {
                        "learn": [
                          0.05788241577
                        ],
                        "iteration": 992,
                        "passed_time": 6.893574546,
                        "remaining_time": 0.04859518814
                      },
                      {
                        "learn": [
                          0.05783784485
                        ],
                        "iteration": 993,
                        "passed_time": 6.900070496,
                        "remaining_time": 0.04165032492
                      },
                      {
                        "learn": [
                          0.05779940414
                        ],
                        "iteration": 994,
                        "passed_time": 6.907841129,
                        "remaining_time": 0.03471276949
                      },
                      {
                        "learn": [
                          0.05773973465
                        ],
                        "iteration": 995,
                        "passed_time": 6.917183846,
                        "remaining_time": 0.0277798548
                      },
                      {
                        "learn": [
                          0.05766499329
                        ],
                        "iteration": 996,
                        "passed_time": 6.9245314,
                        "remaining_time": 0.02083610251
                      },
                      {
                        "learn": [
                          0.05764652252
                        ],
                        "iteration": 997,
                        "passed_time": 6.930938863,
                        "remaining_time": 0.01388965704
                      },
                      {
                        "learn": [
                          0.05763314438
                        ],
                        "iteration": 998,
                        "passed_time": 6.936944959,
                        "remaining_time": 0.006943888848
                      },
                      {
                        "learn": [
                          0.05761265564
                        ],
                        "iteration": 999,
                        "passed_time": 6.943412002,
                        "remaining_time": 0
                      }
                    ],
                    "meta": {
                      "test_sets": [],
                      "test_metrics": [],
                      "learn_metrics": [
                        {
                          "best_value": "Min",
                          "name": "Logloss"
                        }
                      ],
                      "launch_mode": "Train",
                      "parameters": "",
                      "iteration_count": 1000,
                      "learn_sets": [
                        "learn"
                      ],
                      "name": "experiment"
                    }
                  }
                }
              }
            },
            "layout": "IPY_MODEL_17ac1cd62af54f43b4e57da816c54f70"
          }
        }
      }
    }
  },
  "nbformat": 4,
  "nbformat_minor": 0
}