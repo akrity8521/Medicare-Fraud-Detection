{
  "nbformat": 4,
  "nbformat_minor": 0,
  "metadata": {
    "colab": {
      "name": "Code_Thesis_Implementation_catboost_partD(with autoencoders and without SMOTE).ipynb",
      "provenance": [],
      "collapsed_sections": [],
      "machine_shape": "hm",
      "authorship_tag": "ABX9TyP1Sl9L1LbVb7olTvfOYZq3",
      "include_colab_link": true
    },
    "kernelspec": {
      "display_name": "Python 3",
      "name": "python3"
    },
    "language_info": {
      "name": "python"
    }
  },
  "cells": [
    {
      "cell_type": "markdown",
      "metadata": {
        "id": "view-in-github",
        "colab_type": "text"
      },
      "source": [
        "<a href=\"https://colab.research.google.com/github/akrity8521/Medicare-Fraud-Detection/blob/main/Code_Thesis_Implementation_catboost_partD(with_autoencoders_and_without_SMOTE).ipynb\" target=\"_parent\"><img src=\"https://colab.research.google.com/assets/colab-badge.svg\" alt=\"Open In Colab\"/></a>"
      ]
    },
    {
      "cell_type": "code",
      "metadata": {
        "id": "9oQXi0bj4qVM"
      },
      "source": [
        "!pip install catboost"
      ],
      "execution_count": null,
      "outputs": []
    },
    {
      "cell_type": "code",
      "metadata": {
        "id": "sA-d9rrz2YXC"
      },
      "source": [
        "#importing libraries \n",
        "import pandas as pd\n",
        "import numpy as np\n",
        "import scipy\n",
        "import os \n",
        "import matplotlib.pyplot as plt\n",
        "import random\n",
        "import seaborn as sns\n",
        "from pandas.api.types import is_numeric_dtype\n",
        "from scipy.stats import ttest_ind\n",
        "\n",
        "from sklearn.metrics import brier_score_loss, precision_score, recall_score,f1_score, roc_auc_score, accuracy_score \n",
        "from sklearn.metrics import confusion_matrix, roc_curve, classification_report\n",
        "from sklearn.preprocessing import StandardScaler \n",
        "from sklearn.feature_extraction import DictVectorizer\n",
        "from sklearn.manifold import TSNE\n",
        "from sklearn import preprocessing \n",
        "from sklearn.model_selection import train_test_split\n",
        "\n",
        "from keras.models import Model, load_model, Sequential\n",
        "from keras.layers import Input, Dense\n",
        "from sklearn.manifold import TSNE\n",
        "from keras import regularizers\n",
        "\n",
        "import catboost as cb\n",
        "import xgboost as xgb\n",
        "from sklearn import ensemble \n",
        "import lightgbm as lgb"
      ],
      "execution_count": null,
      "outputs": []
    },
    {
      "cell_type": "code",
      "metadata": {
        "id": "up9ZhhQX2oeA"
      },
      "source": [
        "#connnecting drive with google colab\n",
        "from google.colab import drive\n",
        "drive.mount('/content/drive/')"
      ],
      "execution_count": null,
      "outputs": []
    },
    {
      "cell_type": "code",
      "metadata": {
        "id": "CW4B2EP22ocP"
      },
      "source": [
        "#reading part D dataset\n",
        "dataset = pd.read_csv('/content/drive/My Drive/PartD_Prescriber_PUF_NPI_Drug_18.txt',sep=\"\\t\",nrows=1500000)"
      ],
      "execution_count": null,
      "outputs": []
    },
    {
      "cell_type": "code",
      "metadata": {
        "id": "jp2shWB52oZJ"
      },
      "source": [
        "dataset.shape"
      ],
      "execution_count": null,
      "outputs": []
    },
    {
      "cell_type": "code",
      "metadata": {
        "id": "ihDEFa5C2oXe"
      },
      "source": [
        "dataset.columns"
      ],
      "execution_count": null,
      "outputs": []
    },
    {
      "cell_type": "code",
      "metadata": {
        "id": "RGUAi4Oy2oUZ"
      },
      "source": [
        "dataset= dataset.loc[:,['npi', 'specialty_description','nppes_provider_state',\\\n",
        "                        'drug_name','bene_count','total_claim_count','total_30_day_fill_count','total_day_supply','total_drug_cost']]"
      ],
      "execution_count": null,
      "outputs": []
    },
    {
      "cell_type": "code",
      "metadata": {
        "id": "MB7xK3is2oPk"
      },
      "source": [
        "dataset = dataset.drop_duplicates()"
      ],
      "execution_count": null,
      "outputs": []
    },
    {
      "cell_type": "code",
      "source": [
        "dataset=dataset.dropna()"
      ],
      "metadata": {
        "id": "84WuvhkoaLop"
      },
      "execution_count": null,
      "outputs": []
    },
    {
      "cell_type": "code",
      "metadata": {
        "id": "iXip1q_kt8p1"
      },
      "source": [
        "dataset.shape"
      ],
      "execution_count": null,
      "outputs": []
    },
    {
      "cell_type": "code",
      "metadata": {
        "id": "OWkINH3yt-qj"
      },
      "source": [
        "dataset.columns"
      ],
      "execution_count": null,
      "outputs": []
    },
    {
      "cell_type": "code",
      "metadata": {
        "id": "c85DkHEUuA6o"
      },
      "source": [
        "dataset.dtypes"
      ],
      "execution_count": null,
      "outputs": []
    },
    {
      "cell_type": "code",
      "source": [
        "# one-hot encoding\n",
        "rated_dummies1 = pd.get_dummies(dataset.nppes_provider_state)\n",
        "dataset=pd.concat([dataset, rated_dummies1], axis=1)\n",
        "rated_dummies2 = pd.get_dummies(dataset.specialty_description)\n",
        "dataset=pd.concat([dataset, rated_dummies2], axis=1)\n",
        "rated_dummies3 = pd.get_dummies(dataset.drug_name)\n",
        "dataset=pd.concat([dataset, rated_dummies3], axis=1)\n",
        "dataset = dataset.drop(['nppes_provider_state','specialty_description','drug_name'], axis=1)"
      ],
      "metadata": {
        "id": "yfKn_eTJftr6"
      },
      "execution_count": null,
      "outputs": []
    },
    {
      "cell_type": "code",
      "source": [
        "dataset.shape"
      ],
      "metadata": {
        "id": "kCbGZE4j0Rhe"
      },
      "execution_count": null,
      "outputs": []
    },
    {
      "cell_type": "code",
      "metadata": {
        "id": "5U6K-y68uEgr"
      },
      "source": [
        "dataset.dtypes"
      ],
      "execution_count": null,
      "outputs": []
    },
    {
      "cell_type": "code",
      "metadata": {
        "id": "Or-4kZQY23FA"
      },
      "source": [
        "#reading LEIE dataset\n",
        "IELErawdata = \"/content/drive/My Drive/LEIE.csv\"\n",
        "IELE_pd = pd.read_csv(IELErawdata)"
      ],
      "execution_count": null,
      "outputs": []
    },
    {
      "cell_type": "code",
      "metadata": {
        "id": "-GhVedmY23DH"
      },
      "source": [
        "npifraud_pd0 = IELE_pd.loc[:,['NPI','EXCLTYPE']]"
      ],
      "execution_count": null,
      "outputs": []
    },
    {
      "cell_type": "code",
      "metadata": {
        "id": "Qw74kev623Ai"
      },
      "source": [
        "npifraud_pd1 = npifraud_pd0.query('NPI !=0')"
      ],
      "execution_count": null,
      "outputs": []
    },
    {
      "cell_type": "code",
      "metadata": {
        "id": "aZcEfoCw22-e"
      },
      "source": [
        "rename_dict = {'NPI':'npi', 'EXCLTYPE':'is_fraud'}\n",
        "npi_fraud_pd = npifraud_pd1.rename(columns=rename_dict)"
      ],
      "execution_count": null,
      "outputs": []
    },
    {
      "cell_type": "code",
      "metadata": {
        "id": "Z949CC033FMC"
      },
      "source": [
        "npi_fraud_pd['is_fraud'] = 1"
      ],
      "execution_count": null,
      "outputs": []
    },
    {
      "cell_type": "code",
      "metadata": {
        "id": "qv_4gMWL3GSF"
      },
      "source": [
        "# merging the two datatset\n",
        "Features_pd1 = pd.merge(dataset,npi_fraud_pd, how ='left',on = 'npi')"
      ],
      "execution_count": null,
      "outputs": []
    },
    {
      "cell_type": "code",
      "metadata": {
        "id": "1-srPm9o3GOl"
      },
      "source": [
        "Features_pd1.fillna(0, inplace=True)"
      ],
      "execution_count": null,
      "outputs": []
    },
    {
      "cell_type": "code",
      "metadata": {
        "id": "MzKgH4of3GMP"
      },
      "source": [
        "Features_pd1['is_fraud'].value_counts()"
      ],
      "execution_count": null,
      "outputs": []
    },
    {
      "cell_type": "code",
      "metadata": {
        "id": "rM6pGDgY3GH8"
      },
      "source": [
        "Features_pd1[Features_pd1['is_fraud']==1].count()"
      ],
      "execution_count": null,
      "outputs": []
    },
    {
      "cell_type": "code",
      "metadata": {
        "id": "iNEpgoEw3GF-"
      },
      "source": [
        "FeaturesAll_pd=Features_pd1"
      ],
      "execution_count": null,
      "outputs": []
    },
    {
      "cell_type": "code",
      "source": [
        "FeaturesAll_pd.nunique()"
      ],
      "metadata": {
        "id": "o2JDiHCMWIAt"
      },
      "execution_count": null,
      "outputs": []
    },
    {
      "cell_type": "code",
      "metadata": {
        "id": "J3JU65sfuYJr"
      },
      "source": [
        "FeaturesAll_pd = FeaturesAll_pd.drop(['npi'], axis=1)"
      ],
      "execution_count": null,
      "outputs": []
    },
    {
      "cell_type": "code",
      "source": [
        "FeaturesAll_pd"
      ],
      "metadata": {
        "id": "WqhLnEVwQWwC"
      },
      "execution_count": null,
      "outputs": []
    },
    {
      "cell_type": "code",
      "metadata": {
        "id": "r-hChfDd3YSo"
      },
      "source": [
        "x = FeaturesAll_pd.drop(columns=['is_fraud'], axis=1)\n",
        "y = FeaturesAll_pd['is_fraud']\n",
        "\n",
        "x_scale = preprocessing.MinMaxScaler().fit_transform(x.values)\n",
        "x_norm, x_fraud = x_scale[y == 0], x_scale[y == 1]"
      ],
      "execution_count": null,
      "outputs": []
    },
    {
      "cell_type": "code",
      "source": [
        "x"
      ],
      "metadata": {
        "id": "o_aCV_mHMXjT"
      },
      "execution_count": null,
      "outputs": []
    },
    {
      "cell_type": "code",
      "source": [
        "## input layer \n",
        "input_layer = Input(shape=(x.shape[1],))\n",
        "\n",
        "## encoding part\n",
        "encoded = Dense(100, activation='relu', activity_regularizer=regularizers.l1(10e-5))(input_layer)\n",
        "encoded = Dense(50, activation='relu')(encoded)\n",
        "\n",
        "## decoding part\n",
        "decoded = Dense(50, activation='tanh')(encoded)\n",
        "decoded = Dense(100, activation='tanh')(decoded)\n",
        "\n",
        "## output layer\n",
        "output_layer = Dense(x.shape[1], activation='relu')(decoded)\n"
      ],
      "metadata": {
        "id": "hMHRXxEUrxUh"
      },
      "execution_count": null,
      "outputs": []
    },
    {
      "cell_type": "code",
      "source": [
        "#autoencoder training\n",
        "autoencoder = Model(input_layer, output_layer)\n",
        "autoencoder.compile(optimizer=\"adam\", loss=\"mse\")"
      ],
      "metadata": {
        "id": "7SmWm_hbrxRk"
      },
      "execution_count": null,
      "outputs": []
    },
    {
      "cell_type": "code",
      "source": [
        "from keras.callbacks import ModelCheckpoint, EarlyStopping\n",
        "es = EarlyStopping(monitor='val_loss', min_delta=0.0001, patience=20, restore_best_weights=True)\n",
        "history=autoencoder.fit(x_norm[0:2000], x_norm[0:2000], \n",
        "                batch_size = 128, epochs = 50,  callbacks=[es],\n",
        "                shuffle = True, validation_split =0.20);"
      ],
      "metadata": {
        "id": "8p-miBIerxNR"
      },
      "execution_count": null,
      "outputs": []
    },
    {
      "cell_type": "code",
      "source": [
        "plt.plot(history.history['loss'])\n",
        "plt.plot(history.history['val_loss'])\n",
        "plt.title('model loss')\n",
        "plt.ylabel('loss')\n",
        "plt.xlabel('epoch')\n",
        "plt.legend(['train', 'validation'], loc='upper left')\n",
        "plt.show()"
      ],
      "metadata": {
        "id": "vMgtivFUrxLM"
      },
      "execution_count": null,
      "outputs": []
    },
    {
      "cell_type": "code",
      "source": [
        "hid_rep = Sequential()\n",
        "hid_rep .add(autoencoder.layers[0])\n",
        "hid_rep .add(autoencoder.layers[1])\n",
        "hid_rep .add(autoencoder.layers[2])"
      ],
      "metadata": {
        "id": "0Igq6H8irxHh"
      },
      "execution_count": null,
      "outputs": []
    },
    {
      "cell_type": "code",
      "source": [
        "norm_hid_rep = hid_rep .predict(x_norm[:3000])\n",
        "fraud_hid_rep = hid_rep .predict(x_fraud)"
      ],
      "metadata": {
        "id": "jw2E3vshrxFH"
      },
      "execution_count": null,
      "outputs": []
    },
    {
      "cell_type": "code",
      "source": [
        "non_fraud = FeaturesAll_pd[FeaturesAll_pd['is_fraud'] == 0].sample(1000)\n",
        "fraud = FeaturesAll_pd[FeaturesAll_pd['is_fraud'] == 1]\n",
        "\n",
        "df = non_fraud.append(fraud).sample(frac=1).reset_index(drop=True)\n",
        "df.head()"
      ],
      "metadata": {
        "id": "bBtHJXR10TkW"
      },
      "execution_count": null,
      "outputs": []
    },
    {
      "cell_type": "code",
      "source": [
        "X = df.drop(['is_fraud'], axis = 1).values\n",
        "Y = df[\"is_fraud\"].values"
      ],
      "metadata": {
        "id": "v2lU8fwU0Til"
      },
      "execution_count": null,
      "outputs": []
    },
    {
      "cell_type": "code",
      "source": [
        "def tsne_plot(x1, y1, name=\"graph.png\"):\n",
        "    tsne = TSNE(n_components=2, random_state=0)\n",
        "    X_t = tsne.fit_transform(x1)\n",
        "\n",
        "    plt.figure(figsize=(12, 8))\n",
        "    plt.scatter(X_t[np.where(y1 == 0), 0], X_t[np.where(y1 == 0), 1], marker='o', color='g', linewidth='1', alpha=0.8, label='Non Fraud')\n",
        "    plt.scatter(X_t[np.where(y1 == 1), 0], X_t[np.where(y1 == 1), 1], marker='o', color='r', linewidth='1', alpha=0.8, label='Fraud')\n",
        "\n",
        "    plt.legend(loc='best');\n",
        "    plt.savefig(name);\n",
        "    plt.show();\n",
        "    \n",
        "tsne_plot(X, Y, \"original.png\")"
      ],
      "metadata": {
        "id": "juycjoah0Tfw"
      },
      "execution_count": null,
      "outputs": []
    },
    {
      "cell_type": "code",
      "source": [
        "rep_x = np.append(norm_hid_rep, fraud_hid_rep, axis = 0)\n",
        "y_n = np.zeros(norm_hid_rep.shape[0])\n",
        "y_f = np.ones(fraud_hid_rep.shape[0])\n",
        "rep_y = np.append(y_n, y_f)\n",
        "tsne_plot(rep_x, rep_y, \"latent_representation.png\")\n"
      ],
      "metadata": {
        "id": "grCif3yL0Tdm"
      },
      "execution_count": null,
      "outputs": []
    },
    {
      "cell_type": "code",
      "source": [
        "#train-test split\n",
        "train_x, val_x, train_y, val_y = train_test_split(rep_x, rep_y, test_size=0.25, random_state=101, stratify=rep_y)"
      ],
      "metadata": {
        "id": "CEvJkc2tZSNq"
      },
      "execution_count": null,
      "outputs": []
    },
    {
      "cell_type": "code",
      "source": [
        "#training catboost classifier\n",
        "clf = cb.CatBoostClassifier()\n",
        "clf.fit(train_x, train_y)\n",
        "pred_y = clf.predict(val_x)\n",
        "\n",
        "print (\"\")\n",
        "print (\"confusion_matrixt: \")\n",
        "print (confusion_matrix(val_y, pred_y))\n",
        "\n",
        "print (\"\")\n",
        "print (classification_report(val_y, pred_y))\n",
        "print (\"Precision: \", precision_score(val_y, pred_y))\n",
        "print (\"Recall: \", recall_score(val_y, pred_y))\n",
        "print (\"F1 Score: \", f1_score(val_y, pred_y))\n",
        "print (\"Auc Score: \", roc_auc_score(val_y, pred_y))\n",
        "print (\"Accuracy Score: \", accuracy_score(val_y, pred_y))"
      ],
      "metadata": {
        "id": "u68x9WnQ0TaY"
      },
      "execution_count": null,
      "outputs": []
    },
    {
      "cell_type": "code",
      "source": [
        "#training adaboost classifier\n",
        "clf = ensemble.AdaBoostClassifier()\n",
        "clf.fit(train_x, train_y)\n",
        "pred_y = clf.predict(val_x)\n",
        "\n",
        "print (\"\")\n",
        "print (\"confusion_matrixt: \")\n",
        "print (confusion_matrix(val_y, pred_y))\n",
        "\n",
        "print (\"\")\n",
        "print (classification_report(val_y, pred_y))\n",
        "print (\"Precision: \", precision_score(val_y, pred_y))\n",
        "print (\"Recall: \", recall_score(val_y, pred_y))\n",
        "print (\"F1 Score: \", f1_score(val_y, pred_y))\n",
        "print (\"Auc Score: \", roc_auc_score(val_y, pred_y))\n",
        "print (\"Accuracy Score: \", accuracy_score(val_y, pred_y))"
      ],
      "metadata": {
        "id": "D3xTdUtb0TYJ"
      },
      "execution_count": null,
      "outputs": []
    },
    {
      "cell_type": "code",
      "source": [
        "#training xgboost classifier\n",
        "clf =  xgb.XGBClassifier()\n",
        "clf.fit(train_x, train_y)\n",
        "pred_y = clf.predict(val_x)\n",
        "\n",
        "print (\"\")\n",
        "print (\"confusion_matrixt: \")\n",
        "print (confusion_matrix(val_y, pred_y))\n",
        "\n",
        "print (\"\")\n",
        "print (classification_report(val_y, pred_y))\n",
        "print (\"Precision: \", precision_score(val_y, pred_y))\n",
        "print (\"Recall: \", recall_score(val_y, pred_y))\n",
        "print (\"F1 Score: \", f1_score(val_y, pred_y))\n",
        "print (\"Auc Score: \", roc_auc_score(val_y, pred_y))\n",
        "print (\"Accuracy Score: \", accuracy_score(val_y, pred_y))"
      ],
      "metadata": {
        "id": "2GN8Fgt0ajuG"
      },
      "execution_count": null,
      "outputs": []
    },
    {
      "cell_type": "code",
      "source": [
        "#training lightGBM classifier\n",
        "clf =  lgb.LGBMClassifier()\n",
        "clf.fit(train_x, train_y)\n",
        "pred_y = clf.predict(val_x)\n",
        "\n",
        "print (\"\")\n",
        "print (\"confusion_matrixt: \")\n",
        "print (confusion_matrix(val_y, pred_y))\n",
        "\n",
        "print (\"\")\n",
        "print (classification_report(val_y, pred_y))\n",
        "print (\"Precision: \", precision_score(val_y, pred_y))\n",
        "print (\"Recall: \", recall_score(val_y, pred_y))\n",
        "print (\"F1 Score: \", f1_score(val_y, pred_y))\n",
        "print (\"Auc Score: \", roc_auc_score(val_y, pred_y))\n",
        "print (\"Accuracy Score: \", accuracy_score(val_y, pred_y))"
      ],
      "metadata": {
        "id": "Bl0VtzBfakkl"
      },
      "execution_count": null,
      "outputs": []
    }
  ]
}